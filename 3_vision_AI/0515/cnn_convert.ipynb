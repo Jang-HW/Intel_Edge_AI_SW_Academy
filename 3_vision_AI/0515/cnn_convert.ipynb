{
 "cells": [
  {
   "cell_type": "code",
   "execution_count": 41,
   "id": "fde5b3c5-229c-42b9-a737-fad890f3cd5b",
   "metadata": {},
   "outputs": [
    {
     "name": "stdout",
     "output_type": "stream",
     "text": [
      "{0: 'cig_butt', 1: 'burn_butt'}\n",
      "Ultralytics YOLOv8.2.15  Python-3.10.14 torch-2.3.0 CPU (13th Gen Intel Core(TM) i7-13700)\n",
      "Model summary (fused): 168 layers, 3006038 parameters, 0 gradients, 8.1 GFLOPs\n",
      "\n",
      "\u001b[34m\u001b[1mPyTorch:\u001b[0m starting from 'C:\\Users\\USER\\Documents\\vision-AI\\project\\7899\\models\\01-2.pt' with input shape (1, 3, 640, 640) BCHW and output shape(s) (1, 6, 8400) (6.0 MB)\n",
      "\n",
      "\u001b[34m\u001b[1mTorchScript:\u001b[0m starting export with torch 2.3.0...\n",
      "\u001b[34m\u001b[1mTorchScript:\u001b[0m export success  1.6s, saved as 'C:\\Users\\USER\\Documents\\vision-AI\\project\\7899\\models\\01-2.torchscript' (11.9 MB)\n",
      "\n",
      "\u001b[34m\u001b[1mNCNN:\u001b[0m starting export with NCNN 1.0.20240410...\n",
      "\u001b[34m\u001b[1mNCNN:\u001b[0m running 'C:\\Users\\USER\\anaconda3\\envs\\raspberry-gpu\\Lib\\site-packages\\ultralytics\\pnnx.exe C:\\Users\\USER\\Documents\\vision-AI\\project\\7899\\models\\01-2.torchscript ncnnparam=C:\\Users\\USER\\Documents\\vision-AI\\project\\7899\\models\\01-2_ncnn_model\\model.ncnn.param ncnnbin=C:\\Users\\USER\\Documents\\vision-AI\\project\\7899\\models\\01-2_ncnn_model\\model.ncnn.bin ncnnpy=C:\\Users\\USER\\Documents\\vision-AI\\project\\7899\\models\\01-2_ncnn_model\\model_ncnn.py pnnxparam=C:\\Users\\USER\\Documents\\vision-AI\\project\\7899\\models\\01-2_ncnn_model\\model.pnnx.param pnnxbin=C:\\Users\\USER\\Documents\\vision-AI\\project\\7899\\models\\01-2_ncnn_model\\model.pnnx.bin pnnxpy=C:\\Users\\USER\\Documents\\vision-AI\\project\\7899\\models\\01-2_ncnn_model\\model_pnnx.py pnnxonnx=C:\\Users\\USER\\Documents\\vision-AI\\project\\7899\\models\\01-2_ncnn_model\\model.pnnx.onnx fp16=0 device=cpu inputshape=\"[1, 3, 640, 640]\"'\n",
      "\u001b[34m\u001b[1mNCNN:\u001b[0m export success  1.0s, saved as 'C:\\Users\\USER\\Documents\\vision-AI\\project\\7899\\models\\01-2_ncnn_model' (11.6 MB)\n",
      "\n",
      "Export complete (4.2s)\n",
      "Results saved to \u001b[1mC:\\Users\\USER\\Documents\\vision-AI\\project\\7899\\models\u001b[0m\n",
      "Predict:         yolo predict task=detect model=C:\\Users\\USER\\Documents\\vision-AI\\project\\7899\\models\\01-2_ncnn_model imgsz=640  \n",
      "Validate:        yolo val task=detect model=C:\\Users\\USER\\Documents\\vision-AI\\project\\7899\\models\\01-2_ncnn_model imgsz=640 data=C:/Users/USER/Documents/vision-AI/project/7899/CigaretteButtDetector.v5i.yolov8/data.yaml  \n",
      "Visualize:       https://netron.app\n"
     ]
    },
    {
     "data": {
      "text/plain": [
       "'C:\\\\Users\\\\USER\\\\Documents\\\\vision-AI\\\\project\\\\7899\\\\models\\\\01-2_ncnn_model'"
      ]
     },
     "execution_count": 41,
     "metadata": {},
     "output_type": "execute_result"
    }
   ],
   "source": [
    "from ultralytics import YOLO\n",
    "\n",
    "test_image_folder = 'C:/Users/USER/Documents/vision-AI/project/7899/CigaretteButtDetector.v5i.yolov8/test/images/'\n",
    "test_dir = \"C:/Users/USER/Documents/vision-AI/project/7899/CigaretteButtDetector.v5i.yolov8/test/\"\n",
    "model_name = 'C:/Users/USER/Documents/vision-AI/project/7899/models/01-2.pt'\n",
    "\n",
    "model_custom = YOLO(model_name)\n",
    "print(model_custom.names)\n",
    "\n",
    "# Export the model to NCNN format\n",
    "model_custom.export(format='ncnn')  # creates 'yolov8n_ncnn_model'"
   ]
  },
  {
   "cell_type": "code",
   "execution_count": 48,
   "id": "6b50dd42-d75d-4a12-81a5-c10d6f9a9ec0",
   "metadata": {
    "scrolled": true
   },
   "outputs": [
    {
     "name": "stdout",
     "output_type": "stream",
     "text": [
      "Loading models\\01-2_ncnn_model for NCNN inference...\n",
      "\n",
      "image 1/1 C:\\Users\\USER\\Documents\\vision-AI\\project\\7899\\test_img1.jpg: 640x640 1 burn_butt, 62.8ms\n",
      "Speed: 13.0ms preprocess, 62.8ms inference, 1.0ms postprocess per image at shape (1, 3, 640, 640)\n",
      "Results saved to \u001b[1mruns\\detect\\predict31\u001b[0m\n",
      "Class: cig_butt, Confidence: 0.3668426275253296, Box: [     1106.2       575.7      1303.4      939.15]\n"
     ]
    }
   ],
   "source": [
    "# Load the exported NCNN model\n",
    "model_name = 'C:/Users/USER/Documents/vision-AI/project/7899/models/01-2_ncnn_model'\n",
    "\n",
    "ncnn_model = YOLO('./models/01-2_ncnn_model', task=\"detect\")\n",
    "\n",
    "# 이미지에 대한 추론 수행\n",
    "results = ncnn_model.predict(source='./test_img1.jpg', save=True)\n",
    "\n",
    "# 클래스 이름과 확률 정보를 함께 추출할 수도 있습니다.\n",
    "names = first_result.names\n",
    "for box, cls, conf in zip(box_data, boxes.cls.cpu().numpy(), boxes.conf.cpu().numpy()):\n",
    "    print(f\"Class: {names[int(cls)]}, Confidence: {conf}, Box: {box}\")"
   ]
  },
  {
   "cell_type": "code",
   "execution_count": 49,
   "id": "580ef757-4e85-41bf-a4bc-ec1947b472d0",
   "metadata": {},
   "outputs": [
    {
     "name": "stdout",
     "output_type": "stream",
     "text": [
      "\n",
      "image 1/1 C:\\Users\\USER\\Documents\\vision-AI\\project\\7899\\test_img1.jpg: 640x640 1 burn_butt, 77.3ms\n",
      "Speed: 4.0ms preprocess, 77.3ms inference, 1.0ms postprocess per image at shape (1, 3, 640, 640)\n",
      "Results saved to \u001b[1mruns\\detect\\predict28\u001b[0m\n",
      "[[     724.43      153.13      971.37      434.94]]\n",
      "Class: burn_butt, Confidence: 0.2663279175758362, Box: [     724.43      153.13      971.37      434.94]\n"
     ]
    }
   ],
   "source": [
    "# 이미지에 대한 추론 수행\n",
    "#results = model.predict('./test_fish.jpg')\n",
    "results = model_custom.predict(source='./test_img1.jpg', save=True)\n",
    "# print(results.pandas().xyxy[0])  # 추론 결과 출력\n",
    "\n",
    "first_result = results[0]  # 첫 번째 이미지의 결과 가져오기\n",
    "\n",
    "# numpy 배열로 변환된 박스 정보 추출\n",
    "boxes = first_result.boxes  # bounding boxes\n",
    "if boxes is not None:\n",
    "    box_data = boxes.xyxy.cpu().numpy()  # xyxy 좌표로 변환\n",
    "    print(box_data)\n",
    "\n",
    "# 클래스 이름과 확률 정보를 함께 추출할 수도 있습니다.\n",
    "names = first_result.names\n",
    "for box, cls, conf in zip(box_data, boxes.cls.cpu().numpy(), boxes.conf.cpu().numpy()):\n",
    "    print(f\"Class: {names[int(cls)]}, Confidence: {conf}, Box: {box}\")"
   ]
  },
  {
   "cell_type": "code",
   "execution_count": null,
   "id": "a0dac0e1-be62-4a04-9cf6-689a4c5087a0",
   "metadata": {},
   "outputs": [],
   "source": []
  }
 ],
 "metadata": {
  "kernelspec": {
   "display_name": "raspberry-gpu",
   "language": "python",
   "name": "raspberry-gpu"
  },
  "language_info": {
   "codemirror_mode": {
    "name": "ipython",
    "version": 3
   },
   "file_extension": ".py",
   "mimetype": "text/x-python",
   "name": "python",
   "nbconvert_exporter": "python",
   "pygments_lexer": "ipython3",
   "version": "3.10.14"
  }
 },
 "nbformat": 4,
 "nbformat_minor": 5
}
