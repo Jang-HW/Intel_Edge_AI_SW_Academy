{
 "cells": [
  {
   "cell_type": "code",
   "execution_count": 1,
   "metadata": {
    "id": "SZx1VFUCHweR"
   },
   "outputs": [
    {
     "name": "stdout",
     "output_type": "stream",
     "text": [
      "********************************************************\n",
      "*******                 Base Ball                    ***\n",
      "********************************************************\n",
      "* 컴퓨터가 수비수가 되어 세 자릿수를 하나 골랐습니다.  *\n",
      "* 각 숫자는 0~9중의 하나이며 중복되는 숫자는 없습니다. *\n",
      "* 모든 숫자와 위치를 맞히면 승리합니다.                *\n",
      "* 숫자와 순서가 둘 다 맞으면 스크라이크 입니다.        *\n",
      "* 숫자만 맞고 순서가 틀리면 볼입니다.                  *\n",
      "* 숫자가 틀리면 아웃입니다.                            *\n",
      "********************************************************\n"
     ]
    }
   ],
   "source": [
    "print(\"********************************************************\")\n",
    "print(\"*******                 Base Ball                    ***\")\n",
    "print(\"********************************************************\")\n",
    "print(\"* 컴퓨터가 수비수가 되어 세 자릿수를 하나 골랐습니다.  *\")\n",
    "print(\"* 각 숫자는 0~9중의 하나이며 중복되는 숫자는 없습니다. *\")\n",
    "print(\"* 모든 숫자와 위치를 맞히면 승리합니다.                *\")\n",
    "print(\"* 숫자와 순서가 둘 다 맞으면 스크라이크 입니다.        *\")\n",
    "print(\"* 숫자만 맞고 순서가 틀리면 볼입니다.                  *\")\n",
    "print(\"* 숫자가 틀리면 아웃입니다.                            *\")\n",
    "print(\"********************************************************\")"
   ]
  },
  {
   "cell_type": "markdown",
   "metadata": {
    "id": "6dYwutSRH1jY"
   },
   "source": [
    "### **Step_7 - 반복문 for 사용하기**"
   ]
  },
  {
   "cell_type": "code",
   "execution_count": 3,
   "metadata": {
    "colab": {
     "base_uri": "https://localhost:8080/"
    },
    "executionInfo": {
     "elapsed": 5,
     "status": "ok",
     "timestamp": 1689656974139,
     "user": {
      "displayName": "강희숙",
      "userId": "05520711596090317319"
     },
     "user_tz": -540
    },
    "id": "XqS0jgfoHweT",
    "outputId": "30d20aa4-36fa-41e7-81db-5efd5fa4a7a4"
   },
   "outputs": [
    {
     "name": "stdout",
     "output_type": "stream",
     "text": [
      "> 수비수가 고른 숫자\n",
      "3\n",
      "1\n",
      "9\n"
     ]
    }
   ],
   "source": [
    "print(\"> 수비수가 고른 숫자\")\n",
    "numbers = [3, 1, 9]\n",
    "\n",
    "# 1. 수비수가 고른 숫자를 for문을 이용해 출력하세요.\n",
    "for i in numbers:\n",
    "    print(numbers[i])"
   ]
  },
  {
   "cell_type": "code",
   "execution_count": 5,
   "metadata": {
    "colab": {
     "base_uri": "https://localhost:8080/"
    },
    "executionInfo": {
     "elapsed": 34782,
     "status": "ok",
     "timestamp": 1689160957850,
     "user": {
      "displayName": "강희숙",
      "userId": "05520711596090317319"
     },
     "user_tz": -540
    },
    "id": "33QnuTdYHweU",
    "outputId": "26516878-9227-4596-84d2-eaffd8178f45"
   },
   "outputs": [
    {
     "name": "stdout",
     "output_type": "stream",
     "text": [
      "> 첫번째 숫자를 입력하세요=> 3\n",
      "> 두번째 숫자를 입력하세요=> 0\n",
      "> 세번째 숫자를 입력하세요=> 3\n",
      "3\n",
      "0\n",
      "3\n",
      "같은 숫자를 입력하면 안됩니다\n",
      "> 첫번째 숫자를 입력하세요=> 3\n",
      "> 두번째 숫자를 입력하세요=> 0\n",
      "> 세번째 숫자를 입력하세요=> 1\n",
      "3\n",
      "0\n",
      "1\n",
      "스트라이크 : 1\n",
      "볼 : 1\n",
      "아웃 : 1\n",
      "> 첫번째 숫자를 입력하세요=> 3\n",
      "> 두번째 숫자를 입력하세요=> 2\n",
      "> 세번째 숫자를 입력하세요=> 0\n",
      "3\n",
      "2\n",
      "0\n",
      "스트라이크 : 1\n",
      "볼 : 0\n",
      "아웃 : 2\n",
      "> 첫번째 숫자를 입력하세요=> 3\n",
      "> 두번째 숫자를 입력하세요=> 1\n",
      "> 세번째 숫자를 입력하세요=> 9\n",
      "3\n",
      "1\n",
      "9\n",
      "스트라이크 : 3\n",
      "볼 : 0\n",
      "아웃 : 0\n",
      "스트라이크 아웃 입니다.\n"
     ]
    }
   ],
   "source": [
    "while True:\n",
    "    inputs = []\n",
    "\n",
    "    inputs.append(int(input(\"> 첫번째 숫자를 입력하세요=> \")))\n",
    "    inputs.append(int(input(\"> 두번째 숫자를 입력하세요=> \")))\n",
    "    inputs.append(int(input(\"> 세번째 숫자를 입력하세요=> \")))\n",
    "\n",
    "    # 2. 공격수가 고른 숫자를 for문을 이용해 출력하세요.\n",
    "    for i in range(3):\n",
    "        print(inputs[i])\n",
    "\n",
    "    if (inputs[0]==inputs[1]) or (inputs[0]==inputs[2]) or (inputs[1]==inputs[2]):\n",
    "        print(\"같은 숫자를 입력하면 안됩니다\")\n",
    "        continue\n",
    "\n",
    "    strikeCount = 0\n",
    "    ballCount = 0\n",
    "    outCount = 0\n",
    "\n",
    "    # 3.수비수가 고른 숫자와 공격수가 입력한 숫자를 비교하여\n",
    "    #  스트라이크, 볼, 아웃을 판단하는 코드를 이중 for문으로 변경하세요.\n",
    "    for i in range(3):\n",
    "        if (inputs[i] == numbers[i]):\n",
    "            strikeCount += 1\n",
    "        else:\n",
    "            for k in range(3):\n",
    "                if (inputs[i] == numbers[k]):\n",
    "                    ballCount += 1\n",
    "\n",
    "    outCount = 3 - strikeCount - ballCount\n",
    "    print(\"스트라이크 : {0}\".format(strikeCount))\n",
    "    print(\"볼 : {0}\".format(ballCount))\n",
    "    print(\"아웃 : {0}\".format(outCount))\n",
    "\n",
    "    if (inputs[0]==numbers[0]) and (inputs[1]==numbers[1]) and (inputs[2]==numbers[2]):\n",
    "        print(\"스트라이크 아웃 입니다.\")\n",
    "        break"
   ]
  },
  {
   "cell_type": "code",
   "execution_count": null,
   "metadata": {},
   "outputs": [],
   "source": []
  }
 ],
 "metadata": {
  "colab": {
   "provenance": []
  },
  "kernelspec": {
   "display_name": "Python 3 (ipykernel)",
   "language": "python",
   "name": "python3"
  },
  "language_info": {
   "codemirror_mode": {
    "name": "ipython",
    "version": 3
   },
   "file_extension": ".py",
   "mimetype": "text/x-python",
   "name": "python",
   "nbconvert_exporter": "python",
   "pygments_lexer": "ipython3",
   "version": "3.10.9"
  }
 },
 "nbformat": 4,
 "nbformat_minor": 1
}
