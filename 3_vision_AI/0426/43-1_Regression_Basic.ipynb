{
 "cells": [
  {
   "cell_type": "markdown",
   "metadata": {
    "id": "qboj-6CYSEFB"
   },
   "source": [
    "## **회귀모델 알아보기 - 전복 수명 예측하기**\n",
    "### <b> <font color=green> [데이터 준비하기]     \n",
    "### [회귀모델 구현하기] </font> </b>     \n",
    "1) 사용 라이브러리 파악하고 가져오기    \n",
    "2) 모델 객체 생성하고 학습하기   \n",
    "3) 모델 예측하고 정확도 확인하기\n"
   ]
  },
  {
   "cell_type": "markdown",
   "metadata": {
    "id": "OwfIKMQQSap0"
   },
   "source": [
    "## <font color=green>**[ 데이터 준비 ]**"
   ]
  },
  {
   "cell_type": "markdown",
   "metadata": {
    "id": "jBS05EN1tPdK"
   },
   "source": [
    "### **Step 1 : 데이터 확인하기**\n",
    "* 데이터 전처리에 사용되는 라이브러리를 가져온다."
   ]
  },
  {
   "cell_type": "code",
   "execution_count": 1,
   "metadata": {
    "id": "yHu6Tuw5Tsro"
   },
   "outputs": [],
   "source": [
    "import pandas as pd\n",
    "from sklearn.model_selection import train_test_split"
   ]
  },
  {
   "cell_type": "markdown",
   "metadata": {
    "id": "Hcjsz7kFKbjX"
   },
   "source": [
    "* 'abalone.csv'파일을 읽어 'df'에 저장한 후 내용을 출력한다."
   ]
  },
  {
   "cell_type": "code",
   "execution_count": 5,
   "metadata": {
    "colab": {
     "base_uri": "https://localhost:8080/",
     "height": 207
    },
    "executionInfo": {
     "elapsed": 328,
     "status": "ok",
     "timestamp": 1674101804512,
     "user": {
      "displayName": "강희숙",
      "userId": "05520711596090317319"
     },
     "user_tz": -540
    },
    "id": "AiHGbK2ATsrp",
    "outputId": "482de0bb-a139-4961-b8c1-e94d2c46a88c"
   },
   "outputs": [
    {
     "data": {
      "text/html": [
       "<div>\n",
       "<style scoped>\n",
       "    .dataframe tbody tr th:only-of-type {\n",
       "        vertical-align: middle;\n",
       "    }\n",
       "\n",
       "    .dataframe tbody tr th {\n",
       "        vertical-align: top;\n",
       "    }\n",
       "\n",
       "    .dataframe thead th {\n",
       "        text-align: right;\n",
       "    }\n",
       "</style>\n",
       "<table border=\"1\" class=\"dataframe\">\n",
       "  <thead>\n",
       "    <tr style=\"text-align: right;\">\n",
       "      <th></th>\n",
       "      <th>Gender</th>\n",
       "      <th>Length</th>\n",
       "      <th>Diameter</th>\n",
       "      <th>Height</th>\n",
       "      <th>Whole_weight</th>\n",
       "      <th>Shucked_weight</th>\n",
       "      <th>Viscera_weight</th>\n",
       "      <th>Shell_weight</th>\n",
       "      <th>Rings</th>\n",
       "    </tr>\n",
       "  </thead>\n",
       "  <tbody>\n",
       "    <tr>\n",
       "      <th>0</th>\n",
       "      <td>M</td>\n",
       "      <td>0.455</td>\n",
       "      <td>0.365</td>\n",
       "      <td>0.095</td>\n",
       "      <td>0.5140</td>\n",
       "      <td>0.2245</td>\n",
       "      <td>0.1010</td>\n",
       "      <td>0.150</td>\n",
       "      <td>15</td>\n",
       "    </tr>\n",
       "    <tr>\n",
       "      <th>1</th>\n",
       "      <td>M</td>\n",
       "      <td>0.350</td>\n",
       "      <td>0.265</td>\n",
       "      <td>0.090</td>\n",
       "      <td>0.2255</td>\n",
       "      <td>0.0995</td>\n",
       "      <td>0.0485</td>\n",
       "      <td>0.070</td>\n",
       "      <td>7</td>\n",
       "    </tr>\n",
       "    <tr>\n",
       "      <th>2</th>\n",
       "      <td>F</td>\n",
       "      <td>0.530</td>\n",
       "      <td>0.420</td>\n",
       "      <td>0.135</td>\n",
       "      <td>0.6770</td>\n",
       "      <td>0.2565</td>\n",
       "      <td>0.1415</td>\n",
       "      <td>0.210</td>\n",
       "      <td>9</td>\n",
       "    </tr>\n",
       "    <tr>\n",
       "      <th>3</th>\n",
       "      <td>M</td>\n",
       "      <td>0.440</td>\n",
       "      <td>0.365</td>\n",
       "      <td>0.125</td>\n",
       "      <td>0.5160</td>\n",
       "      <td>0.2155</td>\n",
       "      <td>0.1140</td>\n",
       "      <td>0.155</td>\n",
       "      <td>10</td>\n",
       "    </tr>\n",
       "    <tr>\n",
       "      <th>4</th>\n",
       "      <td>I</td>\n",
       "      <td>0.330</td>\n",
       "      <td>0.255</td>\n",
       "      <td>0.080</td>\n",
       "      <td>0.2050</td>\n",
       "      <td>0.0895</td>\n",
       "      <td>0.0395</td>\n",
       "      <td>0.055</td>\n",
       "      <td>7</td>\n",
       "    </tr>\n",
       "  </tbody>\n",
       "</table>\n",
       "</div>"
      ],
      "text/plain": [
       "  Gender  Length  Diameter  Height  Whole_weight  Shucked_weight  \\\n",
       "0      M   0.455     0.365   0.095        0.5140          0.2245   \n",
       "1      M   0.350     0.265   0.090        0.2255          0.0995   \n",
       "2      F   0.530     0.420   0.135        0.6770          0.2565   \n",
       "3      M   0.440     0.365   0.125        0.5160          0.2155   \n",
       "4      I   0.330     0.255   0.080        0.2050          0.0895   \n",
       "\n",
       "   Viscera_weight  Shell_weight  Rings  \n",
       "0          0.1010         0.150     15  \n",
       "1          0.0485         0.070      7  \n",
       "2          0.1415         0.210      9  \n",
       "3          0.1140         0.155     10  \n",
       "4          0.0395         0.055      7  "
      ]
     },
     "execution_count": 5,
     "metadata": {},
     "output_type": "execute_result"
    }
   ],
   "source": [
    "#코드작성\n",
    "df = pd.read_csv(\"./data/abalone.csv\")\n",
    "df.head()"
   ]
  },
  {
   "cell_type": "markdown",
   "metadata": {
    "id": "r2uXzqDUKzTP"
   },
   "source": [
    "* 데이터 정보를 파악한다."
   ]
  },
  {
   "cell_type": "code",
   "execution_count": 8,
   "metadata": {
    "colab": {
     "base_uri": "https://localhost:8080/"
    },
    "executionInfo": {
     "elapsed": 331,
     "status": "ok",
     "timestamp": 1674101807486,
     "user": {
      "displayName": "강희숙",
      "userId": "05520711596090317319"
     },
     "user_tz": -540
    },
    "id": "C4qiUQTuRqLL",
    "outputId": "31495703-170e-4e50-d719-273c3f377e08"
   },
   "outputs": [
    {
     "name": "stdout",
     "output_type": "stream",
     "text": [
      "<class 'pandas.core.frame.DataFrame'>\n",
      "RangeIndex: 4177 entries, 0 to 4176\n",
      "Data columns (total 9 columns):\n",
      " #   Column          Non-Null Count  Dtype  \n",
      "---  ------          --------------  -----  \n",
      " 0   Gender          4177 non-null   object \n",
      " 1   Length          4177 non-null   float64\n",
      " 2   Diameter        4177 non-null   float64\n",
      " 3   Height          4177 non-null   float64\n",
      " 4   Whole_weight    4177 non-null   float64\n",
      " 5   Shucked_weight  4177 non-null   float64\n",
      " 6   Viscera_weight  4177 non-null   float64\n",
      " 7   Shell_weight    4177 non-null   float64\n",
      " 8   Rings           4177 non-null   int64  \n",
      "dtypes: float64(7), int64(1), object(1)\n",
      "memory usage: 293.8+ KB\n"
     ]
    }
   ],
   "source": [
    "#코드작성\n",
    "df.info()"
   ]
  },
  {
   "cell_type": "markdown",
   "metadata": {
    "id": "JFigbUOckp2j"
   },
   "source": [
    "- Gender : 성별 (female, male, infant)\n",
    "- Length : 길이\n",
    "- Diameter : 직경\n",
    "- Height : 높이\n",
    "- Whole Weight : 전체 무게\n",
    "- Shell Weight : 껍질 무게\n",
    "- Shucked Weight : 껍질 벗긴 무게\n",
    "- Viscera Weight : 내장 무게\n",
    "- Rings : 전복 수명 (target)"
   ]
  },
  {
   "cell_type": "markdown",
   "metadata": {
    "id": "KXN6ytRYtzTe"
   },
   "source": [
    "### **step2. 데이터 준비하기**\n",
    "- 특성 항목으로 'X'에 'Whole_weigh'를, 타겟 항목으로 'y'에 'Rings'를 지정한다."
   ]
  },
  {
   "cell_type": "code",
   "execution_count": 11,
   "metadata": {
    "id": "D5HD9W9ETsr5"
   },
   "outputs": [],
   "source": [
    "#코드작성\n",
    "# 데이터를 다 안다는 가정하에 바로 항목 지정\n",
    "# 단순 선형회기기 때문에 항목이 1개씩임\n",
    "# 그런데 반드시 입력은 2차원이어야함\n",
    "\n",
    "X = df[[\"Whole_weight\"]]\n",
    "y = df[\"Rings\"]"
   ]
  },
  {
   "cell_type": "markdown",
   "metadata": {
    "id": "avCw2Z7duJ7k"
   },
   "source": [
    "- 학습 데이터와 테스트 데이터를 7:3의 비율로 나눈다."
   ]
  },
  {
   "cell_type": "code",
   "execution_count": 13,
   "metadata": {
    "id": "eXfkiiVtTsr6"
   },
   "outputs": [],
   "source": [
    "#코드작성\n",
    "X_train, X_test, y_train, y_test = train_test_split(X, y, test_size=0.3, random_state=42)"
   ]
  },
  {
   "cell_type": "markdown",
   "metadata": {
    "id": "-Ol5ah-1thRf"
   },
   "source": [
    "## <font color=green> **[기계학습 회귀 모델 구현]** </font>"
   ]
  },
  {
   "cell_type": "markdown",
   "metadata": {
    "id": "2PoOohuHtpHx"
   },
   "source": [
    "### **step1. 라이브러리 가져오기**\n",
    "- 선형회귀모델을 구현하기 위한 라이브러리를 가져온다."
   ]
  },
  {
   "cell_type": "code",
   "execution_count": 14,
   "metadata": {
    "id": "RimwuNxrTsr4"
   },
   "outputs": [],
   "source": [
    "import matplotlib.pyplot as plt\n",
    "\n",
    "# 회기 모델 import\n",
    "from sklearn.linear_model import LinearRegression\n",
    "# 평가 데이터가 달라서 기존과 \n",
    "# MAE: 오차라서 숫자가 작을 수록 좋은 모델이다\n",
    "# MAE: 오차라서 숫자가 작을 수록 좋은 모델이다\n",
    "# r2_score: 숫자가 1에 가까울 수록 값들이 선 위에 있다\n",
    "from sklearn.metrics import mean_absolute_error, mean_squared_error, r2_score"
   ]
  },
  {
   "cell_type": "markdown",
   "metadata": {
    "id": "cQNv9t_GuPtz"
   },
   "source": [
    "### **Step 2 : 모델 객체 생성하기**  "
   ]
  },
  {
   "cell_type": "markdown",
   "metadata": {
    "id": "8SL9urcLuiXG"
   },
   "source": [
    "- LinearRegression() 모델 객체 ‘model_lr‘을 생성한다."
   ]
  },
  {
   "cell_type": "code",
   "execution_count": 17,
   "metadata": {
    "id": "ZBFqyoHMTsr8"
   },
   "outputs": [],
   "source": [
    "#코드작성\n",
    "model_lr = LinearRegression()"
   ]
  },
  {
   "cell_type": "markdown",
   "metadata": {
    "id": "ik_PXEFTul84"
   },
   "source": [
    "### **step3. 모델 학습하기**\n",
    "- 선형 모델(model_ln)이 학습 데이터셋(X_train, y_train)으로 학습한다."
   ]
  },
  {
   "cell_type": "code",
   "execution_count": 38,
   "metadata": {
    "colab": {
     "base_uri": "https://localhost:8080/"
    },
    "executionInfo": {
     "elapsed": 339,
     "status": "ok",
     "timestamp": 1674101930031,
     "user": {
      "displayName": "강희숙",
      "userId": "05520711596090317319"
     },
     "user_tz": -540
    },
    "id": "xxMLWZPGR7BA",
    "outputId": "44f16874-6be8-4c4c-c995-6701cce98bb0"
   },
   "outputs": [
    {
     "data": {
      "text/html": [
       "<style>#sk-container-id-2 {color: black;background-color: white;}#sk-container-id-2 pre{padding: 0;}#sk-container-id-2 div.sk-toggleable {background-color: white;}#sk-container-id-2 label.sk-toggleable__label {cursor: pointer;display: block;width: 100%;margin-bottom: 0;padding: 0.3em;box-sizing: border-box;text-align: center;}#sk-container-id-2 label.sk-toggleable__label-arrow:before {content: \"▸\";float: left;margin-right: 0.25em;color: #696969;}#sk-container-id-2 label.sk-toggleable__label-arrow:hover:before {color: black;}#sk-container-id-2 div.sk-estimator:hover label.sk-toggleable__label-arrow:before {color: black;}#sk-container-id-2 div.sk-toggleable__content {max-height: 0;max-width: 0;overflow: hidden;text-align: left;background-color: #f0f8ff;}#sk-container-id-2 div.sk-toggleable__content pre {margin: 0.2em;color: black;border-radius: 0.25em;background-color: #f0f8ff;}#sk-container-id-2 input.sk-toggleable__control:checked~div.sk-toggleable__content {max-height: 200px;max-width: 100%;overflow: auto;}#sk-container-id-2 input.sk-toggleable__control:checked~label.sk-toggleable__label-arrow:before {content: \"▾\";}#sk-container-id-2 div.sk-estimator input.sk-toggleable__control:checked~label.sk-toggleable__label {background-color: #d4ebff;}#sk-container-id-2 div.sk-label input.sk-toggleable__control:checked~label.sk-toggleable__label {background-color: #d4ebff;}#sk-container-id-2 input.sk-hidden--visually {border: 0;clip: rect(1px 1px 1px 1px);clip: rect(1px, 1px, 1px, 1px);height: 1px;margin: -1px;overflow: hidden;padding: 0;position: absolute;width: 1px;}#sk-container-id-2 div.sk-estimator {font-family: monospace;background-color: #f0f8ff;border: 1px dotted black;border-radius: 0.25em;box-sizing: border-box;margin-bottom: 0.5em;}#sk-container-id-2 div.sk-estimator:hover {background-color: #d4ebff;}#sk-container-id-2 div.sk-parallel-item::after {content: \"\";width: 100%;border-bottom: 1px solid gray;flex-grow: 1;}#sk-container-id-2 div.sk-label:hover label.sk-toggleable__label {background-color: #d4ebff;}#sk-container-id-2 div.sk-serial::before {content: \"\";position: absolute;border-left: 1px solid gray;box-sizing: border-box;top: 0;bottom: 0;left: 50%;z-index: 0;}#sk-container-id-2 div.sk-serial {display: flex;flex-direction: column;align-items: center;background-color: white;padding-right: 0.2em;padding-left: 0.2em;position: relative;}#sk-container-id-2 div.sk-item {position: relative;z-index: 1;}#sk-container-id-2 div.sk-parallel {display: flex;align-items: stretch;justify-content: center;background-color: white;position: relative;}#sk-container-id-2 div.sk-item::before, #sk-container-id-2 div.sk-parallel-item::before {content: \"\";position: absolute;border-left: 1px solid gray;box-sizing: border-box;top: 0;bottom: 0;left: 50%;z-index: -1;}#sk-container-id-2 div.sk-parallel-item {display: flex;flex-direction: column;z-index: 1;position: relative;background-color: white;}#sk-container-id-2 div.sk-parallel-item:first-child::after {align-self: flex-end;width: 50%;}#sk-container-id-2 div.sk-parallel-item:last-child::after {align-self: flex-start;width: 50%;}#sk-container-id-2 div.sk-parallel-item:only-child::after {width: 0;}#sk-container-id-2 div.sk-dashed-wrapped {border: 1px dashed gray;margin: 0 0.4em 0.5em 0.4em;box-sizing: border-box;padding-bottom: 0.4em;background-color: white;}#sk-container-id-2 div.sk-label label {font-family: monospace;font-weight: bold;display: inline-block;line-height: 1.2em;}#sk-container-id-2 div.sk-label-container {text-align: center;}#sk-container-id-2 div.sk-container {/* jupyter's `normalize.less` sets `[hidden] { display: none; }` but bootstrap.min.css set `[hidden] { display: none !important; }` so we also need the `!important` here to be able to override the default hidden behavior on the sphinx rendered scikit-learn.org. See: https://github.com/scikit-learn/scikit-learn/issues/21755 */display: inline-block !important;position: relative;}#sk-container-id-2 div.sk-text-repr-fallback {display: none;}</style><div id=\"sk-container-id-2\" class=\"sk-top-container\"><div class=\"sk-text-repr-fallback\"><pre>LinearRegression()</pre><b>In a Jupyter environment, please rerun this cell to show the HTML representation or trust the notebook. <br />On GitHub, the HTML representation is unable to render, please try loading this page with nbviewer.org.</b></div><div class=\"sk-container\" hidden><div class=\"sk-item\"><div class=\"sk-estimator sk-toggleable\"><input class=\"sk-toggleable__control sk-hidden--visually\" id=\"sk-estimator-id-2\" type=\"checkbox\" checked><label for=\"sk-estimator-id-2\" class=\"sk-toggleable__label sk-toggleable__label-arrow\">LinearRegression</label><div class=\"sk-toggleable__content\"><pre>LinearRegression()</pre></div></div></div></div></div>"
      ],
      "text/plain": [
       "LinearRegression()"
      ]
     },
     "execution_count": 38,
     "metadata": {},
     "output_type": "execute_result"
    }
   ],
   "source": [
    "#코드작성\n",
    "model_lr.fit(X_train, y_train)"
   ]
  },
  {
   "cell_type": "markdown",
   "metadata": {
    "id": "mF2Wzkjtuwnw"
   },
   "source": [
    "### **step4.모델 예측하기**"
   ]
  },
  {
   "cell_type": "markdown",
   "metadata": {
    "id": "6a8TtQ7wwdID"
   },
   "source": [
    "1) 모델 예측하기\n",
    "- 학습된 모델을 사용하여 테스트 데이터셋(X_test)에 대한 예측값을 ‘y_pred’ 에 저장한다."
   ]
  },
  {
   "cell_type": "code",
   "execution_count": 39,
   "metadata": {
    "colab": {
     "base_uri": "https://localhost:8080/"
    },
    "executionInfo": {
     "elapsed": 25,
     "status": "ok",
     "timestamp": 1666350864913,
     "user": {
      "displayName": "강희숙",
      "userId": "05520711596090317319"
     },
     "user_tz": -540
    },
    "id": "_HGAtqkETsr8",
    "outputId": "f97476de-ad59-480b-889d-dfc8705fd72d"
   },
   "outputs": [
    {
     "data": {
      "text/plain": [
       "array([10.92440446, 10.11125256, 10.49318754, ...,  9.76627903,\n",
       "       12.29901838,  8.1822169 ])"
      ]
     },
     "execution_count": 39,
     "metadata": {},
     "output_type": "execute_result"
    }
   ],
   "source": [
    "y_pred = model_lr.predict(X_test)#코드작성\n",
    "y_pred"
   ]
  },
  {
   "cell_type": "markdown",
   "metadata": {
    "id": "nd3bqbrVu8Rx"
   },
   "source": [
    "- 테스트 데이터의 실제값인 y_test와 학습모델이 예측한 y_pred를 출력해본다."
   ]
  },
  {
   "cell_type": "code",
   "execution_count": 40,
   "metadata": {
    "colab": {
     "base_uri": "https://localhost:8080/",
     "height": 424
    },
    "executionInfo": {
     "elapsed": 23,
     "status": "ok",
     "timestamp": 1666350864914,
     "user": {
      "displayName": "강희숙",
      "userId": "05520711596090317319"
     },
     "user_tz": -540
    },
    "id": "KOCFiuX3TssD",
    "outputId": "025a7444-cfa2-401b-da2c-af68a871c829"
   },
   "outputs": [
    {
     "data": {
      "text/html": [
       "<div>\n",
       "<style scoped>\n",
       "    .dataframe tbody tr th:only-of-type {\n",
       "        vertical-align: middle;\n",
       "    }\n",
       "\n",
       "    .dataframe tbody tr th {\n",
       "        vertical-align: top;\n",
       "    }\n",
       "\n",
       "    .dataframe thead th {\n",
       "        text-align: right;\n",
       "    }\n",
       "</style>\n",
       "<table border=\"1\" class=\"dataframe\">\n",
       "  <thead>\n",
       "    <tr style=\"text-align: right;\">\n",
       "      <th></th>\n",
       "      <th>Actual</th>\n",
       "      <th>Predicted</th>\n",
       "    </tr>\n",
       "  </thead>\n",
       "  <tbody>\n",
       "    <tr>\n",
       "      <th>866</th>\n",
       "      <td>9</td>\n",
       "      <td>10.924404</td>\n",
       "    </tr>\n",
       "    <tr>\n",
       "      <th>1483</th>\n",
       "      <td>8</td>\n",
       "      <td>10.111253</td>\n",
       "    </tr>\n",
       "    <tr>\n",
       "      <th>599</th>\n",
       "      <td>16</td>\n",
       "      <td>10.493188</td>\n",
       "    </tr>\n",
       "    <tr>\n",
       "      <th>1702</th>\n",
       "      <td>9</td>\n",
       "      <td>11.480586</td>\n",
       "    </tr>\n",
       "    <tr>\n",
       "      <th>670</th>\n",
       "      <td>14</td>\n",
       "      <td>9.213617</td>\n",
       "    </tr>\n",
       "  </tbody>\n",
       "</table>\n",
       "</div>"
      ],
      "text/plain": [
       "      Actual  Predicted\n",
       "866        9  10.924404\n",
       "1483       8  10.111253\n",
       "599       16  10.493188\n",
       "1702       9  11.480586\n",
       "670       14   9.213617"
      ]
     },
     "execution_count": 40,
     "metadata": {},
     "output_type": "execute_result"
    }
   ],
   "source": [
    "df_result = pd.DataFrame(columns=['Actual', 'Predicted'])\n",
    "\n",
    "#코드작성\n",
    "df_result[\"Actual\"] = y_test\n",
    "df_result[\"Predicted\"] = y_pred\n",
    "\n",
    "df_result.head()"
   ]
  },
  {
   "cell_type": "markdown",
   "metadata": {
    "id": "pUPkUxngvBKU"
   },
   "source": [
    "2) 모델의 기울기와 절편 확인하기\n",
    "- LinearRegression() 모델이 학습한 선형 회귀식의 기울기(coef_)와 절편 (intercept_)를 확인한다"
   ]
  },
  {
   "cell_type": "code",
   "execution_count": 41,
   "metadata": {
    "colab": {
     "base_uri": "https://localhost:8080/"
    },
    "executionInfo": {
     "elapsed": 22,
     "status": "ok",
     "timestamp": 1666350864914,
     "user": {
      "displayName": "강희숙",
      "userId": "05520711596090317319"
     },
     "user_tz": -540
    },
    "id": "ca5JfzLRi1r-",
    "outputId": "aa7a0a38-d1d8-4ff6-d210-2cdae8b67a52"
   },
   "outputs": [
    {
     "data": {
      "text/plain": [
       "['__abstractmethods__',\n",
       " '__annotations__',\n",
       " '__class__',\n",
       " '__delattr__',\n",
       " '__dict__',\n",
       " '__dir__',\n",
       " '__doc__',\n",
       " '__eq__',\n",
       " '__format__',\n",
       " '__ge__',\n",
       " '__getattribute__',\n",
       " '__getstate__',\n",
       " '__gt__',\n",
       " '__hash__',\n",
       " '__init__',\n",
       " '__init_subclass__',\n",
       " '__le__',\n",
       " '__lt__',\n",
       " '__module__',\n",
       " '__ne__',\n",
       " '__new__',\n",
       " '__reduce__',\n",
       " '__reduce_ex__',\n",
       " '__repr__',\n",
       " '__setattr__',\n",
       " '__setstate__',\n",
       " '__sizeof__',\n",
       " '__str__',\n",
       " '__subclasshook__',\n",
       " '__weakref__',\n",
       " '_abc_impl',\n",
       " '_check_feature_names',\n",
       " '_check_n_features',\n",
       " '_decision_function',\n",
       " '_estimator_type',\n",
       " '_get_param_names',\n",
       " '_get_tags',\n",
       " '_more_tags',\n",
       " '_parameter_constraints',\n",
       " '_repr_html_',\n",
       " '_repr_html_inner',\n",
       " '_repr_mimebundle_',\n",
       " '_set_intercept',\n",
       " '_validate_data',\n",
       " '_validate_params',\n",
       " 'coef_',\n",
       " 'copy_X',\n",
       " 'feature_names_in_',\n",
       " 'fit',\n",
       " 'fit_intercept',\n",
       " 'get_params',\n",
       " 'intercept_',\n",
       " 'n_features_in_',\n",
       " 'n_jobs',\n",
       " 'positive',\n",
       " 'predict',\n",
       " 'rank_',\n",
       " 'score',\n",
       " 'set_params',\n",
       " 'singular_']"
      ]
     },
     "execution_count": 41,
     "metadata": {},
     "output_type": "execute_result"
    }
   ],
   "source": [
    "#코드작성\n",
    "\n",
    "dir(model_lr)"
   ]
  },
  {
   "cell_type": "code",
   "execution_count": 42,
   "metadata": {},
   "outputs": [
    {
     "ename": "SyntaxError",
     "evalue": "invalid syntax. Perhaps you forgot a comma? (2527297387.py, line 1)",
     "output_type": "error",
     "traceback": [
      "\u001b[1;36m  Cell \u001b[1;32mIn[42], line 1\u001b[1;36m\u001b[0m\n\u001b[1;33m    print(\"기울기: \", model_lr.coef_, \"\\n절편: \"model_lr.intercept_)\u001b[0m\n\u001b[1;37m                                   ^\u001b[0m\n\u001b[1;31mSyntaxError\u001b[0m\u001b[1;31m:\u001b[0m invalid syntax. Perhaps you forgot a comma?\n"
     ]
    }
   ],
   "source": [
    "print(\"기울기: \", model_lr.coef_, \"\\n절편: \"model_lr.intercept_)"
   ]
  },
  {
   "cell_type": "markdown",
   "metadata": {
    "id": "jikmLVuYvIWv"
   },
   "source": [
    "3) 모델로 예측한 최적합선 시각화하기"
   ]
  },
  {
   "cell_type": "code",
   "execution_count": 43,
   "metadata": {
    "colab": {
     "base_uri": "https://localhost:8080/",
     "height": 299
    },
    "executionInfo": {
     "elapsed": 19,
     "status": "ok",
     "timestamp": 1666350864914,
     "user": {
      "displayName": "강희숙",
      "userId": "05520711596090317319"
     },
     "user_tz": -540
    },
    "id": "ccC_p-z6Tsr-",
    "outputId": "4eef0d15-1a7d-421c-d87a-3d3f514fc175"
   },
   "outputs": [
    {
     "data": {
      "image/png": "[encoded data removed]",
      "text/plain": [
       "<Figure size 640x480 with 1 Axes>"
      ]
     },
     "metadata": {},
     "output_type": "display_data"
    }
   ],
   "source": [
    "plt.figure()\n",
    "\n",
    "#코드작성 : X_test, y_test 산점도를 그린다.\n",
    "plt.scatter(X_test, y_test, color=\"grey\")\n",
    "\n",
    "#코드작성 : X_test, y_pred 선을 그린다.\n",
    "plt.plot(X_test, y_pred, color=\"red\", linewidth=2)\n",
    "\n",
    "#코드작성 :  x축 label -'Whole_weight', y축 label - 'Rings' 로 표시한다.\n",
    "plt.xlabel(\"Whole Weight\");\n",
    "plt.ylabel(\"Rings\");"
   ]
  },
  {
   "cell_type": "markdown",
   "metadata": {
    "id": "p0BwOZgnvMFW"
   },
   "source": [
    "### **step5. 모델 평가하기**"
   ]
  },
  {
   "cell_type": "markdown",
   "metadata": {
    "id": "T3ZVVJCvvRIM"
   },
   "source": [
    "- 평균 제곱 오차(MSE)와 평균 절대 오차(MAE) 그리고 결정계수(R2)을 이용하여 모델의 성능을 평가한다."
   ]
  },
  {
   "cell_type": "code",
   "execution_count": 44,
   "metadata": {
    "colab": {
     "base_uri": "https://localhost:8080/"
    },
    "executionInfo": {
     "elapsed": 17,
     "status": "ok",
     "timestamp": 1666350864915,
     "user": {
      "displayName": "강희숙",
      "userId": "05520711596090317319"
     },
     "user_tz": -540
    },
    "id": "aPJ8BFVpTssB",
    "outputId": "df6bc4a7-320e-480a-ae34-4fa1b25acf46"
   },
   "outputs": [
    {
     "name": "stdout",
     "output_type": "stream",
     "text": [
      "Linear Regression Score\n",
      "Mean Squared Error\n",
      "-  7.059276238381288\n",
      "Mean Absolute Error\n",
      "- 1.977585631965429\n",
      "R2\n",
      "- 0.30481694539508697\n"
     ]
    }
   ],
   "source": [
    "print (\"Linear Regression Score\")\n",
    "#코드작성 : mean_squared_error(), mean_absolute_error()를 출력한다.\n",
    "print (\"Mean Squared Error\\n- \", mean_squared_error(y_test,y_pred))\n",
    "print (\"Mean Absolute Error\\n-\", mean_absolute_error(y_test,y_pred))### **step5. 모델 평가하기**\n",
    "print (\"R2\\n-\", r2_score(y_test,y_pred))"
   ]
  },
  {
   "cell_type": "markdown",
   "metadata": {
    "id": "p0BwOZgnvMFW"
   },
   "source": [
    "### **step6. 입력 조종해서 더 나은 모델 만들기**"
   ]
  },
  {
   "cell_type": "markdown",
   "metadata": {
    "id": "JFigbUOckp2j"
   },
   "source": [
    "- Gender : 성별 (female, male, infant)\n",
    "- Length : 길이\n",
    "- Diameter : 직경\n",
    "- Height : 높이\n",
    "- Whole Weight : 전체 무게\n",
    "- Shell Weight : 껍질 무게\n",
    "- Shucked Weight : 껍질 벗긴 무게\n",
    "- Viscera Weight : 내장 무게\n",
    "- Rings : 전복 수명 (target)"
   ]
  },
  {
   "cell_type": "code",
   "execution_count": 51,
   "metadata": {},
   "outputs": [
    {
     "name": "stdout",
     "output_type": "stream",
     "text": [
      "Linear Regression Score\n",
      "MSE:  4.924934526360624\n",
      "MAE:  1.6187084837894907\n",
      "R2:  0.5150025424490754\n"
     ]
    }
   ],
   "source": [
    "#코드작성\n",
    "# 데이터를 다 안다는 가정하에 바로 항목 지정\n",
    "# 단순 선형회기기 때문에 항목이 1개씩임\n",
    "# 그런데 반드시 입력은 2차원이어야함\n",
    "\n",
    "X1 = df.drop(columns=[\"Gender\", \"Rings\"])\n",
    "y1 = df[\"Rings\"]\n",
    "\n",
    "#train, test 분리\n",
    "X1_train, X1_test, y1_train, y1_test = train_test_split(X1, y1, test_size=0.3, random_state=42)\n",
    "\n",
    "model_lr1 = LinearRegression()\n",
    "model_lr1.fit(X1_train, y1_train)\n",
    "y_pred1 = model_lr1.predict(X1_test) \n",
    "\n",
    "df_result1 = pd.DataFrame(columns=['Actual', 'Predicted'])\n",
    "#코드작성\n",
    "\n",
    "df_result1['Actual'] = y1_test\n",
    "df_result1['Predicted'] = y_pred1\n",
    "\n",
    "print (\"Linear Regression Score\")\n",
    "#코드작성 : mean_squared_error(), mean_absolute_error()를 출력한다.\n",
    "print (\"MSE: \", mean_squared_error(y1_test,y_pred1))\n",
    "print (\"MAE: \", mean_absolute_error(y1_test,y_pred1))\n",
    "print (\"R2: \", r2_score(y1_test,y_pred1)) "
   ]
  },
  {
   "cell_type": "code",
   "execution_count": null,
   "metadata": {},
   "outputs": [],
   "source": []
  }
 ],
 "metadata": {
  "colab": {
   "provenance": []
  },
  "kernelspec": {
   "display_name": "Python 3 (ipykernel)",
   "language": "python",
   "name": "python3"
  },
  "language_info": {
   "codemirror_mode": {
    "name": "ipython",
    "version": 3
   },
   "file_extension": ".py",
   "mimetype": "text/x-python",
   "name": "python",
   "nbconvert_exporter": "python",
   "pygments_lexer": "ipython3",
   "version": "3.10.9"
  }
 },
 "nbformat": 4,
 "nbformat_minor": 1
}
