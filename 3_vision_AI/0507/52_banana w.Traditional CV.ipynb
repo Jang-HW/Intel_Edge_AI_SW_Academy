{
 "cells": [
  {
   "cell_type": "markdown",
   "id": "4c298122",
   "metadata": {},
   "source": [
    "## 데이터 셋"
   ]
  },
  {
   "cell_type": "code",
   "execution_count": 1,
   "id": "9deb5237",
   "metadata": {},
   "outputs": [],
   "source": [
    "import cv2\n",
    "import os\n",
    "import warnings\n",
    "import numpy as np\n",
    "from sklearn.metrics import classification_report"
   ]
  },
  {
   "cell_type": "markdown",
   "id": "24754fd2",
   "metadata": {},
   "source": [
    "###### Bing Image Downloader 패키기 설치하기\n",
    "!pip install bing_image_downloader\n",
    "\n",
    "###### 다운로드할 이미지 키워드와 개수 지정하여 다운로드하기\n",
    "from bing_image_downloader import downloader\n",
    "import os\n",
    "\n",
    "keywords = input(\"검색할 이미지 키워드를 입력하세요 (예: 노란바나나) => \")\n",
    "limit = int(input(\"다운로드할 이미지의 개수를 입력하세요 =>  \"))\n",
    "\n",
    "###### 현재 디렉토리의 절대 경로 가져오기\n",
    "current_directory = os.path.abspath('.')\n",
    "\n",
    "###### 다운로드 정보 기록\n",
    "record = {\n",
    "    \"keywords\": keywords,\n",
    "    \"limit\": limit\n",
    "}\n",
    "\n",
    "###### 이미지 다운로드 실행\n",
    "downloader.download(\n",
    "    record['keywords'], \n",
    "    limit=record['limit'],\n",
    "    output_dir=current_directory,  # 현재 디렉토리를 다운로드 경로로 설정\n",
    "    adult_filter_off=True,\n",
    "    force_replace=False,\n",
    "    timeout=60\n",
    ")"
   ]
  },
  {
   "cell_type": "code",
   "execution_count": 2,
   "id": "4845e4e9",
   "metadata": {},
   "outputs": [],
   "source": [
    "# 특성을 추출하는 함수 정의(평균 색상)\n",
    "def averagecolor(image):\n",
    "    return np.mean(image, axis=(0, 1))"
   ]
  },
  {
   "cell_type": "code",
   "execution_count": 3,
   "id": "7e52dbcb",
   "metadata": {},
   "outputs": [],
   "source": [
    "def evaluateaccuracy(filenames,predictedY):\n",
    "    predictedY = np.array(predictedY)\n",
    "    if (np.sum(realtestY!=predictedY)>0):\n",
    "        print (\"Wrong Predictions: (filename, labelled, predicted) \")\n",
    "        print (np.dstack([filenames,realtestY,predictedY]).squeeze()[(realtestY!=predictedY)])\n",
    "    # 전체 예측의 백분율로 일치하는 (정확한) 예측을 계산합니다.\n",
    "    return \"Correct :\"+ str(np.sum(realtestY==predictedY)) + \". Wrong: \"+str(np.sum(realtestY!=predictedY)) + \". Correctly Classified: \" + str(np.sum(realtestY==predictedY)*100/len(predictedY))+\"%\""
   ]
  },
  {
   "cell_type": "code",
   "execution_count": 4,
   "id": "96ec129b",
   "metadata": {
    "scrolled": true
   },
   "outputs": [
    {
     "name": "stdout",
     "output_type": "stream",
     "text": [
      "Loading training images for the label: ripe\n",
      "Loading training images for the label: unripe\n",
      "Loading training images for the label: overripe\n"
     ]
    }
   ],
   "source": [
    "trainX = []\n",
    "trainY = []\n",
    "\n",
    "# 이미지 하위 디렉토리 4개 폴더에 있는 훈련 이미지를 반복합니다.\n",
    "path = \"banana/\"\n",
    "class_name = ['ripe','unripe','overripe']\n",
    "\n",
    "# 보통 data 불러와서 구성을 이런식으로 함\n",
    "for label in class_name:\n",
    "    print (\"Loading training images for the label: \"+label)\n",
    "    \n",
    "    # 하위 폴더의 모든 이미지를 읽어옵니다.\n",
    "    for filename in os.listdir(path+label+\"/\"): \n",
    "        img = cv2.imread(path+label+\"/\"+filename)\n",
    "        img_features = averagecolor(img)\n",
    "        trainX.append(img_features)\n",
    "        trainY.append(label)"
   ]
  },
  {
   "cell_type": "code",
   "execution_count": 5,
   "id": "5c2a2095",
   "metadata": {
    "scrolled": false
   },
   "outputs": [
    {
     "name": "stdout",
     "output_type": "stream",
     "text": [
      "Image_134.jpg: ripe\n",
      "Image_139.jpg: ripe\n",
      "Image_142.jpg: overripe\n",
      "Image_147.jpg: ripe\n",
      "Image_149.jpg: ripe\n",
      "Image_157.jpg: ripe\n",
      "Image_161.jpg: overripe\n",
      "Image_166.jpg: overripe\n",
      "Image_181.png: ripe\n",
      "Image_186.jpg: overripe\n",
      "Image_101.jpg: overripe\n",
      "Image_106.jpg: unripe\n",
      "Image_117.jpg: unripe\n",
      "Image_163.jpg: unripe\n",
      "Image_42.jpg: unripe\n",
      "Image_84.jpg: overripe\n",
      "Image_93.jpg: unripe\n",
      "Image_95.jpg: unripe\n",
      "Image_96.jpg: unripe\n",
      "Image_99.jpg: unripe\n",
      "Image_104.jpg: overripe\n",
      "Image_131.jpg: ripe\n",
      "Image_135.jpg: overripe\n",
      "Image_15.jpg: overripe\n",
      "Image_159.jpg: ripe\n",
      "Image_19.jpg: overripe\n",
      "Image_75.jpg: ripe\n",
      "Image_76.jpg: overripe\n",
      "Image_86.jpg: overripe\n",
      "Image_96.jpg: ripe\n",
      "\n",
      "              precision    recall  f1-score   support\n",
      "\n",
      "    overripe       0.50      0.60      0.55        10\n",
      "        ripe       0.60      0.60      0.60        10\n",
      "      unripe       1.00      0.80      0.89        10\n",
      "\n",
      "    accuracy                           0.67        30\n",
      "   macro avg       0.70      0.67      0.68        30\n",
      "weighted avg       0.70      0.67      0.68        30\n",
      "\n",
      "\n",
      "Wrong Predictions: (filename, labelled, predicted) \n",
      "[['Image_142.jpg' 'ripe' 'overripe']\n",
      " ['Image_161.jpg' 'ripe' 'overripe']\n",
      " ['Image_166.jpg' 'ripe' 'overripe']\n",
      " ['Image_186.jpg' 'ripe' 'overripe']\n",
      " ['Image_101.jpg' 'unripe' 'overripe']\n",
      " ['Image_84.jpg' 'unripe' 'overripe']\n",
      " ['Image_131.jpg' 'overripe' 'ripe']\n",
      " ['Image_159.jpg' 'overripe' 'ripe']\n",
      " ['Image_75.jpg' 'overripe' 'ripe']\n",
      " ['Image_96.jpg' 'overripe' 'ripe']]\n",
      "Correct :20. Wrong: 10. Correctly Classified: 66.66666666666667%\n"
     ]
    }
   ],
   "source": [
    "path = \"banana/test/\"\n",
    "filenames = []\n",
    "predictedY = []\n",
    "realtestY = []\n",
    "\n",
    "for label in class_name:\n",
    "    #print (\"Loading training images for the label: \"+label)\n",
    "    \n",
    "    for filename in os.listdir(path+label+\"/\"):\n",
    "        #print(path+label+\"/\"+filename)\n",
    "        \n",
    "        img = cv2.imread(path+label+\"/\"+filename)\n",
    "        img_features = averagecolor(img)\n",
    "        \n",
    "        calculated_distances = []\n",
    "        for card in (trainX):\n",
    "            calculated_distances.append(np.linalg.norm(img_features-card))\n",
    "        prediction = trainY[np.argmin(calculated_distances)]\n",
    "\n",
    "        print (filename + \": \" + prediction) # 추론을 출력합니다.\n",
    "        filenames.append(filename)\n",
    "        realtestY.append(label)\n",
    "        predictedY.append(prediction)\n",
    "\n",
    "# 정확도 평가(sklearn 패키지는 유용한 보고서를 제공합니다)\n",
    "print()\n",
    "print(classification_report(realtestY, predictedY))\n",
    "\n",
    "# 정확도 평가(잘못 분류된 항목의 파일 이름을 출력하기 위한 자체 사용자 정의 메소드)\n",
    "print ()\n",
    "print (evaluateaccuracy(filenames,predictedY))\n"
   ]
  },
  {
   "cell_type": "code",
   "execution_count": 6,
   "id": "e9d09dae",
   "metadata": {},
   "outputs": [
    {
     "data": {
      "text/html": [
       "<style>#sk-container-id-1 {color: black;background-color: white;}#sk-container-id-1 pre{padding: 0;}#sk-container-id-1 div.sk-toggleable {background-color: white;}#sk-container-id-1 label.sk-toggleable__label {cursor: pointer;display: block;width: 100%;margin-bottom: 0;padding: 0.3em;box-sizing: border-box;text-align: center;}#sk-container-id-1 label.sk-toggleable__label-arrow:before {content: \"▸\";float: left;margin-right: 0.25em;color: #696969;}#sk-container-id-1 label.sk-toggleable__label-arrow:hover:before {color: black;}#sk-container-id-1 div.sk-estimator:hover label.sk-toggleable__label-arrow:before {color: black;}#sk-container-id-1 div.sk-toggleable__content {max-height: 0;max-width: 0;overflow: hidden;text-align: left;background-color: #f0f8ff;}#sk-container-id-1 div.sk-toggleable__content pre {margin: 0.2em;color: black;border-radius: 0.25em;background-color: #f0f8ff;}#sk-container-id-1 input.sk-toggleable__control:checked~div.sk-toggleable__content {max-height: 200px;max-width: 100%;overflow: auto;}#sk-container-id-1 input.sk-toggleable__control:checked~label.sk-toggleable__label-arrow:before {content: \"▾\";}#sk-container-id-1 div.sk-estimator input.sk-toggleable__control:checked~label.sk-toggleable__label {background-color: #d4ebff;}#sk-container-id-1 div.sk-label input.sk-toggleable__control:checked~label.sk-toggleable__label {background-color: #d4ebff;}#sk-container-id-1 input.sk-hidden--visually {border: 0;clip: rect(1px 1px 1px 1px);clip: rect(1px, 1px, 1px, 1px);height: 1px;margin: -1px;overflow: hidden;padding: 0;position: absolute;width: 1px;}#sk-container-id-1 div.sk-estimator {font-family: monospace;background-color: #f0f8ff;border: 1px dotted black;border-radius: 0.25em;box-sizing: border-box;margin-bottom: 0.5em;}#sk-container-id-1 div.sk-estimator:hover {background-color: #d4ebff;}#sk-container-id-1 div.sk-parallel-item::after {content: \"\";width: 100%;border-bottom: 1px solid gray;flex-grow: 1;}#sk-container-id-1 div.sk-label:hover label.sk-toggleable__label {background-color: #d4ebff;}#sk-container-id-1 div.sk-serial::before {content: \"\";position: absolute;border-left: 1px solid gray;box-sizing: border-box;top: 0;bottom: 0;left: 50%;z-index: 0;}#sk-container-id-1 div.sk-serial {display: flex;flex-direction: column;align-items: center;background-color: white;padding-right: 0.2em;padding-left: 0.2em;position: relative;}#sk-container-id-1 div.sk-item {position: relative;z-index: 1;}#sk-container-id-1 div.sk-parallel {display: flex;align-items: stretch;justify-content: center;background-color: white;position: relative;}#sk-container-id-1 div.sk-item::before, #sk-container-id-1 div.sk-parallel-item::before {content: \"\";position: absolute;border-left: 1px solid gray;box-sizing: border-box;top: 0;bottom: 0;left: 50%;z-index: -1;}#sk-container-id-1 div.sk-parallel-item {display: flex;flex-direction: column;z-index: 1;position: relative;background-color: white;}#sk-container-id-1 div.sk-parallel-item:first-child::after {align-self: flex-end;width: 50%;}#sk-container-id-1 div.sk-parallel-item:last-child::after {align-self: flex-start;width: 50%;}#sk-container-id-1 div.sk-parallel-item:only-child::after {width: 0;}#sk-container-id-1 div.sk-dashed-wrapped {border: 1px dashed gray;margin: 0 0.4em 0.5em 0.4em;box-sizing: border-box;padding-bottom: 0.4em;background-color: white;}#sk-container-id-1 div.sk-label label {font-family: monospace;font-weight: bold;display: inline-block;line-height: 1.2em;}#sk-container-id-1 div.sk-label-container {text-align: center;}#sk-container-id-1 div.sk-container {/* jupyter's `normalize.less` sets `[hidden] { display: none; }` but bootstrap.min.css set `[hidden] { display: none !important; }` so we also need the `!important` here to be able to override the default hidden behavior on the sphinx rendered scikit-learn.org. See: https://github.com/scikit-learn/scikit-learn/issues/21755 */display: inline-block !important;position: relative;}#sk-container-id-1 div.sk-text-repr-fallback {display: none;}</style><div id=\"sk-container-id-1\" class=\"sk-top-container\"><div class=\"sk-text-repr-fallback\"><pre>SVC(gamma=0.001)</pre><b>In a Jupyter environment, please rerun this cell to show the HTML representation or trust the notebook. <br />On GitHub, the HTML representation is unable to render, please try loading this page with nbviewer.org.</b></div><div class=\"sk-container\" hidden><div class=\"sk-item\"><div class=\"sk-estimator sk-toggleable\"><input class=\"sk-toggleable__control sk-hidden--visually\" id=\"sk-estimator-id-1\" type=\"checkbox\" checked><label for=\"sk-estimator-id-1\" class=\"sk-toggleable__label sk-toggleable__label-arrow\">SVC</label><div class=\"sk-toggleable__content\"><pre>SVC(gamma=0.001)</pre></div></div></div></div></div>"
      ],
      "text/plain": [
       "SVC(gamma=0.001)"
      ]
     },
     "execution_count": 6,
     "metadata": {},
     "output_type": "execute_result"
    }
   ],
   "source": [
    "# SVM은 숫자 값을 사용하기 때문에 먼저 레이블을 숫자로 인코딩합니다.\n",
    "from sklearn.preprocessing import LabelEncoder  # 레이블을 숫자로 인코딩\n",
    "\n",
    "encoder = LabelEncoder()                         # 레이블을 숫자로 인코딩\n",
    "encodedtrainY = encoder.fit_transform(trainY)  # 레이블을 숫자로 인코딩\n",
    "\n",
    "from sklearn import svm\n",
    "#model = svm.SVC(gamma=\"scale\", decision_function_shape='ovr')\n",
    "model = svm.SVC(gamma=0.001, decision_function_shape='ovr')\n",
    "model.fit(trainX, encodedtrainY)"
   ]
  },
  {
   "cell_type": "code",
   "execution_count": 7,
   "id": "37be5327",
   "metadata": {},
   "outputs": [
    {
     "name": "stdout",
     "output_type": "stream",
     "text": [
      "['ripe', 'ripe', 'ripe', 'ripe', 'ripe', 'ripe', 'ripe', 'ripe', 'ripe', 'ripe', 'ripe', 'ripe', 'ripe', 'ripe', 'ripe', 'ripe', 'ripe', 'ripe', 'ripe', 'ripe', 'ripe', 'ripe', 'ripe', 'ripe', 'ripe', 'ripe', 'ripe', 'ripe', 'ripe', 'ripe', 'ripe', 'unripe', 'unripe', 'unripe', 'unripe', 'unripe', 'unripe', 'unripe', 'unripe', 'unripe', 'unripe', 'unripe', 'unripe', 'unripe', 'unripe', 'unripe', 'unripe', 'unripe', 'unripe', 'unripe', 'unripe', 'unripe', 'unripe', 'unripe', 'unripe', 'unripe', 'unripe', 'unripe', 'unripe', 'overripe', 'overripe', 'overripe', 'overripe', 'overripe', 'overripe', 'overripe', 'overripe', 'overripe', 'overripe', 'overripe', 'overripe', 'overripe', 'overripe', 'overripe', 'overripe', 'overripe', 'overripe', 'overripe', 'overripe', 'overripe', 'overripe', 'overripe', 'overripe', 'overripe', 'overripe']\n"
     ]
    }
   ],
   "source": [
    "print (trainY)"
   ]
  },
  {
   "cell_type": "code",
   "execution_count": 8,
   "id": "f7dd5f3c",
   "metadata": {},
   "outputs": [
    {
     "name": "stdout",
     "output_type": "stream",
     "text": [
      "Image_134.jpg: ripe\n",
      "Image_139.jpg: overripe\n",
      "Image_142.jpg: overripe\n",
      "Image_147.jpg: ripe\n",
      "Image_149.jpg: ripe\n",
      "Image_157.jpg: ripe\n",
      "Image_161.jpg: overripe\n",
      "Image_166.jpg: overripe\n",
      "Image_181.png: ripe\n",
      "Image_186.jpg: ripe\n",
      "Image_101.jpg: overripe\n",
      "Image_106.jpg: unripe\n",
      "Image_117.jpg: unripe\n",
      "Image_163.jpg: unripe\n",
      "Image_42.jpg: unripe\n",
      "Image_84.jpg: unripe\n",
      "Image_93.jpg: unripe\n",
      "Image_95.jpg: unripe\n",
      "Image_96.jpg: unripe\n",
      "Image_99.jpg: unripe\n",
      "Image_104.jpg: overripe\n",
      "Image_131.jpg: ripe\n",
      "Image_135.jpg: overripe\n",
      "Image_15.jpg: overripe\n",
      "Image_159.jpg: ripe\n",
      "Image_19.jpg: overripe\n",
      "Image_75.jpg: ripe\n",
      "Image_76.jpg: overripe\n",
      "Image_86.jpg: overripe\n",
      "Image_96.jpg: ripe\n",
      "\n",
      "              precision    recall  f1-score   support\n",
      "\n",
      "    overripe       0.55      0.60      0.57        10\n",
      "        ripe       0.60      0.60      0.60        10\n",
      "      unripe       1.00      0.90      0.95        10\n",
      "\n",
      "    accuracy                           0.70        30\n",
      "   macro avg       0.72      0.70      0.71        30\n",
      "weighted avg       0.72      0.70      0.71        30\n",
      "\n",
      "Wrong Predictions: (filename, labelled, predicted) \n",
      "[['Image_139.jpg' 'ripe' 'overripe']\n",
      " ['Image_142.jpg' 'ripe' 'overripe']\n",
      " ['Image_161.jpg' 'ripe' 'overripe']\n",
      " ['Image_166.jpg' 'ripe' 'overripe']\n",
      " ['Image_101.jpg' 'unripe' 'overripe']\n",
      " ['Image_131.jpg' 'overripe' 'ripe']\n",
      " ['Image_159.jpg' 'overripe' 'ripe']\n",
      " ['Image_75.jpg' 'overripe' 'ripe']\n",
      " ['Image_96.jpg' 'overripe' 'ripe']]\n",
      "Correct :21. Wrong: 9. Correctly Classified: 70.0%\n"
     ]
    }
   ],
   "source": [
    "import os\n",
    "path = \"banana/test/\"\n",
    "\n",
    "filenames = []\n",
    "predictedY = []\n",
    "realtestY = []\n",
    "\n",
    "\n",
    "for label in class_name:\n",
    "    #print (\"Loading training images for the label: \"+label)\n",
    "    \n",
    "    for filename in os.listdir(path+label+\"/\"):\n",
    "        #print(path+label+\"/\"+filename)\n",
    "        \n",
    "        img = cv2.imread(path+label+\"/\"+filename)\n",
    "        img_features = averagecolor(img)\n",
    "        prediction = model.predict([img_features])[0]\n",
    "\n",
    "        # 예측을 코드화합니다.\n",
    "        prediction = encoder.inverse_transform([prediction])[0]\n",
    "\n",
    "        print (filename + \": \" + prediction)\n",
    "        filenames.append(filename)\n",
    "        realtestY.append(label)\n",
    "        predictedY.append(prediction)\n",
    "\n",
    "# 정확도 평가(sklearn 패키지는 유용한 보고서를 제공합니다)\n",
    "print ()\n",
    "print(classification_report(realtestY, predictedY))\n",
    "\n",
    "# 정확도 평가\n",
    "print (evaluateaccuracy(filenames,predictedY))"
   ]
  }
 ],
 "metadata": {
  "kernelspec": {
   "display_name": "Python 3 (ipykernel)",
   "language": "python",
   "name": "python3"
  },
  "language_info": {
   "codemirror_mode": {
    "name": "ipython",
    "version": 3
   },
   "file_extension": ".py",
   "mimetype": "text/x-python",
   "name": "python",
   "nbconvert_exporter": "python",
   "pygments_lexer": "ipython3",
   "version": "3.10.9"
  }
 },
 "nbformat": 4,
 "nbformat_minor": 5
}
