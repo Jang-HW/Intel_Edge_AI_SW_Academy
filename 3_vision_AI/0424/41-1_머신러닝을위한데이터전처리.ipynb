{
 "cells": [
  {
   "cell_type": "markdown",
   "metadata": {
    "id": "EZ5cmzXGHKvb"
   },
   "source": [
    "### 머신러닝을 위한 타이타닉 데이터처리"
   ]
  },
  {
   "cell_type": "code",
   "execution_count": null,
   "metadata": {
    "id": "tNgkePFEHKve"
   },
   "outputs": [],
   "source": [
    "# 구글 Colab에서 공유된 파일 다운로드해서 가져오기 - 타이타닉데이터\n",
    "#!gdown https://drive.google.com/uc?id=1EKULCfCFtu3ThmTUMlpUDV1nuJIbjcHP"
   ]
  },
  {
   "cell_type": "code",
   "execution_count": 13,
   "metadata": {
    "id": "4Eam1dNXHKvg",
    "outputId": "47b9a81a-5c3a-4f7b-8731-abb58ce85d40"
   },
   "outputs": [
    {
     "data": {
      "text/html": [
       "<div>\n",
       "<style scoped>\n",
       "    .dataframe tbody tr th:only-of-type {\n",
       "        vertical-align: middle;\n",
       "    }\n",
       "\n",
       "    .dataframe tbody tr th {\n",
       "        vertical-align: top;\n",
       "    }\n",
       "\n",
       "    .dataframe thead th {\n",
       "        text-align: right;\n",
       "    }\n",
       "</style>\n",
       "<table border=\"1\" class=\"dataframe\">\n",
       "  <thead>\n",
       "    <tr style=\"text-align: right;\">\n",
       "      <th></th>\n",
       "      <th>PassengerId</th>\n",
       "      <th>Survived</th>\n",
       "      <th>Pclass</th>\n",
       "      <th>Name</th>\n",
       "      <th>Sex</th>\n",
       "      <th>Age</th>\n",
       "      <th>SibSp</th>\n",
       "      <th>Parch</th>\n",
       "      <th>Ticket</th>\n",
       "      <th>Fare</th>\n",
       "      <th>Cabin</th>\n",
       "      <th>Embarked</th>\n",
       "    </tr>\n",
       "  </thead>\n",
       "  <tbody>\n",
       "    <tr>\n",
       "      <th>0</th>\n",
       "      <td>1</td>\n",
       "      <td>0</td>\n",
       "      <td>3</td>\n",
       "      <td>Braund, Mr. Owen Harris</td>\n",
       "      <td>male</td>\n",
       "      <td>22.0</td>\n",
       "      <td>1</td>\n",
       "      <td>0</td>\n",
       "      <td>A/5 21171</td>\n",
       "      <td>7.2500</td>\n",
       "      <td>NaN</td>\n",
       "      <td>S</td>\n",
       "    </tr>\n",
       "    <tr>\n",
       "      <th>1</th>\n",
       "      <td>2</td>\n",
       "      <td>1</td>\n",
       "      <td>1</td>\n",
       "      <td>Cumings, Mrs. John Bradley (Florence Briggs Th...</td>\n",
       "      <td>female</td>\n",
       "      <td>38.0</td>\n",
       "      <td>1</td>\n",
       "      <td>0</td>\n",
       "      <td>PC 17599</td>\n",
       "      <td>71.2833</td>\n",
       "      <td>C85</td>\n",
       "      <td>C</td>\n",
       "    </tr>\n",
       "    <tr>\n",
       "      <th>2</th>\n",
       "      <td>3</td>\n",
       "      <td>1</td>\n",
       "      <td>3</td>\n",
       "      <td>Heikkinen, Miss. Laina</td>\n",
       "      <td>female</td>\n",
       "      <td>26.0</td>\n",
       "      <td>0</td>\n",
       "      <td>0</td>\n",
       "      <td>STON/O2. 3101282</td>\n",
       "      <td>7.9250</td>\n",
       "      <td>NaN</td>\n",
       "      <td>S</td>\n",
       "    </tr>\n",
       "    <tr>\n",
       "      <th>3</th>\n",
       "      <td>4</td>\n",
       "      <td>1</td>\n",
       "      <td>1</td>\n",
       "      <td>Futrelle, Mrs. Jacques Heath (Lily May Peel)</td>\n",
       "      <td>female</td>\n",
       "      <td>35.0</td>\n",
       "      <td>1</td>\n",
       "      <td>0</td>\n",
       "      <td>113803</td>\n",
       "      <td>53.1000</td>\n",
       "      <td>C123</td>\n",
       "      <td>S</td>\n",
       "    </tr>\n",
       "    <tr>\n",
       "      <th>4</th>\n",
       "      <td>5</td>\n",
       "      <td>0</td>\n",
       "      <td>3</td>\n",
       "      <td>Allen, Mr. William Henry</td>\n",
       "      <td>male</td>\n",
       "      <td>35.0</td>\n",
       "      <td>0</td>\n",
       "      <td>0</td>\n",
       "      <td>373450</td>\n",
       "      <td>8.0500</td>\n",
       "      <td>NaN</td>\n",
       "      <td>S</td>\n",
       "    </tr>\n",
       "  </tbody>\n",
       "</table>\n",
       "</div>"
      ],
      "text/plain": [
       "   PassengerId  Survived  Pclass  \\\n",
       "0            1         0       3   \n",
       "1            2         1       1   \n",
       "2            3         1       3   \n",
       "3            4         1       1   \n",
       "4            5         0       3   \n",
       "\n",
       "                                                Name     Sex   Age  SibSp  \\\n",
       "0                            Braund, Mr. Owen Harris    male  22.0      1   \n",
       "1  Cumings, Mrs. John Bradley (Florence Briggs Th...  female  38.0      1   \n",
       "2                             Heikkinen, Miss. Laina  female  26.0      0   \n",
       "3       Futrelle, Mrs. Jacques Heath (Lily May Peel)  female  35.0      1   \n",
       "4                           Allen, Mr. William Henry    male  35.0      0   \n",
       "\n",
       "   Parch            Ticket     Fare Cabin Embarked  \n",
       "0      0         A/5 21171   7.2500   NaN        S  \n",
       "1      0          PC 17599  71.2833   C85        C  \n",
       "2      0  STON/O2. 3101282   7.9250   NaN        S  \n",
       "3      0            113803  53.1000  C123        S  \n",
       "4      0            373450   8.0500   NaN        S  "
      ]
     },
     "execution_count": 13,
     "metadata": {},
     "output_type": "execute_result"
    }
   ],
   "source": [
    "import pandas as pd\n",
    "import numpy as np\n",
    "\n",
    "# 1. 판다스 read_csv()를 사용하여'titanic.csv' 데이터를 읽어옵니다.\n",
    "\n",
    "df = pd.read_csv(\"./data/titanic.csv\")          # ... 코드 입력\n",
    "df.head()"
   ]
  },
  {
   "cell_type": "code",
   "execution_count": 14,
   "metadata": {
    "id": "Dt09EqhSHKvh",
    "outputId": "606b2168-7f51-4fee-d7b0-9abc6701b064"
   },
   "outputs": [
    {
     "name": "stdout",
     "output_type": "stream",
     "text": [
      "<class 'pandas.core.frame.DataFrame'>\n",
      "RangeIndex: 891 entries, 0 to 890\n",
      "Data columns (total 12 columns):\n",
      " #   Column       Non-Null Count  Dtype  \n",
      "---  ------       --------------  -----  \n",
      " 0   PassengerId  891 non-null    int64  \n",
      " 1   Survived     891 non-null    int64  \n",
      " 2   Pclass       891 non-null    int64  \n",
      " 3   Name         891 non-null    object \n",
      " 4   Sex          891 non-null    object \n",
      " 5   Age          714 non-null    float64\n",
      " 6   SibSp        891 non-null    int64  \n",
      " 7   Parch        891 non-null    int64  \n",
      " 8   Ticket       891 non-null    object \n",
      " 9   Fare         891 non-null    float64\n",
      " 10  Cabin        204 non-null    object \n",
      " 11  Embarked     889 non-null    object \n",
      "dtypes: float64(2), int64(5), object(5)\n",
      "memory usage: 83.7+ KB\n"
     ]
    }
   ],
   "source": [
    "# 읽어온 데이터 정보파악하기\n",
    "df.info()          # ... 코드 입력"
   ]
  },
  {
   "cell_type": "markdown",
   "metadata": {
    "id": "DGp3Y1-pHKvh"
   },
   "source": [
    "## 1. 텍스트 데이터 숫자 데이터로 변환하기"
   ]
  },
  {
   "cell_type": "markdown",
   "metadata": {
    "id": "nrzCRhEvHKvi"
   },
   "source": [
    "### 1) replace() 사용하여 데이터 값을 바꾸기"
   ]
  },
  {
   "cell_type": "code",
   "execution_count": 15,
   "metadata": {
    "id": "r7Cs4ae7HKvi",
    "outputId": "f8f87bbf-7cf1-4f55-e4fd-c7d0a76c1a15"
   },
   "outputs": [
    {
     "name": "stdout",
     "output_type": "stream",
     "text": [
      "변환 전: \n",
      " 0      male\n",
      "1    female\n",
      "2    female\n",
      "3    female\n",
      "4      male\n",
      "Name: Sex, dtype: object\n"
     ]
    },
    {
     "data": {
      "text/plain": [
       "male      577\n",
       "female    314\n",
       "Name: Sex, dtype: int64"
      ]
     },
     "execution_count": 15,
     "metadata": {},
     "output_type": "execute_result"
    }
   ],
   "source": [
    "# 'Sex' 컬럼 상위 5개 불러오고 컬럼 카테고리 파악하기\n",
    "print('변환 전: \\n',df['Sex'].head())\n",
    "df['Sex'].value_counts()"
   ]
  },
  {
   "cell_type": "code",
   "execution_count": 17,
   "metadata": {
    "id": "xY1FtYUDHKvi",
    "outputId": "1317343c-2b41-4dfa-d5e0-bf49e210d9d5"
   },
   "outputs": [
    {
     "name": "stdout",
     "output_type": "stream",
     "text": [
      "\n",
      "변환 후: \n",
      " 0    0\n",
      "1    1\n",
      "2    1\n",
      "3    1\n",
      "4    0\n",
      "Name: Sex, dtype: int64\n"
     ]
    }
   ],
   "source": [
    "# replace()를 사용하여 male -> 0, female -> 1로 변환합니다.\n",
    "# 정석은 \n",
    "#df[\"Sex\"] = df[\"Sex\"].replace({\"male\":0, \"female\":1})          # ... 코드 입력\n",
    "df = df.replace({\"male\":0, \"female\":1})          # ... 코드 입력\n",
    "\n",
    "# 변환한 성별 데이터를 출력합니다.\n",
    "print('\\n변환 후: \\n',df['Sex'].head())"
   ]
  },
  {
   "cell_type": "markdown",
   "metadata": {
    "id": "jvtQOBtUHKvj"
   },
   "source": [
    "### 2) get_dummies() 사용하여 원핫인코딩하기"
   ]
  },
  {
   "cell_type": "code",
   "execution_count": 18,
   "metadata": {
    "id": "WFVKAZNcHKvj",
    "outputId": "04bdd654-aa4b-4f30-e07a-2ae0833eba4e"
   },
   "outputs": [
    {
     "name": "stdout",
     "output_type": "stream",
     "text": [
      "변환 전: \n",
      " 0    S\n",
      "1    C\n",
      "2    S\n",
      "3    S\n",
      "4    S\n",
      "Name: Embarked, dtype: object\n"
     ]
    },
    {
     "data": {
      "text/plain": [
       "S    644\n",
       "C    168\n",
       "Q     77\n",
       "Name: Embarked, dtype: int64"
      ]
     },
     "execution_count": 18,
     "metadata": {},
     "output_type": "execute_result"
    }
   ],
   "source": [
    "# 'Embarked' 컬럼 상위 5개 불러오고 컬럼 카테고리 파악하기\n",
    "print('변환 전: \\n',df['Embarked'].head())\n",
    "df['Embarked'].value_counts()"
   ]
  },
  {
   "cell_type": "code",
   "execution_count": 21,
   "metadata": {
    "id": "EstqkLCrHKvk",
    "outputId": "71f9dd83-0636-4095-de69-dfe87a157248"
   },
   "outputs": [
    {
     "name": "stdout",
     "output_type": "stream",
     "text": [
      "\n",
      "변환 후: \n",
      "    Embarked_C  Embarked_Q  Embarked_S\n",
      "0           0           0           1\n",
      "1           1           0           0\n",
      "2           0           0           1\n",
      "3           0           0           1\n",
      "4           0           0           1\n"
     ]
    }
   ],
   "source": [
    "# get_dummies()를 사용하여  'Embarked' 컬럼 변환합니다.\n",
    "dummies = pd.get_dummies(df[[\"Embarked\"]])          # ... 코드 입력\n",
    "\n",
    "#[[]]\n",
    "\n",
    "# 변환한 Embarked 데이터를 출력합니다.\n",
    "print('\\n변환 후: \\n',dummies.head())"
   ]
  },
  {
   "cell_type": "markdown",
   "metadata": {
    "id": "2qUIs7XeHKvk"
   },
   "source": [
    "## 2. 숫자 데이터를 정규화, 표준화시키기\n",
    "- 데이터의 컬럼 별 단위 또는 범위를 통일시켜주기 위해서임 (컬럼별로 시간, km, kg 등 다양한 단위를 가지는데 이러면 직접적인 비교가 불가능함)  \n",
    "\n",
    "- 머신러닝에 사용되는 데이터는 그 값이 너무 크거나 작지 않고 적당한 범위 (-1에서 ~ 1사이)에 있어야 모델의 정확도가 높아진다고 알려져있음\n",
    "\n",
    "- 머신러닝에서 정규화 또는 표준화 중 무엇을 해야하는지는 2개를 비교해보고 결정해야함. 어느 모델에선 정규화를 한 데이터가 값이 더 높을 수도 있고 표준화를 한 데이터가 값이 더 높을 수가 있기 때문에  둘 다 비교해 보는 것을 추천함"
   ]
  },
  {
   "cell_type": "markdown",
   "metadata": {
    "id": "mV8cbcNZHKvk"
   },
   "source": [
    "#### 정규화(Normalization)\n",
    "\n",
    "- 데이터를 특정 구간으로 바꾸는 척도법이다. 즉 값의 범위를 0~1사이로 옮겨준다.  (ex. 0~1 or 0~100).\n",
    "- 식 : (측정값 - 최소값) / (최대값 - 최소값)\n",
    "- 모든 데이터의 단위가 모두 0~1사이로 옮겨지게 해주는 것이다.\n",
    "- 이러면 데이터의 컬럼들이 평등하게 0~1사이로 놓여지기 때문에 기계가 학습하기에 어느 컬럼에 중점을 두고 학습하기보단 평등하게 컬럼들을 보고 학습시킨다."
   ]
  },
  {
   "cell_type": "code",
   "execution_count": 22,
   "metadata": {
    "id": "SPIlHRbTHKvl",
    "outputId": "c47683af-e978-4904-f8e8-516a77dc5ec2"
   },
   "outputs": [
    {
     "name": "stdout",
     "output_type": "stream",
     "text": [
      "변환 전: \n",
      " 0     7.2500\n",
      "1    71.2833\n",
      "2     7.9250\n",
      "3    53.1000\n",
      "4     8.0500\n",
      "Name: Fare, dtype: float64\n",
      "\n",
      "변환 후: \n",
      " 0    0.014151\n",
      "1    0.139136\n",
      "2    0.015469\n",
      "3    0.103644\n",
      "4    0.015713\n",
      "Name: Fare, dtype: float64\n"
     ]
    }
   ],
   "source": [
    "# 1) 정규화를 수행하는 함수를 구현합니다.\n",
    "def normal(data):\n",
    "    data =(data- data.min()) / (data.max()- data.min())\n",
    "    return data\n",
    "\n",
    "print('변환 전: \\n',df['Fare'].head())\n",
    "\n",
    "# normal 함수를 사용하여 정규화합니다.\n",
    "Fare = normal(df['Fare'])\n",
    "\n",
    "# 변환한 Fare 데이터를 출력합니다.\n",
    "print('\\n변환 후: \\n',Fare.head())"
   ]
  },
  {
   "cell_type": "markdown",
   "metadata": {},
   "source": [
    "#### 표준화(Standardization)\n",
    "\n",
    "- 데이터를 0을 중심으로 양쪽으로 데이터를 분포시키는 방법이다. 표준화를 하게 되면 각 데이터들은 평균을 기준으로 얼마나 떨여져 있는지를 나타내는 값으로 변환된다.\n",
    "- 식 (Z-score 표준화) : (측정값 - 평균) / 표준편차\n",
    "- 변환된 데이터는 다소 평평하게 만드는 특성을 가진다 (진폭의 감소). 진폭의 감소로 각 데이터의 간격이 감소하게 된다 (ex. 10000의 단위에서 0.1 단위로 감소).\n",
    "\n",
    "- 표준화는 먼저 데이터가 정규분포를 따른다는 가정하에 실시된다.(정규분포는 종모양 분포임)\n",
    "\n",
    "- 정규분포를 따른다는 가정하에 데이터를 평균은 0, 표준편차는 1이 되도록 만들어준다. 그렇기에 변한 값이 0~1사이로 바뀌지는 않는다. 하지만 평균은 0이니깐 0의 근처로 많이 잡힐 것이다."
   ]
  },
  {
   "cell_type": "code",
   "execution_count": 23,
   "metadata": {},
   "outputs": [
    {
     "name": "stdout",
     "output_type": "stream",
     "text": [
      "변환 전: \n",
      " 0     7.2500\n",
      "1    71.2833\n",
      "2     7.9250\n",
      "3    53.1000\n",
      "4     8.0500\n",
      "Name: Fare, dtype: float64\n",
      "\n",
      "변환 후: \n",
      " 0   -0.502163\n",
      "1    0.786404\n",
      "2   -0.488580\n",
      "3    0.420494\n",
      "4   -0.486064\n",
      "Name: Fare, dtype: float64\n"
     ]
    }
   ],
   "source": [
    "# 1) 표준화를 수행하는 함수를 구현합니다.\n",
    "def standardize(data):\n",
    "    data = (data - data.mean()) / data.std()\n",
    "    return data\n",
    "\n",
    "print('변환 전: \\n', df['Fare'].head())\n",
    "\n",
    "# standardize 함수를 사용하여 표준화합니다.\n",
    "Fare_standardized = standardize(df['Fare'])\n",
    "\n",
    "# 변환한 Fare_standardized 데이터를 출력합니다.\n",
    "print('\\n변환 후: \\n', Fare_standardized.head())\n"
   ]
  },
  {
   "cell_type": "markdown",
   "metadata": {
    "id": "Zq9j6XLhHKvl"
   },
   "source": [
    "## 3. 데이터 정제 및 분리하기 - 결측값&이상치 처리하기"
   ]
  },
  {
   "cell_type": "markdown",
   "metadata": {
    "id": "6JaHooLLHKvl"
   },
   "source": [
    "### 1) 결측치 처리하기"
   ]
  },
  {
   "cell_type": "code",
   "execution_count": 25,
   "metadata": {
    "id": "avHrKWi3HKvm",
    "outputId": "60d77d36-3204-40a5-9b03-2edcfc61d9cd"
   },
   "outputs": [
    {
     "data": {
      "text/plain": [
       "PassengerId      0\n",
       "Survived         0\n",
       "Pclass           0\n",
       "Name             0\n",
       "Sex              0\n",
       "Age            177\n",
       "SibSp            0\n",
       "Parch            0\n",
       "Ticket           0\n",
       "Fare             0\n",
       "Cabin          687\n",
       "Embarked         2\n",
       "dtype: int64"
      ]
     },
     "execution_count": 25,
     "metadata": {},
     "output_type": "execute_result"
    }
   ],
   "source": [
    "# 결측치 파악하여 갯수 구해보기 - isnull(), sum()사용\n",
    "df.isnull().sum()          # ... 코드 입력"
   ]
  },
  {
   "cell_type": "code",
   "execution_count": 26,
   "metadata": {
    "id": "BHEmPeYMHKvm",
    "outputId": "8581c8ec-5b5c-4e84-922a-f624aff7684e"
   },
   "outputs": [
    {
     "name": "stdout",
     "output_type": "stream",
     "text": [
      "<class 'pandas.core.frame.DataFrame'>\n",
      "RangeIndex: 891 entries, 0 to 890\n",
      "Data columns (total 12 columns):\n",
      " #   Column       Non-Null Count  Dtype  \n",
      "---  ------       --------------  -----  \n",
      " 0   PassengerId  891 non-null    int64  \n",
      " 1   Survived     891 non-null    int64  \n",
      " 2   Pclass       891 non-null    int64  \n",
      " 3   Name         891 non-null    object \n",
      " 4   Sex          891 non-null    int64  \n",
      " 5   Age          714 non-null    float64\n",
      " 6   SibSp        891 non-null    int64  \n",
      " 7   Parch        891 non-null    int64  \n",
      " 8   Ticket       891 non-null    object \n",
      " 9   Fare         891 non-null    float64\n",
      " 10  Cabin        204 non-null    object \n",
      " 11  Embarked     889 non-null    object \n",
      "dtypes: float64(2), int64(6), object(4)\n",
      "memory usage: 83.7+ KB\n"
     ]
    }
   ],
   "source": [
    "# 데이터 변경을 고려하여 df 를 df_1에 복사하기\n",
    "# 원본인 df를 두고 변경하기 위해 deep copy 진행\n",
    "df_1 = df.copy()\n",
    "df_1.info()"
   ]
  },
  {
   "cell_type": "code",
   "execution_count": 27,
   "metadata": {
    "id": "EsAqwEfTHKvm",
    "outputId": "f94325fa-8982-4dfa-a209-4d31621e8557"
   },
   "outputs": [
    {
     "name": "stdout",
     "output_type": "stream",
     "text": [
      "<class 'pandas.core.frame.DataFrame'>\n",
      "RangeIndex: 891 entries, 0 to 890\n",
      "Data columns (total 11 columns):\n",
      " #   Column       Non-Null Count  Dtype  \n",
      "---  ------       --------------  -----  \n",
      " 0   PassengerId  891 non-null    int64  \n",
      " 1   Survived     891 non-null    int64  \n",
      " 2   Pclass       891 non-null    int64  \n",
      " 3   Name         891 non-null    object \n",
      " 4   Sex          891 non-null    int64  \n",
      " 5   Age          714 non-null    float64\n",
      " 6   SibSp        891 non-null    int64  \n",
      " 7   Parch        891 non-null    int64  \n",
      " 8   Ticket       891 non-null    object \n",
      " 9   Fare         891 non-null    float64\n",
      " 10  Embarked     889 non-null    object \n",
      "dtypes: float64(2), int64(6), object(3)\n",
      "memory usage: 76.7+ KB\n"
     ]
    }
   ],
   "source": [
    "# 결측치가 너무 많아서, Cabin 변수를 제거합니다.- drop() 사용\n",
    "df_1 = df_1.drop(columns=[\"Cabin\"])          # ... 코드 입력\n",
    "df_1.info()"
   ]
  },
  {
   "cell_type": "code",
   "execution_count": 28,
   "metadata": {
    "id": "1Bx9WoLUHKvn",
    "outputId": "d1385ed7-45a2-4a17-ba8b-0bce0f96bbb6"
   },
   "outputs": [
    {
     "data": {
      "text/plain": [
       "PassengerId      0\n",
       "Survived         0\n",
       "Pclass           0\n",
       "Name             0\n",
       "Sex              0\n",
       "Age            177\n",
       "SibSp            0\n",
       "Parch            0\n",
       "Ticket           0\n",
       "Fare             0\n",
       "Embarked         2\n",
       "dtype: int64"
      ]
     },
     "execution_count": 28,
     "metadata": {},
     "output_type": "execute_result"
    }
   ],
   "source": [
    "# 결측치 다시 한 번 확인하기\n",
    "df_1.isnull().sum()"
   ]
  },
  {
   "cell_type": "code",
   "execution_count": 31,
   "metadata": {
    "id": "MVXYKDcLHKvn",
    "outputId": "73c321f9-d47f-4097-a594-088c3f14a9c7"
   },
   "outputs": [
    {
     "data": {
      "text/plain": [
       "PassengerId    0\n",
       "Survived       0\n",
       "Pclass         0\n",
       "Name           0\n",
       "Sex            0\n",
       "Age            0\n",
       "SibSp          0\n",
       "Parch          0\n",
       "Ticket         0\n",
       "Fare           0\n",
       "Embarked       0\n",
       "dtype: int64"
      ]
     },
     "execution_count": 31,
     "metadata": {},
     "output_type": "execute_result"
    }
   ],
   "source": [
    "# 결측값이 존재하는 샘플 제거하고 null이 있는지 확인하고 그 합계 구하기 -isnull(),sum()\n",
    "df_1.dropna(inplace=True)          # ... 코드 입력\n",
    "df_1.isnull().sum()"
   ]
  },
  {
   "cell_type": "code",
   "execution_count": 32,
   "metadata": {
    "id": "Mr5R_W7NHKvn",
    "outputId": "0af91414-91f4-441e-8d3e-3fed67cac9c0"
   },
   "outputs": [
    {
     "name": "stdout",
     "output_type": "stream",
     "text": [
      "<class 'pandas.core.frame.DataFrame'>\n",
      "Int64Index: 712 entries, 0 to 890\n",
      "Data columns (total 11 columns):\n",
      " #   Column       Non-Null Count  Dtype  \n",
      "---  ------       --------------  -----  \n",
      " 0   PassengerId  712 non-null    int64  \n",
      " 1   Survived     712 non-null    int64  \n",
      " 2   Pclass       712 non-null    int64  \n",
      " 3   Name         712 non-null    object \n",
      " 4   Sex          712 non-null    int64  \n",
      " 5   Age          712 non-null    float64\n",
      " 6   SibSp        712 non-null    int64  \n",
      " 7   Parch        712 non-null    int64  \n",
      " 8   Ticket       712 non-null    object \n",
      " 9   Fare         712 non-null    float64\n",
      " 10  Embarked     712 non-null    object \n",
      "dtypes: float64(2), int64(6), object(3)\n",
      "memory usage: 66.8+ KB\n"
     ]
    }
   ],
   "source": [
    "df_1.info()"
   ]
  },
  {
   "cell_type": "markdown",
   "metadata": {
    "id": "zprZSdltHKvn"
   },
   "source": [
    "### 2)이상치 확인하기"
   ]
  },
  {
   "cell_type": "code",
   "execution_count": 33,
   "metadata": {
    "id": "WkKiCE59HKvn",
    "outputId": "f560199b-3608-493f-8f23-0775f72e4f15"
   },
   "outputs": [
    {
     "data": {
      "text/plain": [
       "0      22.0\n",
       "1      38.0\n",
       "2      26.0\n",
       "3      35.0\n",
       "4      35.0\n",
       "       ... \n",
       "885    39.0\n",
       "886    27.0\n",
       "887    19.0\n",
       "889    26.0\n",
       "890    32.0\n",
       "Name: Age, Length: 712, dtype: float64"
      ]
     },
     "execution_count": 33,
     "metadata": {},
     "output_type": "execute_result"
    }
   ],
   "source": [
    "# 'Age' 이상치 확인\n",
    "df_1['Age']"
   ]
  },
  {
   "cell_type": "code",
   "execution_count": 34,
   "metadata": {
    "id": "P4HdoID5HKvo",
    "outputId": "2f72c902-158b-4ebd-c7c5-a10bfe6979e8"
   },
   "outputs": [
    {
     "name": "stdout",
     "output_type": "stream",
     "text": [
      "소수점을 갖는 Age 변수 이상치\n",
      "57     28.50\n",
      "78      0.83\n",
      "111    14.50\n",
      "116    70.50\n",
      "122    32.50\n",
      "123    32.50\n",
      "148    36.50\n",
      "152    55.50\n",
      "153    40.50\n",
      "203    45.50\n",
      "227    20.50\n",
      "296    23.50\n",
      "305     0.92\n",
      "331    45.50\n",
      "469     0.75\n",
      "525    40.50\n",
      "644     0.75\n",
      "676    24.50\n",
      "735    28.50\n",
      "755     0.67\n",
      "767    30.50\n",
      "803     0.42\n",
      "814    30.50\n",
      "831     0.83\n",
      "843    34.50\n",
      "Name: Age, dtype: float64\n",
      "이상치 처리 전 샘플 개수: 712\n",
      "이상치 개수: 25\n",
      "이상치 처리 후 샘플 개수: 687\n"
     ]
    },
    {
     "data": {
      "text/plain": [
       "0    22.0\n",
       "1    38.0\n",
       "2    26.0\n",
       "3    35.0\n",
       "4    35.0\n",
       "Name: Age, dtype: float64"
      ]
     },
     "execution_count": 34,
     "metadata": {},
     "output_type": "execute_result"
    }
   ],
   "source": [
    "# (Age 값 - 내림 Age 값) 0 보다 크다면 소수점을 갖는 데이터로 분류합니다.\n",
    "outlier = df_1[df_1['Age']-np.floor(df_1['Age']) > 0 ]['Age']\n",
    "\n",
    "print('소수점을 갖는 Age 변수 이상치')\n",
    "print(outlier)\n",
    "print('이상치 처리 전 샘플 개수: %d' %(len(df_1)))\n",
    "print('이상치 개수: %d' %(len(outlier)))\n",
    "\n",
    "# 이상치를 처리합니다.\n",
    "df_2 = df_1[df_1['Age']-np.floor(df_1['Age']) == 0 ]\n",
    "print('이상치 처리 후 샘플 개수: %d' %(len(df_2)))\n",
    "df_2 = np.floor(df_2['Age'])\n",
    "df_2.head()"
   ]
  },
  {
   "cell_type": "markdown",
   "metadata": {},
   "source": [
    "## 총 모음"
   ]
  },
  {
   "cell_type": "code",
   "execution_count": 36,
   "metadata": {
    "id": "iDqoqbFNHKvo",
    "outputId": "2ad017e4-6e03-43a7-8ac2-edc0a84d7804"
   },
   "outputs": [
    {
     "data": {
      "text/html": [
       "<div>\n",
       "<style scoped>\n",
       "    .dataframe tbody tr th:only-of-type {\n",
       "        vertical-align: middle;\n",
       "    }\n",
       "\n",
       "    .dataframe tbody tr th {\n",
       "        vertical-align: top;\n",
       "    }\n",
       "\n",
       "    .dataframe thead th {\n",
       "        text-align: right;\n",
       "    }\n",
       "</style>\n",
       "<table border=\"1\" class=\"dataframe\">\n",
       "  <thead>\n",
       "    <tr style=\"text-align: right;\">\n",
       "      <th></th>\n",
       "      <th>Survived</th>\n",
       "      <th>Pclass</th>\n",
       "      <th>Sex</th>\n",
       "      <th>Age</th>\n",
       "      <th>SibSp</th>\n",
       "      <th>Parch</th>\n",
       "      <th>Fare</th>\n",
       "      <th>Embarked_C</th>\n",
       "      <th>Embarked_Q</th>\n",
       "      <th>Embarked_S</th>\n",
       "    </tr>\n",
       "  </thead>\n",
       "  <tbody>\n",
       "    <tr>\n",
       "      <th>0</th>\n",
       "      <td>0</td>\n",
       "      <td>3</td>\n",
       "      <td>0</td>\n",
       "      <td>0.265823</td>\n",
       "      <td>1</td>\n",
       "      <td>0</td>\n",
       "      <td>0.014151</td>\n",
       "      <td>0</td>\n",
       "      <td>0</td>\n",
       "      <td>1</td>\n",
       "    </tr>\n",
       "    <tr>\n",
       "      <th>1</th>\n",
       "      <td>1</td>\n",
       "      <td>1</td>\n",
       "      <td>1</td>\n",
       "      <td>0.468354</td>\n",
       "      <td>1</td>\n",
       "      <td>0</td>\n",
       "      <td>0.139136</td>\n",
       "      <td>1</td>\n",
       "      <td>0</td>\n",
       "      <td>0</td>\n",
       "    </tr>\n",
       "    <tr>\n",
       "      <th>2</th>\n",
       "      <td>1</td>\n",
       "      <td>3</td>\n",
       "      <td>1</td>\n",
       "      <td>0.316456</td>\n",
       "      <td>0</td>\n",
       "      <td>0</td>\n",
       "      <td>0.015469</td>\n",
       "      <td>0</td>\n",
       "      <td>0</td>\n",
       "      <td>1</td>\n",
       "    </tr>\n",
       "    <tr>\n",
       "      <th>3</th>\n",
       "      <td>1</td>\n",
       "      <td>1</td>\n",
       "      <td>1</td>\n",
       "      <td>0.430380</td>\n",
       "      <td>1</td>\n",
       "      <td>0</td>\n",
       "      <td>0.103644</td>\n",
       "      <td>0</td>\n",
       "      <td>0</td>\n",
       "      <td>1</td>\n",
       "    </tr>\n",
       "    <tr>\n",
       "      <th>4</th>\n",
       "      <td>0</td>\n",
       "      <td>3</td>\n",
       "      <td>0</td>\n",
       "      <td>0.430380</td>\n",
       "      <td>0</td>\n",
       "      <td>0</td>\n",
       "      <td>0.015713</td>\n",
       "      <td>0</td>\n",
       "      <td>0</td>\n",
       "      <td>1</td>\n",
       "    </tr>\n",
       "    <tr>\n",
       "      <th>...</th>\n",
       "      <td>...</td>\n",
       "      <td>...</td>\n",
       "      <td>...</td>\n",
       "      <td>...</td>\n",
       "      <td>...</td>\n",
       "      <td>...</td>\n",
       "      <td>...</td>\n",
       "      <td>...</td>\n",
       "      <td>...</td>\n",
       "      <td>...</td>\n",
       "    </tr>\n",
       "    <tr>\n",
       "      <th>885</th>\n",
       "      <td>0</td>\n",
       "      <td>3</td>\n",
       "      <td>1</td>\n",
       "      <td>0.481013</td>\n",
       "      <td>0</td>\n",
       "      <td>5</td>\n",
       "      <td>0.056848</td>\n",
       "      <td>0</td>\n",
       "      <td>1</td>\n",
       "      <td>0</td>\n",
       "    </tr>\n",
       "    <tr>\n",
       "      <th>886</th>\n",
       "      <td>0</td>\n",
       "      <td>2</td>\n",
       "      <td>0</td>\n",
       "      <td>0.329114</td>\n",
       "      <td>0</td>\n",
       "      <td>0</td>\n",
       "      <td>0.025374</td>\n",
       "      <td>0</td>\n",
       "      <td>0</td>\n",
       "      <td>1</td>\n",
       "    </tr>\n",
       "    <tr>\n",
       "      <th>887</th>\n",
       "      <td>1</td>\n",
       "      <td>1</td>\n",
       "      <td>1</td>\n",
       "      <td>0.227848</td>\n",
       "      <td>0</td>\n",
       "      <td>0</td>\n",
       "      <td>0.058556</td>\n",
       "      <td>0</td>\n",
       "      <td>0</td>\n",
       "      <td>1</td>\n",
       "    </tr>\n",
       "    <tr>\n",
       "      <th>889</th>\n",
       "      <td>1</td>\n",
       "      <td>1</td>\n",
       "      <td>0</td>\n",
       "      <td>0.316456</td>\n",
       "      <td>0</td>\n",
       "      <td>0</td>\n",
       "      <td>0.058556</td>\n",
       "      <td>1</td>\n",
       "      <td>0</td>\n",
       "      <td>0</td>\n",
       "    </tr>\n",
       "    <tr>\n",
       "      <th>890</th>\n",
       "      <td>0</td>\n",
       "      <td>3</td>\n",
       "      <td>0</td>\n",
       "      <td>0.392405</td>\n",
       "      <td>0</td>\n",
       "      <td>0</td>\n",
       "      <td>0.015127</td>\n",
       "      <td>0</td>\n",
       "      <td>1</td>\n",
       "      <td>0</td>\n",
       "    </tr>\n",
       "  </tbody>\n",
       "</table>\n",
       "<p>687 rows × 10 columns</p>\n",
       "</div>"
      ],
      "text/plain": [
       "     Survived  Pclass  Sex       Age  SibSp  Parch      Fare  Embarked_C  \\\n",
       "0           0       3    0  0.265823      1      0  0.014151           0   \n",
       "1           1       1    1  0.468354      1      0  0.139136           1   \n",
       "2           1       3    1  0.316456      0      0  0.015469           0   \n",
       "3           1       1    1  0.430380      1      0  0.103644           0   \n",
       "4           0       3    0  0.430380      0      0  0.015713           0   \n",
       "..        ...     ...  ...       ...    ...    ...       ...         ...   \n",
       "885         0       3    1  0.481013      0      5  0.056848           0   \n",
       "886         0       2    0  0.329114      0      0  0.025374           0   \n",
       "887         1       1    1  0.227848      0      0  0.058556           0   \n",
       "889         1       1    0  0.316456      0      0  0.058556           1   \n",
       "890         0       3    0  0.392405      0      0  0.015127           0   \n",
       "\n",
       "     Embarked_Q  Embarked_S  \n",
       "0             0           1  \n",
       "1             0           0  \n",
       "2             0           1  \n",
       "3             0           1  \n",
       "4             0           1  \n",
       "..          ...         ...  \n",
       "885           1           0  \n",
       "886           0           1  \n",
       "887           0           1  \n",
       "889           0           0  \n",
       "890           1           0  \n",
       "\n",
       "[687 rows x 10 columns]"
      ]
     },
     "execution_count": 36,
     "metadata": {},
     "output_type": "execute_result"
    }
   ],
   "source": [
    "from sklearn.model_selection import train_test_split\n",
    "import pandas as pd\n",
    "import numpy as np\n",
    "\n",
    "# 1.'titanic.csv' 데이터를 읽어옵니다.\n",
    "df = pd.read_csv('./data/titanic.csv')\n",
    "df.head()\n",
    "\n",
    "# 1.데이터 전처리하기\n",
    "# 1-1. 불필요하고 결측치가 많은 clolumns을 제거합니다.\n",
    "df_1 = df.drop(columns=['Cabin','PassengerId','Name','Ticket'])\n",
    "\n",
    "# 1-2.결측값이 존재하는 샘플 제거합니다.\n",
    "df_2 = df_1.dropna()\n",
    "\n",
    "# 1-3.이상치를 처리합니다.\n",
    "df_3 = df_2[df_2['Age']-np.floor(df_2['Age']) == 0 ]\n",
    "\n",
    "# 1-4.텍스트 데이터 숫자로 변환합니다.\n",
    "# 1-4-1.replace()를 사용하여 male -> 0, female -> 1로 변환합니다.\n",
    "df_4 = df_3.replace({'male':0, 'female':1})\n",
    "\n",
    "# 1-4-2.get_dummies() 사용하여 원핫인코딩 처리하기\n",
    "df_5 = pd.get_dummies(data = df_4, columns = ['Embarked'], prefix = 'Embarked')\n",
    "\n",
    "# 1-5.데이터를 정규화합니다.\n",
    "df_5['Fare'] =  normal(df_5['Fare'])\n",
    "df_5['Age'] =  normal(df_5['Age'])\n",
    "\n",
    "df_5"
   ]
  },
  {
   "cell_type": "code",
   "execution_count": 37,
   "metadata": {
    "id": "7b6qN_KhHKvo"
   },
   "outputs": [],
   "source": [
    "# index=False 주어야 기존 인덱스 값이 저장되지 않음\n",
    "df_5.to_csv('./titanic_save.csv', index=False)"
   ]
  }
 ],
 "metadata": {
  "colab": {
   "provenance": []
  },
  "kernelspec": {
   "display_name": "Python 3 (ipykernel)",
   "language": "python",
   "name": "python3"
  },
  "language_info": {
   "codemirror_mode": {
    "name": "ipython",
    "version": 3
   },
   "file_extension": ".py",
   "mimetype": "text/x-python",
   "name": "python",
   "nbconvert_exporter": "python",
   "pygments_lexer": "ipython3",
   "version": "3.10.9"
  }
 },
 "nbformat": 4,
 "nbformat_minor": 1
}
