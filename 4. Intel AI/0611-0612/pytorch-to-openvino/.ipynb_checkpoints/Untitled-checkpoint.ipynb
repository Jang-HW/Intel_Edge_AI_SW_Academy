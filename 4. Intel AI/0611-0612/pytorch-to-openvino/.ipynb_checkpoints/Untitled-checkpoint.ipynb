{
 "cells": [
  {
   "cell_type": "code",
   "execution_count": 3,
   "id": "6903a224-df41-4510-bec9-faa901473324",
   "metadata": {},
   "outputs": [],
   "source": [
    "import torch\n",
    "import torch.nn as nn\n",
    "import openvino as ov\n",
    "\n",
    "device = 'cuda' if torch.cuda.is_available() else 'cpu'\n",
    "\n",
    "# torch.load(path_file_name)\n",
    "\n",
    "# model 전체가 저장된 .pt 파일 로드\n",
    "model = torch.load('model.pt')"
   ]
  },
  {
   "cell_type": "code",
   "execution_count": 5,
   "id": "3752563d-d3cb-4e1e-b32a-174a6004af3e",
   "metadata": {},
   "outputs": [
    {
     "ename": "Error",
     "evalue": "Unknown model type: <class 'collections.OrderedDict'>",
     "output_type": "error",
     "traceback": [
      "\u001b[0;31m---------------------------------------------------------------------------\u001b[0m",
      "\u001b[0;31mError\u001b[0m                                     Traceback (most recent call last)",
      "Cell \u001b[0;32mIn[5], line 2\u001b[0m\n\u001b[1;32m      1\u001b[0m \u001b[38;5;66;03m# Convert model to openvino.runtime.Model object\u001b[39;00m\n\u001b[0;32m----> 2\u001b[0m ov_model \u001b[38;5;241m=\u001b[39m \u001b[43mov\u001b[49m\u001b[38;5;241;43m.\u001b[39;49m\u001b[43mconvert_model\u001b[49m\u001b[43m(\u001b[49m\u001b[43mmodel\u001b[49m\u001b[43m)\u001b[49m\n\u001b[1;32m      4\u001b[0m \u001b[38;5;66;03m# Load OpenVINO model on device\u001b[39;00m\n\u001b[1;32m      5\u001b[0m compiled_model \u001b[38;5;241m=\u001b[39m core\u001b[38;5;241m.\u001b[39mcompile_model(ov_model, device\u001b[38;5;241m.\u001b[39mvalue)\n",
      "File \u001b[0;32m~/.local/lib/python3.10/site-packages/openvino/tools/ovc/convert.py:100\u001b[0m, in \u001b[0;36mconvert_model\u001b[0;34m(input_model, input, output, example_input, extension, verbose, share_weights)\u001b[0m\n\u001b[1;32m     98\u001b[0m logger_state \u001b[38;5;241m=\u001b[39m get_logger_state()\n\u001b[1;32m     99\u001b[0m cli_parser \u001b[38;5;241m=\u001b[39m get_all_cli_parser()\n\u001b[0;32m--> 100\u001b[0m ov_model, _ \u001b[38;5;241m=\u001b[39m \u001b[43m_convert\u001b[49m\u001b[43m(\u001b[49m\u001b[43mcli_parser\u001b[49m\u001b[43m,\u001b[49m\u001b[43m \u001b[49m\u001b[43mparams\u001b[49m\u001b[43m,\u001b[49m\u001b[43m \u001b[49m\u001b[38;5;28;43;01mTrue\u001b[39;49;00m\u001b[43m)\u001b[49m\n\u001b[1;32m    101\u001b[0m restore_logger_state(logger_state)\n\u001b[1;32m    102\u001b[0m \u001b[38;5;28;01mreturn\u001b[39;00m ov_model\n",
      "File \u001b[0;32m~/.local/lib/python3.10/site-packages/openvino/tools/ovc/convert_impl.py:547\u001b[0m, in \u001b[0;36m_convert\u001b[0;34m(cli_parser, args, python_api_used)\u001b[0m\n\u001b[1;32m    545\u001b[0m send_conversion_result(\u001b[38;5;124m'\u001b[39m\u001b[38;5;124mfail\u001b[39m\u001b[38;5;124m'\u001b[39m)\n\u001b[1;32m    546\u001b[0m \u001b[38;5;28;01mif\u001b[39;00m python_api_used:\n\u001b[0;32m--> 547\u001b[0m     \u001b[38;5;28;01mraise\u001b[39;00m e\n\u001b[1;32m    548\u001b[0m \u001b[38;5;28;01melse\u001b[39;00m:\n\u001b[1;32m    549\u001b[0m     \u001b[38;5;28;01mreturn\u001b[39;00m \u001b[38;5;28;01mNone\u001b[39;00m, argv\n",
      "File \u001b[0;32m~/.local/lib/python3.10/site-packages/openvino/tools/ovc/convert_impl.py:449\u001b[0m, in \u001b[0;36m_convert\u001b[0;34m(cli_parser, args, python_api_used)\u001b[0m\n\u001b[1;32m    446\u001b[0m inp_model_is_object \u001b[38;5;241m=\u001b[39m input_model_is_object(args[\u001b[38;5;124m'\u001b[39m\u001b[38;5;124minput_model\u001b[39m\u001b[38;5;124m'\u001b[39m]) \u001b[38;5;28;01mif\u001b[39;00m python_api_used \u001b[38;5;28;01melse\u001b[39;00m \u001b[38;5;28;01mFalse\u001b[39;00m\n\u001b[1;32m    448\u001b[0m \u001b[38;5;28;01mif\u001b[39;00m inp_model_is_object:\n\u001b[0;32m--> 449\u001b[0m     model_framework \u001b[38;5;241m=\u001b[39m \u001b[43mcheck_model_object\u001b[49m\u001b[43m(\u001b[49m\u001b[43margs\u001b[49m\u001b[43m)\u001b[49m\n\u001b[1;32m    450\u001b[0m     \u001b[38;5;28;01mif\u001b[39;00m model_framework \u001b[38;5;241m==\u001b[39m \u001b[38;5;124m\"\u001b[39m\u001b[38;5;124mpytorch\u001b[39m\u001b[38;5;124m\"\u001b[39m:\n\u001b[1;32m    451\u001b[0m         example_inputs \u001b[38;5;241m=\u001b[39m \u001b[38;5;28;01mNone\u001b[39;00m\n",
      "File \u001b[0;32m~/.local/lib/python3.10/site-packages/openvino/tools/ovc/convert_impl.py:231\u001b[0m, in \u001b[0;36mcheck_model_object\u001b[0;34m(argv)\u001b[0m\n\u001b[1;32m    226\u001b[0m     \u001b[38;5;28;01mif\u001b[39;00m \u001b[38;5;28misinstance\u001b[39m(model, paddle\u001b[38;5;241m.\u001b[39mhapi\u001b[38;5;241m.\u001b[39mmodel\u001b[38;5;241m.\u001b[39mModel) \u001b[38;5;129;01mor\u001b[39;00m \u001b[38;5;28misinstance\u001b[39m(model,\n\u001b[1;32m    227\u001b[0m                                                                 paddle\u001b[38;5;241m.\u001b[39mfluid\u001b[38;5;241m.\u001b[39mdygraph\u001b[38;5;241m.\u001b[39mlayers\u001b[38;5;241m.\u001b[39mLayer) \u001b[38;5;129;01mor\u001b[39;00m \u001b[38;5;28misinstance\u001b[39m(\n\u001b[1;32m    228\u001b[0m         model, paddle\u001b[38;5;241m.\u001b[39mfluid\u001b[38;5;241m.\u001b[39mexecutor\u001b[38;5;241m.\u001b[39mExecutor):\n\u001b[1;32m    229\u001b[0m         \u001b[38;5;28;01mreturn\u001b[39;00m \u001b[38;5;124m\"\u001b[39m\u001b[38;5;124mpaddle\u001b[39m\u001b[38;5;124m\"\u001b[39m\n\u001b[0;32m--> 231\u001b[0m \u001b[38;5;28;01mraise\u001b[39;00m Error(\u001b[38;5;124m'\u001b[39m\u001b[38;5;124mUnknown model type: \u001b[39m\u001b[38;5;132;01m{}\u001b[39;00m\u001b[38;5;124m'\u001b[39m\u001b[38;5;241m.\u001b[39mformat(\u001b[38;5;28mtype\u001b[39m(model)))\n",
      "\u001b[0;31mError\u001b[0m: Unknown model type: <class 'collections.OrderedDict'>"
     ]
    }
   ],
   "source": [
    "# Convert model to openvino.runtime.Model object\n",
    "ov_model = ov.convert_model(model)\n",
    "\n",
    "# Load OpenVINO model on device\n",
    "compiled_model = core.compile_model(ov_model, device.value)\n",
    "\n",
    "# Run OpenVINO model inference\n",
    "result = compiled_model(input_tensor)[0]\n",
    "\n",
    "# Postprocess results\n",
    "top_labels, top_scores = postprocess_result(result)\n",
    "\n",
    "# Show results\n",
    "display(image)\n",
    "for idx, (label, score) in enumerate(zip(top_labels, top_scores)):\n",
    "    _, predicted_label = imagenet_classes[label].split(\" \", 1)\n",
    "    print(f\"{idx + 1}: {predicted_label} - {score * 100 :.2f}%\")"
   ]
  },
  {
   "cell_type": "code",
   "execution_count": null,
   "id": "4c0f91d9-fa6e-4dd5-a022-b003c9d44d1f",
   "metadata": {},
   "outputs": [],
   "source": [
    "%%timeit\n",
    "\n",
    "compiled_model(input_tensor)[0]"
   ]
  }
 ],
 "metadata": {
  "kernelspec": {
   "display_name": "Python 3 (ipykernel)",
   "language": "python",
   "name": "python3"
  },
  "language_info": {
   "codemirror_mode": {
    "name": "ipython",
    "version": 3
   },
   "file_extension": ".py",
   "mimetype": "text/x-python",
   "name": "python",
   "nbconvert_exporter": "python",
   "pygments_lexer": "ipython3",
   "version": "3.10.12"
  }
 },
 "nbformat": 4,
 "nbformat_minor": 5
}
