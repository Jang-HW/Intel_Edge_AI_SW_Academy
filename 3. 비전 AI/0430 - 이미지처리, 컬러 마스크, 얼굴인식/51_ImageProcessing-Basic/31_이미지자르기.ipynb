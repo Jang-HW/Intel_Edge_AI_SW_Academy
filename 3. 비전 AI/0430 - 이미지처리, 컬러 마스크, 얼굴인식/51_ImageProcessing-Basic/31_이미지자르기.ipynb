{
 "cells": [
  {
   "cell_type": "markdown",
   "metadata": {},
   "source": [
    "# 이미지 자르기"
   ]
  },
  {
   "cell_type": "markdown",
   "metadata": {},
   "source": [
    "## 영역을 잘라서 새로운 윈도우(창)에서 표시"
   ]
  },
  {
   "cell_type": "code",
   "execution_count": 1,
   "metadata": {},
   "outputs": [],
   "source": [
    "import cv2\n",
    "img_file = '../cv_images/img.jpg'\n",
    "img = cv2.imread(img_file)\n",
    "\n",
    "# img.shape : (390, 640, 3)  => 이 이미지보다 작게 자름\n",
    "crop = img[100:200, 200:400].copy() # 세로기준 100:200, 가로기준 300:400\n",
    "\n",
    "cv2.imshow('img', img)\n",
    "cv2.imshow('crop', crop)\n",
    "cv2.waitKey(0)\n",
    "cv2.destroyAllWindows()"
   ]
  },
  {
   "cell_type": "markdown",
   "metadata": {},
   "source": [
    "## 영역을 잘라서 기본 윈도우에 표시"
   ]
  },
  {
   "cell_type": "code",
   "execution_count": 2,
   "metadata": {},
   "outputs": [],
   "source": [
    "import cv2\n",
    "img_file = '../cv_images/img.jpg'\n",
    "img = cv2.imread(img_file)\n",
    "\n",
    "dst = img.copy() \n",
    "crop = img[100:200, 200:400] # 세로기준 100:200, 가로기준 300:400\n",
    "dst[100:200, 400:600] = crop\n",
    "\n",
    "cv2.imshow('img', img)\n",
    "cv2.imshow('dst', dst)\n",
    "cv2.waitKey(0)\n",
    "cv2.destroyAllWindows()"
   ]
  },
  {
   "cell_type": "code",
   "execution_count": null,
   "metadata": {},
   "outputs": [],
   "source": []
  }
 ],
 "metadata": {
  "kernelspec": {
   "display_name": "Python 3 (ipykernel)",
   "language": "python",
   "name": "python3"
  },
  "language_info": {
   "codemirror_mode": {
    "name": "ipython",
    "version": 3
   },
   "file_extension": ".py",
   "mimetype": "text/x-python",
   "name": "python",
   "nbconvert_exporter": "python",
   "pygments_lexer": "ipython3",
   "version": "3.10.9"
  }
 },
 "nbformat": 4,
 "nbformat_minor": 2
}
