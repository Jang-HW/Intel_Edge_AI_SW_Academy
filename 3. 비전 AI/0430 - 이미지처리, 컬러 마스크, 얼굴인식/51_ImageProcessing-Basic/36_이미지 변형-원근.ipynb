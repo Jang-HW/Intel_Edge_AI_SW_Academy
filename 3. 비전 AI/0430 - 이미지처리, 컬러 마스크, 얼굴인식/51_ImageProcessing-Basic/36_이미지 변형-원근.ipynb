{
 "cells": [
  {
   "cell_type": "markdown",
   "metadata": {},
   "source": [
    "# 이미지 변형-원근\n",
    "\n",
    "스마트폰으로 문서를 찍으면 주변이 삐둘거리거나 사다리꼴형으로 되는데 이런 이미지를 직사각형으로 펼치는 방법\n",
    "\n",
    "https://bkshin.tistory.com/entry/OpenCV-14-%EC%9D%B4%EB%AF%B8%EC%A7%80-%EB%92%A4%ED%8B%80%EA%B8%B0%EC%96%B4%ED%95%80-%EB%B3%80%ED%99%98-%EC%9B%90%EA%B7%BC-%EB%B3%80%ED%99%98"
   ]
  },
  {
   "cell_type": "markdown",
   "metadata": {},
   "source": [
    "##  어핀 변환(Affine Transform) \n",
    "- 이동, 회전, 스케일 변경, 뒤틀기 등 다양한 방식으로 변환할 수 있게 해주는 기법. 이 과정에서 이미지의 병렬성은 유지되지만, 각도와 크기는 변할 수 있음\n",
    "- `martix = cv2.getAffineTransform(pts1, pts2)`\n",
    "    - pts1: 변환 전 영상의 좌표 3개, 3 x 2 배열\n",
    "    - pts2: 변환 후 영상의 좌표 3개, 3 x 2 배열\n",
    "    - matrix: 변환 행렬 반환, 2 x 3 행렬      "
   ]
  },
  {
   "cell_type": "code",
   "execution_count": 2,
   "metadata": {},
   "outputs": [],
   "source": [
    "import cv2\n",
    "import numpy as np\n",
    "from matplotlib import pyplot as plt\n",
    "\n",
    "file_name = '../cv_images/fish.png'\n",
    "img = cv2.imread(file_name)\n",
    "\n",
    "rows, cols = img.shape[:2]\n",
    "\n",
    "# ① 변환 전, 후 각 3개의 좌표 생성\n",
    "pts1 = np.float32([[100, 50], [200, 50], [100, 200]])\n",
    "pts2 = np.float32([[80, 70], [210, 60], [250, 120]])\n",
    "\n",
    "# ② 짝지은 3개의 좌표로 변환 행렬 계산\n",
    "mtrx = cv2.getAffineTransform(pts1, pts2)\n",
    "\n",
    "# ③ 어핀 변환 적용\n",
    "dst = cv2.warpAffine(img, mtrx, (int(cols*1.5), rows))\n",
    "\n",
    "cv2.imshow('origin',img)\n",
    "cv2.imshow('affin', dst)\n",
    "cv2.waitKey(0)\n",
    "cv2.destroyAllWindows()"
   ]
  },
  {
   "cell_type": "markdown",
   "metadata": {},
   "source": [
    "##  원근 변환(Perspective Transform) : 원근 이미지<-> 평면 이미지\n",
    "\n",
    "원근 변환은 이미지를 3차원으로 변환 - 원근법의 원리를 적용해 변환\n",
    "- mtrx = cv2.getPerspectiveTransform(pts1, pts2)\n",
    "    - pts1: 변환 이전 영상의 좌표 4개, 4 x 2 배열\n",
    "    - pts2: 변환 이후 영상의 좌표 4개, 4 x 2 배열\n",
    "    - mtrx: 변환행렬 반환, 3 x 3 행렬\n",
    "    \n",
    "- cv2.warpPerspective() \n",
    "\n",
    "### 1) 사다리꼴 이미지 펼치기\n",
    "<img src='../cv_images/newspaper_1.png'>"
   ]
  },
  {
   "cell_type": "code",
   "execution_count": 2,
   "metadata": {},
   "outputs": [],
   "source": [
    "import cv2\n",
    "import numpy as np\n",
    "\n",
    "file_name = '../cv_images/newspaper.jpg'\n",
    "img = cv2.imread(file_name)\n",
    "\n",
    "width, height = 640, 240 # 가로, 세로 크기\n",
    "\n",
    "#---① 원근 변환 전 후 4개 좌표\n",
    "# 좌상, 우상,우하, 좌하 네개의 점 지정\n",
    "src = np.array([[511,352],[1008, 345],[1122, 584],[455,594]], dtype=np.float32) # input 지점 4개\n",
    "dst = np.array([[0,0],[width, 0],[width, height],[0,height]], dtype=np.float32)\n",
    "\n",
    "#---② 원근 변환 행렬 계산 - src 영역를 dst영역으로 바꾸기 위한 변환 행렬을 얻어옴\n",
    "matrix = cv2.getPerspectiveTransform(src, dst)          # Mattrix 얻어옴\n",
    "\n",
    "# #---③ 원근 변환 적용 - warpPerspective() : 변환행렬값을 적용해 최종 이미지를 얻어옴\n",
    "result = cv2.warpPerspective(img, matrix, (width, height)) # Matrix대로 변환을 함\n",
    "\n",
    "cv2.imshow('img', img)\n",
    "cv2.imshow('result', result)\n",
    "cv2.waitKey(0)\n",
    "cv2.destroyAllWindows()"
   ]
  },
  {
   "cell_type": "markdown",
   "metadata": {},
   "source": [
    "### 2) 회전된 이미지 올바로 세우기\n",
    "<img src='../cv_images/poker_1.png'>"
   ]
  },
  {
   "cell_type": "code",
   "execution_count": 3,
   "metadata": {},
   "outputs": [],
   "source": [
    "import cv2\n",
    "import numpy as np\n",
    "\n",
    "file_name = '../cv_images/poker.jpg'\n",
    "img = cv2.imread(file_name)\n",
    "\n",
    "width, height = 530, 710 # 가로, 세로 크기\n",
    "\n",
    "#---① 원근 변환 전 후 4개 좌표\n",
    "# 좌상, 우상,우하, 좌하 네개의 점 지정\n",
    "src = np.array([[702, 143],[1133, 414],[726, 1007],[276, 700]], dtype=np.float32) # input 지점 4개\n",
    "dst = np.array([[0,0],[width, 0],[width, height],[0,height]], dtype=np.float32)\n",
    "\n",
    "#---② 원근 변환 행렬 계산\n",
    "matrix = cv2.getPerspectiveTransform(src, dst) #Mattrix 얻어옴\n",
    "\n",
    "#---③ 원근 변환 적용\n",
    "result = cv2.warpPerspective(img, matrix, (width, height)) # Matrix대로 변환을 함\n",
    "\n",
    "cv2.imshow('img', img)\n",
    "cv2.imshow('result', result)\n",
    "cv2.waitKey(0)\n",
    "cv2.destroyAllWindows()"
   ]
  }
 ],
 "metadata": {
  "kernelspec": {
   "display_name": "Python 3 (ipykernel)",
   "language": "python",
   "name": "python3"
  },
  "language_info": {
   "codemirror_mode": {
    "name": "ipython",
    "version": 3
   },
   "file_extension": ".py",
   "mimetype": "text/x-python",
   "name": "python",
   "nbconvert_exporter": "python",
   "pygments_lexer": "ipython3",
   "version": "3.10.9"
  }
 },
 "nbformat": 4,
 "nbformat_minor": 2
}
