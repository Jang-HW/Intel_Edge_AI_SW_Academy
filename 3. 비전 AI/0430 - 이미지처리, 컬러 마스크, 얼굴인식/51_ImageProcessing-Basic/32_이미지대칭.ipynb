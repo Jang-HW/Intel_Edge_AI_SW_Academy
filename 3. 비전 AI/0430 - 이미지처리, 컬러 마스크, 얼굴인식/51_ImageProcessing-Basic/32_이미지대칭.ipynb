{
 "cells": [
  {
   "cell_type": "markdown",
   "metadata": {},
   "source": [
    "# 이미지 대칭"
   ]
  },
  {
   "cell_type": "markdown",
   "metadata": {},
   "source": [
    "## 대칭함수 \n",
    "dst = cv2.flip(src, flipCode) : 원본 이미지(src)에 대칭 축(flipCode)을 기준으로 대칭한 출력 이미지(dst)를 반환\n",
    "- flipCode < 0 : XY 축 대칭(상하좌우 대칭)\n",
    "- flipCode = 0 : X 축 대칭(상하 대칭)\n",
    "- flipCode > 0 : Y 축 대칭(좌우 대칭)"
   ]
  },
  {
   "cell_type": "code",
   "execution_count": 2,
   "metadata": {},
   "outputs": [],
   "source": [
    "import cv2\n",
    "\n",
    "img_file = '../cv_images/img.jpg'\n",
    "img = cv2.imread(img_file)\n",
    "\n",
    "flip_horizontal = cv2.flip(img, 1) # flipCode > 0 : 좌우대칭 horizontal\n",
    "flip_vertical = cv2.flip(img, 0) # flipCode = 0 : 상하대칭 horizontal\n",
    "flip_both = cv2.flip(img, -1) # flipCode < 0 : 상하좌우대칭 horizontal\n",
    "\n",
    "cv2.imshow('img', img)\n",
    "cv2.imshow('flip_horizontal', flip_horizontal)\n",
    "cv2.imshow('flip_vertical', flip_vertical)\n",
    "cv2.imshow('flip_both', flip_both)\n",
    "\n",
    "cv2.waitKey(0)\n",
    "cv2.destroyAllWindows()"
   ]
  }
 ],
 "metadata": {
  "kernelspec": {
   "display_name": "Python 3 (ipykernel)",
   "language": "python",
   "name": "python3"
  },
  "language_info": {
   "codemirror_mode": {
    "name": "ipython",
    "version": 3
   },
   "file_extension": ".py",
   "mimetype": "text/x-python",
   "name": "python",
   "nbconvert_exporter": "python",
   "pygments_lexer": "ipython3",
   "version": "3.10.9"
  }
 },
 "nbformat": 4,
 "nbformat_minor": 2
}
