{
 "cells": [
  {
   "cell_type": "markdown",
   "metadata": {
    "id": "5CLPsjDEsTiz"
   },
   "source": [
    "## **군집화모델 알아보기-와인 클러스터링**\n",
    "\n",
    "### <b> <font color=green> [데이터 준비하기]     \n",
    "### [군집화모델 구현하기] </font> </b>     \n",
    "1) 사용 라이브러리 파악하고 가져오기    \n",
    "2) 모델 객체 생성하고 학습하기   \n",
    "3) 모델 예측하기     \n",
    "4) 군집 결과 시각화하기"
   ]
  },
  {
   "cell_type": "markdown",
   "metadata": {
    "id": "IfDa-cnvscXG"
   },
   "source": [
    "## <font color=green> **[ 데이터 준비하기 ]**"
   ]
  },
  {
   "cell_type": "markdown",
   "metadata": {
    "id": "RP-2tFu4_BHl"
   },
   "source": [
    "### **Step 1 : 데이터 확인하기**\n",
    "* 데이터 전처리에 사용되는 판다스 라이브러리를 가져와 pd 로 사용한다."
   ]
  },
  {
   "cell_type": "code",
   "execution_count": 3,
   "metadata": {
    "id": "6snVZnS1_wMo"
   },
   "outputs": [],
   "source": [
    "#코드작성\n",
    "import pandas as pd\n",
    "\n",
    "df = pd.read_csv(\"./data/wine.csv\")"
   ]
  },
  {
   "cell_type": "markdown",
   "metadata": {
    "id": "DKjPglyqKqaF"
   },
   "source": [
    "* data 폴더에 있는 'wine.csv'파일을 읽어 'df'에 저장한 후 내용을 출력한다."
   ]
  },
  {
   "cell_type": "code",
   "execution_count": 4,
   "metadata": {
    "colab": {
     "base_uri": "https://localhost:8080/",
     "height": 206
    },
    "executionInfo": {
     "elapsed": 357,
     "status": "ok",
     "timestamp": 1674102358459,
     "user": {
      "displayName": "강희숙",
      "userId": "05520711596090317319"
     },
     "user_tz": -540
    },
    "id": "AqAwCmTGLqgI",
    "outputId": "e12d6d68-fa74-40fd-d4d9-fabff6a8e6c7"
   },
   "outputs": [
    {
     "data": {
      "text/html": [
       "<div>\n",
       "<style scoped>\n",
       "    .dataframe tbody tr th:only-of-type {\n",
       "        vertical-align: middle;\n",
       "    }\n",
       "\n",
       "    .dataframe tbody tr th {\n",
       "        vertical-align: top;\n",
       "    }\n",
       "\n",
       "    .dataframe thead th {\n",
       "        text-align: right;\n",
       "    }\n",
       "</style>\n",
       "<table border=\"1\" class=\"dataframe\">\n",
       "  <thead>\n",
       "    <tr style=\"text-align: right;\">\n",
       "      <th></th>\n",
       "      <th>alcohol</th>\n",
       "      <th>malic_acid</th>\n",
       "      <th>total_phenols</th>\n",
       "      <th>color_intensity</th>\n",
       "      <th>hue</th>\n",
       "    </tr>\n",
       "  </thead>\n",
       "  <tbody>\n",
       "    <tr>\n",
       "      <th>0</th>\n",
       "      <td>14.23</td>\n",
       "      <td>1.71</td>\n",
       "      <td>2.80</td>\n",
       "      <td>5.64</td>\n",
       "      <td>1.04</td>\n",
       "    </tr>\n",
       "    <tr>\n",
       "      <th>1</th>\n",
       "      <td>13.20</td>\n",
       "      <td>1.78</td>\n",
       "      <td>2.65</td>\n",
       "      <td>4.38</td>\n",
       "      <td>1.05</td>\n",
       "    </tr>\n",
       "    <tr>\n",
       "      <th>2</th>\n",
       "      <td>13.16</td>\n",
       "      <td>2.36</td>\n",
       "      <td>2.80</td>\n",
       "      <td>5.68</td>\n",
       "      <td>1.03</td>\n",
       "    </tr>\n",
       "    <tr>\n",
       "      <th>3</th>\n",
       "      <td>14.37</td>\n",
       "      <td>1.95</td>\n",
       "      <td>3.85</td>\n",
       "      <td>7.80</td>\n",
       "      <td>0.86</td>\n",
       "    </tr>\n",
       "    <tr>\n",
       "      <th>4</th>\n",
       "      <td>13.24</td>\n",
       "      <td>2.59</td>\n",
       "      <td>2.80</td>\n",
       "      <td>4.32</td>\n",
       "      <td>1.04</td>\n",
       "    </tr>\n",
       "  </tbody>\n",
       "</table>\n",
       "</div>"
      ],
      "text/plain": [
       "   alcohol  malic_acid  total_phenols  color_intensity   hue\n",
       "0    14.23        1.71           2.80             5.64  1.04\n",
       "1    13.20        1.78           2.65             4.38  1.05\n",
       "2    13.16        2.36           2.80             5.68  1.03\n",
       "3    14.37        1.95           3.85             7.80  0.86\n",
       "4    13.24        2.59           2.80             4.32  1.04"
      ]
     },
     "execution_count": 4,
     "metadata": {},
     "output_type": "execute_result"
    }
   ],
   "source": [
    "#코드작성\n",
    "df.head()"
   ]
  },
  {
   "cell_type": "markdown",
   "metadata": {
    "id": "yXi5u8n6K0Sp"
   },
   "source": [
    "* 데이터 정보를 파악한다."
   ]
  },
  {
   "cell_type": "code",
   "execution_count": 5,
   "metadata": {
    "colab": {
     "base_uri": "https://localhost:8080/"
    },
    "executionInfo": {
     "elapsed": 320,
     "status": "ok",
     "timestamp": 1674102705641,
     "user": {
      "displayName": "강희숙",
      "userId": "05520711596090317319"
     },
     "user_tz": -540
    },
    "id": "E48P_GlI-egH",
    "outputId": "215fd766-35a7-4867-d0e5-a16086507637"
   },
   "outputs": [
    {
     "name": "stdout",
     "output_type": "stream",
     "text": [
      "<class 'pandas.core.frame.DataFrame'>\n",
      "RangeIndex: 178 entries, 0 to 177\n",
      "Data columns (total 5 columns):\n",
      " #   Column           Non-Null Count  Dtype  \n",
      "---  ------           --------------  -----  \n",
      " 0   alcohol          178 non-null    float64\n",
      " 1   malic_acid       178 non-null    float64\n",
      " 2   total_phenols    178 non-null    float64\n",
      " 3   color_intensity  178 non-null    float64\n",
      " 4   hue              178 non-null    float64\n",
      "dtypes: float64(5)\n",
      "memory usage: 7.1 KB\n"
     ]
    }
   ],
   "source": [
    "df.info()"
   ]
  },
  {
   "cell_type": "markdown",
   "metadata": {
    "id": "SQDYNWR1xceR"
   },
   "source": [
    "| 번호 | 이름 | 내용 |\n",
    "|---------|------|------|\n",
    "| 0 | alcohol | 알코올 |\n",
    "| 1 | malic_acid  | 사과산 |\n",
    "| 2 | total_phenols | 총 페놀 |\n",
    "| 3 | color_intensity\t  | 색 강도 |\n",
    "| 4 | hue | 색상"
   ]
  },
  {
   "cell_type": "markdown",
   "metadata": {
    "id": "eR7Gs4JOOFNv"
   },
   "source": [
    "### **step2. 데이터 준비하기**\n",
    "- 특성 항목으로 'X'를 'alcohol'과 'malic_acid'으로 지정한다."
   ]
  },
  {
   "cell_type": "code",
   "execution_count": 8,
   "metadata": {
    "id": "slJhM96bpzSJ"
   },
   "outputs": [],
   "source": [
    "#코드작성\n",
    "X = df[[\"alcohol\", \"malic_acid\"]]"
   ]
  },
  {
   "cell_type": "code",
   "execution_count": 9,
   "metadata": {
    "colab": {
     "base_uri": "https://localhost:8080/",
     "height": 206
    },
    "executionInfo": {
     "elapsed": 15,
     "status": "ok",
     "timestamp": 1674102711247,
     "user": {
      "displayName": "강희숙",
      "userId": "05520711596090317319"
     },
     "user_tz": -540
    },
    "id": "9ZIdhOZ2_821",
    "outputId": "f9574e5a-cf72-4a44-8673-48bd0f8d7c69"
   },
   "outputs": [
    {
     "data": {
      "text/html": [
       "<div>\n",
       "<style scoped>\n",
       "    .dataframe tbody tr th:only-of-type {\n",
       "        vertical-align: middle;\n",
       "    }\n",
       "\n",
       "    .dataframe tbody tr th {\n",
       "        vertical-align: top;\n",
       "    }\n",
       "\n",
       "    .dataframe thead th {\n",
       "        text-align: right;\n",
       "    }\n",
       "</style>\n",
       "<table border=\"1\" class=\"dataframe\">\n",
       "  <thead>\n",
       "    <tr style=\"text-align: right;\">\n",
       "      <th></th>\n",
       "      <th>alcohol</th>\n",
       "      <th>malic_acid</th>\n",
       "    </tr>\n",
       "  </thead>\n",
       "  <tbody>\n",
       "    <tr>\n",
       "      <th>0</th>\n",
       "      <td>14.23</td>\n",
       "      <td>1.71</td>\n",
       "    </tr>\n",
       "    <tr>\n",
       "      <th>1</th>\n",
       "      <td>13.20</td>\n",
       "      <td>1.78</td>\n",
       "    </tr>\n",
       "    <tr>\n",
       "      <th>2</th>\n",
       "      <td>13.16</td>\n",
       "      <td>2.36</td>\n",
       "    </tr>\n",
       "    <tr>\n",
       "      <th>3</th>\n",
       "      <td>14.37</td>\n",
       "      <td>1.95</td>\n",
       "    </tr>\n",
       "    <tr>\n",
       "      <th>4</th>\n",
       "      <td>13.24</td>\n",
       "      <td>2.59</td>\n",
       "    </tr>\n",
       "  </tbody>\n",
       "</table>\n",
       "</div>"
      ],
      "text/plain": [
       "   alcohol  malic_acid\n",
       "0    14.23        1.71\n",
       "1    13.20        1.78\n",
       "2    13.16        2.36\n",
       "3    14.37        1.95\n",
       "4    13.24        2.59"
      ]
     },
     "execution_count": 9,
     "metadata": {},
     "output_type": "execute_result"
    }
   ],
   "source": [
    "X.head()"
   ]
  },
  {
   "cell_type": "markdown",
   "metadata": {
    "id": "A02YhWb2NzGF"
   },
   "source": [
    "## <font color=green> **[기계학습 군집화 모델 구현]** </font>"
   ]
  },
  {
   "cell_type": "markdown",
   "metadata": {
    "id": "mA-1eYxDN4oD"
   },
   "source": [
    "### **step1. 라이브러리 가져오기**\n",
    "- K-평균알고리즘 모델을 구현하기 위한 라이브러리를 가져온다. (scikit learn 라이브러리의 K평균 알고리즘 Kmeans 분류기 사용)"
   ]
  },
  {
   "cell_type": "code",
   "execution_count": 10,
   "metadata": {
    "id": "1mecTDsnYfI-"
   },
   "outputs": [],
   "source": [
    "from sklearn.cluster import KMeans\n",
    "import matplotlib.pyplot as plt"
   ]
  },
  {
   "cell_type": "markdown",
   "metadata": {
    "id": "vvgaHQ-fVCnF"
   },
   "source": [
    "### **Step 2 : 모델 객체 생성하기**\n",
    "- KMeans( ) 모델 객체 model_km의 군집 개수를 3으로 하여 생성한다."
   ]
  },
  {
   "cell_type": "code",
   "execution_count": 18,
   "metadata": {
    "id": "PL19rhdkm8fk"
   },
   "outputs": [],
   "source": [
    "model_km = KMeans(n_clusters=3, random_state=42)       #코드작성"
   ]
  },
  {
   "cell_type": "markdown",
   "metadata": {
    "id": "kZokWrMvY3va"
   },
   "source": [
    "### **Step 3 : 모델 예측하기**  "
   ]
  },
  {
   "cell_type": "markdown",
   "metadata": {
    "id": "SgRgcDWhDJg7"
   },
   "source": [
    "#### 1) K-평균 알고리즘 모델 학습하고 결과 확인하기"
   ]
  },
  {
   "cell_type": "code",
   "execution_count": 20,
   "metadata": {
    "colab": {
     "base_uri": "https://localhost:8080/"
    },
    "executionInfo": {
     "elapsed": 315,
     "status": "ok",
     "timestamp": 1674102726954,
     "user": {
      "displayName": "강희숙",
      "userId": "05520711596090317319"
     },
     "user_tz": -540
    },
    "id": "jgDA_7HmY2nZ",
    "outputId": "e7e4d1b7-91d8-44d3-fceb-fb615cc9140c"
   },
   "outputs": [
    {
     "name": "stderr",
     "output_type": "stream",
     "text": [
      "C:\\Users\\IOT\\anaconda3\\lib\\site-packages\\sklearn\\cluster\\_kmeans.py:870: FutureWarning: The default value of `n_init` will change from 10 to 'auto' in 1.4. Set the value of `n_init` explicitly to suppress the warning\n",
      "  warnings.warn(\n",
      "C:\\Users\\IOT\\anaconda3\\lib\\site-packages\\sklearn\\cluster\\_kmeans.py:1382: UserWarning: KMeans is known to have a memory leak on Windows with MKL, when there are less chunks than available threads. You can avoid it by setting the environment variable OMP_NUM_THREADS=1.\n",
      "  warnings.warn(\n"
     ]
    },
    {
     "data": {
      "text/html": [
       "<style>#sk-container-id-3 {color: black;background-color: white;}#sk-container-id-3 pre{padding: 0;}#sk-container-id-3 div.sk-toggleable {background-color: white;}#sk-container-id-3 label.sk-toggleable__label {cursor: pointer;display: block;width: 100%;margin-bottom: 0;padding: 0.3em;box-sizing: border-box;text-align: center;}#sk-container-id-3 label.sk-toggleable__label-arrow:before {content: \"▸\";float: left;margin-right: 0.25em;color: #696969;}#sk-container-id-3 label.sk-toggleable__label-arrow:hover:before {color: black;}#sk-container-id-3 div.sk-estimator:hover label.sk-toggleable__label-arrow:before {color: black;}#sk-container-id-3 div.sk-toggleable__content {max-height: 0;max-width: 0;overflow: hidden;text-align: left;background-color: #f0f8ff;}#sk-container-id-3 div.sk-toggleable__content pre {margin: 0.2em;color: black;border-radius: 0.25em;background-color: #f0f8ff;}#sk-container-id-3 input.sk-toggleable__control:checked~div.sk-toggleable__content {max-height: 200px;max-width: 100%;overflow: auto;}#sk-container-id-3 input.sk-toggleable__control:checked~label.sk-toggleable__label-arrow:before {content: \"▾\";}#sk-container-id-3 div.sk-estimator input.sk-toggleable__control:checked~label.sk-toggleable__label {background-color: #d4ebff;}#sk-container-id-3 div.sk-label input.sk-toggleable__control:checked~label.sk-toggleable__label {background-color: #d4ebff;}#sk-container-id-3 input.sk-hidden--visually {border: 0;clip: rect(1px 1px 1px 1px);clip: rect(1px, 1px, 1px, 1px);height: 1px;margin: -1px;overflow: hidden;padding: 0;position: absolute;width: 1px;}#sk-container-id-3 div.sk-estimator {font-family: monospace;background-color: #f0f8ff;border: 1px dotted black;border-radius: 0.25em;box-sizing: border-box;margin-bottom: 0.5em;}#sk-container-id-3 div.sk-estimator:hover {background-color: #d4ebff;}#sk-container-id-3 div.sk-parallel-item::after {content: \"\";width: 100%;border-bottom: 1px solid gray;flex-grow: 1;}#sk-container-id-3 div.sk-label:hover label.sk-toggleable__label {background-color: #d4ebff;}#sk-container-id-3 div.sk-serial::before {content: \"\";position: absolute;border-left: 1px solid gray;box-sizing: border-box;top: 0;bottom: 0;left: 50%;z-index: 0;}#sk-container-id-3 div.sk-serial {display: flex;flex-direction: column;align-items: center;background-color: white;padding-right: 0.2em;padding-left: 0.2em;position: relative;}#sk-container-id-3 div.sk-item {position: relative;z-index: 1;}#sk-container-id-3 div.sk-parallel {display: flex;align-items: stretch;justify-content: center;background-color: white;position: relative;}#sk-container-id-3 div.sk-item::before, #sk-container-id-3 div.sk-parallel-item::before {content: \"\";position: absolute;border-left: 1px solid gray;box-sizing: border-box;top: 0;bottom: 0;left: 50%;z-index: -1;}#sk-container-id-3 div.sk-parallel-item {display: flex;flex-direction: column;z-index: 1;position: relative;background-color: white;}#sk-container-id-3 div.sk-parallel-item:first-child::after {align-self: flex-end;width: 50%;}#sk-container-id-3 div.sk-parallel-item:last-child::after {align-self: flex-start;width: 50%;}#sk-container-id-3 div.sk-parallel-item:only-child::after {width: 0;}#sk-container-id-3 div.sk-dashed-wrapped {border: 1px dashed gray;margin: 0 0.4em 0.5em 0.4em;box-sizing: border-box;padding-bottom: 0.4em;background-color: white;}#sk-container-id-3 div.sk-label label {font-family: monospace;font-weight: bold;display: inline-block;line-height: 1.2em;}#sk-container-id-3 div.sk-label-container {text-align: center;}#sk-container-id-3 div.sk-container {/* jupyter's `normalize.less` sets `[hidden] { display: none; }` but bootstrap.min.css set `[hidden] { display: none !important; }` so we also need the `!important` here to be able to override the default hidden behavior on the sphinx rendered scikit-learn.org. See: https://github.com/scikit-learn/scikit-learn/issues/21755 */display: inline-block !important;position: relative;}#sk-container-id-3 div.sk-text-repr-fallback {display: none;}</style><div id=\"sk-container-id-3\" class=\"sk-top-container\"><div class=\"sk-text-repr-fallback\"><pre>KMeans(n_clusters=3, random_state=42)</pre><b>In a Jupyter environment, please rerun this cell to show the HTML representation or trust the notebook. <br />On GitHub, the HTML representation is unable to render, please try loading this page with nbviewer.org.</b></div><div class=\"sk-container\" hidden><div class=\"sk-item\"><div class=\"sk-estimator sk-toggleable\"><input class=\"sk-toggleable__control sk-hidden--visually\" id=\"sk-estimator-id-3\" type=\"checkbox\" checked><label for=\"sk-estimator-id-3\" class=\"sk-toggleable__label sk-toggleable__label-arrow\">KMeans</label><div class=\"sk-toggleable__content\"><pre>KMeans(n_clusters=3, random_state=42)</pre></div></div></div></div></div>"
      ],
      "text/plain": [
       "KMeans(n_clusters=3, random_state=42)"
      ]
     },
     "execution_count": 20,
     "metadata": {},
     "output_type": "execute_result"
    }
   ],
   "source": [
    "#코드작성\n",
    "model_km.fit(X)"
   ]
  },
  {
   "cell_type": "markdown",
   "metadata": {
    "id": "grbysxw2AtDg"
   },
   "source": [
    "- model_km.cluster_centers_에 저장된 각 군집의 중심점을 확인한다."
   ]
  },
  {
   "cell_type": "code",
   "execution_count": 22,
   "metadata": {},
   "outputs": [
    {
     "data": {
      "text/plain": [
       "['__abstractmethods__',\n",
       " '__annotations__',\n",
       " '__class__',\n",
       " '__delattr__',\n",
       " '__dict__',\n",
       " '__dir__',\n",
       " '__doc__',\n",
       " '__eq__',\n",
       " '__format__',\n",
       " '__ge__',\n",
       " '__getattribute__',\n",
       " '__getstate__',\n",
       " '__gt__',\n",
       " '__hash__',\n",
       " '__init__',\n",
       " '__init_subclass__',\n",
       " '__le__',\n",
       " '__lt__',\n",
       " '__module__',\n",
       " '__ne__',\n",
       " '__new__',\n",
       " '__reduce__',\n",
       " '__reduce_ex__',\n",
       " '__repr__',\n",
       " '__setattr__',\n",
       " '__setstate__',\n",
       " '__sizeof__',\n",
       " '__slots__',\n",
       " '__str__',\n",
       " '__subclasshook__',\n",
       " '__weakref__',\n",
       " '_abc_impl',\n",
       " '_algorithm',\n",
       " '_check_feature_names',\n",
       " '_check_mkl_vcomp',\n",
       " '_check_n_features',\n",
       " '_check_params_vs_input',\n",
       " '_check_test_data',\n",
       " '_estimator_type',\n",
       " '_get_param_names',\n",
       " '_get_tags',\n",
       " '_init_centroids',\n",
       " '_more_tags',\n",
       " '_n_features_out',\n",
       " '_n_init',\n",
       " '_n_threads',\n",
       " '_parameter_constraints',\n",
       " '_repr_html_',\n",
       " '_repr_html_inner',\n",
       " '_repr_mimebundle_',\n",
       " '_sklearn_auto_wrap_output_keys',\n",
       " '_tol',\n",
       " '_transform',\n",
       " '_validate_center_shape',\n",
       " '_validate_data',\n",
       " '_validate_params',\n",
       " '_warn_mkl_vcomp',\n",
       " 'algorithm',\n",
       " 'cluster_centers_',\n",
       " 'copy_x',\n",
       " 'feature_names_in_',\n",
       " 'fit',\n",
       " 'fit_predict',\n",
       " 'fit_transform',\n",
       " 'get_feature_names_out',\n",
       " 'get_params',\n",
       " 'inertia_',\n",
       " 'init',\n",
       " 'labels_',\n",
       " 'max_iter',\n",
       " 'n_clusters',\n",
       " 'n_features_in_',\n",
       " 'n_init',\n",
       " 'n_iter_',\n",
       " 'predict',\n",
       " 'random_state',\n",
       " 'score',\n",
       " 'set_output',\n",
       " 'set_params',\n",
       " 'tol',\n",
       " 'transform',\n",
       " 'verbose']"
      ]
     },
     "execution_count": 22,
     "metadata": {},
     "output_type": "execute_result"
    }
   ],
   "source": [
    "dir(model_km)"
   ]
  },
  {
   "cell_type": "code",
   "execution_count": 21,
   "metadata": {
    "colab": {
     "base_uri": "https://localhost:8080/"
    },
    "executionInfo": {
     "elapsed": 318,
     "status": "ok",
     "timestamp": 1674102731502,
     "user": {
      "displayName": "강희숙",
      "userId": "05520711596090317319"
     },
     "user_tz": -540
    },
    "id": "UPWLfXkNn905",
    "outputId": "5c4d64d9-2518-4c47-c413-2d8220734b34"
   },
   "outputs": [
    {
     "data": {
      "text/plain": [
       "array([[12.21349206,  1.6531746 ],\n",
       "       [13.0632    ,  3.8948    ],\n",
       "       [13.71538462,  1.79969231]])"
      ]
     },
     "execution_count": 21,
     "metadata": {},
     "output_type": "execute_result"
    }
   ],
   "source": [
    "#코드작성\n",
    "model_km.cluster_centers_"
   ]
  },
  {
   "cell_type": "markdown",
   "metadata": {
    "id": "oajGBTR4A4Sp"
   },
   "source": [
    "- 학습 후 군집화 결과가 저장된 model_km.labels_에 각 데이터별 군집 번호 0, 1, 2이 저장된 것을 확인한다."
   ]
  },
  {
   "cell_type": "code",
   "execution_count": 25,
   "metadata": {
    "colab": {
     "base_uri": "https://localhost:8080/"
    },
    "executionInfo": {
     "elapsed": 339,
     "status": "ok",
     "timestamp": 1674102735673,
     "user": {
      "displayName": "강희숙",
      "userId": "05520711596090317319"
     },
     "user_tz": -540
    },
    "id": "s5rxpEX-qw_g",
    "outputId": "b459193b-8899-4d76-fc39-7b825636b458"
   },
   "outputs": [
    {
     "data": {
      "text/plain": [
       "array([2, 2, 2, 2, 2, 2, 2, 2, 2, 2, 2, 2, 2, 2, 2, 2, 2, 2, 2, 1, 2, 1,\n",
       "       2, 0, 2, 2, 2, 2, 2, 2, 2, 2, 2, 2, 2, 2, 2, 2, 2, 1, 2, 1, 2, 1,\n",
       "       2, 1, 1, 2, 2, 2, 2, 2, 2, 2, 2, 2, 2, 2, 2, 0, 0, 0, 2, 0, 0, 0,\n",
       "       2, 0, 2, 0, 0, 2, 2, 2, 0, 0, 0, 0, 0, 1, 0, 0, 0, 1, 0, 0, 0, 0,\n",
       "       0, 0, 0, 0, 0, 0, 0, 0, 0, 0, 0, 1, 0, 0, 0, 0, 0, 0, 0, 0, 0, 0,\n",
       "       1, 0, 0, 0, 0, 0, 0, 0, 1, 1, 0, 0, 1, 1, 1, 0, 0, 0, 0, 1, 0, 1,\n",
       "       0, 1, 0, 0, 1, 1, 1, 1, 1, 2, 1, 1, 1, 1, 1, 1, 1, 1, 1, 0, 2, 1,\n",
       "       0, 1, 1, 1, 2, 2, 1, 1, 1, 1, 2, 1, 1, 1, 2, 1, 1, 0, 2, 1, 1, 1,\n",
       "       2, 1])"
      ]
     },
     "execution_count": 25,
     "metadata": {},
     "output_type": "execute_result"
    }
   ],
   "source": [
    "#코드작성\n",
    "model_km.labels_"
   ]
  },
  {
   "cell_type": "markdown",
   "metadata": {
    "id": "Q-BB9lykBMv3"
   },
   "source": [
    "- 각 군집별 데이터 수를 확인한다."
   ]
  },
  {
   "cell_type": "code",
   "execution_count": 30,
   "metadata": {
    "colab": {
     "base_uri": "https://localhost:8080/"
    },
    "executionInfo": {
     "elapsed": 428,
     "status": "ok",
     "timestamp": 1674102739191,
     "user": {
      "displayName": "강희숙",
      "userId": "05520711596090317319"
     },
     "user_tz": -540
    },
    "id": "RMkYZP5Uzs97",
    "outputId": "29475858-c2fd-45c7-d31b-ef9a7e03c8e4"
   },
   "outputs": [
    {
     "data": {
      "text/plain": [
       "2    65\n",
       "0    63\n",
       "1    50\n",
       "dtype: int64"
      ]
     },
     "execution_count": 30,
     "metadata": {},
     "output_type": "execute_result"
    }
   ],
   "source": [
    "#코드작성\n",
    "pd.Series(model_km.labels_).value_counts()"
   ]
  },
  {
   "cell_type": "markdown",
   "metadata": {
    "id": "Ovym93efqJLt"
   },
   "source": [
    "#### 2) 군집 결과 그래프로 시각화하기"
   ]
  },
  {
   "cell_type": "code",
   "execution_count": 31,
   "metadata": {
    "colab": {
     "base_uri": "https://localhost:8080/",
     "height": 295
    },
    "executionInfo": {
     "elapsed": 379,
     "status": "ok",
     "timestamp": 1674102761769,
     "user": {
      "displayName": "강희숙",
      "userId": "05520711596090317319"
     },
     "user_tz": -540
    },
    "id": "LnTVlaQ-qG5p",
    "outputId": "d49dbf0c-c1fd-41ad-80d6-cc6322a625bd"
   },
   "outputs": [
    {
     "data": {
      "image/png": "[encoded data removed]",
      "text/plain": [
       "<Figure size 640x480 with 1 Axes>"
      ]
     },
     "metadata": {},
     "output_type": "display_data"
    }
   ],
   "source": [
    "plt.figure()\n",
    "\n",
    "plt.title('Clustering of Wine')\n",
    "plt.xlabel(X.columns[0])   # alcohol\n",
    "plt.ylabel(X.columns[1])   # malic_acid\n",
    "\n",
    "plt.scatter ( X.iloc[model_km.labels_== 0,0],\n",
    "    X.iloc[model_km.labels_ == 0,1], c='blue',   label='Cluster 0')\n",
    "plt.scatter ( X.iloc[model_km.labels_ == 1,0],\n",
    "    X.iloc[model_km.labels_ == 1,1], c='orange', label='Cluster 1')\n",
    "plt.scatter ( X.iloc[model_km.labels_ == 2,0],\n",
    "    X.iloc[model_km.labels_ == 2,1], c='green',  label='Cluster 2')\n",
    "\n",
    "plt.scatter(model_km.cluster_centers_[:, 0],\n",
    "            model_km.cluster_centers_[:, 1],\n",
    "            c='red', marker='*', s=200, label ='Centroids' )\n",
    "\n",
    "plt.legend()\n",
    "plt.show()"
   ]
  },
  {
   "cell_type": "markdown",
   "metadata": {
    "id": "5VhzY_meZFAw"
   },
   "source": [
    "### **Step 4 : 모델 예측하기**\n",
    "- 학습된 모델을 사용하여 임의의 테스트 데이터의 군집 번호를 확인한다. (예, alcohol\n",
    "= 14, malic_acid = 4）\n"
   ]
  },
  {
   "cell_type": "code",
   "execution_count": 34,
   "metadata": {
    "colab": {
     "base_uri": "https://localhost:8080/"
    },
    "executionInfo": {
     "elapsed": 323,
     "status": "ok",
     "timestamp": 1674102807197,
     "user": {
      "displayName": "강희숙",
      "userId": "05520711596090317319"
     },
     "user_tz": -540
    },
    "id": "zeuwY14EWjkp",
    "outputId": "1474f24b-9ca8-4fa0-994e-462897238fd9"
   },
   "outputs": [
    {
     "name": "stdout",
     "output_type": "stream",
     "text": [
      "   alcohol  malic_acid\n",
      "0       14           4\n"
     ]
    }
   ],
   "source": [
    "print ( #코드작성 (\n",
    "        pd.DataFrame( {'alcohol':[14], 'malic_acid' : [4]} ))"
   ]
  },
  {
   "cell_type": "markdown",
   "metadata": {
    "id": "91oF-HMwZmMA"
   },
   "source": [
    "- 앞에서 그린 그래프에 테스트 데이터를 표시하고 해당 군집에 속하는지 확인한다."
   ]
  },
  {
   "cell_type": "code",
   "execution_count": 35,
   "metadata": {
    "colab": {
     "base_uri": "https://localhost:8080/",
     "height": 295
    },
    "executionInfo": {
     "elapsed": 440,
     "status": "ok",
     "timestamp": 1674102936125,
     "user": {
      "displayName": "강희숙",
      "userId": "05520711596090317319"
     },
     "user_tz": -540
    },
    "id": "U93FK4cwW-dh",
    "outputId": "bc8bd3e0-aa72-476b-e4e2-549516387d11"
   },
   "outputs": [
    {
     "data": {
      "image/png": "[encoded data removed]",
      "text/plain": [
       "<Figure size 640x480 with 1 Axes>"
      ]
     },
     "metadata": {},
     "output_type": "display_data"
    }
   ],
   "source": [
    "plt.figure()\n",
    "\n",
    "plt.title('Clustering of Wine')\n",
    "plt.xlabel(X.columns[0])   # alcohol\n",
    "plt.ylabel(X.columns[1])   # malic_acid\n",
    "\n",
    "plt.scatter ( X.iloc[model_km.labels_== 0,0],\n",
    "    X.iloc[model_km.labels_ == 0,1], c='blue',   label='Cluster 0')\n",
    "plt.scatter ( X.iloc[model_km.labels_ == 1,0],\n",
    "    X.iloc[model_km.labels_ == 1,1], c='orange', label='Cluster 1')\n",
    "plt.scatter ( X.iloc[model_km.labels_ == 2,0],\n",
    "    X.iloc[model_km.labels_ == 2,1], c='green',  label='Cluster 2')\n",
    "\n",
    "plt.scatter(model_km.cluster_centers_[:, 0],\n",
    "            model_km.cluster_centers_[:, 1],\n",
    "            c='red', marker='*', s=200, label ='Centroids' )\n",
    "\n",
    "plt.scatter(14, 4, c='black', marker='X', s=200, label='Test' )\n",
    "\n",
    "plt.legend()\n",
    "plt.show()"
   ]
  },
  {
   "cell_type": "code",
   "execution_count": null,
   "metadata": {},
   "outputs": [],
   "source": []
  }
 ],
 "metadata": {
  "colab": {
   "provenance": []
  },
  "kernelspec": {
   "display_name": "Python 3 (ipykernel)",
   "language": "python",
   "name": "python3"
  },
  "language_info": {
   "codemirror_mode": {
    "name": "ipython",
    "version": 3
   },
   "file_extension": ".py",
   "mimetype": "text/x-python",
   "name": "python",
   "nbconvert_exporter": "python",
   "pygments_lexer": "ipython3",
   "version": "3.10.9"
  }
 },
 "nbformat": 4,
 "nbformat_minor": 1
}
