{
 "cells": [
  {
   "cell_type": "markdown",
   "metadata": {
    "colab_type": "text",
    "id": "-YdfrGhXaSww"
   },
   "source": [
    "# 데이터 가져오기 및 처리"
   ]
  },
  {
   "cell_type": "markdown",
   "metadata": {
    "colab_type": "text",
    "id": "THfcvkzNaSwy"
   },
   "source": [
    "데이터 세트는 모든 데이터 과학 프로젝트에 필수적입니다! 데이터가 많을수록 기능 간의 관계를 더 쉽게 식별할 수 있습니다. 그러나 데이터 분석을 수행하기 전에 컴퓨터에서 데이터 세트를 이해하는 것도 필수적입니다. 따라서 이 연습의 주요 목적은 데이터 분석 또는 기계 학습을 수행하기 전에 데이터 세트를 가져오고 처리하는 데 필요한 기술을 배우는 것입니다."
   ]
  },
  {
   "cell_type": "markdown",
   "metadata": {
    "colab_type": "text",
    "id": "Msb1KXoIaSw0"
   },
   "source": [
    "## 1. 데이터 가져오기"
   ]
  },
  {
   "cell_type": "markdown",
   "metadata": {
    "colab_type": "text",
    "id": "Tr-GKbJkaSw2"
   },
   "source": [
    "무료로 데이터를 얻을 수 있는 웹사이트가 많이 있습니다. Kaggle(https://www.kaggle.com/) 및 University of California, Irvine(https://archive.ics.uci.edu/ml/index.php) (UCI)가 대표적인 사이트 있습니다. 데이터 세트를 수동으로 다운로드하여 컴퓨터의 새 폴더에 저장할 수 있습니다. 그러나 그렇게 하려면 시간이 많이 걸릴 수 있습니다. 따라서 이 프로세스를 자동화하는 간단한 방법이 있습니다! \n",
    "magic.py가 이 기능을 제공합니다. 한번 해보세요!\n",
    "\n",
    "스크립트가 작동하려면 python 가상 환경에 os, wget, pandas 및 matplotlib 라이브러리가 설치되어 있는지 확인하십시오.\n",
    "\n",
    "아래 셀을 실행하는 동안 오류가 발생하면 첫 번째 줄을 주석 처리하십시오. #%matplotlib qt"
   ]
  },
  {
   "cell_type": "code",
   "execution_count": 1,
   "metadata": {
    "colab": {},
    "colab_type": "code",
    "id": "g2YHGbLwaSw4",
    "outputId": "8ad0ff6c-6479-45af-9d04-c4894f7ddd63"
   },
   "outputs": [
    {
     "name": "stdout",
     "output_type": "stream",
     "text": [
      "Current working directory: C:\\Users\\IOT\\Documents\\vision_AI\\0423\n",
      "Downloading file..........\n",
      "\n",
      "\n",
      "File has been downloaded!\n",
      "Performing super difficult data analysis..........\n"
     ]
    }
   ],
   "source": [
    "%matplotlib qt\n",
    "\n",
    "# 다운로드 자동화 프로그램 / 파일 있음\n",
    "%run \"magic.py\""
   ]
  },
  {
   "cell_type": "markdown",
   "metadata": {
    "colab_type": "text",
    "id": "bYcAogTVaSxC"
   },
   "source": [
    "만세! 수동 작업 없이 데이터를 다운로드하고 그래프를 그렸습니다. magic.py 파일을 열지 않고도 데이터가 다운로드된 위치를 알 수 있습니까? 위에 출련된 문장에서 힌트를 얻을 수 있습니다!"
   ]
  },
  {
   "cell_type": "code",
   "execution_count": 2,
   "metadata": {},
   "outputs": [
    {
     "name": "stdout",
     "output_type": "stream",
     "text": [
      "Current working directory: C:\\Users\\IOT\\Documents\\vision_AI\\0423\n",
      "Downloading file..........\n",
      "\n",
      "\n",
      "File has been downloaded!\n",
      "Performing super difficult data analysis..........\n"
     ]
    }
   ],
   "source": [
    "#your answer here\n",
    "\n",
    "# 이 스크립트는 http://futures-plus.com/ai4y/co2-mm-mlo.csv에서 월별 평균 이산화탄소 값을 다운로드하고 표시합니다.\n",
    "\n",
    "import os\n",
    "import urllib.request\n",
    "import pandas as pd\n",
    "import matplotlib.pyplot as plt\n",
    "\n",
    "# 현재 디렉토리 확인 및 새 디렉토리 생성\n",
    "cwd = os.getcwd()\n",
    "print(\"Current working directory: %s\" % cwd)\n",
    "path = os.path.join(cwd,\"Magic_Data\")\n",
    "if not os.path.isdir(path):\n",
    "    os.mkdir(path)\n",
    "    print(\"Newly created directory to store files: %s\" % path)\n",
    "\n",
    "# 다운로드를 위한 파일 경로를 제공합니다. 파일 경로에는 폴더 경로와 파일 이름이 모두 포함됩니다.\n",
    "full_path = os.path.join(path,\"co2-mm-mlo.csv\")\n",
    "\n",
    "\n",
    "# 파일 다운로드\n",
    "print(\"Downloading file..........\")\n",
    "\n",
    "urllib.request.urlretrieve(\"http://sl2files.sustainablelivinglab.org/co2-mm-mlo.csv\", full_path)\n",
    "\n",
    "\n",
    "print(\"\\n\")\n",
    "print(\"File has been downloaded!\")\n",
    "\n",
    "# 기본 표시\n",
    "print(\"Performing super difficult data analysis..........\")\n",
    "fn = \"co2-mm-mlo.csv\"\n",
    "carbon_dioxide = pd.read_csv(os.path.join(path,fn))\n",
    "plt.plot(carbon_dioxide['Date'],carbon_dioxide['Average'])\n",
    "plt.xlabel('Time')\n",
    "plt.ylabel('CO2 concentration in ppm')\n",
    "plt.show()"
   ]
  },
  {
   "cell_type": "markdown",
   "metadata": {
    "colab_type": "text",
    "id": "R0hU1t33aSxG"
   },
   "source": [
    "<font color=blue>보너스: 그래프가 제대로 보이나요? 음수 값과 x축의 검은색 선을 설명할 수 있습니까?</font>"
   ]
  },
  {
   "cell_type": "markdown",
   "metadata": {},
   "source": [
    "data가 너무 많아서 겹쳐지는 형상으로 보입니다. "
   ]
  },
  {
   "cell_type": "markdown",
   "metadata": {
    "colab_type": "text",
    "id": "v1CqAIo8aSxL"
   },
   "source": [
    "## 1.1 iris 데이터 세트 다운로드"
   ]
  },
  {
   "cell_type": "markdown",
   "metadata": {
    "colab_type": "text",
    "id": "IEcfNX70aSxM"
   },
   "source": [
    "이제 데이터 세트를 직접 가져올 차례입니다. 사용할 데이터셋은 유명한 Iris Flower 데이터셋입니다. 데이터 세트는 http://archive.ics.uci.edu/ml/machine-learning-databases/iris/iris.data 에서 다운로드할 수 있습니다. 다운로드할 파일은 iris.data입니다. 데이터 세트에 대한 자세한 정보는 https://en.wikipedia.org/wiki/Iris_flower_data_set 에서 얻을 수 있습니다. 다음 코드를 실행하기 전에 데이터 세트 설명을 살펴보세요."
   ]
  },
  {
   "cell_type": "markdown",
   "metadata": {
    "colab_type": "text",
    "id": "myyrcY8EaSxN"
   },
   "source": [
    "데이터 세트를 저장할 새 폴더를 만듭니다. urlib.request.urletrieve 함수를 사용하여 데이터 세트를 자동으로 다운로드 받을 수 있는 코드를 아래에 작성하세요. magic.py 내의 코드를 참조로 사용할 수 있습니다.\n",
    "\n",
    "magic.py 파일의 코드를 참조하려면 폴더에서 magic.py 파일을 찾습니다. 마우스 오른쪽 버튼을 클릭하고 워드패드를 이용하여 엽니다.\n",
    "\n",
    "<font color=blue>보너스: 코드 2줄만 사용하여 데이터를 다운로드하세요!</font>"
   ]
  },
  {
   "cell_type": "code",
   "execution_count": 3,
   "metadata": {
    "colab": {},
    "colab_type": "code",
    "id": "toe2Wgb6aSxD"
   },
   "outputs": [
    {
     "data": {
      "text/plain": [
       "('./Magic_Data/iris.data', <http.client.HTTPMessage at 0x266a189d1e0>)"
      ]
     },
     "execution_count": 3,
     "metadata": {},
     "output_type": "execute_result"
    }
   ],
   "source": [
    "#your answer here\n",
    "import urllib.request\n",
    "\n",
    "urllib.request.urlretrieve(\"https://archive.ics.uci.edu/ml/index.php\", \"./Magic_Data/iris.data\")"
   ]
  },
  {
   "cell_type": "code",
   "execution_count": 4,
   "metadata": {},
   "outputs": [
    {
     "name": "stdout",
     "output_type": "stream",
     "text": [
      "5.1,3.5,1.4,0.2,Iris-setosa\n",
      "4.9,3.0,1.4,0.2,Iris-setosa\n",
      "4.7,3.2,1.3,0.2,Iris-setosa\n",
      "4.6,3.1,1.5,0.2,Iris-setosa\n",
      "5.0,3.6,1.4,0.2,Iris-setosa\n",
      "5.4,3.9,1.7,0.4,Iris-setosa\n",
      "4.6,3.4,1.4,0.3,Iris-setosa\n",
      "5.0,3.4,1.5,0.2,Iris-setosa\n",
      "4.4,2.9,1.4,0.2,Iris-setosa\n",
      "4.9,3.1,1.5,0.1,Iris-setosa\n",
      "5.4,3.7,1.5,0.2,Iris-setosa\n",
      "4.8,3.4,1.6,0.2,Iris-setosa\n",
      "4.8,3.0,1.4,0.1,Iris-setosa\n",
      "4.3,3.0,1.1,0.1,Iris-setosa\n",
      "5.8,4.0,1.2,0.2,Iris-setosa\n",
      "5.7,4.4,1.5,0.4,Iris-setosa\n",
      "5.4,3.9,1.3,0.4,Iris-setosa\n",
      "5.1,3.5,1.4,0.3,Iris-setosa\n",
      "5.7,3.8,1.7,0.3,Iris-setosa\n",
      "5.1,3.8,1.5,0.3,Iris-setosa\n",
      "5.4,3.4,1.7,0.2,Iris-setosa\n",
      "5.1,3.7,1.5,0.4,Iris-setosa\n",
      "4.6,3.6,1.0,0.2,Iris-setosa\n",
      "5.1,3.3,1.7,0.5,Iris-setosa\n",
      "4.8,3.4,1.9,0.2,Iris-setosa\n",
      "5.0,3.0,1.6,0.2,Iris-setosa\n",
      "5.0,3.4,1.6,0.4,Iris-setosa\n",
      "5.2,3.5,1.5,0.2,Iris-setosa\n",
      "5.2,3.4,1.4,0.2,Iris-setosa\n",
      "4.7,3.2,1.6,0.2,Iris-setosa\n",
      "4.8,3.1,1.6,0.2,Iris-setosa\n",
      "5.4,3.4,1.5,0.4,Iris-setosa\n",
      "5.2,4.1,1.5,0.1,Iris-setosa\n",
      "5.5,4.2,1.4,0.2,Iris-setosa\n",
      "4.9,3.1,1.5,0.1,Iris-setosa\n",
      "5.0,3.2,1.2,0.2,Iris-setosa\n",
      "5.5,3.5,1.3,0.2,Iris-setosa\n",
      "4.9,3.1,1.5,0.1,Iris-setosa\n",
      "4.4,3.0,1.3,0.2,Iris-setosa\n",
      "5.1,3.4,1.5,0.2,Iris-setosa\n",
      "5.0,3.5,1.3,0.3,Iris-setosa\n",
      "4.5,2.3,1.3,0.3,Iris-setosa\n",
      "4.4,3.2,1.3,0.2,Iris-setosa\n",
      "5.0,3.5,1.6,0.6,Iris-setosa\n",
      "5.1,3.8,1.9,0.4,Iris-setosa\n",
      "4.8,3.0,1.4,0.3,Iris-setosa\n",
      "5.1,3.8,1.6,0.2,Iris-setosa\n",
      "4.6,3.2,1.4,0.2,Iris-setosa\n",
      "5.3,3.7,1.5,0.2,Iris-setosa\n",
      "5.0,3.3,1.4,0.2,Iris-setosa\n",
      "7.0,3.2,4.7,1.4,Iris-versicolor\n",
      "6.4,3.2,4.5,1.5,Iris-versicolor\n",
      "6.9,3.1,4.9,1.5,Iris-versicolor\n",
      "5.5,2.3,4.0,1.3,Iris-versicolor\n",
      "6.5,2.8,4.6,1.5,Iris-versicolor\n",
      "5.7,2.8,4.5,1.3,Iris-versicolor\n",
      "6.3,3.3,4.7,1.6,Iris-versicolor\n",
      "4.9,2.4,3.3,1.0,Iris-versicolor\n",
      "6.6,2.9,4.6,1.3,Iris-versicolor\n",
      "5.2,2.7,3.9,1.4,Iris-versicolor\n",
      "5.0,2.0,3.5,1.0,Iris-versicolor\n",
      "5.9,3.0,4.2,1.5,Iris-versicolor\n",
      "6.0,2.2,4.0,1.0,Iris-versicolor\n",
      "6.1,2.9,4.7,1.4,Iris-versicolor\n",
      "5.6,2.9,3.6,1.3,Iris-versicolor\n",
      "6.7,3.1,4.4,1.4,Iris-versicolor\n",
      "5.6,3.0,4.5,1.5,Iris-versicolor\n",
      "5.8,2.7,4.1,1.0,Iris-versicolor\n",
      "6.2,2.2,4.5,1.5,Iris-versicolor\n",
      "5.6,2.5,3.9,1.1,Iris-versicolor\n",
      "5.9,3.2,4.8,1.8,Iris-versicolor\n",
      "6.1,2.8,4.0,1.3,Iris-versicolor\n",
      "6.3,2.5,4.9,1.5,Iris-versicolor\n",
      "6.1,2.8,4.7,1.2,Iris-versicolor\n",
      "6.4,2.9,4.3,1.3,Iris-versicolor\n",
      "6.6,3.0,4.4,1.4,Iris-versicolor\n",
      "6.8,2.8,4.8,1.4,Iris-versicolor\n",
      "6.7,3.0,5.0,1.7,Iris-versicolor\n",
      "6.0,2.9,4.5,1.5,Iris-versicolor\n",
      "5.7,2.6,3.5,1.0,Iris-versicolor\n",
      "5.5,2.4,3.8,1.1,Iris-versicolor\n",
      "5.5,2.4,3.7,1.0,Iris-versicolor\n",
      "5.8,2.7,3.9,1.2,Iris-versicolor\n",
      "6.0,2.7,5.1,1.6,Iris-versicolor\n",
      "5.4,3.0,4.5,1.5,Iris-versicolor\n",
      "6.0,3.4,4.5,1.6,Iris-versicolor\n",
      "6.7,3.1,4.7,1.5,Iris-versicolor\n",
      "6.3,2.3,4.4,1.3,Iris-versicolor\n",
      "5.6,3.0,4.1,1.3,Iris-versicolor\n",
      "5.5,2.5,4.0,1.3,Iris-versicolor\n",
      "5.5,2.6,4.4,1.2,Iris-versicolor\n",
      "6.1,3.0,4.6,1.4,Iris-versicolor\n",
      "5.8,2.6,4.0,1.2,Iris-versicolor\n",
      "5.0,2.3,3.3,1.0,Iris-versicolor\n",
      "5.6,2.7,4.2,1.3,Iris-versicolor\n",
      "5.7,3.0,4.2,1.2,Iris-versicolor\n",
      "5.7,2.9,4.2,1.3,Iris-versicolor\n",
      "6.2,2.9,4.3,1.3,Iris-versicolor\n",
      "5.1,2.5,3.0,1.1,Iris-versicolor\n",
      "5.7,2.8,4.1,1.3,Iris-versicolor\n",
      "6.3,3.3,6.0,2.5,Iris-virginica\n",
      "5.8,2.7,5.1,1.9,Iris-virginica\n",
      "7.1,3.0,5.9,2.1,Iris-virginica\n",
      "6.3,2.9,5.6,1.8,Iris-virginica\n",
      "6.5,3.0,5.8,2.2,Iris-virginica\n",
      "7.6,3.0,6.6,2.1,Iris-virginica\n",
      "4.9,2.5,4.5,1.7,Iris-virginica\n",
      "7.3,2.9,6.3,1.8,Iris-virginica\n",
      "6.7,2.5,5.8,1.8,Iris-virginica\n",
      "7.2,3.6,6.1,2.5,Iris-virginica\n",
      "6.5,3.2,5.1,2.0,Iris-virginica\n",
      "6.4,2.7,5.3,1.9,Iris-virginica\n",
      "6.8,3.0,5.5,2.1,Iris-virginica\n",
      "5.7,2.5,5.0,2.0,Iris-virginica\n",
      "5.8,2.8,5.1,2.4,Iris-virginica\n",
      "6.4,3.2,5.3,2.3,Iris-virginica\n",
      "6.5,3.0,5.5,1.8,Iris-virginica\n",
      "7.7,3.8,6.7,2.2,Iris-virginica\n",
      "7.7,2.6,6.9,2.3,Iris-virginica\n",
      "6.0,2.2,5.0,1.5,Iris-virginica\n",
      "6.9,3.2,5.7,2.3,Iris-virginica\n",
      "5.6,2.8,4.9,2.0,Iris-virginica\n",
      "7.7,2.8,6.7,2.0,Iris-virginica\n",
      "6.3,2.7,4.9,1.8,Iris-virginica\n",
      "6.7,3.3,5.7,2.1,Iris-virginica\n",
      "7.2,3.2,6.0,1.8,Iris-virginica\n",
      "6.2,2.8,4.8,1.8,Iris-virginica\n",
      "6.1,3.0,4.9,1.8,Iris-virginica\n",
      "6.4,2.8,5.6,2.1,Iris-virginica\n",
      "7.2,3.0,5.8,1.6,Iris-virginica\n",
      "7.4,2.8,6.1,1.9,Iris-virginica\n",
      "7.9,3.8,6.4,2.0,Iris-virginica\n",
      "6.4,2.8,5.6,2.2,Iris-virginica\n",
      "6.3,2.8,5.1,1.5,Iris-virginica\n",
      "6.1,2.6,5.6,1.4,Iris-virginica\n",
      "7.7,3.0,6.1,2.3,Iris-virginica\n",
      "6.3,3.4,5.6,2.4,Iris-virginica\n",
      "6.4,3.1,5.5,1.8,Iris-virginica\n",
      "6.0,3.0,4.8,1.8,Iris-virginica\n",
      "6.9,3.1,5.4,2.1,Iris-virginica\n",
      "6.7,3.1,5.6,2.4,Iris-virginica\n",
      "6.9,3.1,5.1,2.3,Iris-virginica\n",
      "5.8,2.7,5.1,1.9,Iris-virginica\n",
      "6.8,3.2,5.9,2.3,Iris-virginica\n",
      "6.7,3.3,5.7,2.5,Iris-virginica\n",
      "6.7,3.0,5.2,2.3,Iris-virginica\n",
      "6.3,2.5,5.0,1.9,Iris-virginica\n",
      "6.5,3.0,5.2,2.0,Iris-virginica\n",
      "6.2,3.4,5.4,2.3,Iris-virginica\n",
      "5.9,3.0,5.1,1.8,Iris-virginica\n",
      "\n"
     ]
    }
   ],
   "source": [
    "!type iris.data"
   ]
  },
  {
   "cell_type": "markdown",
   "metadata": {},
   "source": [
    "`pd.read_csv(\"iris.data\")`의 경우, 실행 같은 폴더에 있어야지만 실행이 됨"
   ]
  },
  {
   "cell_type": "markdown",
   "metadata": {},
   "source": [
    "## 1.2 Image 다운로드 - Bing Image Downloader 사용"
   ]
  },
  {
   "cell_type": "markdown",
   "metadata": {},
   "source": [
    "이미지 크롤링"
   ]
  },
  {
   "cell_type": "code",
   "execution_count": 5,
   "metadata": {},
   "outputs": [
    {
     "name": "stdout",
     "output_type": "stream",
     "text": [
      "Requirement already satisfied: bing_image_downloader in c:\\users\\iot\\anaconda3\\lib\\site-packages (1.1.2)\n"
     ]
    }
   ],
   "source": [
    "# Bing Image Downloader 패키기 설치하기\n",
    "!pip install bing_image_downloader"
   ]
  },
  {
   "cell_type": "code",
   "execution_count": 6,
   "metadata": {},
   "outputs": [
    {
     "name": "stdout",
     "output_type": "stream",
     "text": [
      "검색할 이미지 키워드를 입력하세요 (예: 노란바나나) => 파인애플\n",
      "다운로드할 이미지의 개수를 입력하세요 =>  5\n",
      "[%] Downloading Images to C:\\Users\\IOT\\Documents\\vision_AI\\0423\\파인애플\n",
      "\n",
      "\n",
      "[!!]Indexing page: 1\n",
      "\n",
      "[%] Indexed 5 Images on Page 1.\n",
      "\n",
      "===============================================\n",
      "\n",
      "[%] Downloading Image #1 from https://png.pngtree.com/png-clipart/20201209/original/pngtree-a-pineapple-png-image_5629047.jpg\n",
      "[%] File Downloaded !\n",
      "\n",
      "[%] Downloading Image #2 from https://upload.wikimedia.org/wikipedia/commons/7/7a/Ananas~May_2008-1.jpg\n",
      "[%] File Downloaded !\n",
      "\n",
      "[%] Downloading Image #3 from https://imgnn.seoul.co.kr/img/upload/2014/06/09/SSI_20140609135902.jpg\n",
      "[%] File Downloaded !\n",
      "\n",
      "[%] Downloading Image #4 from http://cfile215.uf.daum.net/image/998B863B5DB2E3DA350DFA\n",
      "[%] File Downloaded !\n",
      "\n",
      "[%] Downloading Image #5 from https://static.wikia.nocookie.net/nutri/images/8/86/파인애플.jpg/revision/latest?cb=20170505054308&amp;path-prefix=ko\n",
      "[!] Issue getting: https://static.wikia.nocookie.net/nutri/images/8/86/파인애플.jpg/revision/latest?cb=20170505054308&amp;path-prefix=ko\n",
      "[!] Error:: 'ascii' codec can't encode characters in position 23-26: ordinal not in range(128)\n",
      "\n",
      "\n",
      "[!!]Indexing page: 2\n",
      "\n",
      "[%] Indexed 35 Images on Page 2.\n",
      "\n",
      "===============================================\n",
      "\n",
      "[%] Downloading Image #5 from https://png.pngtree.com/png-clipart/20200701/original/pngtree-fresh-fruit-pineapple-png-image_5412674.jpg\n",
      "[%] File Downloaded !\n",
      "\n",
      "\n",
      "\n",
      "[%] Done. Downloaded 5 images.\n"
     ]
    }
   ],
   "source": [
    "# 다운로드할 이미지 키워드와 개수 지정하여 다운로드하기\n",
    "from bing_image_downloader import downloader\n",
    "import os\n",
    "\n",
    "keywords = input(\"검색할 이미지 키워드를 입력하세요 (예: 노란바나나) => \")\n",
    "limit = int(input(\"다운로드할 이미지의 개수를 입력하세요 =>  \"))\n",
    "\n",
    "# 현재 디렉토리의 절대 경로 가져오기\n",
    "current_directory = os.path.abspath('.')\n",
    "\n",
    "# 다운로드 정보 기록\n",
    "record = {\n",
    "    \"keywords\": keywords,\n",
    "    \"limit\": limit\n",
    "}\n",
    "\n",
    "# 이미지 다운로드 실행\n",
    "downloader.download(\n",
    "    record['keywords'], \n",
    "    limit=record['limit'],\n",
    "    output_dir=current_directory,  # 현재 디렉토리를 다운로드 경로로 설정\n",
    "    adult_filter_off=True,\n",
    "    force_replace=False,\n",
    "    timeout=60\n",
    ")"
   ]
  },
  {
   "cell_type": "markdown",
   "metadata": {},
   "source": [
    "## < 연습문제>\n",
    "- 여러개의 이미지를 다운로드 하는 코드를 작성해 보세요\n",
    "    - 입력 : 몇세트를 다운로드할지, 검색이미지 키워드, 다운로드할 이미지 개수"
   ]
  },
  {
   "cell_type": "code",
   "execution_count": 5,
   "metadata": {
    "collapsed": true
   },
   "outputs": [
    {
     "name": "stdout",
     "output_type": "stream",
     "text": [
      "이미지를 몇 종류나 다운로드할까요 =>  2\n",
      "검색할 이미지 키워드를 입력하세요 (예: 노란바나나) => 바나나\n",
      "다운로드할 이미지의 개수를 입력하세요 =>  3\n",
      "[%] Downloading Images to C:\\Users\\IOT\\Documents\\vision_AI\\0423\\바나나\n",
      "\n",
      "\n",
      "[!!]Indexing page: 1\n",
      "\n",
      "[%] Indexed 3 Images on Page 1.\n",
      "\n",
      "===============================================\n",
      "\n",
      "[%] Downloading Image #1 from http://pds.joins.com/news/component/htmlphoto_mmdata/201506/01/htm_2015060181910a010a012.jpg\n",
      "[%] File Downloaded !\n",
      "\n",
      "[%] Downloading Image #2 from https://dolesunshine.com/kr/wp-content/uploads/sites/4/2022/06/teuksun-Banana.png\n",
      "[%] File Downloaded !\n",
      "\n",
      "[%] Downloading Image #3 from https://health.chosun.com/site/data/img_dir/2022/02/23/2022022301615_0.jpg\n",
      "[Error]Invalid image, not saving https://health.chosun.com/site/data/img_dir/2022/02/23/2022022301615_0.jpg\n",
      "\n",
      "[!] Issue getting: https://health.chosun.com/site/data/img_dir/2022/02/23/2022022301615_0.jpg\n",
      "[!] Error:: Invalid image, not saving https://health.chosun.com/site/data/img_dir/2022/02/23/2022022301615_0.jpg\n",
      "\n",
      "\n",
      "\n",
      "[!!]Indexing page: 2\n",
      "\n",
      "[%] Indexed 35 Images on Page 2.\n",
      "\n",
      "===============================================\n",
      "\n",
      "[%] Downloading Image #3 from https://img.freepik.com/premium-photo/banana-bunch-isolated_88281-1027.jpg?w=2000\n",
      "[%] File Downloaded !\n",
      "\n",
      "\n",
      "\n",
      "[%] Done. Downloaded 3 images.\n",
      "검색할 이미지 키워드를 입력하세요 (예: 노란바나나) => 파프리카\n",
      "다운로드할 이미지의 개수를 입력하세요 =>  5\n",
      "[%] Downloading Images to C:\\Users\\IOT\\Documents\\vision_AI\\0423\\파프리카\n",
      "\n",
      "\n",
      "[!!]Indexing page: 1\n",
      "\n",
      "[%] Indexed 5 Images on Page 1.\n",
      "\n",
      "===============================================\n",
      "\n",
      "[%] Downloading Image #1 from https://img1.daumcdn.net/thumb/R1280x0.fpng/?fname=http://t1.daumcdn.net/brunch/service/user/7Qmi/image/WJqnO4k3FarFRyZJhNKW1gDRJZE.png\n",
      "[%] File Downloaded !\n",
      "\n",
      "[%] Downloading Image #2 from http://corp.miraewon.com/wp-content/uploads/2015/04/product-paprika-01-파프리카.jpg\n",
      "[!] Issue getting: http://corp.miraewon.com/wp-content/uploads/2015/04/product-paprika-01-파프리카.jpg\n",
      "[!] Error:: 'ascii' codec can't encode characters in position 51-54: ordinal not in range(128)\n",
      "[%] Downloading Image #2 from https://cdn.pixabay.com/photo/2020/03/14/10/44/paprika-4930224_1280.png\n",
      "[%] File Downloaded !\n",
      "\n",
      "[%] Downloading Image #3 from http://cfile240.uf.daum.net/image/1944A70F4AEE76B00FAE22\n",
      "[%] File Downloaded !\n",
      "\n",
      "[%] Downloading Image #4 from https://cdn.maily.so/phgl699yxdd6zp1hx6fben5k0f5f\n",
      "[%] File Downloaded !\n",
      "\n",
      "\n",
      "\n",
      "[!!]Indexing page: 2\n",
      "\n",
      "[%] Indexed 35 Images on Page 2.\n",
      "\n",
      "===============================================\n",
      "\n",
      "[%] Downloading Image #5 from https://static.megamart.com/product/image/1165/11652908/11652908_1_960.jpg\n",
      "[%] File Downloaded !\n",
      "\n",
      "\n",
      "\n",
      "[%] Done. Downloaded 5 images.\n"
     ]
    }
   ],
   "source": [
    "# code here\n",
    "\n",
    "image_type = int(input(\"이미지를 몇 종류나 다운로드할까요 =>  \"))\n",
    "\n",
    "# 다운로드할 이미지 키워드와 개수 지정하여 다운로드하기\n",
    "from bing_image_downloader import downloader\n",
    "import os\n",
    "\n",
    "for _ in range(image_type):\n",
    "    keywords = input(\"검색할 이미지 키워드를 입력하세요 (예: 노란바나나) => \")\n",
    "    limit = int(input(\"다운로드할 이미지의 개수를 입력하세요 =>  \"))\n",
    "\n",
    "    # 현재 디렉토리의 절대 경로 가져오기\n",
    "    current_directory = os.path.abspath('.')\n",
    "\n",
    "    # 다운로드 정보 기록\n",
    "    record = {\n",
    "        \"keywords\": keywords,\n",
    "        \"limit\": limit\n",
    "    }\n",
    "\n",
    "    # 이미지 다운로드 실행\n",
    "    downloader.download(\n",
    "        record['keywords'], \n",
    "        limit=record['limit'],\n",
    "        output_dir=current_directory,  # 현재 디렉토리를 다운로드 경로로 설정\n",
    "        adult_filter_off=True,\n",
    "        force_replace=False,\n",
    "        timeout=60\n",
    "    )"
   ]
  },
  {
   "cell_type": "code",
   "execution_count": 7,
   "metadata": {},
   "outputs": [
    {
     "name": "stdout",
     "output_type": "stream",
     "text": [
      "몇 개의 이미지 세트를 다운로드 하시겠습니까? 3\n",
      "검색할 이미지 키워드를 입력하세요 (예: 노란 바나나) => 바나나\n",
      "다운로드할 이미지의 개수를 입력하세요 =>  3\n",
      "검색할 이미지 키워드를 입력하세요 (예: 노란 바나나) => 파프리카\n",
      "다운로드할 이미지의 개수를 입력하세요 =>  5\n",
      "검색할 이미지 키워드를 입력하세요 (예: 노란 바나나) => 사과\n",
      "다운로드할 이미지의 개수를 입력하세요 =>  4\n",
      "[%] Downloading Images to C:\\Users\\IOT\\Documents\\vision_AI\\0423\\바나나\n",
      "\n",
      "\n",
      "[!!]Indexing page: 1\n",
      "\n",
      "[%] Indexed 3 Images on Page 1.\n",
      "\n",
      "===============================================\n",
      "\n",
      "[%] Downloading Image #1 from http://pds.joins.com/news/component/htmlphoto_mmdata/201506/01/htm_2015060181910a010a012.jpg\n",
      "[%] File Downloaded !\n",
      "\n",
      "[%] Downloading Image #2 from https://dolesunshine.com/kr/wp-content/uploads/sites/4/2022/06/teuksun-Banana.png\n",
      "[%] File Downloaded !\n",
      "\n",
      "[%] Downloading Image #3 from https://health.chosun.com/site/data/img_dir/2022/02/23/2022022301615_0.jpg\n",
      "[Error]Invalid image, not saving https://health.chosun.com/site/data/img_dir/2022/02/23/2022022301615_0.jpg\n",
      "\n",
      "[!] Issue getting: https://health.chosun.com/site/data/img_dir/2022/02/23/2022022301615_0.jpg\n",
      "[!] Error:: Invalid image, not saving https://health.chosun.com/site/data/img_dir/2022/02/23/2022022301615_0.jpg\n",
      "\n",
      "\n",
      "\n",
      "[!!]Indexing page: 2\n",
      "\n",
      "[%] Indexed 35 Images on Page 2.\n",
      "\n",
      "===============================================\n",
      "\n",
      "[%] Downloading Image #3 from https://img.freepik.com/premium-photo/banana-bunch-isolated_88281-1027.jpg?w=2000\n",
      "[%] File Downloaded !\n",
      "\n",
      "\n",
      "\n",
      "[%] Done. Downloaded 3 images.\n",
      "[%] Downloading Images to C:\\Users\\IOT\\Documents\\vision_AI\\0423\\파프리카\n",
      "\n",
      "\n",
      "[!!]Indexing page: 1\n",
      "\n",
      "[%] Indexed 5 Images on Page 1.\n",
      "\n",
      "===============================================\n",
      "\n",
      "[%] Downloading Image #1 from https://img1.daumcdn.net/thumb/R1280x0.fpng/?fname=http://t1.daumcdn.net/brunch/service/user/7Qmi/image/WJqnO4k3FarFRyZJhNKW1gDRJZE.png\n",
      "[%] File Downloaded !\n",
      "\n",
      "[%] Downloading Image #2 from http://corp.miraewon.com/wp-content/uploads/2015/04/product-paprika-01-파프리카.jpg\n",
      "[!] Issue getting: http://corp.miraewon.com/wp-content/uploads/2015/04/product-paprika-01-파프리카.jpg\n",
      "[!] Error:: 'ascii' codec can't encode characters in position 51-54: ordinal not in range(128)\n",
      "[%] Downloading Image #2 from https://cdn.pixabay.com/photo/2020/03/14/10/44/paprika-4930224_1280.png\n",
      "[%] File Downloaded !\n",
      "\n",
      "[%] Downloading Image #3 from http://cfile240.uf.daum.net/image/1944A70F4AEE76B00FAE22\n",
      "[%] File Downloaded !\n",
      "\n",
      "[%] Downloading Image #4 from https://cdn.maily.so/phgl699yxdd6zp1hx6fben5k0f5f\n",
      "[%] File Downloaded !\n",
      "\n",
      "\n",
      "\n",
      "[!!]Indexing page: 2\n",
      "\n",
      "[%] Indexed 35 Images on Page 2.\n",
      "\n",
      "===============================================\n",
      "\n",
      "[%] Downloading Image #5 from https://static.megamart.com/product/image/1165/11652908/11652908_1_960.jpg\n",
      "[%] File Downloaded !\n",
      "\n",
      "\n",
      "\n",
      "[%] Done. Downloaded 5 images.\n",
      "[%] Downloading Images to C:\\Users\\IOT\\Documents\\vision_AI\\0423\\사과\n",
      "\n",
      "\n",
      "[!!]Indexing page: 1\n",
      "\n",
      "[%] Indexed 4 Images on Page 1.\n",
      "\n",
      "===============================================\n",
      "\n",
      "[%] Downloading Image #1 from https://png.pngtree.com/png-clipart/20201209/original/pngtree-apple-png-image_5635847.jpg\n",
      "[%] File Downloaded !\n",
      "\n",
      "[%] Downloading Image #2 from https://www.costco.co.kr/medias/sys_master/images/h9d/h20/121246995578910.jpg\n",
      "[!] Issue getting: https://www.costco.co.kr/medias/sys_master/images/h9d/h20/121246995578910.jpg\n",
      "[!] Error:: The read operation timed out\n",
      "[%] Downloading Image #2 from https://png.pngtree.com/png-clipart/20190705/original/pngtree-illustration-hand-drawn-red-apple-fruit-material-ai-vector-fruit-element-png-image_4367497.jpg\n",
      "[%] File Downloaded !\n",
      "\n",
      "[%] Downloading Image #3 from https://www.kfoodtimes.com/news/photo/202012/14035_24953_1527.jpg\n",
      "[%] File Downloaded !\n",
      "\n",
      "\n",
      "\n",
      "[!!]Indexing page: 2\n",
      "\n",
      "[%] Indexed 35 Images on Page 2.\n",
      "\n",
      "===============================================\n",
      "\n",
      "[%] Downloading Image #4 from https://www.cyso.co.kr/data/item/1615268011/67aA7IKs66mU7J241.jpg\n",
      "[%] File Downloaded !\n",
      "\n",
      "\n",
      "\n",
      "[%] Done. Downloaded 4 images.\n"
     ]
    }
   ],
   "source": [
    "# 강사님 코드\n",
    "from bing_image_downloader import downloader\n",
    "import os\n",
    "records = []\n",
    "\n",
    "# 키워드와 다운로드 받을 개수를 입력받기 위한 함수 정의\n",
    "def get_user_record():\n",
    "    keywords = input(\"검색할 이미지 키워드를 입력하세요 (예: 노란 바나나) => \")\n",
    "    limit = int(input(\"다운로드할 이미지의 개수를 입력하세요 =>  \"))\n",
    "    record = { \"keywords\" : keywords ,\n",
    "               \"limit\" : limit }\n",
    "    \n",
    "    return record\n",
    "\n",
    "# 현재 디렉토리의 절대 경로 가져오기\n",
    "current_directory = os.path.abspath('.')\n",
    "\n",
    "num_records = int(input(\"몇 개의 이미지 세트를 다운로드 하시겠습니까? \"))\n",
    "\n",
    "for _ in range(num_records):\n",
    "    record = get_user_record()\n",
    "    records.append(record)\n",
    "    \n",
    "# 각 레코드에 대한 이미지 다운로드하기\n",
    "for record in records:\n",
    "    downloader.download(record['keywords'], \n",
    "                        limit=record['limit'],\n",
    "                        output_dir=current_directory,\n",
    "                        adult_filter_off=True,\n",
    "                        force_replace=False,\n",
    "                        timeout=60)"
   ]
  }
 ],
 "metadata": {
  "colab": {
   "name": "(1) Obtaining_data_Student.ipynb",
   "provenance": [],
   "version": "0.3.2"
  },
  "kernelspec": {
   "display_name": "Python 3 (ipykernel)",
   "language": "python",
   "name": "python3"
  },
  "language_info": {
   "codemirror_mode": {
    "name": "ipython",
    "version": 3
   },
   "file_extension": ".py",
   "mimetype": "text/x-python",
   "name": "python",
   "nbconvert_exporter": "python",
   "pygments_lexer": "ipython3",
   "version": "3.10.9"
  }
 },
 "nbformat": 4,
 "nbformat_minor": 1
}
