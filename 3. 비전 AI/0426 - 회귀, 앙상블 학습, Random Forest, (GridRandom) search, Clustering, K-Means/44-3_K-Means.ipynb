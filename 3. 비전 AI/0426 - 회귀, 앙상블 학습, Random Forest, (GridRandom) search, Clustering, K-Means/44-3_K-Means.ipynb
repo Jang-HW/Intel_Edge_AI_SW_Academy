{
 "cells": [
  {
   "cell_type": "code",
   "execution_count": 1,
   "metadata": {},
   "outputs": [
    {
     "name": "stdout",
     "output_type": "stream",
     "text": [
      "(150, 5)\n"
     ]
    }
   ],
   "source": [
    "import pandas as pd\n",
    "import matplotlib.pyplot as plt\n",
    "import numpy as np\n",
    "\n",
    "iris = pd.read_csv('./data/iris.data', header=None)\n",
    "\n",
    "names = [\"SepalLength\", \"SepalWidth\",\"PetalLength\", \"PetalWidth\", \"class\"]\n",
    "iris.columns = names\n",
    "\n",
    "print(iris.shape)"
   ]
  },
  {
   "cell_type": "code",
   "execution_count": 2,
   "metadata": {},
   "outputs": [
    {
     "data": {
      "text/html": [
       "<div>\n",
       "<style scoped>\n",
       "    .dataframe tbody tr th:only-of-type {\n",
       "        vertical-align: middle;\n",
       "    }\n",
       "\n",
       "    .dataframe tbody tr th {\n",
       "        vertical-align: top;\n",
       "    }\n",
       "\n",
       "    .dataframe thead th {\n",
       "        text-align: right;\n",
       "    }\n",
       "</style>\n",
       "<table border=\"1\" class=\"dataframe\">\n",
       "  <thead>\n",
       "    <tr style=\"text-align: right;\">\n",
       "      <th></th>\n",
       "      <th>SepalLength</th>\n",
       "      <th>SepalWidth</th>\n",
       "      <th>PetalLength</th>\n",
       "      <th>PetalWidth</th>\n",
       "      <th>class</th>\n",
       "    </tr>\n",
       "  </thead>\n",
       "  <tbody>\n",
       "    <tr>\n",
       "      <th>0</th>\n",
       "      <td>5.1</td>\n",
       "      <td>3.5</td>\n",
       "      <td>1.4</td>\n",
       "      <td>0.2</td>\n",
       "      <td>Iris-setosa</td>\n",
       "    </tr>\n",
       "    <tr>\n",
       "      <th>1</th>\n",
       "      <td>4.9</td>\n",
       "      <td>3.0</td>\n",
       "      <td>1.4</td>\n",
       "      <td>0.2</td>\n",
       "      <td>Iris-setosa</td>\n",
       "    </tr>\n",
       "    <tr>\n",
       "      <th>2</th>\n",
       "      <td>4.7</td>\n",
       "      <td>3.2</td>\n",
       "      <td>1.3</td>\n",
       "      <td>0.2</td>\n",
       "      <td>Iris-setosa</td>\n",
       "    </tr>\n",
       "    <tr>\n",
       "      <th>3</th>\n",
       "      <td>4.6</td>\n",
       "      <td>3.1</td>\n",
       "      <td>1.5</td>\n",
       "      <td>0.2</td>\n",
       "      <td>Iris-setosa</td>\n",
       "    </tr>\n",
       "    <tr>\n",
       "      <th>4</th>\n",
       "      <td>5.0</td>\n",
       "      <td>3.6</td>\n",
       "      <td>1.4</td>\n",
       "      <td>0.2</td>\n",
       "      <td>Iris-setosa</td>\n",
       "    </tr>\n",
       "  </tbody>\n",
       "</table>\n",
       "</div>"
      ],
      "text/plain": [
       "   SepalLength  SepalWidth  PetalLength  PetalWidth        class\n",
       "0          5.1         3.5          1.4         0.2  Iris-setosa\n",
       "1          4.9         3.0          1.4         0.2  Iris-setosa\n",
       "2          4.7         3.2          1.3         0.2  Iris-setosa\n",
       "3          4.6         3.1          1.5         0.2  Iris-setosa\n",
       "4          5.0         3.6          1.4         0.2  Iris-setosa"
      ]
     },
     "execution_count": 2,
     "metadata": {},
     "output_type": "execute_result"
    }
   ],
   "source": [
    "iris.head(5)"
   ]
  },
  {
   "cell_type": "markdown",
   "metadata": {},
   "source": [
    "1) 전체 데이터를 군집화할 K를 정하고 각 군집의 대표가 될 가상의 레이블인 무작위로 중심점 X와 Y 3개를 생성합니다.\n",
    "\n",
    "① K개의 중심을 무작위로 생성하기 위해 꽃잎의 길이와 폭 데이터만을 가져와 서 무작위로 중심점 X와 Y 3개를 생성합니다."
   ]
  },
  {
   "cell_type": "code",
   "execution_count": 3,
   "metadata": {},
   "outputs": [
    {
     "data": {
      "text/plain": [
       "array([[3.0, 1.4],\n",
       "       [3.2, 1.3]], dtype=object)"
      ]
     },
     "execution_count": 3,
     "metadata": {},
     "output_type": "execute_result"
    }
   ],
   "source": [
    "XY = np.array(iris)\n",
    "X = XY[:, 1:3]\n",
    "X[1:3, :]"
   ]
  },
  {
   "cell_type": "code",
   "execution_count": 4,
   "metadata": {},
   "outputs": [
    {
     "name": "stdout",
     "output_type": "stream",
     "text": [
      "[[3.  4.5]\n",
      " [2.9 1.4]\n",
      " [2.9 1.4]]\n"
     ]
    }
   ],
   "source": [
    "k = 3\n",
    "C_x = np.random.choice(X[:,0],k)\n",
    "C_y = np.random.choice(X[:,1],k)\n",
    "C = np.array(list(zip(C_x, C_y)))\n",
    "print(C)"
   ]
  },
  {
   "cell_type": "markdown",
   "metadata": {},
   "source": [
    "② 꽃잎의 길이와 폭 데이터와 중심점으로 잡은 세 점을 그래프로 나타냅니다."
   ]
  },
  {
   "cell_type": "code",
   "execution_count": 5,
   "metadata": {},
   "outputs": [
    {
     "data": {
      "image/png": "[encoded data removed]",
      "text/plain": [
       "<Figure size 640x480 with 1 Axes>"
      ]
     },
     "metadata": {},
     "output_type": "display_data"
    }
   ],
   "source": [
    "SepalLength = iris['SepalLength']\n",
    "SepalWidth = iris['SepalWidth']\n",
    "plt.title = ('SepalLength & SepalWidth')\n",
    "plt.xlabel = ('SepalLength')\n",
    "plt.ylabel = ('SepalWidth')\n",
    "plt.scatter(SepalLength, SepalWidth, marker ='^', c='blue' , s=10 , label='Sepal')\n",
    "plt.scatter(C_x,         C_y,        marker ='*', c='black', s=200, label='centroids')\n",
    "plt.legend(loc = 'best')\n",
    "plt.grid()\n",
    "plt.show()"
   ]
  },
  {
   "cell_type": "markdown",
   "metadata": {},
   "source": [
    "2) 각 데이터를 가장 가까운 중심점의 군집(cluster)에 할당하기"
   ]
  },
  {
   "cell_type": "code",
   "execution_count": 6,
   "metadata": {},
   "outputs": [],
   "source": [
    "def Distance(A, B):\n",
    "    return np.sqrt(np.sum(np.power((A-B),2)))\n",
    "\n",
    "C_old = np.zeros(C.shape)\n",
    "clusters = np.zeros(len(X))\n",
    "flag = Distance(C, C_old)"
   ]
  },
  {
   "cell_type": "code",
   "execution_count": null,
   "metadata": {},
   "outputs": [],
   "source": [
    "from copy import deepcopy\n",
    "\n",
    "distacnces = []\n",
    "while flag != 0 :\n",
    "    for i in range(len(X)):\n",
    "        for j in range(3):\n",
    "            temp = Distance(X[i],C[j])\n",
    "            distacnces.append(temp)\n",
    "            \n",
    "        cluster = np.argmin(distacnces)\n",
    "        clusters[i] = cluster\n",
    "        distacnces = []\n",
    "        \n",
    "    C_old = deepcopy(C)\n",
    "    \n",
    "    for i in range(k):\n",
    "        points = [X[j] for j in range(len(X)) if clusters[j] == i]\n",
    "        C[i] = np.mean(points)\n",
    "        \n",
    "    flag = Distance(C, C_old)"
   ]
  },
  {
   "cell_type": "code",
   "execution_count": null,
   "metadata": {},
   "outputs": [],
   "source": [
    "plt.title = ('SepalLength & SepalWidth')\n",
    "plt.xlabel = ('SepalLength')\n",
    "plt.ylabel = ('SepalWidth')\n",
    "plt.scatter(X[clusters==0,0], X[clusters==0,1], s= 50, marker ='o', c='red' , label='A')\n",
    "plt.scatter(X[clusters==1,0], X[clusters==1,1],        marker ='>', c='green', s=50, label='B')\n",
    "plt.scatter(X[clusters==2,0], X[clusters==2,1],        marker ='^', c='blue', s=50, label='C')\n",
    "plt.scatter(C[:,0], C[:,1],        marker ='*', c='black', s=50, label='Centroids')\n",
    "\n",
    "plt.legend(loc = 'best')\n",
    "plt.grid(True)\n",
    "plt.show()"
   ]
  }
 ],
 "metadata": {
  "kernelspec": {
   "display_name": "Python 3 (ipykernel)",
   "language": "python",
   "name": "python3"
  },
  "language_info": {
   "codemirror_mode": {
    "name": "ipython",
    "version": 3
   },
   "file_extension": ".py",
   "mimetype": "text/x-python",
   "name": "python",
   "nbconvert_exporter": "python",
   "pygments_lexer": "ipython3",
   "version": "3.10.9"
  }
 },
 "nbformat": 4,
 "nbformat_minor": 2
}
