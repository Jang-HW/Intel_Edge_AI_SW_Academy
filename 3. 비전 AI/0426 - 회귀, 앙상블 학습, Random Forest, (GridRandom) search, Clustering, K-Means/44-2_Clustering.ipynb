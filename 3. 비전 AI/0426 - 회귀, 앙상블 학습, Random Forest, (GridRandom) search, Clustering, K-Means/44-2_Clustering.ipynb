{
 "cells": [
  {
   "cell_type": "markdown",
   "metadata": {
    "id": "vqthW1ejDucN"
   },
   "source": [
    "## **마케팅 전략 수립을 위한 고객 군집화**"
   ]
  },
  {
   "cell_type": "markdown",
   "metadata": {
    "id": "ufEUFl40sAtW"
   },
   "source": [
    "K-means 알고리즘 특징\n",
    "- K-means은 군집을 원 모양으로 간주 한다.\n",
    "- 모든 특성은 동일한 Scale을 가져야 한다.\n",
    "- 이상치에 취약하다."
   ]
  },
  {
   "cell_type": "markdown",
   "metadata": {
    "id": "_t-4r9TmExcN"
   },
   "source": [
    "## <font color=green>**[ 데이터 준비 ]**"
   ]
  },
  {
   "cell_type": "markdown",
   "metadata": {
    "id": "hg_0VmYreEwz"
   },
   "source": [
    "### **Step 1 : 라이브러리 가져오기**"
   ]
  },
  {
   "cell_type": "code",
   "execution_count": 1,
   "metadata": {
    "id": "SKFoRCyms4gj"
   },
   "outputs": [],
   "source": [
    "import pandas as pd "
   ]
  },
  {
   "cell_type": "markdown",
   "metadata": {
    "id": "r9vzolmQFdPs"
   },
   "source": [
    "### **Step 2 : 데이터 읽기 및 정보 파악하기**\n",
    "**1) 데이터 가져와 저장하기**\n",
    "- 파일을 읽어 저장 후 내용을 출력한다."
   ]
  },
  {
   "cell_type": "code",
   "execution_count": 2,
   "metadata": {
    "colab": {
     "base_uri": "https://localhost:8080/"
    },
    "executionInfo": {
     "elapsed": 12,
     "status": "ok",
     "timestamp": 1667655521710,
     "user": {
      "displayName": "Lucy Jun",
      "userId": "14699261721809224327"
     },
     "user_tz": -540
    },
    "id": "SYNCtm6WtRSQ",
    "outputId": "c465b985-f4b0-49ec-c0a8-ba3829cbd858"
   },
   "outputs": [
    {
     "data": {
      "text/html": [
       "<div>\n",
       "<style scoped>\n",
       "    .dataframe tbody tr th:only-of-type {\n",
       "        vertical-align: middle;\n",
       "    }\n",
       "\n",
       "    .dataframe tbody tr th {\n",
       "        vertical-align: top;\n",
       "    }\n",
       "\n",
       "    .dataframe thead th {\n",
       "        text-align: right;\n",
       "    }\n",
       "</style>\n",
       "<table border=\"1\" class=\"dataframe\">\n",
       "  <thead>\n",
       "    <tr style=\"text-align: right;\">\n",
       "      <th></th>\n",
       "      <th>CustomerID</th>\n",
       "      <th>Gender</th>\n",
       "      <th>Age</th>\n",
       "      <th>Annual_Income</th>\n",
       "      <th>Spending_Score</th>\n",
       "    </tr>\n",
       "  </thead>\n",
       "  <tbody>\n",
       "    <tr>\n",
       "      <th>0</th>\n",
       "      <td>1</td>\n",
       "      <td>Male</td>\n",
       "      <td>19</td>\n",
       "      <td>15</td>\n",
       "      <td>39</td>\n",
       "    </tr>\n",
       "    <tr>\n",
       "      <th>1</th>\n",
       "      <td>2</td>\n",
       "      <td>Male</td>\n",
       "      <td>21</td>\n",
       "      <td>15</td>\n",
       "      <td>81</td>\n",
       "    </tr>\n",
       "    <tr>\n",
       "      <th>2</th>\n",
       "      <td>3</td>\n",
       "      <td>Female</td>\n",
       "      <td>20</td>\n",
       "      <td>16</td>\n",
       "      <td>6</td>\n",
       "    </tr>\n",
       "    <tr>\n",
       "      <th>3</th>\n",
       "      <td>4</td>\n",
       "      <td>Female</td>\n",
       "      <td>23</td>\n",
       "      <td>16</td>\n",
       "      <td>77</td>\n",
       "    </tr>\n",
       "    <tr>\n",
       "      <th>4</th>\n",
       "      <td>5</td>\n",
       "      <td>Female</td>\n",
       "      <td>31</td>\n",
       "      <td>17</td>\n",
       "      <td>40</td>\n",
       "    </tr>\n",
       "  </tbody>\n",
       "</table>\n",
       "</div>"
      ],
      "text/plain": [
       "   CustomerID  Gender  Age  Annual_Income  Spending_Score\n",
       "0           1    Male   19             15              39\n",
       "1           2    Male   21             15              81\n",
       "2           3  Female   20             16               6\n",
       "3           4  Female   23             16              77\n",
       "4           5  Female   31             17              40"
      ]
     },
     "execution_count": 2,
     "metadata": {},
     "output_type": "execute_result"
    }
   ],
   "source": [
    "df = pd.read_csv('./data/Mall_Customers.csv')\n",
    "df.head()"
   ]
  },
  {
   "cell_type": "markdown",
   "metadata": {
    "id": "jOD6cUHIUIzW"
   },
   "source": [
    "**데이터 열 :**  \n",
    "\n",
    "| 열 번호 | 컬럼명 | 설명 |\n",
    "|---------|----------|------|\n",
    "| 0       | CustomerID | 고객번호\n",
    "| 1       | Gender     | 성별 (Male/Female)\n",
    "| 2       | Age        | 나이 (숫자)\n",
    "| 3       | Annual Inocme  |연소득 (숫자, 단위: 1,000$)\n",
    "| 4       | Spending Score | 소비지수, 고객의 성향에 따른 지수 (1~100)\n"
   ]
  },
  {
   "cell_type": "markdown",
   "metadata": {
    "id": "e3ZgDO2fIekM"
   },
   "source": [
    "2) 데이터 정보 파악"
   ]
  },
  {
   "cell_type": "code",
   "execution_count": 3,
   "metadata": {
    "colab": {
     "base_uri": "https://localhost:8080/"
    },
    "executionInfo": {
     "elapsed": 12,
     "status": "ok",
     "timestamp": 1667655521711,
     "user": {
      "displayName": "Lucy Jun",
      "userId": "14699261721809224327"
     },
     "user_tz": -540
    },
    "id": "9zrFXeWBIn1q",
    "outputId": "7e5d833f-54b2-45a9-ab28-65d6e0ade8ed"
   },
   "outputs": [
    {
     "data": {
      "text/plain": [
       "(200, 5)"
      ]
     },
     "execution_count": 3,
     "metadata": {},
     "output_type": "execute_result"
    }
   ],
   "source": [
    "df.shape"
   ]
  },
  {
   "cell_type": "code",
   "execution_count": 4,
   "metadata": {
    "colab": {
     "base_uri": "https://localhost:8080/"
    },
    "executionInfo": {
     "elapsed": 10,
     "status": "ok",
     "timestamp": 1667655521711,
     "user": {
      "displayName": "Lucy Jun",
      "userId": "14699261721809224327"
     },
     "user_tz": -540
    },
    "id": "D8zKJBCvIgrI",
    "outputId": "ca4c7d71-8c74-427e-e92d-3752b0e73d8c"
   },
   "outputs": [
    {
     "name": "stdout",
     "output_type": "stream",
     "text": [
      "<class 'pandas.core.frame.DataFrame'>\n",
      "RangeIndex: 200 entries, 0 to 199\n",
      "Data columns (total 5 columns):\n",
      " #   Column          Non-Null Count  Dtype \n",
      "---  ------          --------------  ----- \n",
      " 0   CustomerID      200 non-null    int64 \n",
      " 1   Gender          200 non-null    object\n",
      " 2   Age             200 non-null    int64 \n",
      " 3   Annual_Income   200 non-null    int64 \n",
      " 4   Spending_Score  200 non-null    int64 \n",
      "dtypes: int64(4), object(1)\n",
      "memory usage: 7.9+ KB\n"
     ]
    }
   ],
   "source": [
    "df.info()"
   ]
  },
  {
   "cell_type": "code",
   "execution_count": 5,
   "metadata": {
    "colab": {
     "base_uri": "https://localhost:8080/"
    },
    "executionInfo": {
     "elapsed": 8,
     "status": "ok",
     "timestamp": 1667655521711,
     "user": {
      "displayName": "Lucy Jun",
      "userId": "14699261721809224327"
     },
     "user_tz": -540
    },
    "id": "E04Wh-JbcIMs",
    "outputId": "4b8d069d-0c4b-4710-a105-4d6785fbe817"
   },
   "outputs": [
    {
     "data": {
      "text/plain": [
       "Index(['CustomerID', 'Gender', 'Age', 'Annual_Income', 'Spending_Score'], dtype='object')"
      ]
     },
     "execution_count": 5,
     "metadata": {},
     "output_type": "execute_result"
    }
   ],
   "source": [
    "df.columns"
   ]
  },
  {
   "cell_type": "markdown",
   "metadata": {
    "id": "Ld9Ut8XnOoqG"
   },
   "source": [
    "3) 데이터 처리"
   ]
  },
  {
   "cell_type": "code",
   "execution_count": 6,
   "metadata": {
    "colab": {
     "base_uri": "https://localhost:8080/"
    },
    "executionInfo": {
     "elapsed": 7,
     "status": "ok",
     "timestamp": 1667655521711,
     "user": {
      "displayName": "Lucy Jun",
      "userId": "14699261721809224327"
     },
     "user_tz": -540
    },
    "id": "BDDlL52Kcml9",
    "outputId": "248ba194-ad2e-441a-dd30-116556118ce4"
   },
   "outputs": [
    {
     "data": {
      "text/plain": [
       "CustomerID        0\n",
       "Gender            0\n",
       "Age               0\n",
       "Annual_Income     0\n",
       "Spending_Score    0\n",
       "dtype: int64"
      ]
     },
     "execution_count": 6,
     "metadata": {},
     "output_type": "execute_result"
    }
   ],
   "source": [
    "df.isnull().sum()"
   ]
  },
  {
   "cell_type": "markdown",
   "metadata": {
    "id": "U-mCQQuCdLJu"
   },
   "source": [
    "### **Step 3 : 기계학습 데이터 준비**"
   ]
  },
  {
   "cell_type": "markdown",
   "metadata": {
    "id": "SKUqHDIldfTf"
   },
   "source": [
    "1) 특성/타켓 지정하기\n",
    "> 특성행렬 (Features) : X   \n",
    "\n",
    "-  X : Annual_Income, Spending_Score"
   ]
  },
  {
   "cell_type": "code",
   "execution_count": 7,
   "metadata": {
    "id": "dd6VtO_rQp7q"
   },
   "outputs": [],
   "source": [
    "X = df[[\"Annual_Income\", \"Spending_Score\"]]            #코드작성"
   ]
  },
  {
   "cell_type": "code",
   "execution_count": 8,
   "metadata": {
    "colab": {
     "base_uri": "https://localhost:8080/"
    },
    "executionInfo": {
     "elapsed": 6,
     "status": "ok",
     "timestamp": 1667655521712,
     "user": {
      "displayName": "Lucy Jun",
      "userId": "14699261721809224327"
     },
     "user_tz": -540
    },
    "id": "CeHlRz8Zg6Zp",
    "outputId": "9ba2efa2-b5a0-4211-e9e1-8828f9ec8692"
   },
   "outputs": [
    {
     "data": {
      "text/html": [
       "<div>\n",
       "<style scoped>\n",
       "    .dataframe tbody tr th:only-of-type {\n",
       "        vertical-align: middle;\n",
       "    }\n",
       "\n",
       "    .dataframe tbody tr th {\n",
       "        vertical-align: top;\n",
       "    }\n",
       "\n",
       "    .dataframe thead th {\n",
       "        text-align: right;\n",
       "    }\n",
       "</style>\n",
       "<table border=\"1\" class=\"dataframe\">\n",
       "  <thead>\n",
       "    <tr style=\"text-align: right;\">\n",
       "      <th></th>\n",
       "      <th>Annual_Income</th>\n",
       "      <th>Spending_Score</th>\n",
       "    </tr>\n",
       "  </thead>\n",
       "  <tbody>\n",
       "    <tr>\n",
       "      <th>0</th>\n",
       "      <td>15</td>\n",
       "      <td>39</td>\n",
       "    </tr>\n",
       "    <tr>\n",
       "      <th>1</th>\n",
       "      <td>15</td>\n",
       "      <td>81</td>\n",
       "    </tr>\n",
       "    <tr>\n",
       "      <th>2</th>\n",
       "      <td>16</td>\n",
       "      <td>6</td>\n",
       "    </tr>\n",
       "    <tr>\n",
       "      <th>3</th>\n",
       "      <td>16</td>\n",
       "      <td>77</td>\n",
       "    </tr>\n",
       "    <tr>\n",
       "      <th>4</th>\n",
       "      <td>17</td>\n",
       "      <td>40</td>\n",
       "    </tr>\n",
       "  </tbody>\n",
       "</table>\n",
       "</div>"
      ],
      "text/plain": [
       "   Annual_Income  Spending_Score\n",
       "0             15              39\n",
       "1             15              81\n",
       "2             16               6\n",
       "3             16              77\n",
       "4             17              40"
      ]
     },
     "execution_count": 8,
     "metadata": {},
     "output_type": "execute_result"
    }
   ],
   "source": [
    "X.head()"
   ]
  },
  {
   "cell_type": "markdown",
   "metadata": {
    "id": "TKWRL6g2hcXN"
   },
   "source": [
    "## <font color=green>**[ 기계학습 군집화 모델 구현하기 ]**"
   ]
  },
  {
   "cell_type": "markdown",
   "metadata": {
    "id": "J76rNFcyhgXl"
   },
   "source": [
    "### **Step 1. 라이브러리 가져오기**\n",
    "> sklearn.cluster.KMeans : sklearn 라이브러리의 의 군집 KMeans 알고리즘 적용"
   ]
  },
  {
   "cell_type": "code",
   "execution_count": 9,
   "metadata": {
    "id": "hfZlp76Vhbr6"
   },
   "outputs": [],
   "source": [
    "from sklearn.cluster import KMeans \n",
    "import matplotlib.pyplot as plt\n",
    "from sklearn.metrics import silhouette_samples, silhouette_score "
   ]
  },
  {
   "cell_type": "markdown",
   "metadata": {
    "id": "Nbn6Fh8LhquV"
   },
   "source": [
    "### **Step 2. 모델 객체 생성**\n",
    "> KMeans() 선언하여 모델 객체 생성하기"
   ]
  },
  {
   "cell_type": "code",
   "execution_count": 10,
   "metadata": {
    "id": "pbj8tF4CI_r2"
   },
   "outputs": [],
   "source": [
    "k = 5                                                        #군집 개수\n",
    "model_km = KMeans(n_clusters=k, random_state=42)            #코드작성"
   ]
  },
  {
   "cell_type": "markdown",
   "metadata": {
    "id": "GiXsiNgzh4VK"
   },
   "source": [
    "### **Step 3. 모델 학습**\n",
    "> 데이터(X)로 선언한 모델(model_km)을 이용하여 학습(fit)하기"
   ]
  },
  {
   "cell_type": "markdown",
   "metadata": {
    "id": "aKsGoFJdiENw"
   },
   "source": [
    "- X 데이터 프레임에 대해 모델 학습"
   ]
  },
  {
   "cell_type": "code",
   "execution_count": 11,
   "metadata": {
    "colab": {
     "base_uri": "https://localhost:8080/"
    },
    "executionInfo": {
     "elapsed": 8,
     "status": "ok",
     "timestamp": 1667655523334,
     "user": {
      "displayName": "Lucy Jun",
      "userId": "14699261721809224327"
     },
     "user_tz": -540
    },
    "id": "fdEbLKDDh_3j",
    "outputId": "f352e61a-1766-43a9-b98c-a6154b9fc8ce"
   },
   "outputs": [
    {
     "name": "stderr",
     "output_type": "stream",
     "text": [
      "C:\\Users\\IOT\\anaconda3\\lib\\site-packages\\sklearn\\cluster\\_kmeans.py:870: FutureWarning: The default value of `n_init` will change from 10 to 'auto' in 1.4. Set the value of `n_init` explicitly to suppress the warning\n",
      "  warnings.warn(\n",
      "C:\\Users\\IOT\\anaconda3\\lib\\site-packages\\sklearn\\cluster\\_kmeans.py:1382: UserWarning: KMeans is known to have a memory leak on Windows with MKL, when there are less chunks than available threads. You can avoid it by setting the environment variable OMP_NUM_THREADS=1.\n",
      "  warnings.warn(\n"
     ]
    },
    {
     "data": {
      "text/html": [
       "<style>#sk-container-id-1 {color: black;background-color: white;}#sk-container-id-1 pre{padding: 0;}#sk-container-id-1 div.sk-toggleable {background-color: white;}#sk-container-id-1 label.sk-toggleable__label {cursor: pointer;display: block;width: 100%;margin-bottom: 0;padding: 0.3em;box-sizing: border-box;text-align: center;}#sk-container-id-1 label.sk-toggleable__label-arrow:before {content: \"▸\";float: left;margin-right: 0.25em;color: #696969;}#sk-container-id-1 label.sk-toggleable__label-arrow:hover:before {color: black;}#sk-container-id-1 div.sk-estimator:hover label.sk-toggleable__label-arrow:before {color: black;}#sk-container-id-1 div.sk-toggleable__content {max-height: 0;max-width: 0;overflow: hidden;text-align: left;background-color: #f0f8ff;}#sk-container-id-1 div.sk-toggleable__content pre {margin: 0.2em;color: black;border-radius: 0.25em;background-color: #f0f8ff;}#sk-container-id-1 input.sk-toggleable__control:checked~div.sk-toggleable__content {max-height: 200px;max-width: 100%;overflow: auto;}#sk-container-id-1 input.sk-toggleable__control:checked~label.sk-toggleable__label-arrow:before {content: \"▾\";}#sk-container-id-1 div.sk-estimator input.sk-toggleable__control:checked~label.sk-toggleable__label {background-color: #d4ebff;}#sk-container-id-1 div.sk-label input.sk-toggleable__control:checked~label.sk-toggleable__label {background-color: #d4ebff;}#sk-container-id-1 input.sk-hidden--visually {border: 0;clip: rect(1px 1px 1px 1px);clip: rect(1px, 1px, 1px, 1px);height: 1px;margin: -1px;overflow: hidden;padding: 0;position: absolute;width: 1px;}#sk-container-id-1 div.sk-estimator {font-family: monospace;background-color: #f0f8ff;border: 1px dotted black;border-radius: 0.25em;box-sizing: border-box;margin-bottom: 0.5em;}#sk-container-id-1 div.sk-estimator:hover {background-color: #d4ebff;}#sk-container-id-1 div.sk-parallel-item::after {content: \"\";width: 100%;border-bottom: 1px solid gray;flex-grow: 1;}#sk-container-id-1 div.sk-label:hover label.sk-toggleable__label {background-color: #d4ebff;}#sk-container-id-1 div.sk-serial::before {content: \"\";position: absolute;border-left: 1px solid gray;box-sizing: border-box;top: 0;bottom: 0;left: 50%;z-index: 0;}#sk-container-id-1 div.sk-serial {display: flex;flex-direction: column;align-items: center;background-color: white;padding-right: 0.2em;padding-left: 0.2em;position: relative;}#sk-container-id-1 div.sk-item {position: relative;z-index: 1;}#sk-container-id-1 div.sk-parallel {display: flex;align-items: stretch;justify-content: center;background-color: white;position: relative;}#sk-container-id-1 div.sk-item::before, #sk-container-id-1 div.sk-parallel-item::before {content: \"\";position: absolute;border-left: 1px solid gray;box-sizing: border-box;top: 0;bottom: 0;left: 50%;z-index: -1;}#sk-container-id-1 div.sk-parallel-item {display: flex;flex-direction: column;z-index: 1;position: relative;background-color: white;}#sk-container-id-1 div.sk-parallel-item:first-child::after {align-self: flex-end;width: 50%;}#sk-container-id-1 div.sk-parallel-item:last-child::after {align-self: flex-start;width: 50%;}#sk-container-id-1 div.sk-parallel-item:only-child::after {width: 0;}#sk-container-id-1 div.sk-dashed-wrapped {border: 1px dashed gray;margin: 0 0.4em 0.5em 0.4em;box-sizing: border-box;padding-bottom: 0.4em;background-color: white;}#sk-container-id-1 div.sk-label label {font-family: monospace;font-weight: bold;display: inline-block;line-height: 1.2em;}#sk-container-id-1 div.sk-label-container {text-align: center;}#sk-container-id-1 div.sk-container {/* jupyter's `normalize.less` sets `[hidden] { display: none; }` but bootstrap.min.css set `[hidden] { display: none !important; }` so we also need the `!important` here to be able to override the default hidden behavior on the sphinx rendered scikit-learn.org. See: https://github.com/scikit-learn/scikit-learn/issues/21755 */display: inline-block !important;position: relative;}#sk-container-id-1 div.sk-text-repr-fallback {display: none;}</style><div id=\"sk-container-id-1\" class=\"sk-top-container\"><div class=\"sk-text-repr-fallback\"><pre>KMeans(n_clusters=5, random_state=42)</pre><b>In a Jupyter environment, please rerun this cell to show the HTML representation or trust the notebook. <br />On GitHub, the HTML representation is unable to render, please try loading this page with nbviewer.org.</b></div><div class=\"sk-container\" hidden><div class=\"sk-item\"><div class=\"sk-estimator sk-toggleable\"><input class=\"sk-toggleable__control sk-hidden--visually\" id=\"sk-estimator-id-1\" type=\"checkbox\" checked><label for=\"sk-estimator-id-1\" class=\"sk-toggleable__label sk-toggleable__label-arrow\">KMeans</label><div class=\"sk-toggleable__content\"><pre>KMeans(n_clusters=5, random_state=42)</pre></div></div></div></div></div>"
      ],
      "text/plain": [
       "KMeans(n_clusters=5, random_state=42)"
      ]
     },
     "execution_count": 11,
     "metadata": {},
     "output_type": "execute_result"
    }
   ],
   "source": [
    "#코드작성\n",
    "model_km.fit(X)"
   ]
  },
  {
   "cell_type": "markdown",
   "metadata": {
    "id": "lL046McCic9d"
   },
   "source": [
    "- 각 클러스터의 중심점 확인"
   ]
  },
  {
   "cell_type": "code",
   "execution_count": 12,
   "metadata": {
    "colab": {
     "base_uri": "https://localhost:8080/"
    },
    "executionInfo": {
     "elapsed": 6,
     "status": "ok",
     "timestamp": 1667655523334,
     "user": {
      "displayName": "Lucy Jun",
      "userId": "14699261721809224327"
     },
     "user_tz": -540
    },
    "id": "RQNPMQGlPyXa",
    "outputId": "6f0c0c06-27d1-4702-95e8-1f0afbe172a1"
   },
   "outputs": [
    {
     "data": {
      "text/plain": [
       "array([[55.2962963 , 49.51851852],\n",
       "       [88.2       , 17.11428571],\n",
       "       [26.30434783, 20.91304348],\n",
       "       [25.72727273, 79.36363636],\n",
       "       [86.53846154, 82.12820513]])"
      ]
     },
     "execution_count": 12,
     "metadata": {},
     "output_type": "execute_result"
    }
   ],
   "source": [
    "#코드작성\n",
    "model_km.cluster_centers_"
   ]
  },
  {
   "cell_type": "code",
   "execution_count": 13,
   "metadata": {
    "colab": {
     "base_uri": "https://localhost:8080/"
    },
    "executionInfo": {
     "elapsed": 6,
     "status": "ok",
     "timestamp": 1667655523335,
     "user": {
      "displayName": "Lucy Jun",
      "userId": "14699261721809224327"
     },
     "user_tz": -540
    },
    "id": "uGpAzPwEP_Cf",
    "outputId": "cc062c34-725b-4a0a-8253-3065e5e2568f"
   },
   "outputs": [
    {
     "data": {
      "text/plain": [
       "array([2, 3, 2, 3, 2, 3, 2, 3, 2, 3, 2, 3, 2, 3, 2, 3, 2, 3, 2, 3, 2, 3,\n",
       "       2, 3, 2, 3, 2, 3, 2, 3, 2, 3, 2, 3, 2, 3, 2, 3, 2, 3, 2, 3, 2, 0,\n",
       "       2, 3, 0, 0, 0, 0, 0, 0, 0, 0, 0, 0, 0, 0, 0, 0, 0, 0, 0, 0, 0, 0,\n",
       "       0, 0, 0, 0, 0, 0, 0, 0, 0, 0, 0, 0, 0, 0, 0, 0, 0, 0, 0, 0, 0, 0,\n",
       "       0, 0, 0, 0, 0, 0, 0, 0, 0, 0, 0, 0, 0, 0, 0, 0, 0, 0, 0, 0, 0, 0,\n",
       "       0, 0, 0, 0, 0, 0, 0, 0, 0, 0, 0, 0, 0, 4, 1, 4, 0, 4, 1, 4, 1, 4,\n",
       "       0, 4, 1, 4, 1, 4, 1, 4, 1, 4, 0, 4, 1, 4, 1, 4, 1, 4, 1, 4, 1, 4,\n",
       "       1, 4, 1, 4, 1, 4, 1, 4, 1, 4, 1, 4, 1, 4, 1, 4, 1, 4, 1, 4, 1, 4,\n",
       "       1, 4, 1, 4, 1, 4, 1, 4, 1, 4, 1, 4, 1, 4, 1, 4, 1, 4, 1, 4, 1, 4,\n",
       "       1, 4])"
      ]
     },
     "execution_count": 13,
     "metadata": {},
     "output_type": "execute_result"
    }
   ],
   "source": [
    "model_km.labels_ "
   ]
  },
  {
   "cell_type": "markdown",
   "metadata": {
    "id": "OLFL_gHZCfH8"
   },
   "source": [
    "- 각 군집의 데이터 수를 확인한다."
   ]
  },
  {
   "cell_type": "code",
   "execution_count": 14,
   "metadata": {
    "colab": {
     "base_uri": "https://localhost:8080/"
    },
    "executionInfo": {
     "elapsed": 5,
     "status": "ok",
     "timestamp": 1667655523335,
     "user": {
      "displayName": "Lucy Jun",
      "userId": "14699261721809224327"
     },
     "user_tz": -540
    },
    "id": "_57RCtVB6xNn",
    "outputId": "89867442-907b-4604-96b1-29e6b66388a5"
   },
   "outputs": [
    {
     "data": {
      "text/plain": [
       "0    81\n",
       "4    39\n",
       "1    35\n",
       "2    23\n",
       "3    22\n",
       "dtype: int64"
      ]
     },
     "execution_count": 14,
     "metadata": {},
     "output_type": "execute_result"
    }
   ],
   "source": [
    "#코드작성\n",
    "pd.DataFrame(model_km.labels_).value_counts()"
   ]
  },
  {
   "cell_type": "markdown",
   "metadata": {
    "id": "SvWV11bpQc2G"
   },
   "source": [
    "### **Step 4. 모델 예측**"
   ]
  },
  {
   "cell_type": "markdown",
   "metadata": {
    "id": "ypeI8ZiYi0mf"
   },
   "source": [
    "> 데이터(X)로 속하는 그룹을 예측하기(predict())   "
   ]
  },
  {
   "cell_type": "code",
   "execution_count": 15,
   "metadata": {
    "colab": {
     "base_uri": "https://localhost:8080/"
    },
    "executionInfo": {
     "elapsed": 849,
     "status": "ok",
     "timestamp": 1667655524181,
     "user": {
      "displayName": "Lucy Jun",
      "userId": "14699261721809224327"
     },
     "user_tz": -540
    },
    "id": "nK3RljXXi6JC",
    "outputId": "92443093-8cbb-4f7b-c185-aa3c5dcfa171"
   },
   "outputs": [
    {
     "data": {
      "image/png": "[encoded data removed]",
      "text/plain": [
       "<Figure size 640x480 with 1 Axes>"
      ]
     },
     "metadata": {},
     "output_type": "display_data"
    }
   ],
   "source": [
    "plt.figure() \n",
    "\n",
    "plt.title( 'Clustering of Customers, k=' + str(k) )\n",
    "plt.xlabel( X.columns[0])   # Annual_Income\n",
    "plt.ylabel( X.columns[1])   # Spending_Score\n",
    "\n",
    "colors = ['C0','C1','C2','C3','C4','C5','C6','C7','C8','C9']\n",
    "\n",
    "for i in range(k) :        \n",
    "    plt.scatter( X.iloc[model_km.labels_==i, 0], \n",
    "                 X.iloc[model_km.labels_==i, 1], \n",
    "                 c = colors[i%10],  label = 'Cluster '+ str(i) ) \n",
    "\n",
    "plt.scatter( model_km.cluster_centers_[:, 0], \n",
    "             model_km.cluster_centers_[:, 1], \n",
    "             c='black', marker='*', s=200, label='Centroids' ) \n",
    "\n",
    "plt.legend()\n",
    "plt.show()"
   ]
  },
  {
   "cell_type": "markdown",
   "metadata": {
    "id": "vjXgmLitOyDK"
   },
   "source": [
    "- 고객 분류 (그룹 0-4는 학습시마다 변경되므로 A-E 로 구분함)\n",
    "\n",
    "  >그룹 A : 연소득이 높고 소비지수도 높은 고객\n",
    "\n",
    "  >그룹 B : 연소득이 높고 소비지수는 낮은 고객\n",
    "\n",
    "  >그룹 C : 연소득은 낮고 소비지수는 높은 고객\n",
    "\n",
    "  >그룹 D : 연소득과 소비지수가 모두 중간인 고객\n",
    "\n",
    "  >그룹 E : 연소득이 낮고 소비지수도 낮은 고객"
   ]
  },
  {
   "cell_type": "markdown",
   "metadata": {
    "id": "zpY8z93XCn4N"
   },
   "source": [
    "- 특정 고객이 어느 그룹에 속하는지 확인해 보자. ( 연소득 : 85 K$, 소비지수 : 65 )"
   ]
  },
  {
   "cell_type": "code",
   "execution_count": 16,
   "metadata": {
    "colab": {
     "base_uri": "https://localhost:8080/"
    },
    "executionInfo": {
     "elapsed": 8,
     "status": "ok",
     "timestamp": 1667655524182,
     "user": {
      "displayName": "Lucy Jun",
      "userId": "14699261721809224327"
     },
     "user_tz": -540
    },
    "id": "M1y9qvPiCjl6",
    "outputId": "ba1ca884-1769-4dd0-9c56-5e1f83b3d507"
   },
   "outputs": [
    {
     "name": "stdout",
     "output_type": "stream",
     "text": [
      "[4]\n"
     ]
    }
   ],
   "source": [
    "print(model_km.predict(pd.DataFrame({'Annual_Income':[85], 'Spending_Score':[65]})))"
   ]
  },
  {
   "cell_type": "code",
   "execution_count": 17,
   "metadata": {
    "colab": {
     "base_uri": "https://localhost:8080/"
    },
    "executionInfo": {
     "elapsed": 907,
     "status": "ok",
     "timestamp": 1667655525085,
     "user": {
      "displayName": "Lucy Jun",
      "userId": "14699261721809224327"
     },
     "user_tz": -540
    },
    "id": "zrA-eTJ6MGKH",
    "outputId": "69e2ff93-ca9b-4a18-db95-f72b304f5972"
   },
   "outputs": [
    {
     "data": {
      "image/png": "[encoded data removed]",
      "text/plain": [
       "<Figure size 640x480 with 1 Axes>"
      ]
     },
     "metadata": {},
     "output_type": "display_data"
    }
   ],
   "source": [
    "plt.figure() \n",
    "\n",
    "plt.title( 'Clustering of Customers, k=' + str(k) )\n",
    "plt.xlabel( X.columns[0])   # Annual_Income\n",
    "plt.ylabel( X.columns[1])   # Spending_Score\n",
    "\n",
    "colors = ['C0','C1','C2','C3','C4','C5','C6','C7','C8','C9']\n",
    "\n",
    "for i in range(k) :        \n",
    "    plt.scatter( X.iloc[model_km.labels_==i, 0], \n",
    "                 X.iloc[model_km.labels_==i, 1], \n",
    "                 c = colors[i%10],  label = 'Cluster '+ str(i) ) \n",
    "\n",
    "plt.scatter( model_km.cluster_centers_[:, 0], \n",
    "             model_km.cluster_centers_[:, 1], \n",
    "             c='black', marker='*', s=200, label='Centroids' ) \n",
    "\n",
    "# Annual_Income: 85, Spending_Score : 65\n",
    "plt.scatter(85, 65, c = 'red', marker='X', s=200, label='Test') \n",
    "\n",
    "plt.legend()\n",
    "plt.show()"
   ]
  },
  {
   "cell_type": "markdown",
   "metadata": {
    "id": "KmxCnfapQg5m"
   },
   "source": [
    "- 평가하기"
   ]
  },
  {
   "cell_type": "code",
   "execution_count": 18,
   "metadata": {
    "id": "OE_A-QyKZv5Z"
   },
   "outputs": [],
   "source": [
    "from sklearn.metrics import silhouette_samples, silhouette_score "
   ]
  },
  {
   "cell_type": "markdown",
   "metadata": {
    "id": "TYQOwqcXCyf8"
   },
   "source": [
    "- 전체 군집에 대해 실루엣 지수를 확인한다."
   ]
  },
  {
   "cell_type": "code",
   "execution_count": 25,
   "metadata": {
    "colab": {
     "base_uri": "https://localhost:8080/"
    },
    "executionInfo": {
     "elapsed": 10,
     "status": "ok",
     "timestamp": 1667655525406,
     "user": {
      "displayName": "Lucy Jun",
      "userId": "14699261721809224327"
     },
     "user_tz": -540
    },
    "id": "qqGr9RoJZzM6",
    "outputId": "c949aa1e-9ed2-4db1-d61f-527966b0c4da"
   },
   "outputs": [
    {
     "data": {
      "text/plain": [
       "0.4565077334305076"
      ]
     },
     "execution_count": 25,
     "metadata": {},
     "output_type": "execute_result"
    }
   ],
   "source": [
    "#코드작성\n",
    "# 1에 가까울 수록 잘 나온 값\n",
    "silhouette_score(X, model_km.labels_)"
   ]
  },
  {
   "cell_type": "markdown",
   "metadata": {
    "id": "Mu8mJrphDI2P"
   },
   "source": [
    "- 각 데이터별 실루엣 지수를 확인한다."
   ]
  },
  {
   "cell_type": "code",
   "execution_count": 20,
   "metadata": {
    "colab": {
     "base_uri": "https://localhost:8080/"
    },
    "executionInfo": {
     "elapsed": 11,
     "status": "ok",
     "timestamp": 1667655525406,
     "user": {
      "displayName": "Lucy Jun",
      "userId": "14699261721809224327"
     },
     "user_tz": -540
    },
    "id": "R5MKqaI-ZxFd",
    "outputId": "1460e2c2-edd9-4ee5-ff9e-13ec7fe17e4d"
   },
   "outputs": [
    {
     "data": {
      "text/plain": [
       "array([ 0.41700493,  0.69637752,  0.6399526 ,  0.6964831 ,  0.39230007,\n",
       "        0.6981303 ,  0.64910316,  0.65972193,  0.63021343,  0.66350398,\n",
       "        0.67788678,  0.62355268,  0.68003912,  0.71908624,  0.68070792,\n",
       "        0.72573786,  0.48557434,  0.54505971,  0.58062414,  0.631684  ,\n",
       "        0.46597803,  0.6774284 ,  0.64167396,  0.67170097,  0.66126882,\n",
       "        0.70488566,  0.48931822,  0.30121073,  0.49570828,  0.6847372 ,\n",
       "        0.60630845,  0.612474  ,  0.57697817,  0.61775968,  0.60922585,\n",
       "        0.63936997,  0.58581667,  0.52897452,  0.42116018,  0.48378692,\n",
       "        0.09342298,  0.54589636, -0.00927769,  0.1170758 ,  0.31116673,\n",
       "        0.0507214 ,  0.38841392,  0.43312564,  0.29204034,  0.29204034,\n",
       "        0.5203998 ,  0.30155503,  0.51561237,  0.34144075,  0.48988757,\n",
       "        0.37332421,  0.59860522,  0.54128572,  0.63883859,  0.59367906,\n",
       "        0.55806656,  0.57952023,  0.64920886,  0.50415514,  0.67809813,\n",
       "        0.52881485,  0.68358333,  0.66547762,  0.52881485,  0.65267375,\n",
       "        0.64243997,  0.57400953,  0.70652524,  0.64014053,  0.73196104,\n",
       "        0.71947278,  0.73150424,  0.74072908,  0.74112697,  0.65442117,\n",
       "        0.74842791,  0.70493684,  0.6324437 ,  0.69181748,  0.66873928,\n",
       "        0.72079722,  0.66736088,  0.71987017,  0.61927606,  0.74062737,\n",
       "        0.71071231,  0.66933998,  0.75806935,  0.63780859,  0.68008375,\n",
       "        0.73774074,  0.74739227,  0.75333445,  0.6681954 ,  0.7479776 ,\n",
       "        0.63283954,  0.73228236,  0.58468938,  0.6713546 ,  0.65309276,\n",
       "        0.65391468,  0.71512793,  0.69903269,  0.65596358,  0.71753797,\n",
       "        0.69674735,  0.67041662,  0.61798141,  0.68149135,  0.68126272,\n",
       "        0.67902309,  0.61636814,  0.51997874,  0.56810891,  0.52148137,\n",
       "        0.54460203,  0.4988398 ,  0.43652577,  0.48194179,  0.00351627,\n",
       "        0.350038  ,  0.19940439,  0.51455576,  0.48547142,  0.33164486,\n",
       "        0.49666181,  0.33164486,  0.11529355,  0.2254125 ,  0.53389918,\n",
       "        0.54953967,  0.53671842,  0.33124639,  0.54753461,  0.32604311,\n",
       "        0.56138124,  0.57713075,  0.19236846,  0.59306426,  0.58338266,\n",
       "        0.57689717, -0.02338083,  0.45197042,  0.48286026,  0.61822335,\n",
       "        0.56143587,  0.61857464,  0.51997252,  0.51046415,  0.57147203,\n",
       "        0.61933811,  0.5718828 ,  0.54263404,  0.5718828 ,  0.44365896,\n",
       "        0.10184214,  0.60554668,  0.61371866,  0.62850916,  0.50603232,\n",
       "        0.55667737,  0.60779683,  0.6340297 ,  0.50543845,  0.28595404,\n",
       "        0.65696071,  0.56463752,  0.65419565,  0.64913803,  0.65882448,\n",
       "        0.65368602,  0.65340848,  0.45539717,  0.65239587,  0.64736478,\n",
       "        0.46477526,  0.63322429,  0.6346086 ,  0.63100118,  0.34080466,\n",
       "        0.60337125,  0.57181215,  0.46593537,  0.60637819,  0.59982837,\n",
       "        0.57321049,  0.47652583,  0.55652321,  0.54559672,  0.51127799,\n",
       "        0.47849409,  0.38313815,  0.38250608,  0.38172388,  0.36620886])"
      ]
     },
     "execution_count": 20,
     "metadata": {},
     "output_type": "execute_result"
    }
   ],
   "source": [
    "silhouette_samples(X, model_km.labels_)"
   ]
  },
  {
   "cell_type": "code",
   "execution_count": 21,
   "metadata": {
    "colab": {
     "base_uri": "https://localhost:8080/"
    },
    "executionInfo": {
     "elapsed": 9,
     "status": "ok",
     "timestamp": 1667655525407,
     "user": {
      "displayName": "Lucy Jun",
      "userId": "14699261721809224327"
     },
     "user_tz": -540
    },
    "id": "K7748tOkQfW3",
    "outputId": "922df207-6c2a-477e-adcb-a902d8d06840"
   },
   "outputs": [
    {
     "data": {
      "text/html": [
       "<div>\n",
       "<style scoped>\n",
       "    .dataframe tbody tr th:only-of-type {\n",
       "        vertical-align: middle;\n",
       "    }\n",
       "\n",
       "    .dataframe tbody tr th {\n",
       "        vertical-align: top;\n",
       "    }\n",
       "\n",
       "    .dataframe thead th {\n",
       "        text-align: right;\n",
       "    }\n",
       "</style>\n",
       "<table border=\"1\" class=\"dataframe\">\n",
       "  <thead>\n",
       "    <tr style=\"text-align: right;\">\n",
       "      <th></th>\n",
       "      <th>Annual_Income</th>\n",
       "      <th>Spending_Score</th>\n",
       "      <th>Cluster_no</th>\n",
       "      <th>S_score</th>\n",
       "    </tr>\n",
       "  </thead>\n",
       "  <tbody>\n",
       "    <tr>\n",
       "      <th>0</th>\n",
       "      <td>15</td>\n",
       "      <td>39</td>\n",
       "      <td>2</td>\n",
       "      <td>0.417005</td>\n",
       "    </tr>\n",
       "    <tr>\n",
       "      <th>1</th>\n",
       "      <td>15</td>\n",
       "      <td>81</td>\n",
       "      <td>3</td>\n",
       "      <td>0.696378</td>\n",
       "    </tr>\n",
       "    <tr>\n",
       "      <th>2</th>\n",
       "      <td>16</td>\n",
       "      <td>6</td>\n",
       "      <td>2</td>\n",
       "      <td>0.639953</td>\n",
       "    </tr>\n",
       "    <tr>\n",
       "      <th>3</th>\n",
       "      <td>16</td>\n",
       "      <td>77</td>\n",
       "      <td>3</td>\n",
       "      <td>0.696483</td>\n",
       "    </tr>\n",
       "    <tr>\n",
       "      <th>4</th>\n",
       "      <td>17</td>\n",
       "      <td>40</td>\n",
       "      <td>2</td>\n",
       "      <td>0.392300</td>\n",
       "    </tr>\n",
       "  </tbody>\n",
       "</table>\n",
       "</div>"
      ],
      "text/plain": [
       "   Annual_Income  Spending_Score  Cluster_no   S_score\n",
       "0             15              39           2  0.417005\n",
       "1             15              81           3  0.696378\n",
       "2             16               6           2  0.639953\n",
       "3             16              77           3  0.696483\n",
       "4             17              40           2  0.392300"
      ]
     },
     "execution_count": 21,
     "metadata": {},
     "output_type": "execute_result"
    }
   ],
   "source": [
    "df_result = X.copy()\n",
    "df_result['Cluster_no'] = model_km.labels_\n",
    "df_result['S_score'] = silhouette_samples(X, model_km.labels_)\n",
    "df_result.head()"
   ]
  },
  {
   "cell_type": "code",
   "execution_count": 22,
   "metadata": {
    "colab": {
     "base_uri": "https://localhost:8080/"
    },
    "executionInfo": {
     "elapsed": 8,
     "status": "ok",
     "timestamp": 1667655525407,
     "user": {
      "displayName": "Lucy Jun",
      "userId": "14699261721809224327"
     },
     "user_tz": -540
    },
    "id": "9Skp9rStHHPn",
    "outputId": "69b60e87-7b7b-462d-cb36-47586e5b2503"
   },
   "outputs": [
    {
     "data": {
      "text/html": [
       "<div>\n",
       "<style scoped>\n",
       "    .dataframe tbody tr th:only-of-type {\n",
       "        vertical-align: middle;\n",
       "    }\n",
       "\n",
       "    .dataframe tbody tr th {\n",
       "        vertical-align: top;\n",
       "    }\n",
       "\n",
       "    .dataframe thead th {\n",
       "        text-align: right;\n",
       "    }\n",
       "</style>\n",
       "<table border=\"1\" class=\"dataframe\">\n",
       "  <thead>\n",
       "    <tr style=\"text-align: right;\">\n",
       "      <th></th>\n",
       "      <th>Annual_Income</th>\n",
       "      <th>Spending_Score</th>\n",
       "      <th>Cluster_no</th>\n",
       "      <th>S_score</th>\n",
       "    </tr>\n",
       "  </thead>\n",
       "  <tbody>\n",
       "    <tr>\n",
       "      <th>count</th>\n",
       "      <td>200.000000</td>\n",
       "      <td>200.000000</td>\n",
       "      <td>200.000000</td>\n",
       "      <td>200.000000</td>\n",
       "    </tr>\n",
       "    <tr>\n",
       "      <th>mean</th>\n",
       "      <td>60.560000</td>\n",
       "      <td>50.200000</td>\n",
       "      <td>1.515000</td>\n",
       "      <td>0.553932</td>\n",
       "    </tr>\n",
       "    <tr>\n",
       "      <th>std</th>\n",
       "      <td>26.264721</td>\n",
       "      <td>25.823522</td>\n",
       "      <td>1.569103</td>\n",
       "      <td>0.158254</td>\n",
       "    </tr>\n",
       "    <tr>\n",
       "      <th>min</th>\n",
       "      <td>15.000000</td>\n",
       "      <td>1.000000</td>\n",
       "      <td>0.000000</td>\n",
       "      <td>-0.023381</td>\n",
       "    </tr>\n",
       "    <tr>\n",
       "      <th>25%</th>\n",
       "      <td>41.500000</td>\n",
       "      <td>34.750000</td>\n",
       "      <td>0.000000</td>\n",
       "      <td>0.494253</td>\n",
       "    </tr>\n",
       "    <tr>\n",
       "      <th>50%</th>\n",
       "      <td>61.500000</td>\n",
       "      <td>50.000000</td>\n",
       "      <td>1.000000</td>\n",
       "      <td>0.596142</td>\n",
       "    </tr>\n",
       "    <tr>\n",
       "      <th>75%</th>\n",
       "      <td>78.000000</td>\n",
       "      <td>73.000000</td>\n",
       "      <td>3.000000</td>\n",
       "      <td>0.660109</td>\n",
       "    </tr>\n",
       "    <tr>\n",
       "      <th>max</th>\n",
       "      <td>137.000000</td>\n",
       "      <td>99.000000</td>\n",
       "      <td>4.000000</td>\n",
       "      <td>0.758069</td>\n",
       "    </tr>\n",
       "  </tbody>\n",
       "</table>\n",
       "</div>"
      ],
      "text/plain": [
       "       Annual_Income  Spending_Score  Cluster_no     S_score\n",
       "count     200.000000      200.000000  200.000000  200.000000\n",
       "mean       60.560000       50.200000    1.515000    0.553932\n",
       "std        26.264721       25.823522    1.569103    0.158254\n",
       "min        15.000000        1.000000    0.000000   -0.023381\n",
       "25%        41.500000       34.750000    0.000000    0.494253\n",
       "50%        61.500000       50.000000    1.000000    0.596142\n",
       "75%        78.000000       73.000000    3.000000    0.660109\n",
       "max       137.000000       99.000000    4.000000    0.758069"
      ]
     },
     "execution_count": 22,
     "metadata": {},
     "output_type": "execute_result"
    }
   ],
   "source": [
    "df_result.describe()"
   ]
  },
  {
   "cell_type": "markdown",
   "metadata": {
    "id": "Y43POPBODcAn"
   },
   "source": [
    "- 각 군집에 대한 평균 실루엣 지수를 확인한다."
   ]
  },
  {
   "cell_type": "code",
   "execution_count": 23,
   "metadata": {
    "colab": {
     "base_uri": "https://localhost:8080/"
    },
    "executionInfo": {
     "elapsed": 8,
     "status": "ok",
     "timestamp": 1667655525407,
     "user": {
      "displayName": "Lucy Jun",
      "userId": "14699261721809224327"
     },
     "user_tz": -540
    },
    "id": "bKrd-lclSwQq",
    "outputId": "51c5da81-b2f3-403f-b2bb-a07f7a7feb82"
   },
   "outputs": [
    {
     "data": {
      "text/plain": [
       "Cluster_no\n",
       "0    0.596651\n",
       "1    0.503987\n",
       "2    0.512268\n",
       "3    0.599013\n",
       "4    0.509171\n",
       "Name: S_score, dtype: float64"
      ]
     },
     "execution_count": 23,
     "metadata": {},
     "output_type": "execute_result"
    }
   ],
   "source": [
    "df_result.groupby('Cluster_no')['S_score'].mean()\n",
    "\n",
    "# 흩어져있을 수록 지수가 낮음"
   ]
  },
  {
   "cell_type": "markdown",
   "metadata": {
    "id": "lGWhAgTAVnku"
   },
   "source": [
    "************아래 코드 K 값이 변경되므로 이미지 작업시 주의**"
   ]
  },
  {
   "cell_type": "code",
   "execution_count": 24,
   "metadata": {
    "colab": {
     "base_uri": "https://localhost:8080/"
    },
    "executionInfo": {
     "elapsed": 2580,
     "status": "ok",
     "timestamp": 1667655527980,
     "user": {
      "displayName": "Lucy Jun",
      "userId": "14699261721809224327"
     },
     "user_tz": -540
    },
    "id": "C3gyl34QQ7eV",
    "outputId": "278c90c0-bcc7-4c29-ea70-adc067ffcc6c"
   },
   "outputs": [
    {
     "name": "stderr",
     "output_type": "stream",
     "text": [
      "C:\\Users\\IOT\\anaconda3\\lib\\site-packages\\sklearn\\cluster\\_kmeans.py:870: FutureWarning: The default value of `n_init` will change from 10 to 'auto' in 1.4. Set the value of `n_init` explicitly to suppress the warning\n",
      "  warnings.warn(\n",
      "C:\\Users\\IOT\\anaconda3\\lib\\site-packages\\sklearn\\cluster\\_kmeans.py:1382: UserWarning: KMeans is known to have a memory leak on Windows with MKL, when there are less chunks than available threads. You can avoid it by setting the environment variable OMP_NUM_THREADS=1.\n",
      "  warnings.warn(\n"
     ]
    },
    {
     "name": "stdout",
     "output_type": "stream",
     "text": [
      "k = 2 , silhouette_score :  0.2968969162503008\n",
      "k = 3 , silhouette_score :  0.46761358158775435\n"
     ]
    },
    {
     "name": "stderr",
     "output_type": "stream",
     "text": [
      "C:\\Users\\IOT\\anaconda3\\lib\\site-packages\\sklearn\\cluster\\_kmeans.py:870: FutureWarning: The default value of `n_init` will change from 10 to 'auto' in 1.4. Set the value of `n_init` explicitly to suppress the warning\n",
      "  warnings.warn(\n",
      "C:\\Users\\IOT\\anaconda3\\lib\\site-packages\\sklearn\\cluster\\_kmeans.py:1382: UserWarning: KMeans is known to have a memory leak on Windows with MKL, when there are less chunks than available threads. You can avoid it by setting the environment variable OMP_NUM_THREADS=1.\n",
      "  warnings.warn(\n",
      "C:\\Users\\IOT\\anaconda3\\lib\\site-packages\\sklearn\\cluster\\_kmeans.py:870: FutureWarning: The default value of `n_init` will change from 10 to 'auto' in 1.4. Set the value of `n_init` explicitly to suppress the warning\n",
      "  warnings.warn(\n",
      "C:\\Users\\IOT\\anaconda3\\lib\\site-packages\\sklearn\\cluster\\_kmeans.py:1382: UserWarning: KMeans is known to have a memory leak on Windows with MKL, when there are less chunks than available threads. You can avoid it by setting the environment variable OMP_NUM_THREADS=1.\n",
      "  warnings.warn(\n",
      "C:\\Users\\IOT\\anaconda3\\lib\\site-packages\\sklearn\\cluster\\_kmeans.py:870: FutureWarning: The default value of `n_init` will change from 10 to 'auto' in 1.4. Set the value of `n_init` explicitly to suppress the warning\n",
      "  warnings.warn(\n"
     ]
    },
    {
     "name": "stdout",
     "output_type": "stream",
     "text": [
      "k = 4 , silhouette_score :  0.4931963109249047\n"
     ]
    },
    {
     "name": "stderr",
     "output_type": "stream",
     "text": [
      "C:\\Users\\IOT\\anaconda3\\lib\\site-packages\\sklearn\\cluster\\_kmeans.py:1382: UserWarning: KMeans is known to have a memory leak on Windows with MKL, when there are less chunks than available threads. You can avoid it by setting the environment variable OMP_NUM_THREADS=1.\n",
      "  warnings.warn(\n"
     ]
    },
    {
     "name": "stdout",
     "output_type": "stream",
     "text": [
      "k = 5 , silhouette_score :  0.553931997444648\n"
     ]
    },
    {
     "name": "stderr",
     "output_type": "stream",
     "text": [
      "C:\\Users\\IOT\\anaconda3\\lib\\site-packages\\sklearn\\cluster\\_kmeans.py:870: FutureWarning: The default value of `n_init` will change from 10 to 'auto' in 1.4. Set the value of `n_init` explicitly to suppress the warning\n",
      "  warnings.warn(\n",
      "C:\\Users\\IOT\\anaconda3\\lib\\site-packages\\sklearn\\cluster\\_kmeans.py:1382: UserWarning: KMeans is known to have a memory leak on Windows with MKL, when there are less chunks than available threads. You can avoid it by setting the environment variable OMP_NUM_THREADS=1.\n",
      "  warnings.warn(\n"
     ]
    },
    {
     "name": "stdout",
     "output_type": "stream",
     "text": [
      "k = 6 , silhouette_score :  0.5379675585622219\n"
     ]
    },
    {
     "name": "stderr",
     "output_type": "stream",
     "text": [
      "C:\\Users\\IOT\\anaconda3\\lib\\site-packages\\sklearn\\cluster\\_kmeans.py:870: FutureWarning: The default value of `n_init` will change from 10 to 'auto' in 1.4. Set the value of `n_init` explicitly to suppress the warning\n",
      "  warnings.warn(\n",
      "C:\\Users\\IOT\\anaconda3\\lib\\site-packages\\sklearn\\cluster\\_kmeans.py:1382: UserWarning: KMeans is known to have a memory leak on Windows with MKL, when there are less chunks than available threads. You can avoid it by setting the environment variable OMP_NUM_THREADS=1.\n",
      "  warnings.warn(\n"
     ]
    },
    {
     "name": "stdout",
     "output_type": "stream",
     "text": [
      "k = 7 , silhouette_score :  0.5281944387251989\n"
     ]
    },
    {
     "name": "stderr",
     "output_type": "stream",
     "text": [
      "C:\\Users\\IOT\\anaconda3\\lib\\site-packages\\sklearn\\cluster\\_kmeans.py:870: FutureWarning: The default value of `n_init` will change from 10 to 'auto' in 1.4. Set the value of `n_init` explicitly to suppress the warning\n",
      "  warnings.warn(\n",
      "C:\\Users\\IOT\\anaconda3\\lib\\site-packages\\sklearn\\cluster\\_kmeans.py:1382: UserWarning: KMeans is known to have a memory leak on Windows with MKL, when there are less chunks than available threads. You can avoid it by setting the environment variable OMP_NUM_THREADS=1.\n",
      "  warnings.warn(\n"
     ]
    },
    {
     "name": "stdout",
     "output_type": "stream",
     "text": [
      "k = 8 , silhouette_score :  0.45732611752686836\n"
     ]
    },
    {
     "name": "stderr",
     "output_type": "stream",
     "text": [
      "C:\\Users\\IOT\\anaconda3\\lib\\site-packages\\sklearn\\cluster\\_kmeans.py:870: FutureWarning: The default value of `n_init` will change from 10 to 'auto' in 1.4. Set the value of `n_init` explicitly to suppress the warning\n",
      "  warnings.warn(\n",
      "C:\\Users\\IOT\\anaconda3\\lib\\site-packages\\sklearn\\cluster\\_kmeans.py:1382: UserWarning: KMeans is known to have a memory leak on Windows with MKL, when there are less chunks than available threads. You can avoid it by setting the environment variable OMP_NUM_THREADS=1.\n",
      "  warnings.warn(\n"
     ]
    },
    {
     "name": "stdout",
     "output_type": "stream",
     "text": [
      "k = 9 , silhouette_score :  0.4565077334305076\n"
     ]
    }
   ],
   "source": [
    "for k in range(2, 10) :\n",
    "    model_km = KMeans(n_clusters=k) \n",
    "    model_km.fit(X) \n",
    "\n",
    "    print('k =', k, ', silhouette_score : ',  \n",
    "          silhouette_score(X, model_km.labels_))"
   ]
  },
  {
   "cell_type": "markdown",
   "metadata": {
    "id": "sO8rEAhdmDHy"
   },
   "source": [
    "### <font color=blue><b>추가 실습1. \n",
    "군집 갯수 4개로 적용하고 그래프로 그려보자.</font></b>"
   ]
  },
  {
   "cell_type": "code",
   "execution_count": 36,
   "metadata": {
    "colab": {
     "base_uri": "https://localhost:8080/",
     "height": 296
    },
    "executionInfo": {
     "elapsed": 2011,
     "status": "ok",
     "timestamp": 1667655529989,
     "user": {
      "displayName": "Lucy Jun",
      "userId": "14699261721809224327"
     },
     "user_tz": -540
    },
    "id": "Y-KOYqcTmPTq",
    "outputId": "42d94088-7ce0-412a-abfa-81a73dfca7ba"
   },
   "outputs": [
    {
     "name": "stderr",
     "output_type": "stream",
     "text": [
      "C:\\Users\\IOT\\anaconda3\\lib\\site-packages\\sklearn\\cluster\\_kmeans.py:870: FutureWarning: The default value of `n_init` will change from 10 to 'auto' in 1.4. Set the value of `n_init` explicitly to suppress the warning\n",
      "  warnings.warn(\n",
      "C:\\Users\\IOT\\anaconda3\\lib\\site-packages\\sklearn\\cluster\\_kmeans.py:1382: UserWarning: KMeans is known to have a memory leak on Windows with MKL, when there are less chunks than available threads. You can avoid it by setting the environment variable OMP_NUM_THREADS=1.\n",
      "  warnings.warn(\n"
     ]
    },
    {
     "data": {
      "image/png": "[encoded data removed]",
      "text/plain": [
       "<Figure size 640x480 with 1 Axes>"
      ]
     },
     "metadata": {},
     "output_type": "display_data"
    }
   ],
   "source": [
    "# 실습1 코드\n",
    "k = 4                       # 군집 개수\n",
    "model = KMeans(n_clusters = k, random_state=42)\n",
    "\n",
    "model.fit(X)\n",
    "y_pred = model_km.predict(X)\n",
    "\n",
    "plt.figure() \n",
    "\n",
    "plt.title( 'Clustering of Customers, k=' + str(k) )\n",
    "plt.xlabel( X.columns[0])   # Annual_Income\n",
    "plt.ylabel( X.columns[1])   # Spending_Score\n",
    "\n",
    "colors = ['C0','C1','C2','C3','C4','C5','C6','C7','C8','C9']\n",
    "\n",
    "for i in range(k) :        \n",
    "    plt.scatter( X.iloc[model_km.labels_==i, 0], \n",
    "                 X.iloc[model_km.labels_==i, 1], \n",
    "                 c = colors[i%10],  label = 'Cluster '+ str(i) ) \n",
    "\n",
    "plt.scatter( model.cluster_centers_[:, 0], \n",
    "             model.cluster_centers_[:, 1], \n",
    "             c='black', marker='*', s=200, label='Centroids' ) \n",
    "\n",
    "plt.legend()\n",
    "plt.show()"
   ]
  },
  {
   "cell_type": "code",
   "execution_count": 37,
   "metadata": {
    "colab": {
     "base_uri": "https://localhost:8080/"
    },
    "executionInfo": {
     "elapsed": 1241,
     "status": "ok",
     "timestamp": 1667655531227,
     "user": {
      "displayName": "Lucy Jun",
      "userId": "14699261721809224327"
     },
     "user_tz": -540
    },
    "id": "8PryEJ4BNldE",
    "outputId": "39a4239e-8936-450b-ec3c-3004afdc2a63"
   },
   "outputs": [
    {
     "name": "stderr",
     "output_type": "stream",
     "text": [
      "C:\\Users\\IOT\\anaconda3\\lib\\site-packages\\sklearn\\cluster\\_kmeans.py:870: FutureWarning: The default value of `n_init` will change from 10 to 'auto' in 1.4. Set the value of `n_init` explicitly to suppress the warning\n",
      "  warnings.warn(\n",
      "C:\\Users\\IOT\\anaconda3\\lib\\site-packages\\sklearn\\cluster\\_kmeans.py:1382: UserWarning: KMeans is known to have a memory leak on Windows with MKL, when there are less chunks than available threads. You can avoid it by setting the environment variable OMP_NUM_THREADS=1.\n",
      "  warnings.warn(\n"
     ]
    },
    {
     "data": {
      "image/png": "[encoded data removed]",
      "text/plain": [
       "<Figure size 640x480 with 1 Axes>"
      ]
     },
     "metadata": {},
     "output_type": "display_data"
    }
   ],
   "source": [
    "k = 6                         # 군집 갯수\n",
    "model_km = KMeans(n_clusters=k)\n",
    "\n",
    "model_km.fit(X)\n",
    "y_pred = model_km.predict(X)\n",
    "\n",
    "plt.figure() \n",
    "\n",
    "plt.title( 'Clustering of Customers, k=' + str(k) )\n",
    "plt.xlabel( X.columns[0])   # Annual_Income\n",
    "plt.ylabel( X.columns[1])   # Spending_Score\n",
    "\n",
    "colors = ['C0','C1','C2','C3','C4','C5','C6','C7','C8','C9']\n",
    "\n",
    "for i in range(k) :        \n",
    "    plt.scatter( X.iloc[model_km.labels_==i, 0], \n",
    "                 X.iloc[model_km.labels_==i, 1], \n",
    "                 c = colors[i%10],  label = 'Cluster '+ str(i) ) \n",
    "\n",
    "plt.scatter( model_km.cluster_centers_[:, 0], \n",
    "             model_km.cluster_centers_[:, 1], \n",
    "             c='black', marker='*', s=200, label='Centroids' ) \n",
    "\n",
    "plt.legend()\n",
    "plt.show()"
   ]
  }
 ],
 "metadata": {
  "colab": {
   "provenance": []
  },
  "kernelspec": {
   "display_name": "Python 3 (ipykernel)",
   "language": "python",
   "name": "python3"
  },
  "language_info": {
   "codemirror_mode": {
    "name": "ipython",
    "version": 3
   },
   "file_extension": ".py",
   "mimetype": "text/x-python",
   "name": "python",
   "nbconvert_exporter": "python",
   "pygments_lexer": "ipython3",
   "version": "3.10.9"
  }
 },
 "nbformat": 4,
 "nbformat_minor": 1
}
