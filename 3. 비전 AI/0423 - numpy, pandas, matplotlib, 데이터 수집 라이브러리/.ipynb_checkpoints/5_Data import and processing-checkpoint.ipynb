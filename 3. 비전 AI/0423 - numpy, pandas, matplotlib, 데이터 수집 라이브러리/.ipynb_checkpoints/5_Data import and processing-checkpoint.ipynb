{
 "cells": [
  {
   "cell_type": "markdown",
   "metadata": {
    "colab_type": "text",
    "id": "-YdfrGhXaSww"
   },
   "source": [
    "# 데이터 가져오기 및 처리"
   ]
  },
  {
   "cell_type": "markdown",
   "metadata": {
    "colab_type": "text",
    "id": "THfcvkzNaSwy"
   },
   "source": [
    "데이터 세트는 모든 데이터 과학 프로젝트에 필수적입니다! 데이터가 많을수록 기능 간의 관계를 더 쉽게 식별할 수 있습니다. 그러나 데이터 분석을 수행하기 전에 컴퓨터에서 데이터 세트를 이해하는 것도 필수적입니다. 따라서 이 연습의 주요 목적은 데이터 분석 또는 기계 학습을 수행하기 전에 데이터 세트를 가져오고 처리하는 데 필요한 기술을 배우는 것입니다."
   ]
  },
  {
   "cell_type": "markdown",
   "metadata": {
    "colab_type": "text",
    "id": "Msb1KXoIaSw0"
   },
   "source": [
    "## 1. 데이터 가져오기"
   ]
  },
  {
   "cell_type": "markdown",
   "metadata": {
    "colab_type": "text",
    "id": "Tr-GKbJkaSw2"
   },
   "source": [
    "무료로 데이터를 얻을 수 있는 웹사이트가 많이 있습니다. Kaggle(https://www.kaggle.com/) 및 University of California, Irvine(https://archive.ics.uci.edu/ml/index.php) (UCI)가 대표적인 사이트 있습니다. 데이터 세트를 수동으로 다운로드하여 컴퓨터의 새 폴더에 저장할 수 있습니다. 그러나 그렇게 하려면 시간이 많이 걸릴 수 있습니다. 따라서 이 프로세스를 자동화하는 간단한 방법이 있습니다! \n",
    "magic.py가 이 기능을 제공합니다. 한번 해보세요!\n",
    "\n",
    "스크립트가 작동하려면 python 가상 환경에 os, wget, pandas 및 matplotlib 라이브러리가 설치되어 있는지 확인하십시오.\n",
    "\n",
    "아래 셀을 실행하는 동안 오류가 발생하면 첫 번째 줄을 주석 처리하십시오. #%matplotlib qt"
   ]
  },
  {
   "cell_type": "code",
   "execution_count": 1,
   "metadata": {
    "colab": {},
    "colab_type": "code",
    "id": "g2YHGbLwaSw4",
    "outputId": "8ad0ff6c-6479-45af-9d04-c4894f7ddd63"
   },
   "outputs": [
    {
     "name": "stdout",
     "output_type": "stream",
     "text": [
      "Current working directory: C:\\Users\\IOT\\Documents\\vision_AI\\0423\n",
      "Newly created directory to store files: C:\\Users\\IOT\\Documents\\vision_AI\\0423\\Magic_Data\n",
      "Downloading file..........\n",
      "\n",
      "\n",
      "File has been downloaded!\n",
      "Performing super difficult data analysis..........\n"
     ]
    }
   ],
   "source": [
    "%matplotlib qt\n",
    "%run \"magic.py\""
   ]
  },
  {
   "cell_type": "markdown",
   "metadata": {
    "colab_type": "text",
    "id": "bYcAogTVaSxC"
   },
   "source": [
    "만세! 수동 작업 없이 데이터를 다운로드하고 그래프를 그렸습니다. magic.py 파일을 열지 않고도 데이터가 다운로드된 위치를 알 수 있습니까? 위에 출련된 문장에서 힌트를 얻을 수 있습니다!"
   ]
  },
  {
   "cell_type": "code",
   "execution_count": null,
   "metadata": {
    "colab": {},
    "colab_type": "code",
    "id": "toe2Wgb6aSxD"
   },
   "outputs": [],
   "source": [
    "#your answer here"
   ]
  },
  {
   "cell_type": "markdown",
   "metadata": {
    "colab_type": "text",
    "id": "R0hU1t33aSxG"
   },
   "source": [
    "<font color=blue>보너스: 그래프가 제대로 보이나요? 음수 값과 x축의 검은색 선을 설명할 수 있습니까?</font>"
   ]
  },
  {
   "cell_type": "code",
   "execution_count": null,
   "metadata": {},
   "outputs": [],
   "source": [
    "#your answer here"
   ]
  },
  {
   "cell_type": "markdown",
   "metadata": {
    "colab_type": "text",
    "id": "v1CqAIo8aSxL"
   },
   "source": [
    "## 1.1 iris 데이터 세트 다운로드"
   ]
  },
  {
   "cell_type": "markdown",
   "metadata": {
    "colab_type": "text",
    "id": "IEcfNX70aSxM"
   },
   "source": [
    "이제 데이터 세트를 직접 가져올 차례입니다. 사용할 데이터셋은 유명한 Iris Flower 데이터셋입니다. 데이터 세트는 http://archive.ics.uci.edu/ml/machine-learning-databases/iris/iris.data 에서 다운로드할 수 있습니다. 다운로드할 파일은 iris.data입니다. 데이터 세트에 대한 자세한 정보는 https://en.wikipedia.org/wiki/Iris_flower_data_set 에서 얻을 수 있습니다. 다음 코드를 실행하기 전에 데이터 세트 설명을 살펴보세요."
   ]
  },
  {
   "cell_type": "markdown",
   "metadata": {
    "colab_type": "text",
    "id": "myyrcY8EaSxN"
   },
   "source": [
    "데이터 세트를 저장할 새 폴더를 만듭니다. urlib.request.urletrieve 함수를 사용하여 데이터 세트를 자동으로 다운로드 받을 수 있는 코드를 아래에 작성하세요. magic.py 내의 코드를 참조로 사용할 수 있습니다.\n",
    "\n",
    "magic.py 파일의 코드를 참조하려면 폴더에서 magic.py 파일을 찾습니다. 마우스 오른쪽 버튼을 클릭하고 워드패드를 이용하여 엽니다.\n",
    "\n",
    "<font color=blue>보너스: 코드 2줄만 사용하여 데이터를 다운로드하세요!</font>"
   ]
  },
  {
   "cell_type": "code",
   "execution_count": 2,
   "metadata": {
    "colab": {},
    "colab_type": "code",
    "id": "RMnYNX7YaSxO"
   },
   "outputs": [
    {
     "data": {
      "text/plain": [
       "('./iris.data', <http.client.HTTPMessage at 0x189379d2fe0>)"
      ]
     },
     "execution_count": 2,
     "metadata": {},
     "output_type": "execute_result"
    }
   ],
   "source": [
    "#your code here\n",
    "\n"
   ]
  },
  {
   "cell_type": "markdown",
   "metadata": {},
   "source": [
    "## 1.2 Image 다운로드 - Bing Image Downloader 사용"
   ]
  },
  {
   "cell_type": "code",
   "execution_count": 1,
   "metadata": {},
   "outputs": [
    {
     "name": "stdout",
     "output_type": "stream",
     "text": [
      "Requirement already satisfied: bing_image_downloader in c:\\users\\biz\\anaconda3\\lib\\site-packages (1.1.2)\n"
     ]
    }
   ],
   "source": [
    "# Bing Image Downloader 패키기 설치하기\n",
    "!pip install bing_image_downloader"
   ]
  },
  {
   "cell_type": "code",
   "execution_count": 4,
   "metadata": {},
   "outputs": [
    {
     "name": "stdout",
     "output_type": "stream",
     "text": [
      "검색할 이미지 키워드를 입력하세요 (예: 노란 바나나) => 빨간 사과\n",
      "다운로드할 이미지의 개수를 입력하세요 =>  5\n",
      "[%] Downloading Images to C:\\Users\\biz\\Documents\\JupyterNotebook\\2024_Intel_대한상의KDT\\30_Data_Preprocessing\\빨간 사과\n",
      "\n",
      "\n",
      "[!!]Indexing page: 1\n",
      "\n",
      "[%] Indexed 5 Images on Page 1.\n",
      "\n",
      "===============================================\n",
      "\n",
      "[%] Downloading Image #1 from https://images.pexels.com/photos/2487443/pexels-photo-2487443.jpeg?auto=compress&amp;cs=tinysrgb&amp;fit=crop&amp;h=627&amp;w=1200\n",
      "[%] File Downloaded !\n",
      "\n",
      "[%] Downloading Image #2 from https://s2.best-wallpaper.net/wallpaper/2880x1800/1705/Many-red-apples-sweet-fruit_2880x1800.jpg\n",
      "[%] File Downloaded !\n",
      "\n",
      "[%] Downloading Image #3 from https://cdn.pixabay.com/photo/2015/03/28/21/36/red-apple-696589_960_720.jpg\n",
      "[%] File Downloaded !\n",
      "\n",
      "[%] Downloading Image #4 from https://cdn.pixabay.com/photo/2016/09/20/07/25/food-1681977__340.png\n",
      "[%] File Downloaded !\n",
      "\n",
      "[%] Downloading Image #5 from https://s2.best-wallpaper.net/wallpaper/2880x1800/2008/One-red-apple-water-droplets-white-background_2880x1800.jpg\n",
      "[%] File Downloaded !\n",
      "\n",
      "\n",
      "\n",
      "[%] Done. Downloaded 5 images.\n"
     ]
    }
   ],
   "source": [
    "# 다운로드할 이미지 키워드와 개수 지정하여 다운로드하기\n",
    "from bing_image_downloader import downloader\n",
    "import os\n",
    "\n",
    "keywords = input(\"검색할 이미지 키워드를 입력하세요 (예: 노란바나나) => \")\n",
    "limit = int(input(\"다운로드할 이미지의 개수를 입력하세요 =>  \"))\n",
    "\n",
    "# 현재 디렉토리의 절대 경로 가져오기\n",
    "current_directory = os.path.abspath('.')\n",
    "\n",
    "# 다운로드 정보 기록\n",
    "record = {\n",
    "    \"keywords\": keywords,\n",
    "    \"limit\": limit\n",
    "}\n",
    "\n",
    "# 이미지 다운로드 실행\n",
    "downloader.download(\n",
    "    record['keywords'], \n",
    "    limit=record['limit'],\n",
    "    output_dir=current_directory,  # 현재 디렉토리를 다운로드 경로로 설정\n",
    "    adult_filter_off=True,\n",
    "    force_replace=False,\n",
    "    timeout=60\n",
    ")"
   ]
  },
  {
   "cell_type": "markdown",
   "metadata": {},
   "source": [
    "## < 연습문제>\n",
    "- 여러개의 이미지를 다운로드 하는 코드를 작성해 보세요\n",
    "    - 입력 : 몇세트를 다운로드할지, 검색이미지 키워드, 다운로드할 이미지 개수"
   ]
  },
  {
   "cell_type": "code",
   "execution_count": 6,
   "metadata": {},
   "outputs": [
    {
     "name": "stdout",
     "output_type": "stream",
     "text": [
      "몇 개의 이미지 세트를 다운로드 하시겠습니까? 2\n",
      "검색할 이미지 키워드를 입력하세요 (예: 노란 바나나) => 노란 바나나\n",
      "다운로드할 이미지의 개수를 입력하세요 =>  3\n",
      "검색할 이미지 키워드를 입력하세요 (예: 노란 바나나) => 녹색 바나나\n",
      "다운로드할 이미지의 개수를 입력하세요 =>  3\n",
      "[%] Downloading Images to C:\\Users\\biz\\Documents\\JupyterNotebook\\2024_Intel_대한상의KDT\\30_Data_Preprocessing\\노란 바나나\n",
      "\n",
      "\n",
      "[!!]Indexing page: 1\n",
      "\n",
      "[%] Indexed 3 Images on Page 1.\n",
      "\n",
      "===============================================\n",
      "\n",
      "[%] Downloading Image #1 from http://blogthumb2.naver.net/20160116_226/gkrwja88_1452954330699rXfln_PNG/22.PNG?type=w2\n",
      "[%] File Downloaded !\n",
      "\n",
      "[%] Downloading Image #2 from https://w7.pngwing.com/pngs/526/1019/png-transparent-yellow-banana-bunch-banana-bread-banana-pudding-banana-leaves-asian-restaurant-sushi-bar-baking-bananas-free-food-painting-fruit.png\n",
      "[%] File Downloaded !\n",
      "\n",
      "[%] Downloading Image #3 from https://images.unsplash.com/photo-1571771894821-ce9b6c11b08e?ixlib=rb-4.0.3&amp;ixid=MnwxMjA3fDB8MHxwaG90by1wYWdlfHx8fGVufDB8fHx8&amp;auto=format&amp;fit=crop&amp;w=1000&amp;q=80\n",
      "[%] File Downloaded !\n",
      "\n",
      "\n",
      "\n",
      "[%] Done. Downloaded 3 images.\n",
      "[%] Downloading Images to C:\\Users\\biz\\Documents\\JupyterNotebook\\2024_Intel_대한상의KDT\\30_Data_Preprocessing\\녹색 바나나\n",
      "\n",
      "\n",
      "[!!]Indexing page: 1\n",
      "\n",
      "[%] Indexed 3 Images on Page 1.\n",
      "\n",
      "===============================================\n",
      "\n",
      "[%] Downloading Image #1 from https://img-s-msn-com.akamaized.net/tenant/amp/entityid/AA10xRKb.img?w=640&amp;h=426&amp;m=6\n",
      "[%] File Downloaded !\n",
      "\n",
      "[%] Downloading Image #2 from https://kormedi.com/wp-content/uploads/2022/11/unnamed-file-11-700x454.jpg\n",
      "[%] File Downloaded !\n",
      "\n",
      "[%] Downloading Image #3 from https://i.ytimg.com/vi/GSFFrAwExlI/maxresdefault.jpg\n",
      "[%] File Downloaded !\n",
      "\n",
      "\n",
      "\n",
      "[%] Done. Downloaded 3 images.\n"
     ]
    }
   ],
   "source": [
    "# code here\n",
    "\n",
    "\n",
    "\n",
    "\n",
    "\n",
    "\n",
    "\n",
    "\n",
    "\n",
    "\n",
    "\n",
    "\n",
    "\n",
    "\n",
    "\n",
    "\n",
    "\n",
    "\n",
    "\n",
    "\n",
    "\n",
    "\n"
   ]
  }
 ],
 "metadata": {
  "colab": {
   "name": "(1) Obtaining_data_Student.ipynb",
   "provenance": [],
   "version": "0.3.2"
  },
  "kernelspec": {
   "display_name": "Python 3 (ipykernel)",
   "language": "python",
   "name": "python3"
  },
  "language_info": {
   "codemirror_mode": {
    "name": "ipython",
    "version": 3
   },
   "file_extension": ".py",
   "mimetype": "text/x-python",
   "name": "python",
   "nbconvert_exporter": "python",
   "pygments_lexer": "ipython3",
   "version": "3.10.9"
  }
 },
 "nbformat": 4,
 "nbformat_minor": 1
}
