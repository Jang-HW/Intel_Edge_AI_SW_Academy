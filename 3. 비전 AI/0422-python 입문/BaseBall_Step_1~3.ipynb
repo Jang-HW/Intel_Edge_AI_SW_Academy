{
 "cells": [
  {
   "cell_type": "markdown",
   "metadata": {
    "id": "83WE2upzFK2b"
   },
   "source": [
    "### **Step_1 : 주석 사용하기**"
   ]
  },
  {
   "cell_type": "code",
   "execution_count": 1,
   "metadata": {
    "colab": {
     "base_uri": "https://localhost:8080/"
    },
    "executionInfo": {
     "elapsed": 5,
     "status": "ok",
     "timestamp": 1689644065885,
     "user": {
      "displayName": "강희숙",
      "userId": "05520711596090317319"
     },
     "user_tz": -540
    },
    "id": "5HnrbweXFK2e",
    "outputId": "ae2de129-667a-4b0e-adfe-76a87623815e",
    "scrolled": true
   },
   "outputs": [
    {
     "name": "stdout",
     "output_type": "stream",
     "text": [
      "********************************************************\n",
      "*******                 Base Ball                    ***\n",
      "********************************************************\n",
      "* 컴퓨터가 수비수가 되어 세 자릿수를 하나 골랐습니다.  *\n",
      "* 각 숫자는 0~9중의 하나이며 중복되는 숫자는 없습니다. *\n",
      "* 모든 숫자와 위치를 맞히면 승리합니다.                *\n",
      "* 숫자와 순서가 둘 다 맞으면 스크라이크 입니다.        *\n",
      "* 숫자만 맞고 순서가 틀리면 볼입니다.                  *\n",
      "* 숫자가 틀리면 아웃입니다.                            *\n",
      "********************************************************\n"
     ]
    }
   ],
   "source": [
    "print(\"********************************************************\")\n",
    "print(\"*******                 Base Ball                    ***\")\n",
    "print(\"********************************************************\")\n",
    "print(\"* 컴퓨터가 수비수가 되어 세 자릿수를 하나 골랐습니다.  *\")\n",
    "print(\"* 각 숫자는 0~9중의 하나이며 중복되는 숫자는 없습니다. *\")\n",
    "print(\"* 모든 숫자와 위치를 맞히면 승리합니다.                *\")\n",
    "print(\"* 숫자와 순서가 둘 다 맞으면 스크라이크 입니다.        *\")\n",
    "print(\"* 숫자만 맞고 순서가 틀리면 볼입니다.                  *\")\n",
    "\n",
    "# 1.아래와 같이 작성되도록 내용을 작성하세요.\n",
    "print(\"* 숫자가 틀리면 아웃입니다.                            *\")\n",
    "print(\"********************************************************\")"
   ]
  },
  {
   "cell_type": "markdown",
   "metadata": {
    "id": "XqJF-r-yFK2j"
   },
   "source": [
    "### **Step_2 : 변수 사용하기**"
   ]
  },
  {
   "cell_type": "code",
   "execution_count": 2,
   "metadata": {
    "colab": {
     "base_uri": "https://localhost:8080/"
    },
    "executionInfo": {
     "elapsed": 414,
     "status": "ok",
     "timestamp": 1689644373163,
     "user": {
      "displayName": "강희숙",
      "userId": "05520711596090317319"
     },
     "user_tz": -540
    },
    "id": "VNkfwUq_FK2i",
    "outputId": "ff5975fc-0b22-477d-ed84-cca4b24a3080"
   },
   "outputs": [
    {
     "name": "stdout",
     "output_type": "stream",
     "text": [
      "> 수비수가 고른 숫자\n",
      "2\n",
      "5\n",
      "8\n"
     ]
    }
   ],
   "source": [
    "print(\"> 수비수가 고른 숫자\")\n",
    "number1 = 2\n",
    "number2 = 5\n",
    "number3 = 8\n",
    "\n",
    "print(number1)\n",
    "print(number2)\n",
    "print(number3)"
   ]
  },
  {
   "cell_type": "code",
   "execution_count": 3,
   "metadata": {
    "id": "4Wa7cbEJFK2j",
    "outputId": "596cdc8a-dbf7-4216-a170-335692b68632"
   },
   "outputs": [
    {
     "name": "stdout",
     "output_type": "stream",
     "text": [
      "> 수비수가 고른 숫자\n",
      "1\n",
      "6\n",
      "9\n"
     ]
    }
   ],
   "source": [
    "# 2.아래와 같이 출력되도록 변수에 값 지정하고 출력하는 코드를 작성하세요.\n",
    "print(\"> 수비수가 고른 숫자\")\n",
    "number1 = 1\n",
    "number2 = 6\n",
    "number3 = 9\n",
    "\n",
    "print(number1)\n",
    "print(number2)\n",
    "print(number3)"
   ]
  },
  {
   "cell_type": "markdown",
   "metadata": {
    "id": "fXMOwt_kFK2k"
   },
   "source": [
    "### **Step_3 : 입력함수(input()) 사용하기**"
   ]
  },
  {
   "cell_type": "code",
   "execution_count": 13,
   "metadata": {
    "id": "1TkcJL9lFK2l",
    "outputId": "39503f4f-730d-4938-87ac-85245c2bb88f"
   },
   "outputs": [
    {
     "name": "stdout",
     "output_type": "stream",
     "text": [
      "> 첫번째 숫자를 입력하세요~! 2\n",
      "> 두번째 숫자를 입력하세요~! 5\n",
      "> 세번째 숫자를 입력하세요~! 6\n"
     ]
    }
   ],
   "source": [
    "strInput1 = input(\"> 첫번째 숫자를 입력하세요~! \")\n",
    "input1 = int(strInput1)\n",
    "\n",
    "# 3.두번째, 세번째 숫자를 입력받는 코드를 작성하세요!!\n",
    "strInput2 = input(\"> 두번째 숫자를 입력하세요~! \")\n",
    "input2 = int(strInput2)\n",
    "strInput3 = input(\"> 세번째 숫자를 입력하세요~! \")\n",
    "input3 = int(strInput3)"
   ]
  },
  {
   "cell_type": "code",
   "execution_count": 11,
   "metadata": {
    "id": "mgooFkfDhiGX"
   },
   "outputs": [
    {
     "name": "stdout",
     "output_type": "stream",
     "text": [
      "> 첫번째 숫자를 입력하세요~! 1\n",
      "> 두번째 숫자를 입력하세요~! 2\n",
      "> 세번째 숫자를 입력하세요~! 3\n"
     ]
    }
   ],
   "source": [
    "# input1 = int(input(\"> 첫번째 숫자를 입력하세요~! \"))\n",
    "# input2 = int(input(\"> 두번째 숫자를 입력하세요~! \"))\n",
    "# input3 = int(input(\"> 세번째 숫자를 입력하세요~! \"))"
   ]
  },
  {
   "cell_type": "code",
   "execution_count": 14,
   "metadata": {
    "id": "brwbT7jLFK2m",
    "outputId": "efc93dad-d0bb-40c3-aac1-ef537eda474e"
   },
   "outputs": [
    {
     "name": "stdout",
     "output_type": "stream",
     "text": [
      "> 공격수가 고른 숫자\n",
      "2\n",
      "5\n",
      "6\n"
     ]
    }
   ],
   "source": [
    "print(\"> 공격수가 고른 숫자\")\n",
    "# 4.아래와 같이 출력되도록 코드를 작성하세요!!\n",
    "print(input1)\n",
    "print(input2)\n",
    "print(input3)"
   ]
  }
 ],
 "metadata": {
  "colab": {
   "provenance": []
  },
  "kernelspec": {
   "display_name": "Python 3 (ipykernel)",
   "language": "python",
   "name": "python3"
  },
  "language_info": {
   "codemirror_mode": {
    "name": "ipython",
    "version": 3
   },
   "file_extension": ".py",
   "mimetype": "text/x-python",
   "name": "python",
   "nbconvert_exporter": "python",
   "pygments_lexer": "ipython3",
   "version": "3.10.9"
  }
 },
 "nbformat": 4,
 "nbformat_minor": 1
}
