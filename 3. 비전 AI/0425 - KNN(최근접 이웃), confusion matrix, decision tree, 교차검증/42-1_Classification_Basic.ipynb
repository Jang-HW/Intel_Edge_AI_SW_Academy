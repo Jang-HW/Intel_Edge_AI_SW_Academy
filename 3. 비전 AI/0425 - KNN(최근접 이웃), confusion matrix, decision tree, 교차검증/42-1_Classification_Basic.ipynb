{
 "cells": [
  {
   "cell_type": "markdown",
   "metadata": {
    "id": "Wu9gkO2kvLE3"
   },
   "source": [
    "##  **분류모델 알아보기-펭귄의 성별 예측**\n",
    "\n",
    "- 펭귄의 신체 정보를 통해 성별 예측"
   ]
  },
  {
   "cell_type": "markdown",
   "metadata": {
    "id": "o3X32FCoWlCL"
   },
   "source": [
    "## <font color=green>**[ 데이터 준비하기 ]**"
   ]
  },
  {
   "cell_type": "markdown",
   "metadata": {
    "id": "Dmi9nvUZvwUp"
   },
   "source": [
    "### **STEP 1 : 라이브러리 가져오기**"
   ]
  },
  {
   "cell_type": "code",
   "execution_count": 61,
   "metadata": {
    "_cell_guid": "e7906e7e-6afd-490c-a6a2-7c87ae3c4d53",
    "_uuid": "f763aa48515675ec9925c733ad683e39b33d6ee2",
    "id": "V09t-LC5vHPB"
   },
   "outputs": [],
   "source": [
    "import pandas as pd\n",
    "import matplotlib.pyplot as plt\n",
    "from sklearn.model_selection import train_test_split"
   ]
  },
  {
   "cell_type": "markdown",
   "metadata": {
    "id": "cwnRNv8rw4Hl"
   },
   "source": [
    "### **STEP 2 : 데이터 읽기 및 정보 파악하기**"
   ]
  },
  {
   "cell_type": "markdown",
   "metadata": {
    "id": "KrNCs6SUxMT5"
   },
   "source": [
    "**1) 파일 읽어 저장하기**\n",
    "* data 폴더 하위에 있는 penguins_size.csv 파일을 읽어 df에 저장 후 내용을 출력한다."
   ]
  },
  {
   "cell_type": "code",
   "execution_count": 62,
   "metadata": {
    "colab": {
     "base_uri": "https://localhost:8080/",
     "height": 206
    },
    "id": "GwrvlJZdvHPH",
    "outputId": "508d8860-e0da-4e48-81e6-f1190638e009"
   },
   "outputs": [
    {
     "data": {
      "text/html": [
       "<div>\n",
       "<style scoped>\n",
       "    .dataframe tbody tr th:only-of-type {\n",
       "        vertical-align: middle;\n",
       "    }\n",
       "\n",
       "    .dataframe tbody tr th {\n",
       "        vertical-align: top;\n",
       "    }\n",
       "\n",
       "    .dataframe thead th {\n",
       "        text-align: right;\n",
       "    }\n",
       "</style>\n",
       "<table border=\"1\" class=\"dataframe\">\n",
       "  <thead>\n",
       "    <tr style=\"text-align: right;\">\n",
       "      <th></th>\n",
       "      <th>species</th>\n",
       "      <th>island</th>\n",
       "      <th>culmen_length</th>\n",
       "      <th>culmen_depth</th>\n",
       "      <th>flipper_length</th>\n",
       "      <th>body_mass</th>\n",
       "      <th>sex</th>\n",
       "    </tr>\n",
       "  </thead>\n",
       "  <tbody>\n",
       "    <tr>\n",
       "      <th>0</th>\n",
       "      <td>Adelie</td>\n",
       "      <td>Torgersen</td>\n",
       "      <td>39.1</td>\n",
       "      <td>18.7</td>\n",
       "      <td>181.0</td>\n",
       "      <td>3750.0</td>\n",
       "      <td>MALE</td>\n",
       "    </tr>\n",
       "    <tr>\n",
       "      <th>1</th>\n",
       "      <td>Adelie</td>\n",
       "      <td>Torgersen</td>\n",
       "      <td>39.5</td>\n",
       "      <td>17.4</td>\n",
       "      <td>186.0</td>\n",
       "      <td>3800.0</td>\n",
       "      <td>FEMALE</td>\n",
       "    </tr>\n",
       "    <tr>\n",
       "      <th>2</th>\n",
       "      <td>Adelie</td>\n",
       "      <td>Torgersen</td>\n",
       "      <td>40.3</td>\n",
       "      <td>18.0</td>\n",
       "      <td>195.0</td>\n",
       "      <td>3250.0</td>\n",
       "      <td>FEMALE</td>\n",
       "    </tr>\n",
       "    <tr>\n",
       "      <th>3</th>\n",
       "      <td>Adelie</td>\n",
       "      <td>Torgersen</td>\n",
       "      <td>NaN</td>\n",
       "      <td>NaN</td>\n",
       "      <td>NaN</td>\n",
       "      <td>NaN</td>\n",
       "      <td>NaN</td>\n",
       "    </tr>\n",
       "    <tr>\n",
       "      <th>4</th>\n",
       "      <td>Adelie</td>\n",
       "      <td>Torgersen</td>\n",
       "      <td>36.7</td>\n",
       "      <td>19.3</td>\n",
       "      <td>193.0</td>\n",
       "      <td>3450.0</td>\n",
       "      <td>FEMALE</td>\n",
       "    </tr>\n",
       "  </tbody>\n",
       "</table>\n",
       "</div>"
      ],
      "text/plain": [
       "  species     island  culmen_length  culmen_depth  flipper_length  body_mass  \\\n",
       "0  Adelie  Torgersen           39.1          18.7           181.0     3750.0   \n",
       "1  Adelie  Torgersen           39.5          17.4           186.0     3800.0   \n",
       "2  Adelie  Torgersen           40.3          18.0           195.0     3250.0   \n",
       "3  Adelie  Torgersen            NaN           NaN             NaN        NaN   \n",
       "4  Adelie  Torgersen           36.7          19.3           193.0     3450.0   \n",
       "\n",
       "      sex  \n",
       "0    MALE  \n",
       "1  FEMALE  \n",
       "2  FEMALE  \n",
       "3     NaN  \n",
       "4  FEMALE  "
      ]
     },
     "execution_count": 62,
     "metadata": {},
     "output_type": "execute_result"
    }
   ],
   "source": [
    "#코드작성\n",
    "\n",
    "df = pd.read_csv(\"./data/penguins_size.csv\")\n",
    "df.head()"
   ]
  },
  {
   "cell_type": "markdown",
   "metadata": {
    "id": "e1Jribxzz6Ph"
   },
   "source": [
    "**[ 데이터 특성 ]**  \n",
    "\n",
    "| 열인덱스 |  컬럼명   | 설명 및 단위 |\n",
    "|----------|-----------|--------------|\n",
    "|    0     | species   | 펭귄의 종 |\n",
    "|   1      | island    | 펭귄의 데이터 측정 섬  |\n",
    "|   2      | culmen_length  | 펭귄의 부리 길이, mm |\n",
    "|   3      | culmen_depth | 펭귄의 부리 깊이, mm |\n",
    "|   4      | flipper_length| 펭귄의 지느러미 길이, mm |\n",
    "|   5      | body_mass  | 펭귄의 무게, g |\n",
    "|   6      | sex        | 성별  |\n",
    "\n",
    "- target으로 쓸 수 있는거: 종, 사는 섬, 성별\n"
   ]
  },
  {
   "cell_type": "markdown",
   "metadata": {
    "id": "YXdKfZk1xSqE"
   },
   "source": [
    "**2) 데이터 정보 파악하기**\n",
    "* 데이터 정보를 파악한다."
   ]
  },
  {
   "cell_type": "code",
   "execution_count": 63,
   "metadata": {
    "colab": {
     "base_uri": "https://localhost:8080/"
    },
    "id": "S5SaLizUvHPK",
    "outputId": "8092c114-e012-4b4e-ee4d-f2b0f1617129"
   },
   "outputs": [
    {
     "name": "stdout",
     "output_type": "stream",
     "text": [
      "<class 'pandas.core.frame.DataFrame'>\n",
      "RangeIndex: 344 entries, 0 to 343\n",
      "Data columns (total 7 columns):\n",
      " #   Column          Non-Null Count  Dtype  \n",
      "---  ------          --------------  -----  \n",
      " 0   species         344 non-null    object \n",
      " 1   island          344 non-null    object \n",
      " 2   culmen_length   342 non-null    float64\n",
      " 3   culmen_depth    342 non-null    float64\n",
      " 4   flipper_length  342 non-null    float64\n",
      " 5   body_mass       342 non-null    float64\n",
      " 6   sex             333 non-null    object \n",
      "dtypes: float64(4), object(3)\n",
      "memory usage: 18.9+ KB\n"
     ]
    }
   ],
   "source": [
    "#코드작성\n",
    "df.info()"
   ]
  },
  {
   "cell_type": "markdown",
   "metadata": {
    "id": "u-NyXILALmyX"
   },
   "source": [
    "• 펭귄의 수컷과 암컷의 데이터 균형을 확인하기 위해 데이터의 ‘sex’ 컬럼의 레이블 개 수를 확인해보고 그래프로 출력한다."
   ]
  },
  {
   "cell_type": "code",
   "execution_count": 64,
   "metadata": {
    "colab": {
     "base_uri": "https://localhost:8080/"
    },
    "id": "n4WRxXJ_L5Vk",
    "outputId": "5419d7c0-4c1f-4289-aa92-36d3eac9af63"
   },
   "outputs": [
    {
     "data": {
      "text/plain": [
       "MALE      168\n",
       "FEMALE    165\n",
       "Name: sex, dtype: int64"
      ]
     },
     "execution_count": 64,
     "metadata": {},
     "output_type": "execute_result"
    }
   ],
   "source": [
    "#코드작성\n",
    "\n",
    "df[\"sex\"].value_counts()"
   ]
  },
  {
   "cell_type": "code",
   "execution_count": 65,
   "metadata": {
    "colab": {
     "base_uri": "https://localhost:8080/",
     "height": 314
    },
    "id": "DC-V0cQ-SAB6",
    "outputId": "f3b61f56-33cc-4fd2-a649-66f091a1398e"
   },
   "outputs": [
    {
     "data": {
      "text/plain": [
       "<Axes: >"
      ]
     },
     "execution_count": 65,
     "metadata": {},
     "output_type": "execute_result"
    },
    {
     "data": {
      "image/png": "[encoded data removed]",
      "text/plain": [
       "<Figure size 640x480 with 1 Axes>"
      ]
     },
     "metadata": {},
     "output_type": "display_data"
    }
   ],
   "source": [
    "#코드작성\n",
    "df[\"sex\"].value_counts().plot.bar()"
   ]
  },
  {
   "cell_type": "markdown",
   "metadata": {
    "id": "ijR2oeCDRSqf"
   },
   "source": [
    "**3) 데이터 처리**"
   ]
  },
  {
   "cell_type": "markdown",
   "metadata": {
    "id": "Fl6-mgLEMLGV"
   },
   "source": [
    "- **데이터에 결측치가 있는지 확인하고, 결측치를 삭제한다.**"
   ]
  },
  {
   "cell_type": "code",
   "execution_count": 66,
   "metadata": {
    "colab": {
     "base_uri": "https://localhost:8080/"
    },
    "id": "OIiTrhS8vHPL",
    "outputId": "a14a9056-a5f8-4a4a-a4a1-1b01842454e3"
   },
   "outputs": [
    {
     "data": {
      "text/plain": [
       "species            0\n",
       "island             0\n",
       "culmen_length      2\n",
       "culmen_depth       2\n",
       "flipper_length     2\n",
       "body_mass          2\n",
       "sex               11\n",
       "dtype: int64"
      ]
     },
     "execution_count": 66,
     "metadata": {},
     "output_type": "execute_result"
    }
   ],
   "source": [
    "# 결측치 확인 - 코드작성\n",
    "df.isnull().sum()"
   ]
  },
  {
   "cell_type": "code",
   "execution_count": 67,
   "metadata": {
    "id": "TPrw4iy9r5gn"
   },
   "outputs": [
    {
     "data": {
      "text/plain": [
       "species           0\n",
       "island            0\n",
       "culmen_length     0\n",
       "culmen_depth      0\n",
       "flipper_length    0\n",
       "body_mass         0\n",
       "sex               0\n",
       "dtype: int64"
      ]
     },
     "execution_count": 67,
     "metadata": {},
     "output_type": "execute_result"
    }
   ],
   "source": [
    "# 결측치 삭제 - 코드작성\n",
    "df = df.dropna(how=\"any\")\n",
    "df.isnull().sum()    "
   ]
  },
  {
   "cell_type": "markdown",
   "metadata": {
    "id": "v_CgLH_gMjGx"
   },
   "source": [
    "* ‘sex’컬럼의 ‘MALE’은 1로, ‘FEMALE’은 0으로 변경한다."
   ]
  },
  {
   "cell_type": "code",
   "execution_count": 68,
   "metadata": {
    "id": "OQFs82URw_wk"
   },
   "outputs": [
    {
     "data": {
      "text/html": [
       "<div>\n",
       "<style scoped>\n",
       "    .dataframe tbody tr th:only-of-type {\n",
       "        vertical-align: middle;\n",
       "    }\n",
       "\n",
       "    .dataframe tbody tr th {\n",
       "        vertical-align: top;\n",
       "    }\n",
       "\n",
       "    .dataframe thead th {\n",
       "        text-align: right;\n",
       "    }\n",
       "</style>\n",
       "<table border=\"1\" class=\"dataframe\">\n",
       "  <thead>\n",
       "    <tr style=\"text-align: right;\">\n",
       "      <th></th>\n",
       "      <th>species</th>\n",
       "      <th>island</th>\n",
       "      <th>culmen_length</th>\n",
       "      <th>culmen_depth</th>\n",
       "      <th>flipper_length</th>\n",
       "      <th>body_mass</th>\n",
       "      <th>sex</th>\n",
       "    </tr>\n",
       "  </thead>\n",
       "  <tbody>\n",
       "    <tr>\n",
       "      <th>0</th>\n",
       "      <td>Adelie</td>\n",
       "      <td>Torgersen</td>\n",
       "      <td>39.1</td>\n",
       "      <td>18.7</td>\n",
       "      <td>181.0</td>\n",
       "      <td>3750.0</td>\n",
       "      <td>1</td>\n",
       "    </tr>\n",
       "    <tr>\n",
       "      <th>1</th>\n",
       "      <td>Adelie</td>\n",
       "      <td>Torgersen</td>\n",
       "      <td>39.5</td>\n",
       "      <td>17.4</td>\n",
       "      <td>186.0</td>\n",
       "      <td>3800.0</td>\n",
       "      <td>0</td>\n",
       "    </tr>\n",
       "    <tr>\n",
       "      <th>2</th>\n",
       "      <td>Adelie</td>\n",
       "      <td>Torgersen</td>\n",
       "      <td>40.3</td>\n",
       "      <td>18.0</td>\n",
       "      <td>195.0</td>\n",
       "      <td>3250.0</td>\n",
       "      <td>0</td>\n",
       "    </tr>\n",
       "    <tr>\n",
       "      <th>4</th>\n",
       "      <td>Adelie</td>\n",
       "      <td>Torgersen</td>\n",
       "      <td>36.7</td>\n",
       "      <td>19.3</td>\n",
       "      <td>193.0</td>\n",
       "      <td>3450.0</td>\n",
       "      <td>0</td>\n",
       "    </tr>\n",
       "    <tr>\n",
       "      <th>5</th>\n",
       "      <td>Adelie</td>\n",
       "      <td>Torgersen</td>\n",
       "      <td>39.3</td>\n",
       "      <td>20.6</td>\n",
       "      <td>190.0</td>\n",
       "      <td>3650.0</td>\n",
       "      <td>1</td>\n",
       "    </tr>\n",
       "  </tbody>\n",
       "</table>\n",
       "</div>"
      ],
      "text/plain": [
       "  species     island  culmen_length  culmen_depth  flipper_length  body_mass  \\\n",
       "0  Adelie  Torgersen           39.1          18.7           181.0     3750.0   \n",
       "1  Adelie  Torgersen           39.5          17.4           186.0     3800.0   \n",
       "2  Adelie  Torgersen           40.3          18.0           195.0     3250.0   \n",
       "4  Adelie  Torgersen           36.7          19.3           193.0     3450.0   \n",
       "5  Adelie  Torgersen           39.3          20.6           190.0     3650.0   \n",
       "\n",
       "   sex  \n",
       "0    1  \n",
       "1    0  \n",
       "2    0  \n",
       "4    0  \n",
       "5    1  "
      ]
     },
     "execution_count": 68,
     "metadata": {},
     "output_type": "execute_result"
    }
   ],
   "source": [
    "# 코드작성\n",
    "df = df.replace({\"MALE\":1, \"FEMALE\":0})\n",
    "#df[\"sex\"] = df[\"sex\"].replace({\"MALE\":1, \"FEMALE\":0})\n",
    "\n",
    "df.head()"
   ]
  },
  {
   "cell_type": "markdown",
   "metadata": {
    "id": "f9aGqw6Jy56L"
   },
   "source": [
    "### **STEP 3 : 기계학습 구현 준비**"
   ]
  },
  {
   "cell_type": "markdown",
   "metadata": {
    "id": "cRS3ESmQ2oCX"
   },
   "source": [
    "**1) 특성/타켓 속성 지정하기**\n",
    "\n",
    "* ‘culmen_length’, ‘culmen_depth’, ‘flipper_length’, ‘body_mass’를 특성으로   ‘sex'를 타겟 항목으로 지정한다.\n",
    "\n",
    "\n"
   ]
  },
  {
   "cell_type": "code",
   "execution_count": 69,
   "metadata": {
    "id": "UwidgSspvHPR"
   },
   "outputs": [],
   "source": [
    "#코드작성\n",
    "\n",
    "X = df[['culmen_length', 'culmen_depth', 'flipper_length', 'body_mass']]\n",
    "#X = df.drop(colums=['species', 'island', 'sex'])\n",
    "\n",
    "y = df['sex']"
   ]
  },
  {
   "cell_type": "markdown",
   "metadata": {
    "id": "3z6lS8244XGH"
   },
   "source": [
    "**2) 학습/테스트 데이터 분리하기**\n",
    "\n",
    "* train_test_split( )을 이용하여 7 :3의 비율로 학습 데이터셋(train set)과 테스트 데이 터셋(test set)으로 분리한 후 데이터의 모양을 확인한다.\n",
    "\n"
   ]
  },
  {
   "cell_type": "code",
   "execution_count": 70,
   "metadata": {
    "id": "PW68ZbQrvHPU"
   },
   "outputs": [],
   "source": [
    "#코드작성\n",
    "\n",
    "X_train, X_test, y_train, y_test = train_test_split(X, y, test_size=0.3, random_state=42)"
   ]
  },
  {
   "cell_type": "code",
   "execution_count": 71,
   "metadata": {
    "id": "shXt5pvA4nji"
   },
   "outputs": [
    {
     "name": "stdout",
     "output_type": "stream",
     "text": [
      "(233, 4)\n",
      "(100, 4)\n",
      "(233,)\n",
      "(100,)\n"
     ]
    }
   ],
   "source": [
    "print(X_train.shape)\n",
    "print(X_test.shape)\n",
    "print(y_train.shape)\n",
    "print(y_test.shape)"
   ]
  },
  {
   "cell_type": "markdown",
   "metadata": {
    "id": "9F03zt7AXV1t"
   },
   "source": [
    "## <font color=green>**[ 기계학습 분류 모델 구현하기 ]**"
   ]
  },
  {
   "cell_type": "markdown",
   "metadata": {
    "id": "mupfk6Bw09ad"
   },
   "source": [
    "### **STEP 1 : 라이브러리 가져오기**\n",
    "* 사이킷런(scikit-learn) 라이브러리의 분류 알고리즘 KNeighborsClassifier 분류기 와 평가 관련 라이브러리를 가져온다."
   ]
  },
  {
   "cell_type": "code",
   "execution_count": 72,
   "metadata": {
    "id": "UXVISrwS2hWi"
   },
   "outputs": [],
   "source": [
    "from sklearn.neighbors import KNeighborsClassifier\n",
    "from sklearn.metrics import confusion_matrix\n",
    "from sklearn.metrics import accuracy_score, precision_score, recall_score, f1_score\n",
    "from sklearn.metrics import classification_report"
   ]
  },
  {
   "cell_type": "markdown",
   "metadata": {
    "id": "ks8EbUAL45LS"
   },
   "source": [
    "### **STEP 2 : 모델 객체 생성 및 학습하기**  \n"
   ]
  },
  {
   "cell_type": "markdown",
   "metadata": {
    "id": "GCtp7mGIOkoe"
   },
   "source": [
    "**1) 모델 객체 생성하기**\n",
    "\n",
    "* KNeighborsClassifier( ) 모델 객체 ‘model_knn‘을 생성한다."
   ]
  },
  {
   "cell_type": "code",
   "execution_count": 73,
   "metadata": {
    "id": "Qyal0kUPvHPU"
   },
   "outputs": [],
   "source": [
    "#코드작성\n",
    "model_knn = KNeighborsClassifier()"
   ]
  },
  {
   "cell_type": "markdown",
   "metadata": {
    "id": "hCO_NjLiOzgD"
   },
   "source": [
    "**2) 모델 학습하기**\n",
    "* 학습 데이터셋(X_train, y_train)으로 모델(model_knn)을 학습(fit)을 한다."
   ]
  },
  {
   "cell_type": "code",
   "execution_count": 74,
   "metadata": {
    "colab": {
     "base_uri": "https://localhost:8080/"
    },
    "id": "OCA7hMh_49U2",
    "outputId": "c35d25f1-3fc7-41e5-ea69-81bb8c6d80e8"
   },
   "outputs": [
    {
     "data": {
      "text/html": [
       "<style>#sk-container-id-2 {color: black;background-color: white;}#sk-container-id-2 pre{padding: 0;}#sk-container-id-2 div.sk-toggleable {background-color: white;}#sk-container-id-2 label.sk-toggleable__label {cursor: pointer;display: block;width: 100%;margin-bottom: 0;padding: 0.3em;box-sizing: border-box;text-align: center;}#sk-container-id-2 label.sk-toggleable__label-arrow:before {content: \"▸\";float: left;margin-right: 0.25em;color: #696969;}#sk-container-id-2 label.sk-toggleable__label-arrow:hover:before {color: black;}#sk-container-id-2 div.sk-estimator:hover label.sk-toggleable__label-arrow:before {color: black;}#sk-container-id-2 div.sk-toggleable__content {max-height: 0;max-width: 0;overflow: hidden;text-align: left;background-color: #f0f8ff;}#sk-container-id-2 div.sk-toggleable__content pre {margin: 0.2em;color: black;border-radius: 0.25em;background-color: #f0f8ff;}#sk-container-id-2 input.sk-toggleable__control:checked~div.sk-toggleable__content {max-height: 200px;max-width: 100%;overflow: auto;}#sk-container-id-2 input.sk-toggleable__control:checked~label.sk-toggleable__label-arrow:before {content: \"▾\";}#sk-container-id-2 div.sk-estimator input.sk-toggleable__control:checked~label.sk-toggleable__label {background-color: #d4ebff;}#sk-container-id-2 div.sk-label input.sk-toggleable__control:checked~label.sk-toggleable__label {background-color: #d4ebff;}#sk-container-id-2 input.sk-hidden--visually {border: 0;clip: rect(1px 1px 1px 1px);clip: rect(1px, 1px, 1px, 1px);height: 1px;margin: -1px;overflow: hidden;padding: 0;position: absolute;width: 1px;}#sk-container-id-2 div.sk-estimator {font-family: monospace;background-color: #f0f8ff;border: 1px dotted black;border-radius: 0.25em;box-sizing: border-box;margin-bottom: 0.5em;}#sk-container-id-2 div.sk-estimator:hover {background-color: #d4ebff;}#sk-container-id-2 div.sk-parallel-item::after {content: \"\";width: 100%;border-bottom: 1px solid gray;flex-grow: 1;}#sk-container-id-2 div.sk-label:hover label.sk-toggleable__label {background-color: #d4ebff;}#sk-container-id-2 div.sk-serial::before {content: \"\";position: absolute;border-left: 1px solid gray;box-sizing: border-box;top: 0;bottom: 0;left: 50%;z-index: 0;}#sk-container-id-2 div.sk-serial {display: flex;flex-direction: column;align-items: center;background-color: white;padding-right: 0.2em;padding-left: 0.2em;position: relative;}#sk-container-id-2 div.sk-item {position: relative;z-index: 1;}#sk-container-id-2 div.sk-parallel {display: flex;align-items: stretch;justify-content: center;background-color: white;position: relative;}#sk-container-id-2 div.sk-item::before, #sk-container-id-2 div.sk-parallel-item::before {content: \"\";position: absolute;border-left: 1px solid gray;box-sizing: border-box;top: 0;bottom: 0;left: 50%;z-index: -1;}#sk-container-id-2 div.sk-parallel-item {display: flex;flex-direction: column;z-index: 1;position: relative;background-color: white;}#sk-container-id-2 div.sk-parallel-item:first-child::after {align-self: flex-end;width: 50%;}#sk-container-id-2 div.sk-parallel-item:last-child::after {align-self: flex-start;width: 50%;}#sk-container-id-2 div.sk-parallel-item:only-child::after {width: 0;}#sk-container-id-2 div.sk-dashed-wrapped {border: 1px dashed gray;margin: 0 0.4em 0.5em 0.4em;box-sizing: border-box;padding-bottom: 0.4em;background-color: white;}#sk-container-id-2 div.sk-label label {font-family: monospace;font-weight: bold;display: inline-block;line-height: 1.2em;}#sk-container-id-2 div.sk-label-container {text-align: center;}#sk-container-id-2 div.sk-container {/* jupyter's `normalize.less` sets `[hidden] { display: none; }` but bootstrap.min.css set `[hidden] { display: none !important; }` so we also need the `!important` here to be able to override the default hidden behavior on the sphinx rendered scikit-learn.org. See: https://github.com/scikit-learn/scikit-learn/issues/21755 */display: inline-block !important;position: relative;}#sk-container-id-2 div.sk-text-repr-fallback {display: none;}</style><div id=\"sk-container-id-2\" class=\"sk-top-container\"><div class=\"sk-text-repr-fallback\"><pre>KNeighborsClassifier()</pre><b>In a Jupyter environment, please rerun this cell to show the HTML representation or trust the notebook. <br />On GitHub, the HTML representation is unable to render, please try loading this page with nbviewer.org.</b></div><div class=\"sk-container\" hidden><div class=\"sk-item\"><div class=\"sk-estimator sk-toggleable\"><input class=\"sk-toggleable__control sk-hidden--visually\" id=\"sk-estimator-id-2\" type=\"checkbox\" checked><label for=\"sk-estimator-id-2\" class=\"sk-toggleable__label sk-toggleable__label-arrow\">KNeighborsClassifier</label><div class=\"sk-toggleable__content\"><pre>KNeighborsClassifier()</pre></div></div></div></div></div>"
      ],
      "text/plain": [
       "KNeighborsClassifier()"
      ]
     },
     "execution_count": 74,
     "metadata": {},
     "output_type": "execute_result"
    }
   ],
   "source": [
    "#코드작성\n",
    "model_knn.fit(X_train, y_train)"
   ]
  },
  {
   "cell_type": "markdown",
   "metadata": {
    "id": "7150laImgEzY"
   },
   "source": [
    "### **STEP 3 : 모델 예측 및 평가하기**  "
   ]
  },
  {
   "cell_type": "markdown",
   "metadata": {
    "id": "a1QwKRgPPH2c"
   },
   "source": [
    "**1) 모델 예측하기**\n",
    "* 학습된 모델을 사용하여 테스트 데이터셋(X_test)에 대한 예측값을 y_pred에 저장한다."
   ]
  },
  {
   "cell_type": "code",
   "execution_count": 75,
   "metadata": {
    "id": "BziD_6Fk5Cf7"
   },
   "outputs": [],
   "source": [
    "#코드작성\n",
    "y_pred = model_knn.predict(X_test)"
   ]
  },
  {
   "cell_type": "code",
   "execution_count": 76,
   "metadata": {},
   "outputs": [
    {
     "data": {
      "text/plain": [
       "array([0, 0, 1, 0, 1, 0, 1, 0, 1, 1, 0, 1, 0, 0, 0, 0, 0, 0, 1, 0, 1, 1,\n",
       "       1, 1, 0, 0, 1, 0, 0, 1, 0, 1, 1, 1, 1, 0, 1, 1, 0, 0, 0, 0, 0, 1,\n",
       "       0, 1, 1, 1, 1, 0, 0, 1, 0, 0, 1, 1, 0, 1, 1, 1, 1, 1, 0, 0, 0, 1,\n",
       "       0, 0, 0, 1, 1, 1, 1, 0, 1, 1, 1, 1, 1, 1, 0, 1, 0, 0, 1, 0, 1, 0,\n",
       "       1, 0, 1, 1, 1, 1, 1, 0, 0, 1, 1, 1], dtype=int64)"
      ]
     },
     "execution_count": 76,
     "metadata": {},
     "output_type": "execute_result"
    }
   ],
   "source": [
    "y_pred"
   ]
  },
  {
   "cell_type": "markdown",
   "metadata": {
    "id": "jl8urdQ3PPR_"
   },
   "source": [
    "\n",
    "* 테스트 데이터 레이블값(y_test)과 예측한 값(y_pred)을 항목으로 저장한 결과(df_ result)를 출력한다."
   ]
  },
  {
   "cell_type": "code",
   "execution_count": 77,
   "metadata": {
    "id": "uC6Zg99ity19"
   },
   "outputs": [
    {
     "data": {
      "text/html": [
       "<div>\n",
       "<style scoped>\n",
       "    .dataframe tbody tr th:only-of-type {\n",
       "        vertical-align: middle;\n",
       "    }\n",
       "\n",
       "    .dataframe tbody tr th {\n",
       "        vertical-align: top;\n",
       "    }\n",
       "\n",
       "    .dataframe thead th {\n",
       "        text-align: right;\n",
       "    }\n",
       "</style>\n",
       "<table border=\"1\" class=\"dataframe\">\n",
       "  <thead>\n",
       "    <tr style=\"text-align: right;\">\n",
       "      <th></th>\n",
       "      <th>Actual</th>\n",
       "      <th>Predicted</th>\n",
       "    </tr>\n",
       "  </thead>\n",
       "  <tbody>\n",
       "    <tr>\n",
       "      <th>30</th>\n",
       "      <td>0</td>\n",
       "      <td>0</td>\n",
       "    </tr>\n",
       "    <tr>\n",
       "      <th>317</th>\n",
       "      <td>0</td>\n",
       "      <td>0</td>\n",
       "    </tr>\n",
       "    <tr>\n",
       "      <th>79</th>\n",
       "      <td>1</td>\n",
       "      <td>1</td>\n",
       "    </tr>\n",
       "    <tr>\n",
       "      <th>201</th>\n",
       "      <td>0</td>\n",
       "      <td>0</td>\n",
       "    </tr>\n",
       "    <tr>\n",
       "      <th>63</th>\n",
       "      <td>1</td>\n",
       "      <td>1</td>\n",
       "    </tr>\n",
       "    <tr>\n",
       "      <th>...</th>\n",
       "      <td>...</td>\n",
       "      <td>...</td>\n",
       "    </tr>\n",
       "    <tr>\n",
       "      <th>20</th>\n",
       "      <td>0</td>\n",
       "      <td>0</td>\n",
       "    </tr>\n",
       "    <tr>\n",
       "      <th>7</th>\n",
       "      <td>1</td>\n",
       "      <td>0</td>\n",
       "    </tr>\n",
       "    <tr>\n",
       "      <th>215</th>\n",
       "      <td>1</td>\n",
       "      <td>1</td>\n",
       "    </tr>\n",
       "    <tr>\n",
       "      <th>99</th>\n",
       "      <td>1</td>\n",
       "      <td>1</td>\n",
       "    </tr>\n",
       "    <tr>\n",
       "      <th>35</th>\n",
       "      <td>1</td>\n",
       "      <td>1</td>\n",
       "    </tr>\n",
       "  </tbody>\n",
       "</table>\n",
       "<p>100 rows × 2 columns</p>\n",
       "</div>"
      ],
      "text/plain": [
       "     Actual  Predicted\n",
       "30        0          0\n",
       "317       0          0\n",
       "79        1          1\n",
       "201       0          0\n",
       "63        1          1\n",
       "..      ...        ...\n",
       "20        0          0\n",
       "7         1          0\n",
       "215       1          1\n",
       "99        1          1\n",
       "35        1          1\n",
       "\n",
       "[100 rows x 2 columns]"
      ]
     },
     "execution_count": 77,
     "metadata": {},
     "output_type": "execute_result"
    }
   ],
   "source": [
    "#코드작성\n",
    "\n",
    "df_result = pd.DataFrame(columns=[\"Actual\", \"Predicted\"])\n",
    "df_result[\"Actual\"] = y_test\n",
    "df_result[\"Predicted\"] = y_pred\n",
    "\n",
    "df_result"
   ]
  },
  {
   "cell_type": "markdown",
   "metadata": {
    "id": "RtZO0qno5qcY"
   },
   "source": [
    "**2) 모델 성능 평가**\n",
    "* X_test, y_test로 생성한 모델(model_knn)의 정확도를 평가한다."
   ]
  },
  {
   "cell_type": "code",
   "execution_count": 78,
   "metadata": {
    "colab": {
     "base_uri": "https://localhost:8080/"
    },
    "id": "NA6WyyD2i4Wm",
    "outputId": "c20dbbb2-0e1d-41c9-9c3a-5cc096a2a51f"
   },
   "outputs": [
    {
     "name": "stdout",
     "output_type": "stream",
     "text": [
      "정확도:  0.83\n"
     ]
    }
   ],
   "source": [
    "#코드작성\n",
    "\n",
    "print(\"정확도: \", model_knn.score(X_test, y_test))"
   ]
  },
  {
   "cell_type": "markdown",
   "metadata": {
    "id": "JbMChBbWPeiz"
   },
   "source": [
    "* 혼동 행렬을 이용하여 모델이 예측한 값(y_pred)이 실제값(y_test)을 얼마나 정확히 예측했는지 확인한다."
   ]
  },
  {
   "cell_type": "code",
   "execution_count": 81,
   "metadata": {
    "colab": {
     "base_uri": "https://localhost:8080/"
    },
    "id": "VpDpMSoGCKvs",
    "outputId": "a069a7e9-e8d0-4ab6-ff9f-44f554d8f93f"
   },
   "outputs": [
    {
     "data": {
      "text/html": [
       "<div>\n",
       "<style scoped>\n",
       "    .dataframe tbody tr th:only-of-type {\n",
       "        vertical-align: middle;\n",
       "    }\n",
       "\n",
       "    .dataframe tbody tr th {\n",
       "        vertical-align: top;\n",
       "    }\n",
       "\n",
       "    .dataframe thead th {\n",
       "        text-align: right;\n",
       "    }\n",
       "</style>\n",
       "<table border=\"1\" class=\"dataframe\">\n",
       "  <thead>\n",
       "    <tr style=\"text-align: right;\">\n",
       "      <th></th>\n",
       "      <th>예측값(N)</th>\n",
       "      <th>예측값(P)</th>\n",
       "    </tr>\n",
       "  </thead>\n",
       "  <tbody>\n",
       "    <tr>\n",
       "      <th>실제값(N)</th>\n",
       "      <td>38</td>\n",
       "      <td>10</td>\n",
       "    </tr>\n",
       "    <tr>\n",
       "      <th>실제값(P)</th>\n",
       "      <td>7</td>\n",
       "      <td>45</td>\n",
       "    </tr>\n",
       "  </tbody>\n",
       "</table>\n",
       "</div>"
      ],
      "text/plain": [
       "        예측값(N)  예측값(P)\n",
       "실제값(N)      38      10\n",
       "실제값(P)       7      45"
      ]
     },
     "execution_count": 81,
     "metadata": {},
     "output_type": "execute_result"
    }
   ],
   "source": [
    "#코드작성\n",
    "df_matrix = confusion_matrix(y_test, y_pred)\n",
    "df_conf = pd.DataFrame(df_matrix).rename(index={0:'실제값(N)', 1:'실제값(P)'},\n",
    "                               columns ={0:'예측값(N)', 1:'예측값(P)'})\n",
    "df_conf"
   ]
  },
  {
   "cell_type": "markdown",
   "metadata": {
    "id": "8NbQIhApPqis"
   },
   "source": [
    "*  입력된 데이터(y_test) 중 정확히 예측한 데이터(y_pred)의 정확도(accuracy), 정밀도 (precision), 재현율(recall), F1 점수(F1-score)를 확인한다."
   ]
  },
  {
   "cell_type": "code",
   "execution_count": 82,
   "metadata": {
    "colab": {
     "base_uri": "https://localhost:8080/"
    },
    "id": "Q5tPTu0P3xed",
    "outputId": "fba85fe6-1a7e-4734-a0b9-34b3adf8d037"
   },
   "outputs": [
    {
     "name": "stdout",
     "output_type": "stream",
     "text": [
      "정확도:  0.83\n",
      "정밀도:  0.8181818181818182\n",
      "재현율:  0.8653846153846154\n",
      "F1-Score:  0.8411214953271028\n"
     ]
    }
   ],
   "source": [
    "accuracy_score, precision_score, recall_score, f1_score\n",
    "\n",
    "print(\"정확도: \", accuracy_score(y_test, y_pred)     )\n",
    "print(\"정밀도: \", precision_score(y_test, y_pred)     )\n",
    "print(\"재현율: \", recall_score(y_test, y_pred)     )\n",
    "print(\"F1-Score: \", f1_score(y_test, y_pred)   )"
   ]
  },
  {
   "cell_type": "markdown",
   "metadata": {
    "id": "MphncPBpP14F"
   },
   "source": [
    "*  scikitlearn의 metrics 라이브러리에서 제공하는 classification_report로 평가 지표 를 모두 확인해본다."
   ]
  },
  {
   "cell_type": "code",
   "execution_count": 86,
   "metadata": {
    "colab": {
     "base_uri": "https://localhost:8080/"
    },
    "id": "GW-cw3t0jNb7",
    "outputId": "65758381-674f-4092-e2d0-35bb26903be6"
   },
   "outputs": [
    {
     "name": "stdout",
     "output_type": "stream",
     "text": [
      "              precision    recall  f1-score   support\n",
      "\n",
      "           0       0.84      0.79      0.82        48\n",
      "           1       0.82      0.87      0.84        52\n",
      "\n",
      "    accuracy                           0.83       100\n",
      "   macro avg       0.83      0.83      0.83       100\n",
      "weighted avg       0.83      0.83      0.83       100\n",
      "\n"
     ]
    },
    {
     "data": {
      "text/plain": [
       "'\\n위의 두줄은 기준에 따라서 값이 변할 수 있다는 표현\\n'"
      ]
     },
     "execution_count": 86,
     "metadata": {},
     "output_type": "execute_result"
    }
   ],
   "source": [
    "#코드작성\n",
    "print(classification_report(y_test, y_pred))\n",
    "\n",
    "\n",
    "'''\n",
    "위의 두줄은 기준에 따라서 값이 변할 수 있다는 표현\n",
    "'''"
   ]
  },
  {
   "cell_type": "code",
   "execution_count": 87,
   "metadata": {},
   "outputs": [
    {
     "data": {
      "text/plain": [
       "Text(50.722222222222214, 0.5, 'Actual')"
      ]
     },
     "execution_count": 87,
     "metadata": {},
     "output_type": "execute_result"
    },
    {
     "data": {
      "image/png": "[encoded data removed]",
      "text/plain": [
       "<Figure size 640x480 with 1 Axes>"
      ]
     },
     "metadata": {},
     "output_type": "display_data"
    }
   ],
   "source": [
    "import seaborn as sns\n",
    "\n",
    "ax = sns.heatmap(df_matrix,annot=True,fmt='d',cbar=False,cmap='Blues')\n",
    "ax.set_xlabel(\"Prediction\")\n",
    "ax.set_ylabel(\"Actual\")"
   ]
  }
 ],
 "metadata": {
  "colab": {
   "provenance": []
  },
  "kernelspec": {
   "display_name": "Python 3 (ipykernel)",
   "language": "python",
   "name": "python3"
  },
  "language_info": {
   "codemirror_mode": {
    "name": "ipython",
    "version": 3
   },
   "file_extension": ".py",
   "mimetype": "text/x-python",
   "name": "python",
   "nbconvert_exporter": "python",
   "pygments_lexer": "ipython3",
   "version": "3.10.9"
  }
 },
 "nbformat": 4,
 "nbformat_minor": 1
}
