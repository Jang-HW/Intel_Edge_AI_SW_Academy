{
 "cells": [
  {
   "cell_type": "code",
   "execution_count": 10,
   "metadata": {
    "id": "xN1mw-lnzi89"
   },
   "outputs": [
    {
     "name": "stdout",
     "output_type": "stream",
     "text": [
      "********************************************************\n",
      "*******                 Base Ball                    ***\n",
      "********************************************************\n",
      "* 컴퓨터가 수비수가 되어 세 자릿수를 하나 골랐습니다.  *\n",
      "* 각 숫자는 0~9중의 하나이며 중복되는 숫자는 없습니다. *\n",
      "* 모든 숫자와 위치를 맞히면 승리합니다.                *\n",
      "* 숫자와 순서가 둘 다 맞으면 스크라이크 입니다.        *\n",
      "* 숫자만 맞고 순서가 틀리면 볼입니다.                  *\n",
      "* 숫자가 틀리면 아웃입니다.                            *\n",
      "********************************************************\n"
     ]
    }
   ],
   "source": [
    "print(\"********************************************************\")\n",
    "print(\"*******                 Base Ball                    ***\")\n",
    "print(\"********************************************************\")\n",
    "print(\"* 컴퓨터가 수비수가 되어 세 자릿수를 하나 골랐습니다.  *\")\n",
    "print(\"* 각 숫자는 0~9중의 하나이며 중복되는 숫자는 없습니다. *\")\n",
    "print(\"* 모든 숫자와 위치를 맞히면 승리합니다.                *\")\n",
    "print(\"* 숫자와 순서가 둘 다 맞으면 스크라이크 입니다.        *\")\n",
    "print(\"* 숫자만 맞고 순서가 틀리면 볼입니다.                  *\")\n",
    "print(\"* 숫자가 틀리면 아웃입니다.                            *\")\n",
    "print(\"********************************************************\")"
   ]
  },
  {
   "cell_type": "code",
   "execution_count": 11,
   "metadata": {
    "id": "YeAA7Aq7HrNw",
    "outputId": "dfefc79d-31e9-4bcd-d08f-11539036c4dd"
   },
   "outputs": [
    {
     "name": "stdout",
     "output_type": "stream",
     "text": [
      "> 수비수가 고른 숫자\n",
      "3\n",
      "1\n",
      "9\n"
     ]
    }
   ],
   "source": [
    "print(\"> 수비수가 고른 숫자\")\n",
    "numbers = [3, 1, 9]\n",
    "\n",
    "print(numbers[0])\n",
    "print(numbers[1])\n",
    "print(numbers[2])"
   ]
  },
  {
   "cell_type": "markdown",
   "metadata": {
    "id": "DM8YNQepHrNx"
   },
   "source": [
    "### **Step_6 - 반복문 while 사용하기**"
   ]
  },
  {
   "cell_type": "code",
   "execution_count": 12,
   "metadata": {
    "id": "pGJb-X29HrNy",
    "outputId": "da04db4c-e8aa-489d-8092-eaff89854f73"
   },
   "outputs": [
    {
     "name": "stdout",
     "output_type": "stream",
     "text": [
      "> 첫번째 숫자를 입력하세요=> 3\n",
      "> 두번째 숫자를 입력하세요=> 0\n",
      "> 세번째 숫자를 입력하세요=> 3\n",
      "> 공격수가 고른 숫자\n",
      "3\n",
      "0\n",
      "3\n",
      "같은 숫자를 입력하면 안됩니다\n",
      "> 첫번째 숫자를 입력하세요=> 3\n",
      "> 두번째 숫자를 입력하세요=> 0\n",
      "> 세번째 숫자를 입력하세요=> 9\n",
      "> 공격수가 고른 숫자\n",
      "3\n",
      "0\n",
      "9\n",
      "스트라이크 : 2\n",
      "볼 : 0\n",
      "아웃 : 1\n",
      "> 첫번째 숫자를 입력하세요=> 3\n",
      "> 두번째 숫자를 입력하세요=> 1\n",
      "> 세번째 숫자를 입력하세요=> 9\n",
      "> 공격수가 고른 숫자\n",
      "3\n",
      "1\n",
      "9\n",
      "스트라이크 : 3\n",
      "볼 : 0\n",
      "아웃 : 0\n",
      "스트라이트 아웃입니다\n"
     ]
    }
   ],
   "source": [
    "# 1. 공격수의 숫자 입력과 판정을 while문을 사용하여 무한 반복하도록 합니다.\n",
    "\n",
    "while(True): # ... 코드 입력(while문을 사용)\n",
    "    inputs = []\n",
    "\n",
    "    inputs.append(int(input(\"> 첫번째 숫자를 입력하세요=> \")))\n",
    "    inputs.append(int(input(\"> 두번째 숫자를 입력하세요=> \")))\n",
    "    inputs.append(int(input(\"> 세번째 숫자를 입력하세요=> \")))\n",
    "\n",
    "    print(\"> 공격수가 고른 숫자\")\n",
    "    print(inputs[0])\n",
    "    print(inputs[1])\n",
    "    print(inputs[2])\n",
    "\n",
    "    if (inputs[0]==inputs[1]) or (inputs[0]==inputs[2]) or (inputs[1]==inputs[2]):\n",
    "        print(\"같은 숫자를 입력하면 안됩니다\")\n",
    "        # 2.공격수가 같은 숫자를 입력했을 때 continue를 사용하여 코드 실행을 건너 뛰세요\n",
    "        continue\n",
    "\n",
    "    strikeCount = 0\n",
    "    ballCount = 0\n",
    "    outCount = 0\n",
    "\n",
    "    if inputs[0]==numbers[0]:\n",
    "        strikeCount = strikeCount + 1\n",
    "    elif (inputs[0]==numbers[1]) or (inputs[0] == numbers[2]):\n",
    "        ballCount = ballCount + 1\n",
    "\n",
    "    if inputs[1] == numbers[1]:\n",
    "        strikeCount = strikeCount + 1\n",
    "    elif (inputs[1] == numbers[0]) or (inputs[1] == numbers[2]):\n",
    "        ballCount = ballCount + 1\n",
    "\n",
    "    if inputs[2] == numbers[2]:\n",
    "        strikeCount = strikeCount + 1\n",
    "    elif (inputs[2] == numbers[0]) or (inputs[2] == numbers[1]):\n",
    "        ballCount = ballCount + 1\n",
    "\n",
    "    outCount = 3 - strikeCount - ballCount\n",
    "    print(\"스트라이크 : {0}\".format(strikeCount))\n",
    "    print(\"볼 : {0}\".format(ballCount))\n",
    "    print(\"아웃 : {0}\".format(outCount))\n",
    "\n",
    "    # 3.수비수가 고른 숫자와 공격수가 고른 숫자가 모두 일치하면\n",
    "    #   '스트라이트 아웃입니다'를 출력하고 break를 사용하여 while 문을 빠져 나옵니다.\n",
    "    if (strikeCount >= 3):\n",
    "        print(\"스트라이트 아웃입니다\")\n",
    "        break                               # ... 코드 입력"
   ]
  },
  {
   "cell_type": "code",
   "execution_count": null,
   "metadata": {},
   "outputs": [],
   "source": []
  }
 ],
 "metadata": {
  "colab": {
   "provenance": []
  },
  "kernelspec": {
   "display_name": "Python 3 (ipykernel)",
   "language": "python",
   "name": "python3"
  },
  "language_info": {
   "codemirror_mode": {
    "name": "ipython",
    "version": 3
   },
   "file_extension": ".py",
   "mimetype": "text/x-python",
   "name": "python",
   "nbconvert_exporter": "python",
   "pygments_lexer": "ipython3",
   "version": "3.10.9"
  }
 },
 "nbformat": 4,
 "nbformat_minor": 1
}
