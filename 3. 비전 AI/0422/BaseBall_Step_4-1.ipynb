{
 "cells": [
  {
   "cell_type": "markdown",
   "metadata": {
    "id": "5DLkPoAjlejB"
   },
   "source": [
    "### **Step_1 : 주석 사용하기**"
   ]
  },
  {
   "cell_type": "code",
   "execution_count": 1,
   "metadata": {
    "id": "FuHMtk1sFrgd",
    "outputId": "33269de2-47f3-459f-91d6-a883c3ee87b7"
   },
   "outputs": [
    {
     "name": "stdout",
     "output_type": "stream",
     "text": [
      "********************************************************\n",
      "*******                 Base Ball                    ***\n",
      "********************************************************\n",
      "* 컴퓨터가 수비수가 되어 세 자릿수를 하나 골랐습니다.  *\n",
      "* 각 숫자는 0~9중의 하나이며 중복되는 숫자는 없습니다. *\n",
      "* 모든 숫자와 위치를 맞히면 승리합니다.                *\n",
      "* 숫자와 순서가 둘 다 맞으면 스크라이크 입니다.        *\n",
      "* 숫자만 맞고 순서가 틀리면 볼입니다.                  *\n",
      "* 숫자가 틀리면 아웃입니다.                            *\n",
      "********************************************************\n"
     ]
    }
   ],
   "source": [
    "print(\"********************************************************\")\n",
    "print(\"*******                 Base Ball                    ***\")\n",
    "print(\"********************************************************\")\n",
    "print(\"* 컴퓨터가 수비수가 되어 세 자릿수를 하나 골랐습니다.  *\")\n",
    "print(\"* 각 숫자는 0~9중의 하나이며 중복되는 숫자는 없습니다. *\")\n",
    "print(\"* 모든 숫자와 위치를 맞히면 승리합니다.                *\")\n",
    "print(\"* 숫자와 순서가 둘 다 맞으면 스크라이크 입니다.        *\")\n",
    "print(\"* 숫자만 맞고 순서가 틀리면 볼입니다.                  *\")\n",
    "print(\"* 숫자가 틀리면 아웃입니다.                            *\")\n",
    "print(\"********************************************************\")"
   ]
  },
  {
   "cell_type": "markdown",
   "metadata": {
    "id": "qz-ft-aYlhJd"
   },
   "source": [
    "### **Step_2 : 변수 사용하기**"
   ]
  },
  {
   "cell_type": "code",
   "execution_count": 2,
   "metadata": {
    "id": "mbNsa3QWFrgf",
    "outputId": "2cc83090-c40a-436e-f605-72089d839223"
   },
   "outputs": [
    {
     "name": "stdout",
     "output_type": "stream",
     "text": [
      "> 수비수가 고른 숫자\n",
      "2\n",
      "5\n",
      "8\n"
     ]
    }
   ],
   "source": [
    "print(\"> 수비수가 고른 숫자\")\n",
    "number1 = 2\n",
    "number2 = 5\n",
    "number3 = 8\n",
    "\n",
    "print(number1)\n",
    "print(number2)\n",
    "print(number3)"
   ]
  },
  {
   "cell_type": "markdown",
   "metadata": {
    "id": "4RAd7x3Ell1a"
   },
   "source": [
    "### **Step_3 : 입력함수(input()) 사용하기**"
   ]
  },
  {
   "cell_type": "code",
   "execution_count": 11,
   "metadata": {
    "id": "hF7TG-R4Frgg",
    "outputId": "9f79f78c-6dba-4527-afb5-c0ffc8562323"
   },
   "outputs": [
    {
     "name": "stdout",
     "output_type": "stream",
     "text": [
      "> 첫번째 숫자를 입력하세요~! 1\n",
      "> 두번째 숫자를 입력하세요~! 2\n",
      "> 세번째 숫자를 입력하세요~! 2\n"
     ]
    }
   ],
   "source": [
    "input1 = int(input(\"> 첫번째 숫자를 입력하세요~! \"))\n",
    "input2 = int(input(\"> 두번째 숫자를 입력하세요~! \"))\n",
    "input3 = int(input(\"> 세번째 숫자를 입력하세요~! \"))"
   ]
  },
  {
   "cell_type": "code",
   "execution_count": 12,
   "metadata": {
    "id": "6CLsbmBHFrgg",
    "outputId": "d5bc3ae8-aa1a-473c-dc74-822ee2757b70"
   },
   "outputs": [
    {
     "name": "stdout",
     "output_type": "stream",
     "text": [
      "> 공격수가 고른 숫자\n",
      "1\n",
      "2\n",
      "2\n"
     ]
    }
   ],
   "source": [
    "print(\"> 공격수가 고른 숫자\")\n",
    "\n",
    "print(input1)\n",
    "print(input2)\n",
    "print(input3)"
   ]
  },
  {
   "cell_type": "markdown",
   "metadata": {
    "id": "SUVQr32JFrgh"
   },
   "source": [
    "### **Step_4_1 - 비교 및 논리 연산자 사용하기**"
   ]
  },
  {
   "cell_type": "markdown",
   "metadata": {
    "id": "RpmgVXJgFrgi"
   },
   "source": [
    "- 비교 및 논리 연산자를 사용하여 공격수가 고른 숫자 중 중복되는 숫자가 있으면\n",
    "'같은 숫자를 입력하면 안됩니다' 라고 출력합니다"
   ]
  },
  {
   "cell_type": "code",
   "execution_count": 17,
   "metadata": {
    "id": "61u7fXNfFrgi"
   },
   "outputs": [
    {
     "name": "stdout",
     "output_type": "stream",
     "text": [
      "같은 숫자를 입력하면 안됩니다\n"
     ]
    }
   ],
   "source": [
    "# 1. 비교 및 논리 연산자를 사용하여 공격수가 고른 숫자 중 중복되는 숫자가 있으면\n",
    "#    '같은 숫자를 입력하면 안됩니다' 라고 출력합니다\n",
    "if ((input1 == input2) | (input2 == input3) | (input3 == input1)):\n",
    "    print(\"같은 숫자를 입력하면 안됩니다\");\n",
    "else:\n",
    "    strikeCount = 0\n",
    "    ballCount = 0\n",
    "    outCount = 0\n",
    "\n",
    "    if input1==number1:\n",
    "        strikeCount = strikeCount + 1\n",
    "    elif (input1==number2) or (input1 == number3):\n",
    "        ballCount = ballCount + 1\n",
    "\n",
    "    if input2 == number2:\n",
    "        strikeCount = strikeCount + 1\n",
    "    elif (input2 == number1) or (input2 == number3):\n",
    "        ballCount = ballCount + 1\n",
    "\n",
    "    if input3 == number3:\n",
    "        strikeCount = strikeCount + 1\n",
    "    elif (input3 == number1) or (input3 == number2):\n",
    "        ballCount = ballCount + 1\n",
    "\n",
    "    outCount = 3 - strikeCount - ballCount\n",
    "    print(\"스트라이크 : {0}\".format(strikeCount))\n",
    "    print(\"볼 : {0}\".format(ballCount))\n",
    "    print(\"아웃 : {0}\".format(outCount))"
   ]
  },
  {
   "cell_type": "code",
   "execution_count": null,
   "metadata": {},
   "outputs": [],
   "source": []
  }
 ],
 "metadata": {
  "colab": {
   "provenance": []
  },
  "kernelspec": {
   "display_name": "Python 3 (ipykernel)",
   "language": "python",
   "name": "python3"
  },
  "language_info": {
   "codemirror_mode": {
    "name": "ipython",
    "version": 3
   },
   "file_extension": ".py",
   "mimetype": "text/x-python",
   "name": "python",
   "nbconvert_exporter": "python",
   "pygments_lexer": "ipython3",
   "version": "3.10.9"
  }
 },
 "nbformat": 4,
 "nbformat_minor": 1
}
