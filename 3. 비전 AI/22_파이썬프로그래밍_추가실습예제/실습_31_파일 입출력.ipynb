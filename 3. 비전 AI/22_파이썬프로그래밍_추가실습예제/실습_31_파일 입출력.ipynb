{
 "cells": [
  {
   "cell_type": "markdown",
   "metadata": {
    "id": "TM0fumvXi6D8"
   },
   "source": [
    "# 1.파일 열고 읽기"
   ]
  },
  {
   "cell_type": "code",
   "execution_count": null,
   "metadata": {
    "id": "pDAbPxG8i6EA"
   },
   "outputs": [],
   "source": [
    "# '31_readfile.txt' 파일을 읽기 모드로 연다. \n",
    "f = open('31_readfile.txt','r')"
   ]
  },
  {
   "cell_type": "markdown",
   "metadata": {
    "id": "-jMgRUIrlXgs"
   },
   "source": [
    "- **read()**: 파일 내용을 모두 읽어서 문자열(str)로 반환 \n",
    "- **read(n**): 파일에서 n 바이트 읽어서 문자열(str)로 반환환"
   ]
  },
  {
   "cell_type": "code",
   "execution_count": null,
   "metadata": {
    "id": "nERx7k59i6ED"
   },
   "outputs": [],
   "source": [
    "#파일 내용을 n바이트 읽어서 문자열 반환\n",
    "f.read(4)"
   ]
  },
  {
   "cell_type": "code",
   "execution_count": null,
   "metadata": {
    "id": "O7DUQYufi6EE"
   },
   "outputs": [],
   "source": [
    "f.read(6)"
   ]
  },
  {
   "cell_type": "code",
   "execution_count": null,
   "metadata": {
    "id": "YoANaLRPi6EE"
   },
   "outputs": [],
   "source": [
    "#파일 내용을 모두 읽어서 문자열 반환\n",
    "print(f.read())"
   ]
  },
  {
   "cell_type": "code",
   "execution_count": null,
   "metadata": {
    "id": "iP7Cy2W2i6EE"
   },
   "outputs": [],
   "source": [
    "# 연 파일을 닫는다\n",
    "f.close"
   ]
  },
  {
   "cell_type": "code",
   "execution_count": null,
   "metadata": {
    "id": "x6T58o4Ei6EF"
   },
   "outputs": [],
   "source": [
    "f = open('31_readfile.txt','r')"
   ]
  },
  {
   "cell_type": "markdown",
   "metadata": {
    "id": "ffqW35JHlxPU"
   },
   "source": [
    "- **readline()**: 한 줄씩 읽어서 문자열로 반환환"
   ]
  },
  {
   "cell_type": "code",
   "execution_count": null,
   "metadata": {
    "id": "JF73UXtMi6EF"
   },
   "outputs": [],
   "source": [
    "a = f.readline()\n",
    "print(a)"
   ]
  },
  {
   "cell_type": "code",
   "execution_count": null,
   "metadata": {
    "id": "_6xrIq-ri6EG"
   },
   "outputs": [],
   "source": [
    "b = f.readline()\n",
    "print(b)"
   ]
  },
  {
   "cell_type": "code",
   "execution_count": null,
   "metadata": {
    "id": "MQJNy5Ewi6EG"
   },
   "outputs": [],
   "source": [
    "f.close()"
   ]
  },
  {
   "cell_type": "code",
   "execution_count": null,
   "metadata": {
    "id": "NeI1ja3Ci6EH"
   },
   "outputs": [],
   "source": [
    "#for문을 사용하여 한줄씩 읽어오기\n",
    "f = open('31_readfile.txt','r')\n",
    "for line in f :\n",
    "     print(line)\n",
    "f.close()"
   ]
  },
  {
   "cell_type": "markdown",
   "metadata": {
    "id": "oSHF1QfXmOqq"
   },
   "source": [
    "- **readlines()** : 파일 전체를 리스트로 반환"
   ]
  },
  {
   "cell_type": "code",
   "execution_count": null,
   "metadata": {
    "id": "rHaGh4k_i6EH"
   },
   "outputs": [],
   "source": [
    "f = open('31_readfile.txt','r')\n",
    "a = f.readlines()\n",
    "print(a)\n",
    "\n",
    "f.close()"
   ]
  },
  {
   "cell_type": "code",
   "execution_count": null,
   "metadata": {
    "id": "G6BjaoB9i6EI"
   },
   "outputs": [],
   "source": [
    "# 읽은 것을 리스트로 저장하기\n",
    "f = open('31_scoredata1.txt','r')\n",
    "score = []\n",
    "for line in f :\n",
    "     score.append(int(line))\n",
    "\n",
    "f.close()        \n",
    "print(score)"
   ]
  },
  {
   "cell_type": "code",
   "execution_count": null,
   "metadata": {
    "id": "CttST_-Di6EJ"
   },
   "outputs": [],
   "source": [
    "# with 구문으로 파일 open하면 close() 함수 안써도 됨\n",
    "\n",
    "I_score = []\n",
    "with open('31_scoredata1.txt') as f :\n",
    "    for line in f :\n",
    "        I_score.append(int(line))\n",
    "\n",
    "print(I_score)"
   ]
  },
  {
   "cell_type": "code",
   "execution_count": null,
   "metadata": {
    "id": "yCXAGDaLi6EJ"
   },
   "outputs": [],
   "source": [
    "# 읽은 것을 딕셔너리로 저장하기\n",
    "\n",
    "d_score = {}\n",
    "with open('31_scoredata2.txt') as f :\n",
    "    for line in f :\n",
    "        (key, value) = line.split()\n",
    "        d_score[int(key)] = value\n",
    "        \n",
    "for key, value in d_score.items() : \n",
    "    print(key,value)"
   ]
  },
  {
   "cell_type": "code",
   "execution_count": null,
   "metadata": {
    "id": "f2c-kLu-i6EK"
   },
   "outputs": [],
   "source": [
    "#딕셔너리에 값이 여러개 있을때\n",
    "\n",
    "d_score = {}\n",
    "with open('31_scoredata3.txt') as f :\n",
    "    for line in f :\n",
    "        items = line.split()\n",
    "        key, value = items[0], items[1:]\n",
    "        d_score[int(key)] = value\n",
    "        \n",
    "for key, val in d_score.items() : \n",
    "    print(key,val)"
   ]
  },
  {
   "cell_type": "code",
   "execution_count": null,
   "metadata": {
    "id": "rDlSTfJ7i6EK"
   },
   "outputs": [],
   "source": [
    "#이번엔 있는 파일 열기시도!! \n",
    "import os \n",
    "\n",
    "fileName = input('파일명을 입력하세요: ')\n",
    "\n",
    "if os.path.exists(fileName) : \n",
    "    rfile = open(fileName, 'r')\n",
    "    \n",
    "    inList = rfile.readlines()\n",
    "    for line in inList :\n",
    "        print(line,end = '')\n",
    "        \n",
    "    rfile.close()\n",
    "else : \n",
    "    print('%s 파일이 없습니다' %fileName)"
   ]
  },
  {
   "cell_type": "code",
   "execution_count": null,
   "metadata": {
    "id": "wPrpRo9Hi6EL"
   },
   "outputs": [],
   "source": [
    "# 예외처리 구문 적용하기\n",
    "\n",
    "fileName = input('파일명을 입력하세요: ')\n",
    "\n",
    "try:\n",
    "    rfile = open(fileName, 'r')\n",
    "    \n",
    "    inList = rfile.readlines()\n",
    "    for line in inList :\n",
    "        print(line,end = '')\n",
    "        \n",
    "    rfile.close()\n",
    "except Exception as err : \n",
    "    #print('%s 파일이 없습니다.'%fileName)\n",
    "    #print('예외가 발생했습니다.({0})'.format(err))\n",
    "    print(f'예외가 발생했습니다.({err})')"
   ]
  },
  {
   "cell_type": "markdown",
   "metadata": {
    "id": "mXFSMaMvp0u5"
   },
   "source": [
    "### 2. 파일 쓰기"
   ]
  },
  {
   "cell_type": "code",
   "execution_count": null,
   "metadata": {
    "id": "iKNGnM83i6EL"
   },
   "outputs": [],
   "source": [
    "f = open('31_writefile.txt','w')\n",
    "f.write('hello world')\n",
    "f.write('python prgramming')\n",
    "f.write('it is easy')\n",
    "f.close()"
   ]
  },
  {
   "cell_type": "code",
   "execution_count": null,
   "metadata": {
    "id": "Ap0ThWsRi6EL"
   },
   "outputs": [],
   "source": [
    "f = open('31_writefile2.txt','w')\n",
    "f.writelines(['hello\\n','world\\n','python\\n'])\n",
    "f.close()"
   ]
  }
 ],
 "metadata": {
  "colab": {
   "provenance": []
  },
  "kernelspec": {
   "display_name": "Python 3 (ipykernel)",
   "language": "python",
   "name": "python3"
  },
  "language_info": {
   "codemirror_mode": {
    "name": "ipython",
    "version": 3
   },
   "file_extension": ".py",
   "mimetype": "text/x-python",
   "name": "python",
   "nbconvert_exporter": "python",
   "pygments_lexer": "ipython3",
   "version": "3.10.9"
  }
 },
 "nbformat": 4,
 "nbformat_minor": 1
}
