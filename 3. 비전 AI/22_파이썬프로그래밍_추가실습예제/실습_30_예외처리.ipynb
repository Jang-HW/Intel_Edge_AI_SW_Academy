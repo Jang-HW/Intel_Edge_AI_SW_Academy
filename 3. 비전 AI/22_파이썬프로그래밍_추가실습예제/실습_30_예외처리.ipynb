{
 "cells": [
  {
   "cell_type": "markdown",
   "metadata": {},
   "source": [
    "### 1. 구문에러 ( SyntaxError)  \n",
    "Syntax : 문장 안에서 단어들의 배치와 순서"
   ]
  },
  {
   "cell_type": "code",
   "execution_count": null,
   "metadata": {},
   "outputs": [],
   "source": [
    "print('hello world)   # "
   ]
  },
  {
   "cell_type": "code",
   "execution_count": null,
   "metadata": {},
   "outputs": [],
   "source": [
    "# 예외 1 (exception) -\n",
    "print(x)"
   ]
  },
  {
   "cell_type": "code",
   "execution_count": null,
   "metadata": {},
   "outputs": [],
   "source": [
    "# 예외 2 (exception) \n",
    "a = 1 ; b = 'A'\n",
    "a + b"
   ]
  },
  {
   "cell_type": "code",
   "execution_count": null,
   "metadata": {},
   "outputs": [],
   "source": [
    "# 예외 3 (exception) \n",
    "a = 10 ; b = 0\n",
    "a / b"
   ]
  },
  {
   "cell_type": "code",
   "execution_count": null,
   "metadata": {},
   "outputs": [],
   "source": [
    "# 예외 4 (exception) \n",
    "my_list = [1, 2, 3]\n",
    "print(my_list[3])"
   ]
  },
  {
   "cell_type": "code",
   "execution_count": null,
   "metadata": {},
   "outputs": [],
   "source": [
    "a = int(input('a값을 입력하세요'))\n",
    "b = int(input('b값을 입력하세요'))\n",
    "\n",
    "c = a / b\n",
    "print(c)"
   ]
  },
  {
   "cell_type": "code",
   "execution_count": null,
   "metadata": {},
   "outputs": [],
   "source": [
    "a = int(input('a값을 입력하세요'))\n",
    "b = int(input('b값을 입력하세요'))\n",
    "\n",
    "try :\n",
    "    c = a / b\n",
    "    print(c)\n",
    "except ZeroDivisionError :\n",
    "    print('Cannot divide by 0')\n",
    "    "
   ]
  },
  {
   "cell_type": "code",
   "execution_count": null,
   "metadata": {},
   "outputs": [],
   "source": [
    "a = 5\n",
    "b = 2     \n",
    "y = 3\n",
    "L = [1,2,3]"
   ]
  },
  {
   "cell_type": "code",
   "execution_count": null,
   "metadata": {},
   "outputs": [],
   "source": [
    "try :\n",
    "    c = a/b\n",
    "    print(y)\n",
    "    print(L[3])                # L(2) 로 수정하기\n",
    "except Exception as err:\n",
    "    print('1) 예외가 발생했습니다.({0})'.format(err))\n",
    "else :\n",
    "    print('시도한 명령이 에러가 없을 경우 이 부분을 수행합니다')\n",
    "finally:\n",
    "    print('어떤일이 있어도 이부분은 수행합니다')\n",
    "    "
   ]
  },
  {
   "cell_type": "code",
   "execution_count": null,
   "metadata": {},
   "outputs": [],
   "source": [
    "myStr = '파이썬은 재미있어요. 파이썬 공부 열심히 할래요'\n",
    "postList = []\n",
    "index = 0"
   ]
  },
  {
   "cell_type": "code",
   "execution_count": null,
   "metadata": {},
   "outputs": [],
   "source": [
    "while True:\n",
    "    index = myStr.index('파이썬',index)\n",
    "    postList.append(index)\n",
    "    index = index + 1\n",
    "print('파이썬 글자 위치-->', postList)"
   ]
  },
  {
   "cell_type": "code",
   "execution_count": null,
   "metadata": {},
   "outputs": [],
   "source": [
    "while True:\n",
    "    try :\n",
    "        index = myStr.index('파이썬', index)\n",
    "        postList.append(index)\n",
    "        index = index + 1\n",
    "    except :\n",
    "        break\n",
    "        \n",
    "print('파이썬 글자 위치-->', postList)"
   ]
  },
  {
   "cell_type": "code",
   "execution_count": null,
   "metadata": {},
   "outputs": [],
   "source": []
  }
 ],
 "metadata": {
  "kernelspec": {
   "display_name": "Python 3",
   "language": "python",
   "name": "python3"
  },
  "language_info": {
   "codemirror_mode": {
    "name": "ipython",
    "version": 3
   },
   "file_extension": ".py",
   "mimetype": "text/x-python",
   "name": "python",
   "nbconvert_exporter": "python",
   "pygments_lexer": "ipython3",
   "version": "3.6.5"
  }
 },
 "nbformat": 4,
 "nbformat_minor": 2
}
