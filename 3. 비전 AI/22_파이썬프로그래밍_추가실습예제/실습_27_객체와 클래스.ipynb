{
 "cells": [
  {
   "cell_type": "code",
   "execution_count": null,
   "metadata": {
    "scrolled": true
   },
   "outputs": [],
   "source": [
    "# 클래스 선언하기\n",
    "class Car:\n",
    "    def __init__(self) :\n",
    "        self.color    = 'blue'   #자동차색상\n",
    "        self.capacity = 2000  #배기량\n",
    "\n",
    "    def forward(self) :    #전진\n",
    "        pass\n",
    "\n",
    "    def backward(self) : #후진\n",
    "        pass\n",
    "\n",
    "    def turn_left(self) :    #좌회진\n",
    "        pass\n",
    "\n",
    "    def turn_right(self):   #우회진\n",
    "        pass\n",
    "    \n",
    "if __name__ == '__main__':        \n",
    "    my_car = Car()\n",
    "    \n",
    "    print(my_car.color)\n",
    "    print(my_car.capacity)\n",
    "    \n",
    "    my_car.forward()\n"
   ]
  },
  {
   "cell_type": "code",
   "execution_count": null,
   "metadata": {
    "scrolled": true
   },
   "outputs": [],
   "source": [
    "# 객체 선언하기 \n",
    "my_car = Car()\n",
    "print(type(my_car))"
   ]
  },
  {
   "cell_type": "code",
   "execution_count": null,
   "metadata": {
    "scrolled": true
   },
   "outputs": [],
   "source": [
    "class Dog:\n",
    "    '''\n",
    "    강아지를 이름과 나이로 표현하는 클래스\n",
    "    속성은 강아지 객체를 구성하는 데이터를 나타냄\n",
    "    '''\n",
    "    def __init__(self,name,age) :\n",
    "        self.name = name\n",
    "        self.age = age\n",
    "        \n",
    "    def bark(self) :\n",
    "        print(self.name, 'is barking')           "
   ]
  },
  {
   "cell_type": "code",
   "execution_count": null,
   "metadata": {
    "scrolled": true
   },
   "outputs": [],
   "source": [
    "x = Dog('Happy', 5)\n",
    "x.bark()\n",
    "print(x.name, 'is', x.age, 'years old')"
   ]
  },
  {
   "cell_type": "code",
   "execution_count": null,
   "metadata": {
    "scrolled": true
   },
   "outputs": [],
   "source": [
    "# 리스트 클래스 알아보기\n",
    "print(dir(list))"
   ]
  },
  {
   "cell_type": "code",
   "execution_count": null,
   "metadata": {
    "scrolled": true
   },
   "outputs": [],
   "source": [
    "L1 = [1,3,5]\n",
    "L2 = list([2,4,6])\n",
    "L3 = L1[1].__add__(L2[1])\n",
    "print(L3)"
   ]
  },
  {
   "cell_type": "code",
   "execution_count": null,
   "metadata": {
    "scrolled": true
   },
   "outputs": [],
   "source": [
    "# 클래스를 모듈로 저장하기\n",
    "%%writefile pet.py\n",
    "\n",
    "class Dog:\n",
    "    '''강아지 클래스 '''\n",
    "    def __init__(self,name,age) :\n",
    "        self.name = name\n",
    "        self.age = age\n",
    "        \n",
    "    def bark(self) :\n",
    "        print(self.name, 'is barking')   \n",
    "        \n",
    "class Cat:\n",
    "    '''고양이 클래스 '''\n",
    "    def __init__(self,name,color) :\n",
    "        self.name = name\n",
    "        self.color = color\n",
    "        \n",
    "    def show_color(self) :\n",
    "        print(self.name, 'is', self.color)                  # %ls"
   ]
  },
  {
   "cell_type": "code",
   "execution_count": null,
   "metadata": {
    "scrolled": true
   },
   "outputs": [],
   "source": [
    "%ls"
   ]
  },
  {
   "cell_type": "code",
   "execution_count": null,
   "metadata": {
    "scrolled": true
   },
   "outputs": [],
   "source": [
    "# 저장된 클래스 모듈을 불러와 사용하기\n",
    "from pet import Dog, Cat\n",
    "\n",
    "a = Dog('happy',3)\n",
    "b = Cat('Kitty','while')\n",
    "\n",
    "a.bark()\n",
    "\n",
    "b.show_color()"
   ]
  },
  {
   "cell_type": "code",
   "execution_count": null,
   "metadata": {
    "scrolled": true
   },
   "outputs": [],
   "source": [
    "# 상속\n",
    "class Base:\n",
    "    def base_method(self):\n",
    "        print(\"base_method\")\n",
    "        \n",
    "class Derived(Base):\n",
    "    pass\n",
    "\n",
    "base = Base()\n",
    "base.base_method()\n",
    "derived = Derived()\n",
    "derived.base_method()"
   ]
  },
  {
   "cell_type": "code",
   "execution_count": null,
   "metadata": {},
   "outputs": [],
   "source": [
    "#오버라이딩\n",
    "class A:\n",
    "    def method(self):\n",
    "        print(\"A\")\n",
    "        \n",
    "class B(A):        # B는 A를 상속하지만, A의 metho()를 물려받는 대신 자신만의 버전을오버라이딩함\n",
    "    def method(self):\n",
    "        print(\"B\")\n",
    "        \n",
    "A().method()\n",
    "B().method()"
   ]
  }
 ],
 "metadata": {
  "kernelspec": {
   "display_name": "Python 3 (ipykernel)",
   "language": "python",
   "name": "python3"
  },
  "language_info": {
   "codemirror_mode": {
    "name": "ipython",
    "version": 3
   },
   "file_extension": ".py",
   "mimetype": "text/x-python",
   "name": "python",
   "nbconvert_exporter": "python",
   "pygments_lexer": "ipython3",
   "version": "3.10.9"
  }
 },
 "nbformat": 4,
 "nbformat_minor": 2
}
