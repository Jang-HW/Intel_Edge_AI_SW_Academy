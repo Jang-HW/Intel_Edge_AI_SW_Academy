{
 "cells": [
  {
   "cell_type": "markdown",
   "metadata": {},
   "source": [
    "### 1. 표준모듈"
   ]
  },
  {
   "cell_type": "code",
   "execution_count": 1,
   "metadata": {},
   "outputs": [
    {
     "name": "stdout",
     "output_type": "stream",
     "text": [
      "('_ast', '_bisect', '_blake2', '_codecs', '_codecs_cn', '_codecs_hk', '_codecs_iso2022', '_codecs_jp', '_codecs_kr', '_codecs_tw', '_collections', '_csv', '_datetime', '_functools', '_heapq', '_imp', '_io', '_json', '_locale', '_lsprof', '_md5', '_multibytecodec', '_opcode', '_operator', '_pickle', '_random', '_sha1', '_sha256', '_sha3', '_sha512', '_signal', '_sre', '_stat', '_string', '_struct', '_symtable', '_thread', '_tracemalloc', '_warnings', '_weakref', '_winapi', 'array', 'atexit', 'audioop', 'binascii', 'builtins', 'cmath', 'errno', 'faulthandler', 'gc', 'itertools', 'marshal', 'math', 'mmap', 'msvcrt', 'nt', 'parser', 'sys', 'time', 'winreg', 'xxsubtype', 'zipimport', 'zlib')\n"
     ]
    }
   ],
   "source": [
    "import sys\n",
    "print(sys.builtin_module_names)"
   ]
  },
  {
   "cell_type": "markdown",
   "metadata": {},
   "source": [
    "### 2.사용자정의 모델 : 모듈만들기(주피터노트북에서)"
   ]
  },
  {
   "cell_type": "code",
   "execution_count": 8,
   "metadata": {},
   "outputs": [],
   "source": [
    "# calculator.py 파일을 먼저 만들고 같은 폴더 혹은 sys.path로 이동시켜두어야함"
   ]
  },
  {
   "cell_type": "markdown",
   "metadata": {},
   "source": [
    "### 2-1.주피터 노트북 매직커맨드 "
   ]
  },
  {
   "cell_type": "code",
   "execution_count": 1,
   "metadata": {},
   "outputs": [
    {
     "name": "stdout",
     "output_type": "stream",
     "text": [
      "Overwriting add.py\n"
     ]
    }
   ],
   "source": [
    "%%writefile add.py\n",
    "'''\n",
    "더하는 함수임\n",
    "'''\n",
    "def add(x, y) :\n",
    "    return x + y\n",
    "\n",
    "print(add(3,4))"
   ]
  },
  {
   "cell_type": "code",
   "execution_count": 2,
   "metadata": {},
   "outputs": [
    {
     "name": "stdout",
     "output_type": "stream",
     "text": [
      " C 드라이브의 볼륨에는 이름이 없습니다.\n",
      " 볼륨 일련 번호: 2482-12DB\n",
      "\n",
      " C:\\Users\\coojugi\\Documents\\0.광운창작소_빅데이터와인공지능\\01~02 파이썬기초 디렉터리\n",
      "\n",
      "2020-10-20  오후 02:30    <DIR>          .\n",
      "2020-10-20  오후 02:30    <DIR>          ..\n",
      "2020-10-20  오전 09:09    <DIR>          .ipynb_checkpoints\n",
      "2020-10-20  오후 02:06            53,431 06_파이썬 예제로 만나보기.ipynb\n",
      "2020-10-19  오전 11:51             6,657 07_파이썬 문법 기초사항.ipynb\n",
      "2020-10-19  오후 02:22             7,132 08_데이터저장-객체와변수.ipynb\n",
      "2019-09-22  오후 10:45             9,034 09_파이썬자료형-기본자료형.ipynb\n",
      "2019-09-22  오후 10:39             9,158 10_수다루기-연산자.ipynb\n",
      "2019-09-22  오후 10:49            18,647 11_문자열 다루기.ipynb\n",
      "2020-10-19  오후 02:58             8,531 11_문자열다루기.ipynb\n",
      "2019-09-22  오후 10:53            15,397 12_표준 입출력함수.ipynb\n",
      "2019-09-23  오전 12:26             3,942 13_미니 프로그램1.ipynb\n",
      "2020-10-18  오후 11:05             2,898 13_실습_미니프로그램1.ipynb\n",
      "2020-10-20  오전 09:15             5,731 14_미니 프로그램2.ipynb\n",
      "2020-10-18  오후 11:16             4,107 14_실습_미니 프로그램2.ipynb\n",
      "2020-10-19  오후 03:42             3,615 15_실습_제어문-조건문.ipynb\n",
      "2019-09-23  오후 04:13             6,189 15_제어문-조건문.ipynb\n",
      "2020-10-19  오후 03:56             5,021 16_실습_제어문-while 반복문.ipynb\n",
      "2019-09-26  오후 05:11             6,445 16_제어문-while 반복문.ipynb\n",
      "2020-10-19  오전 12:28             3,000 17_실습_제어문-For반복문.ipynb\n",
      "2020-10-19  오전 12:26             7,270 17_제어문-For반복문.ipynb\n",
      "2020-10-19  오전 12:35             8,991 18_다중반복문.ipynb\n",
      "2020-10-19  오전 12:37             8,239 18_실습_다중반복문.ipynb\n",
      "2019-09-25  오후 09:46             4,974 19_미니 프로그램3.ipynb\n",
      "2020-10-19  오전 12:42             4,201 19_실습_미니 프로그램3.ipynb\n",
      "2020-10-19  오후 08:20            11,007 20_설명_파이썬자료형-복합자료형1(리스트).ipynb\n",
      "2020-10-20  오전 09:57            17,819 20_파이썬자료형-복합자료형1(리스트).ipynb\n",
      "2019-09-25  오후 08:12            13,973 21_설명_파이썬자료형-복합자료형2(튜플).ipynb\n",
      "2020-10-20  오전 10:33            13,074 21_파이썬자료형-복합자료형2(튜플).ipynb\n",
      "2019-09-25  오후 11:16             9,976 22_설명_파이썬자료형-복합자료형3(딕셔너리).ipynb\n",
      "2020-10-20  오전 10:45             9,540 22_파이썬자료형-복합자료형3(딕셔너리).ipynb\n",
      "2019-09-25  오후 11:48            12,175 23_설명_파이썬자료형-복합자료형4(집합).ipynb\n",
      "2020-10-20  오전 10:56            10,387 23_파이썬자료형-복합자료형4(집합).ipynb\n",
      "2020-10-20  오전 11:20             7,398 24_복합자료형 심화.ipynb\n",
      "2020-10-19  오전 01:22             7,340 24_설명_복합자료형 심화.ipynb\n",
      "2019-10-12  오후 12:47             9,484 25_설명_함수1.ipynb\n",
      "2020-10-20  오전 11:57            10,277 25_함수1.ipynb\n",
      "2019-10-12  오후 01:49            12,912 26_설명_함수2.ipynb\n",
      "2020-10-20  오후 01:45            10,753 26_함수2.ipynb\n",
      "2020-10-20  오후 02:30            16,739 27_모듈.ipynb\n",
      "2020-10-19  오전 01:27            16,739 27_설명_모듈.ipynb\n",
      "2019-10-12  오후 02:54             6,839 28_설명_함수 및 모듈 더 짚어보기.ipynb\n",
      "2020-10-19  오후 09:17             3,497 28_함수 및 모듈 더 짚어보기.ipynb\n",
      "2020-10-19  오후 09:18             5,054 29_객체와 클래스.ipynb\n",
      "2019-10-10  오후 11:20            10,713 29_설명_객체와 클래스.ipynb\n",
      "2019-10-09  오후 10:41            11,842 30_설명_예외처리.ipynb\n",
      "2020-10-19  오후 09:21             3,981 30_예외처리.ipynb\n",
      "2019-10-08  오후 05:38                73 31_readfile.txt\n",
      "2019-10-08  오후 06:31                18 31_scoredata.txt\n",
      "2019-10-08  오후 06:41                28 31_scoredata2.txt\n",
      "2019-10-08  오후 07:17                49 31_scoredata3.txt\n",
      "2019-10-08  오후 07:23                38 31_writefile.txt\n",
      "2019-10-08  오후 07:21                22 31_writefile2.txt\n",
      "2019-10-08  오후 07:50             9,421 31_파일입출력.ipynb\n",
      "2019-10-11  오전 12:52            10,829 32_11.png\n",
      "2019-10-11  오전 01:01             6,400 32_미니 프로그램4.ipynb\n",
      "2020-10-19  오전 01:29             3,857 32_실습_미니 프로그램4.ipynb\n",
      "2020-10-20  오후 02:31                54 add.py\n",
      "2019-10-10  오전 12:40               434 pet.py\n",
      "2019-10-11  오전 12:35               220 rotto.py\n",
      "2019-10-11  오전 01:53         1,193,036 seoul_temp.csv\n",
      "2019-10-07  오전 12:19               682 sub.ipynb\n",
      "2019-10-07  오전 12:26               125 sub.py\n",
      "2019-10-01  오전 11:24               570 test.ipynb\n",
      "2019-09-19  오후 10:02               160 turtle_test.py\n",
      "              62개 파일           1,660,145 바이트\n",
      "               3개 디렉터리  44,886,519,808 바이트 남음\n"
     ]
    }
   ],
   "source": [
    "%ls"
   ]
  },
  {
   "cell_type": "code",
   "execution_count": 1,
   "metadata": {},
   "outputs": [
    {
     "name": "stdout",
     "output_type": "stream",
     "text": [
      "7\n"
     ]
    }
   ],
   "source": [
    "%run add.py"
   ]
  },
  {
   "cell_type": "code",
   "execution_count": 3,
   "metadata": {},
   "outputs": [],
   "source": [
    "%run?"
   ]
  },
  {
   "cell_type": "markdown",
   "metadata": {},
   "source": [
    "### 3.import 사용법"
   ]
  },
  {
   "cell_type": "code",
   "execution_count": 4,
   "metadata": {},
   "outputs": [
    {
     "ename": "ModuleNotFoundError",
     "evalue": "No module named 'calculator'",
     "output_type": "error",
     "traceback": [
      "\u001b[1;31m---------------------------------------------------------------------------\u001b[0m",
      "\u001b[1;31mModuleNotFoundError\u001b[0m                       Traceback (most recent call last)",
      "\u001b[1;32m<ipython-input-4-fb1da86262a2>\u001b[0m in \u001b[0;36m<module>\u001b[1;34m()\u001b[0m\n\u001b[1;32m----> 1\u001b[1;33m \u001b[1;32mimport\u001b[0m \u001b[0mcalculator\u001b[0m\u001b[1;33m\u001b[0m\u001b[0m\n\u001b[0m\u001b[0;32m      2\u001b[0m \u001b[1;33m\u001b[0m\u001b[0m\n\u001b[0;32m      3\u001b[0m \u001b[0mx\u001b[0m \u001b[1;33m=\u001b[0m \u001b[1;36m10\u001b[0m\u001b[1;33m\u001b[0m\u001b[0m\n\u001b[0;32m      4\u001b[0m \u001b[0my\u001b[0m \u001b[1;33m=\u001b[0m \u001b[1;36m20\u001b[0m\u001b[1;33m\u001b[0m\u001b[0m\n\u001b[0;32m      5\u001b[0m \u001b[1;33m\u001b[0m\u001b[0m\n",
      "\u001b[1;31mModuleNotFoundError\u001b[0m: No module named 'calculator'"
     ]
    }
   ],
   "source": [
    "import calculator \n",
    "\n",
    "x = 10\n",
    "y = 20\n",
    "\n",
    "ans1 = calculator.plus(x, y)\n",
    "ans2 = calculator.minus(x, y)\n",
    "ans3 = calculator.multiply(x, y)\n",
    "ans4 = calculator.divide(x, y)\n",
    "\n",
    "print(ans1, ans2, ans3, ans4)"
   ]
  },
  {
   "cell_type": "code",
   "execution_count": 13,
   "metadata": {},
   "outputs": [
    {
     "name": "stdout",
     "output_type": "stream",
     "text": [
      "9\n"
     ]
    }
   ],
   "source": [
    "import calculator as c\n",
    "\n",
    "print(c.plus(5,4))"
   ]
  },
  {
   "cell_type": "code",
   "execution_count": 14,
   "metadata": {},
   "outputs": [
    {
     "name": "stdout",
     "output_type": "stream",
     "text": [
      "5\n"
     ]
    }
   ],
   "source": [
    "from calculator import minus\n",
    "print(minus(10,5))"
   ]
  },
  {
   "cell_type": "code",
   "execution_count": 16,
   "metadata": {},
   "outputs": [
    {
     "name": "stdout",
     "output_type": "stream",
     "text": [
      "15\n"
     ]
    }
   ],
   "source": [
    "from calculator import *\n",
    "print(multiply(3,5))"
   ]
  },
  {
   "cell_type": "markdown",
   "metadata": {},
   "source": [
    "### 4. 모듈 찾는 순서"
   ]
  },
  {
   "cell_type": "code",
   "execution_count": 18,
   "metadata": {},
   "outputs": [
    {
     "name": "stdout",
     "output_type": "stream",
     "text": [
      "('_ast', '_bisect', '_blake2', '_codecs', '_codecs_cn', '_codecs_hk', '_codecs_iso2022', '_codecs_jp', '_codecs_kr', '_codecs_tw', '_collections', '_csv', '_datetime', '_functools', '_heapq', '_imp', '_io', '_json', '_locale', '_lsprof', '_md5', '_multibytecodec', '_opcode', '_operator', '_pickle', '_random', '_sha1', '_sha256', '_sha3', '_sha512', '_signal', '_sre', '_stat', '_string', '_struct', '_symtable', '_thread', '_tracemalloc', '_warnings', '_weakref', '_winapi', 'array', 'atexit', 'audioop', 'binascii', 'builtins', 'cmath', 'errno', 'faulthandler', 'gc', 'itertools', 'marshal', 'math', 'mmap', 'msvcrt', 'nt', 'parser', 'sys', 'time', 'winreg', 'xxsubtype', 'zipimport', 'zlib')\n"
     ]
    }
   ],
   "source": [
    "import sys\n",
    "print(sys.builtin_module_names)"
   ]
  },
  {
   "cell_type": "code",
   "execution_count": 17,
   "metadata": {},
   "outputs": [
    {
     "name": "stdout",
     "output_type": "stream",
     "text": [
      "('_ast', '_bisect', '_blake2', '_codecs', '_codecs_cn', '_codecs_hk', '_codecs_iso2022', '_codecs_jp', '_codecs_kr', '_codecs_tw', '_collections', '_csv', '_datetime', '_functools', '_heapq', '_imp', '_io', '_json', '_locale', '_lsprof', '_md5', '_multibytecodec', '_opcode', '_operator', '_pickle', '_random', '_sha1', '_sha256', '_sha3', '_sha512', '_signal', '_sre', '_stat', '_string', '_struct', '_symtable', '_thread', '_tracemalloc', '_warnings', '_weakref', '_winapi', 'array', 'atexit', 'audioop', 'binascii', 'builtins', 'cmath', 'errno', 'faulthandler', 'gc', 'itertools', 'marshal', 'math', 'mmap', 'msvcrt', 'nt', 'parser', 'sys', 'time', 'winreg', 'xxsubtype', 'zipimport', 'zlib')\n"
     ]
    }
   ],
   "source": [
    "from sys import *\n",
    "print(builtin_module_names)"
   ]
  },
  {
   "cell_type": "code",
   "execution_count": 23,
   "metadata": {},
   "outputs": [
    {
     "data": {
      "text/plain": [
       "['__doc__',\n",
       " '__loader__',\n",
       " '__name__',\n",
       " '__package__',\n",
       " '__spec__',\n",
       " 'acos',\n",
       " 'acosh',\n",
       " 'asin',\n",
       " 'asinh',\n",
       " 'atan',\n",
       " 'atan2',\n",
       " 'atanh',\n",
       " 'ceil',\n",
       " 'copysign',\n",
       " 'cos',\n",
       " 'cosh',\n",
       " 'degrees',\n",
       " 'e',\n",
       " 'erf',\n",
       " 'erfc',\n",
       " 'exp',\n",
       " 'expm1',\n",
       " 'fabs',\n",
       " 'factorial',\n",
       " 'floor',\n",
       " 'fmod',\n",
       " 'frexp',\n",
       " 'fsum',\n",
       " 'gamma',\n",
       " 'gcd',\n",
       " 'hypot',\n",
       " 'inf',\n",
       " 'isclose',\n",
       " 'isfinite',\n",
       " 'isinf',\n",
       " 'isnan',\n",
       " 'ldexp',\n",
       " 'lgamma',\n",
       " 'log',\n",
       " 'log10',\n",
       " 'log1p',\n",
       " 'log2',\n",
       " 'modf',\n",
       " 'nan',\n",
       " 'pi',\n",
       " 'pow',\n",
       " 'radians',\n",
       " 'sin',\n",
       " 'sinh',\n",
       " 'sqrt',\n",
       " 'tan',\n",
       " 'tanh',\n",
       " 'tau',\n",
       " 'trunc']"
      ]
     },
     "execution_count": 23,
     "metadata": {},
     "output_type": "execute_result"
    }
   ],
   "source": [
    "import math\n",
    "dir(math)"
   ]
  },
  {
   "cell_type": "code",
   "execution_count": 1,
   "metadata": {},
   "outputs": [
    {
     "data": {
      "text/plain": [
       "['C:\\\\Users\\\\cooju\\\\Documents\\\\0.KW-AI\\\\02_실습_파이썬기초',\n",
       " 'C:\\\\Users\\\\cooju\\\\Anaconda3\\\\python38.zip',\n",
       " 'C:\\\\Users\\\\cooju\\\\Anaconda3\\\\DLLs',\n",
       " 'C:\\\\Users\\\\cooju\\\\Anaconda3\\\\lib',\n",
       " 'C:\\\\Users\\\\cooju\\\\Anaconda3',\n",
       " '',\n",
       " 'C:\\\\Users\\\\cooju\\\\Anaconda3\\\\lib\\\\site-packages',\n",
       " 'C:\\\\Users\\\\cooju\\\\Anaconda3\\\\lib\\\\site-packages\\\\win32',\n",
       " 'C:\\\\Users\\\\cooju\\\\Anaconda3\\\\lib\\\\site-packages\\\\win32\\\\lib',\n",
       " 'C:\\\\Users\\\\cooju\\\\Anaconda3\\\\lib\\\\site-packages\\\\Pythonwin',\n",
       " 'C:\\\\Users\\\\cooju\\\\Anaconda3\\\\lib\\\\site-packages\\\\IPython\\\\extensions',\n",
       " 'C:\\\\Users\\\\cooju\\\\.ipython']"
      ]
     },
     "execution_count": 1,
     "metadata": {},
     "output_type": "execute_result"
    }
   ],
   "source": [
    "# import 하면 모듈 찾기위해 다음 경로로 순서 검색\n",
    "# 1.현재 디렉토리\n",
    "# 2.환경변수 PYTHONPATH에 지정된 경로\n",
    "# 3.Python이 설치된 경로 및 그 밑의 라이브러리 경로\n",
    "# 원하는 경로가 있으면 sys.path.append()\n",
    "\n",
    "import sys\n",
    "sys.path"
   ]
  },
  {
   "cell_type": "code",
   "execution_count": 8,
   "metadata": {},
   "outputs": [
    {
     "name": "stdout",
     "output_type": "stream",
     "text": [
      "\n",
      "C:\\ProgramData\\Anaconda3\\python36.zip\n",
      "C:\\ProgramData\\Anaconda3\\DLLs\n",
      "C:\\ProgramData\\Anaconda3\\lib\n",
      "C:\\ProgramData\\Anaconda3\n",
      "C:\\ProgramData\\Anaconda3\\lib\\site-packages\n",
      "C:\\ProgramData\\Anaconda3\\lib\\site-packages\\win32\n",
      "C:\\ProgramData\\Anaconda3\\lib\\site-packages\\win32\\lib\n",
      "C:\\ProgramData\\Anaconda3\\lib\\site-packages\\Pythonwin\n",
      "C:\\ProgramData\\Anaconda3\\lib\\site-packages\\IPython\\extensions\n",
      "C:\\Users\\coojugi\\.ipython\n"
     ]
    }
   ],
   "source": [
    "for path in sys.path :\n",
    "    print(path)"
   ]
  },
  {
   "cell_type": "code",
   "execution_count": 25,
   "metadata": {},
   "outputs": [
    {
     "name": "stdout",
     "output_type": "stream",
     "text": [
      "beginning of sub.py...\n",
      "name : sub\n",
      "end of sub.py...\n"
     ]
    }
   ],
   "source": [
    "# 사용자 정의한 모듈 위치\n",
    "import sub"
   ]
  },
  {
   "cell_type": "code",
   "execution_count": 9,
   "metadata": {},
   "outputs": [
    {
     "data": {
      "text/plain": [
       "'C:\\\\Users\\\\coojugi\\\\Documents\\\\0.광운창작소_빅데이터와인공지능\\\\01~02 파이썬기초'"
      ]
     },
     "execution_count": 9,
     "metadata": {},
     "output_type": "execute_result"
    }
   ],
   "source": [
    "%pwd"
   ]
  },
  {
   "cell_type": "code",
   "execution_count": 10,
   "metadata": {},
   "outputs": [],
   "source": [
    "sys.path.append('/users/coojugi/Documents/0.광운창작소_빅데이터와인공지능/01~02 파이썬기초') "
   ]
  },
  {
   "cell_type": "code",
   "execution_count": 11,
   "metadata": {},
   "outputs": [
    {
     "data": {
      "text/plain": [
       "['',\n",
       " 'C:\\\\ProgramData\\\\Anaconda3\\\\python36.zip',\n",
       " 'C:\\\\ProgramData\\\\Anaconda3\\\\DLLs',\n",
       " 'C:\\\\ProgramData\\\\Anaconda3\\\\lib',\n",
       " 'C:\\\\ProgramData\\\\Anaconda3',\n",
       " 'C:\\\\ProgramData\\\\Anaconda3\\\\lib\\\\site-packages',\n",
       " 'C:\\\\ProgramData\\\\Anaconda3\\\\lib\\\\site-packages\\\\win32',\n",
       " 'C:\\\\ProgramData\\\\Anaconda3\\\\lib\\\\site-packages\\\\win32\\\\lib',\n",
       " 'C:\\\\ProgramData\\\\Anaconda3\\\\lib\\\\site-packages\\\\Pythonwin',\n",
       " 'C:\\\\ProgramData\\\\Anaconda3\\\\lib\\\\site-packages\\\\IPython\\\\extensions',\n",
       " 'C:\\\\Users\\\\coojugi\\\\.ipython',\n",
       " '/users/coojugi/Documents/0.광운창작소_빅데이터와인공지능/01~02 파이썬기초']"
      ]
     },
     "execution_count": 11,
     "metadata": {},
     "output_type": "execute_result"
    }
   ],
   "source": [
    "sys.path"
   ]
  },
  {
   "cell_type": "code",
   "execution_count": 54,
   "metadata": {},
   "outputs": [
    {
     "data": {
      "text/plain": [
       "''"
      ]
     },
     "execution_count": 54,
     "metadata": {},
     "output_type": "execute_result"
    }
   ],
   "source": [
    "sys.path[0]"
   ]
  },
  {
   "cell_type": "code",
   "execution_count": 38,
   "metadata": {},
   "outputs": [
    {
     "name": "stdout",
     "output_type": "stream",
     "text": [
      "\n",
      "C:\\ProgramData\\Anaconda3\\python36.zip\n",
      "C:\\ProgramData\\Anaconda3\\DLLs\n",
      "C:\\ProgramData\\Anaconda3\\lib\n",
      "C:\\ProgramData\\Anaconda3\n",
      "C:\\ProgramData\\Anaconda3\\lib\\site-packages\n",
      "C:\\ProgramData\\Anaconda3\\lib\\site-packages\\win32\n",
      "C:\\ProgramData\\Anaconda3\\lib\\site-packages\\win32\\lib\n",
      "C:\\ProgramData\\Anaconda3\\lib\\site-packages\\Pythonwin\n",
      "C:\\ProgramData\\Anaconda3\\lib\\site-packages\\IPython\\extensions\n",
      "C:\\Users\\coojugi\\.ipython\n",
      "/users/coojugi/python_myModue/\n"
     ]
    }
   ],
   "source": [
    "import sys\n",
    "for path in sys.path :\n",
    "    print(path)"
   ]
  },
  {
   "cell_type": "code",
   "execution_count": 58,
   "metadata": {},
   "outputs": [],
   "source": [
    "# append 하는 입력 방식 3가지\n",
    "sys.path.append(r'C:\\Users\\coojugi\\python_myModule') \n",
    "sys.path.append('C:\\\\Users\\\\coojugi\\\\python_project')\n",
    "sys.path.append('C:/Users/coojugi/python_project')"
   ]
  }
 ],
 "metadata": {
  "kernelspec": {
   "display_name": "Python 3 (ipykernel)",
   "language": "python",
   "name": "python3"
  },
  "language_info": {
   "codemirror_mode": {
    "name": "ipython",
    "version": 3
   },
   "file_extension": ".py",
   "mimetype": "text/x-python",
   "name": "python",
   "nbconvert_exporter": "python",
   "pygments_lexer": "ipython3",
   "version": "3.10.9"
  }
 },
 "nbformat": 4,
 "nbformat_minor": 2
}
