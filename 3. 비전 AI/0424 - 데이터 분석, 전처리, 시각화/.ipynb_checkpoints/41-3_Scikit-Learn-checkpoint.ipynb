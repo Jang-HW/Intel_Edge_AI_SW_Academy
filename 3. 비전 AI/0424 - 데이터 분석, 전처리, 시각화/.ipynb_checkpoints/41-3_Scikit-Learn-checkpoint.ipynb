{
 "cells": [
  {
   "cell_type": "markdown",
   "metadata": {
    "colab_type": "text",
    "id": "TVx3v64Rxuwy"
   },
   "source": [
    "# **Scikit Learn - Basics**"
   ]
  },
  {
   "cell_type": "markdown",
   "metadata": {
    "colab_type": "text",
    "id": "dWNoqCO0xuwy"
   },
   "source": [
    "scikit-learn은 지도 및 비지도 학습을 지원하는 오픈소스 기계 학습 라이브러리입니다.<br>또한 모델 피팅, 데이터 사전 처리, 모델 선택 및 평가, 기타 여러 유틸리티를 위한 다양한 도구를 제공합니다. <br>\n",
    "\n",
    "피팅: 데이터를 모델에 맞춰 보는 것 (학습시킨다)\n",
    "<br><br>[scikit-learn.org](https://scikit-learn.org/stable/)"
   ]
  },
  {
   "cell_type": "markdown",
   "metadata": {
    "colab_type": "text",
    "id": "Acuww1fuxuwz"
   },
   "source": [
    "여기에서는 scikit-learn을 시작하는 방법에 대한 기본 사항과 이후 세션에서 접하게 될 몇 가지 용어를 살펴보겠습니다. 아래 코드를 실행해 보세요!\n",
    "현재 scikit-learn 또는 기계 학습 워크플로의 정확한 작동을 이해하지 못한다고 걱정하지 마세요. 아래 코드는 지금까지 노트북에서 본 모든 것을 보여줍니다! 이후 세션에서 우리는 그 과정을 단계별로 더 자세히 살펴볼 것입니다."
   ]
  },
  {
   "cell_type": "code",
   "execution_count": null,
   "metadata": {
    "colab": {},
    "colab_type": "code",
    "id": "5HgP88cYxuwz"
   },
   "outputs": [],
   "source": [
    "# Anaconda의 conda나 다른 환경의 Python에서 pip를 사용하여 scikit-learn를 설치하려면 \n",
    "#                                                               따옴표를 제거하세요.\n",
    "'''\n",
    "pip install scikit-learn\n",
    "#or\n",
    "conda install scikit-learn\n",
    "'''"
   ]
  },
  {
   "cell_type": "markdown",
   "metadata": {
    "colab_type": "text",
    "id": "umgGl-Cgxuw2"
   },
   "source": [
    "먼저 sklearn을 import 하고 print를 이용하여 정상적으로 import 되었는지 확인할 수 있습니다. 라이브러리를 올바르게 가져오지 않으면 오류가 발생합니다."
   ]
  },
  {
   "cell_type": "code",
   "execution_count": 1,
   "metadata": {
    "colab": {},
    "colab_type": "code",
    "id": "j30gIwFGxuw2",
    "tags": []
   },
   "outputs": [
    {
     "name": "stdout",
     "output_type": "stream",
     "text": [
      "1.2.1\n"
     ]
    }
   ],
   "source": [
    "# sklearn 라이브러리 가져오기\n",
    "import sklearn\n",
    "print(sklearn.__version__)"
   ]
  },
  {
   "cell_type": "markdown",
   "metadata": {
    "colab_type": "text",
    "id": "D4Uj7RiBxuw4"
   },
   "source": [
    "다음으로 예제에 필요한 종속성을 가져옵니다. 이 예에서 우리는 Decision Tree의 시각화를 보여주기 위해서 DecisionTreeClassifier와 나중에 시각화에 도움이 될 플롯 트리를 가져올 것입니다."
   ]
  },
  {
   "cell_type": "code",
   "execution_count": null,
   "metadata": {
    "colab": {},
    "colab_type": "code",
    "id": "ntWo5Qs6xuw5",
    "tags": []
   },
   "outputs": [],
   "source": [
    "# numpy, pandas, matplotlib.pyplot, DecisionTreeClassifier 및 plot_tree 가져오기\n",
    "# 이 부분은 나중에 보게 될 예제와 유사합니다!\n",
    "\n",
    "import pandas as pd\n",
    "import matplotlib.pyplot as plt\n",
    "\n",
    "from sklearn.tree import DecisionTreeClassifier\n",
    "from sklearn.tree import plot_tree"
   ]
  },
  {
   "cell_type": "markdown",
   "metadata": {
    "colab_type": "text",
    "id": "fJuPmR-mxuw7"
   },
   "source": [
    "그런 다음 데이터 셋을 가져옵니다. 이번 예제의 경우 scikit-learn 자체에서 데이터 셋이 제공됩니다."
   ]
  },
  {
   "cell_type": "code",
   "execution_count": null,
   "metadata": {
    "colab": {},
    "colab_type": "code",
    "id": "4OiYPpSnxuw8"
   },
   "outputs": [],
   "source": [
    "# Scikit-Learn에서 유방암 데이터 세트 가져오기\n",
    "from sklearn.datasets import load_breast_cancer\n",
    "\n",
    "data = load_breast_cancer()\n",
    "list(data.target_names)"
   ]
  },
  {
   "cell_type": "markdown",
   "metadata": {
    "colab_type": "text",
    "id": "Wh7R9fY1xuw-"
   },
   "source": [
    "마지막으로, max_depth 인수를 통해 트리의 최대 레벨 수를 지정합니다. 그리고 데이터 셋을 이용하여 적합 함수로 모델을 학습시키고, 플롯 트리를 사용하여 시각화합니다."
   ]
  },
  {
   "cell_type": "code",
   "execution_count": null,
   "metadata": {
    "colab": {},
    "colab_type": "code",
    "id": "AkUQzZlYxuw-"
   },
   "outputs": [],
   "source": [
    "# 모델 객체 선언하기\n",
    "clf = DecisionTreeClassifier(max_depth=3) # max_depth는 트리의 최대 레벨 수입니다.\n",
    "\n",
    "# 모델 학습하기\n",
    "clf.fit(data.data, data.target)\n",
    "\n",
    "# 여기에서 데이터 세트를 모델에 전달하고 트리의 시각화하여 그래프로 나타냅니다. \n",
    "plt.figure(figsize=(25,10))\n",
    "a = plot_tree(clf, \n",
    "              feature_names=data.feature_names, \n",
    "              class_names=data.target_names, \n",
    "              filled=True, \n",
    "              fontsize=18)"
   ]
  },
  {
   "cell_type": "markdown",
   "metadata": {
    "colab_type": "text",
    "id": "L1UzxxEuxuxA"
   },
   "source": [
    "우리가 본 것은 scikit-learn을 사용하여 기계 학습을 수행하는 것이 얼마나 강력하고 쉬운지 입니다. 다음 세션에서는 기계 학습 및 scikit-learn이 제공하는 기능에 대해 자세히 알아볼 것입니다. <br><br> 이제 scikit-learn의 주요 기능을 말할 수 있습니까?"
   ]
  },
  {
   "cell_type": "code",
   "execution_count": null,
   "metadata": {
    "colab": {},
    "colab_type": "code",
    "id": "4Ld4MxaXxuxB"
   },
   "outputs": [],
   "source": [
    "#Answer here"
   ]
  },
  {
   "cell_type": "markdown",
   "metadata": {
    "colab_type": "text",
    "id": "ZAiYhT2uxuxD"
   },
   "source": [
    "# Train, test split"
   ]
  },
  {
   "cell_type": "markdown",
   "metadata": {
    "colab_type": "text",
    "id": "qE7QSXH9xuxD"
   },
   "source": [
    "Train, test split은 skit-learn에서 제공하는 기능으로, 그 목적은 데이터 세트를 \"훈련 데이터\"와 \"테스트 데이터\"로 분할하는 것입니다. 이 작업을 수행하려는 이유는 모델을 훈련하는 데 사용되지 않은 새 데이터를 기반으로 모델의 성능을 평가하고 데이터 세트가 충분히 큰 경우입니다.\n",
    "\n",
    "**이 섹션은 보너스입니다! 어떻게 실행하는지 완전히 파악해야 한다는 부담을 갖지 마세요!**"
   ]
  },
  {
   "cell_type": "markdown",
   "metadata": {
    "colab_type": "text",
    "id": "jn_8S8knxuxE"
   },
   "source": [
    "여기서는 이전 예에서 사용된 데이터를 분할합니다."
   ]
  },
  {
   "cell_type": "code",
   "execution_count": null,
   "metadata": {
    "colab": {},
    "colab_type": "code",
    "id": "c1jidB_HxuxE",
    "tags": []
   },
   "outputs": [],
   "source": [
    "from sklearn.model_selection import train_test_split\n",
    "from sklearn.datasets import load_breast_cancer\n",
    "\n",
    "data = load_breast_cancer()\n",
    "# 데이터를 피쳐와 레이블로 분할합니다. 피쳐는 입력이고 레이블은 출력입니다.\n",
    "X = data.data\n",
    "y = data.target\n",
    "\n",
    "# 분할하기 전 데이터의 모양을 시각화하여 볼 수 있습니다.\n",
    "print(X.shape)\n",
    "print(y.shape,'\\n')\n",
    "\n",
    "# 다음 변수를 만들고 train_test_split 함수를 사용합니다.\n",
    "# test size는 test와 train 사이에 데이터가 어떠한 비율로 분할되었는지를 나타내며, \n",
    "# 이 경우 0.2는 20%입니다.\n",
    "X_train, X_test, y_train, y_test = train_test_split(X,y,test_size=0.2) \n",
    "\n",
    "# 분할된 데이터의 모양을 확인할 수 있습니다.\n",
    "print(X_train.shape)\n",
    "print(X_test.shape,'\\n')\n",
    "\n",
    "print(y_train.shape)\n",
    "print(y_test.shape)"
   ]
  },
  {
   "cell_type": "markdown",
   "metadata": {
    "colab_type": "text",
    "id": "xblMeAG9xuxG"
   },
   "source": [
    "**Bonus Exercise:** scikit-learn에서 다른 데이터 세트를 가져와서 학습 데이터와 테스트 데이터로 나누어 보세요."
   ]
  },
  {
   "cell_type": "code",
   "execution_count": null,
   "metadata": {
    "colab": {},
    "colab_type": "code",
    "id": "5c1UbmY9xuxH"
   },
   "outputs": [],
   "source": [
    "#code here"
   ]
  }
 ],
 "metadata": {
  "colab": {
   "collapsed_sections": [],
   "name": "[Jupyter - Coach] Module 10 matplotlib & Scikit.ipynb",
   "provenance": []
  },
  "kernelspec": {
   "display_name": "Python 3 (ipykernel)",
   "language": "python",
   "name": "python3"
  },
  "language_info": {
   "codemirror_mode": {
    "name": "ipython",
    "version": 3
   },
   "file_extension": ".py",
   "mimetype": "text/x-python",
   "name": "python",
   "nbconvert_exporter": "python",
   "pygments_lexer": "ipython3",
   "version": "3.10.9"
  }
 },
 "nbformat": 4,
 "nbformat_minor": 1
}
