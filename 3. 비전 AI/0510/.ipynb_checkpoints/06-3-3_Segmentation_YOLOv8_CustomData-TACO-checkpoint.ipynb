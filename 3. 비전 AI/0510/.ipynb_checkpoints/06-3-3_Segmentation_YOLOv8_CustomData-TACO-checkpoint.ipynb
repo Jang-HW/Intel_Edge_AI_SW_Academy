{
 "cells": [
  {
   "cell_type": "markdown",
   "metadata": {
    "id": "vA7qOmKF3M03"
   },
   "source": [
    "## **Custom Dataset로 Yolov8 재학습하여 객체 감지 예측하기**\n",
    "\n",
    "**< 진행 절차 >**\n",
    "1. Data 준비하기 : Custom Dataset Dataset으로 Yolov8 재학습(Fine Tuning)하는 경우에는 Image / Annotation 으로 이루어진 Dataset 준비\n",
    "    - Roboflow에서 제공하는 Training Dataset을 이용하거나 Labeling Tool 을 이용하여 개발자가 직접 Labeling 시킨 Image / Annotation으로 이루어진 Training Dataset을 구축해야함\n",
    "    - Custom Dataset 구축시 이미지 데이터와 정답데이터는 확장자를 제외한 파일 이름은 동일해야하며 Yolov8에서 annotation 파일 즉 정답 파일의 확장자는 반드시 .txt 여야 함         \n",
    "\n",
    "- 1) Roboflow 에서 Aquarium Dataset (custom data) 다운로드\n",
    "    - Colab 으로 데이터셋 업로드 : Roboflow(https://public.roboflow.com/)에서 제공하는 Dataset 로드하기\n",
    "- 2) yaml 파일 설정** (데이터셋 위치 알려주는 config file)\n",
    "    - 2-1) roboflow 에서 제공되는 data.yaml 파일 확인\n",
    "    - 2-2) custom data에 대한 yaml 파일 만들기\n",
    "    Yolov8으로 Custom Data를 학습하기 위해서는 YAML 파일이 반드시 필요. YAML 파일에는 다음 정보를 포함해야함\n",
    "        - 이미지와 정답이 저장되어 있는 디렉토리 정보\n",
    "        - 인식하고 싶은 클래스 종류와 대응대는 각각의 이름\n",
    "        - 형식 : 클래스번호 | x의 center 좌표|y의 center좌표| 너비 |높이  \n",
    "            - 전체 이미지의 width 와 height 값으로 나눈 비율값임\n",
    "\n",
    "2. ultralytics 패키지 설치하기\n",
    "```python\n",
    "pip install ultralytics\n",
    "```\n",
    "3. 모델 객체 선언하고 학습하기\n",
    "```python\n",
    "from ultralytics import YOLO\n",
    "model = YOLO('yolov8n-seg.pt')  #  model = YOLO('yolov8n-seg.pt')\n",
    "model.train(data='mydata.yaml', epochs=10)\n",
    "```\n",
    "4. 객체 검출하기\n",
    "```python\n",
    "results = model.predict(source='/content/test/')\n",
    "```\n",
    "5. 결과 확인하기\n",
    "6. 결과 다운로드하기\n",
    "7. 학습된 모델 내보내기\n",
    "8. 웹캠에서 모델 사용하여 객체 검출하기"
   ]
  },
  {
   "cell_type": "markdown",
   "metadata": {
    "id": "jy2kdA9zRfWq"
   },
   "source": [
    "## **1. 데이터 준비하기(Custom Data 구축)**\n",
    "- Roboflow에서 제공하는 Training Dataset을 이용\n",
    "\n",
    "### 1) Roboflow 에서 Aquarium Dataset (custom data) 다운로드\n",
    "- Public Dataset : https://public.roboflow.com/object-detection/aquarium/2\n",
    "- Download Dataset > Export - Select Format : Yolov8, show download code 선택 후  continue 버튼 클릭 > Your Download Code - Raw URL 탭에서 주조 복사하기"
   ]
  },
  {
   "cell_type": "code",
   "execution_count": null,
   "metadata": {
    "colab": {
     "base_uri": "https://localhost:8080/"
    },
    "executionInfo": {
     "elapsed": 2990,
     "status": "ok",
     "timestamp": 1715305383499,
     "user": {
      "displayName": "가온새나",
      "userId": "00832727552783796679"
     },
     "user_tz": -540
    },
    "id": "ts3XxoBRaGxa",
    "outputId": "fece9431-fac1-4f00-ce08-be02ae507d46"
   },
   "outputs": [],
   "source": [
    "# Roboflow 에서 직접 다운로드\n",
    "\n",
    "#!wget -O TACO_Data1.zip https://universe.roboflow.com/ds/xXC7BINMyr?key=mUADdMGHFn"
   ]
  },
  {
   "cell_type": "markdown",
   "metadata": {
    "id": "Cl0qVp8_3XzI"
   },
   "source": [
    "- 압축파일 해제하기"
   ]
  },
  {
   "cell_type": "code",
   "execution_count": 9,
   "metadata": {
    "executionInfo": {
     "elapsed": 3978,
     "status": "ok",
     "timestamp": 1715305387476,
     "user": {
      "displayName": "가온새나",
      "userId": "00832727552783796679"
     },
     "user_tz": -540
    },
    "id": "CnJg5zyZaT-t"
   },
   "outputs": [],
   "source": [
    "import zipfile\n",
    "\n",
    "with zipfile.ZipFile('./TACO-yolov8.zip') as target_file:\n",
    "    target_file.extractall('./TACO_Data/')"
   ]
  },
  {
   "cell_type": "markdown",
   "metadata": {
    "id": "C4l2FIiJE1s7"
   },
   "source": [
    "## **2) yaml 파일 설정** (데이터셋 위치 알려주는 config file)\n",
    "- YAML : 데이터 표현 양식의 한 종류\n",
    "- 기본적으로 들여쓰기(indent)를 원칙으로하며 데이터는 Map(key-value)형식으로 작성\n",
    "\n",
    "### 2-1) roboflow 에서 제공되는 data.yaml 파일 확인"
   ]
  },
  {
   "cell_type": "code",
   "execution_count": 12,
   "metadata": {
    "colab": {
     "base_uri": "https://localhost:8080/"
    },
    "executionInfo": {
     "elapsed": 4,
     "status": "ok",
     "timestamp": 1715305387477,
     "user": {
      "displayName": "가온새나",
      "userId": "00832727552783796679"
     },
     "user_tz": -540
    },
    "id": "Wmum2kbAj-h3",
    "outputId": "65cc9dc9-7624-47f7-e575-8ac3caa11ada"
   },
   "outputs": [
    {
     "name": "stderr",
     "output_type": "stream",
     "text": [
      "명령 구문이 올바르지 않습니다.\n"
     ]
    }
   ],
   "source": [
    "#!type ./TACO_Data/data.yaml"
   ]
  },
  {
   "cell_type": "markdown",
   "metadata": {
    "id": "VWufTcd6cwcX"
   },
   "source": [
    "### 2-2) custom data에 대한 yaml 파일 만들기"
   ]
  },
  {
   "cell_type": "code",
   "execution_count": null,
   "metadata": {
    "colab": {
     "base_uri": "https://localhost:8080/"
    },
    "executionInfo": {
     "elapsed": 11598,
     "status": "ok",
     "timestamp": 1715305399073,
     "user": {
      "displayName": "가온새나",
      "userId": "00832727552783796679"
     },
     "user_tz": -540
    },
    "id": "cYuCZ43kcmAz",
    "outputId": "30a02982-fb57-45f8-e9c4-d35c2a3efafb"
   },
   "outputs": [],
   "source": [
    "# 파이썬에서 YAML 파일을 사용하기 위해 PyYAML 라이브러리 설치\n",
    "#!pip install PyYAML"
   ]
  },
  {
   "cell_type": "code",
   "execution_count": null,
   "metadata": {
    "colab": {
     "base_uri": "https://localhost:8080/",
     "height": 109
    },
    "executionInfo": {
     "elapsed": 6,
     "status": "ok",
     "timestamp": 1715305399073,
     "user": {
      "displayName": "가온새나",
      "userId": "00832727552783796679"
     },
     "user_tz": -540
    },
    "id": "-d8jGue1cvpG",
    "outputId": "8289688b-da40-47cd-83aa-511fc19c3287"
   },
   "outputs": [],
   "source": [
    "# yaml 파일을 학습이 가능하도록 경로 설정.\n",
    "# key-value 데이터인 dict 데이터타입으로 data['train'], data['val'], data['nc'], data['names'] 에 넣어주는데,\n",
    "# 가장 중요한 부분은 데이터 경로 설정임.\n",
    "\n",
    "import yaml\n",
    "# 디렉토리 정보, 클래스 이름(names), 클래스 수(nc) 지정하기\n",
    "import yaml\n",
    "\n",
    "with open('./TACO_Data//data.yaml') as f:\n",
    "    data = yaml.full_load(f)\n",
    "\n",
    "print(data)\n",
    "data['train'] = './TACO_Data/train.txt'\n",
    "data['val'] = './TACO_Data/val.txt'\n",
    "\n",
    "# 데이터 경로와 클래스 정보를 저장하고 있는 딕셔너리 객체 data를 YOLOv8 학습에 필요한 새로운 이름으로 저장\n",
    "with open('./TACO_Data/data.yaml', 'w') as f:\n",
    "    yaml.dump(data, f)\n",
    "\n",
    "# Aquarium_Data.yaml 읽어서 화면에 출력\n",
    "with open('./TACO_Data/data.yaml', 'r') as f:\n",
    "  aquarium_yaml = yaml.safe_load(f)\n",
    "  display(aquarium_yaml)"
   ]
  },
  {
   "cell_type": "code",
   "execution_count": 11,
   "metadata": {
    "colab": {
     "base_uri": "https://localhost:8080/"
    },
    "executionInfo": {
     "elapsed": 6,
     "status": "ok",
     "timestamp": 1715305399074,
     "user": {
      "displayName": "가온새나",
      "userId": "00832727552783796679"
     },
     "user_tz": -540
    },
    "id": "f2zjrFqUdkzi",
    "outputId": "aaa456ae-f01b-4a02-b886-eda908097223"
   },
   "outputs": [
    {
     "name": "stderr",
     "output_type": "stream",
     "text": [
      "명령 구문이 올바르지 않습니다.\n"
     ]
    }
   ],
   "source": []
  },
  {
   "cell_type": "markdown",
   "metadata": {
    "id": "whvUm98aEm5_"
   },
   "source": [
    "## **2. yolov8 사용을 위한 패키지 설치 및 가져오기**\n",
    "- https://github.com/ultralytics/ultralytics"
   ]
  },
  {
   "cell_type": "markdown",
   "metadata": {
    "executionInfo": {
     "elapsed": 527,
     "status": "ok",
     "timestamp": 1715305399597,
     "user": {
      "displayName": "가온새나",
      "userId": "00832727552783796679"
     },
     "user_tz": -540
    },
    "id": "pBVEqPgPXLXc"
   },
   "source": [
    "#### PyTorch window 에 설치\n",
    "- https://pytorch.org/get-started/locally/ </BR>\n",
    "!pip3 install torch torchvision torchaudio --index-url https://download.pytorch.org/whl/cu121\n",
    "\n",
    "#### 위 실행해서 안되면 아래 명령 실행\n",
    "!conda install pytorch==2.2.2 torchvision==0.17.2 torchaudio==2.2.2 pytorch-cuda=12.1 -c pytorch -c nvidia"
   ]
  },
  {
   "cell_type": "markdown",
   "metadata": {
    "colab": {
     "base_uri": "https://localhost:8080/"
    },
    "executionInfo": {
     "elapsed": 72815,
     "status": "ok",
     "timestamp": 1715305472410,
     "user": {
      "displayName": "가온새나",
      "userId": "00832727552783796679"
     },
     "user_tz": -540
    },
    "id": "8p1603VijJ_x",
    "outputId": "131e416f-0521-4b10-a372-686ad8bc1f08"
   },
   "source": [
    "#### 패키지 설치하기\n",
    "!pip install -q ultralytics"
   ]
  },
  {
   "cell_type": "code",
   "execution_count": 1,
   "metadata": {
    "colab": {
     "base_uri": "https://localhost:8080/"
    },
    "executionInfo": {
     "elapsed": 4354,
     "status": "ok",
     "timestamp": 1715305476762,
     "user": {
      "displayName": "가온새나",
      "userId": "00832727552783796679"
     },
     "user_tz": -540
    },
    "id": "WnS0XLAcj1aO",
    "outputId": "63329490-ef49-496a-82e4-e0cdfd7d880f",
    "scrolled": true
   },
   "outputs": [
    {
     "name": "stdout",
     "output_type": "stream",
     "text": [
      "Ultralytics YOLOv8.2.11  Python-3.10.14 torch-2.3.0 CUDA:0 (NVIDIA GeForce GTX 1660, 6144MiB)\n",
      "Setup complete  (8 CPUs, 31.9 GB RAM, 163.1/222.7 GB disk)\n"
     ]
    }
   ],
   "source": [
    "# 패키지 버전 확인하기\n",
    "import ultralytics\n",
    "\n",
    "ultralytics.checks()"
   ]
  },
  {
   "cell_type": "code",
   "execution_count": 2,
   "metadata": {
    "colab": {
     "base_uri": "https://localhost:8080/"
    },
    "executionInfo": {
     "elapsed": 5,
     "status": "ok",
     "timestamp": 1715305476762,
     "user": {
      "displayName": "가온새나",
      "userId": "00832727552783796679"
     },
     "user_tz": -540
    },
    "id": "GgMdC7qnmMeW",
    "outputId": "b4bd8087-13c0-43c8-b4af-d0ff9f962dff"
   },
   "outputs": [
    {
     "name": "stdout",
     "output_type": "stream",
     "text": [
      "2.3.0\n",
      "Using device: cuda\n"
     ]
    }
   ],
   "source": [
    "import torch\n",
    "torch.cuda.get_device_name(0)\n",
    "torch.cuda.is_available()\n",
    "print(torch.__version__)\n",
    "\n",
    "# GPU가 사용 가능한지 확인하고, 사용 가능하면 CUDA를 사용하도록 설정\n",
    "device = torch.device(\"cuda\" if torch.cuda.is_available() else \"cpu\")\n",
    "print(f\"Using device: {device}\")"
   ]
  },
  {
   "cell_type": "markdown",
   "metadata": {
    "id": "u-U7UBFWFhlc"
   },
   "source": [
    "## **3.모델 객체 선언하고 학습하기**\n",
    "\n",
    "### 1) 모델 객체 선언하기"
   ]
  },
  {
   "cell_type": "code",
   "execution_count": 3,
   "metadata": {
    "colab": {
     "base_uri": "https://localhost:8080/"
    },
    "executionInfo": {
     "elapsed": 807,
     "status": "ok",
     "timestamp": 1715305498001,
     "user": {
      "displayName": "가온새나",
      "userId": "00832727552783796679"
     },
     "user_tz": -540
    },
    "id": "Das7YGgqmSUL",
    "outputId": "a5ff8e3f-12d9-4b14-c8ff-d42747eb2138"
   },
   "outputs": [
    {
     "name": "stdout",
     "output_type": "stream",
     "text": [
      "Downloading https://github.com/ultralytics/assets/releases/download/v8.2.0/yolov8n-seg.pt to 'yolov8n-seg.pt'...\n"
     ]
    },
    {
     "name": "stderr",
     "output_type": "stream",
     "text": [
      "100%|█████████████████████████████████████████████████████████████████████████████| 6.73M/6.73M [00:02<00:00, 2.66MB/s]\n"
     ]
    }
   ],
   "source": [
    "# YOLO 라이브러리 가져오기\n",
    "from ultralytics import YOLO   # ... code here\n",
    "\n",
    "# 'yolov8n-seg.pt' 모델 선언하기 - 사전학습된 YOLOv8n detection model 로드하기\n",
    "model = YOLO('yolov8n-seg.pt')     # ... code here"
   ]
  },
  {
   "cell_type": "code",
   "execution_count": 4,
   "metadata": {
    "colab": {
     "base_uri": "https://localhost:8080/"
    },
    "executionInfo": {
     "elapsed": 635,
     "status": "ok",
     "timestamp": 1715305499564,
     "user": {
      "displayName": "가온새나",
      "userId": "00832727552783796679"
     },
     "user_tz": -540
    },
    "id": "7X_3dSOFPQi3",
    "outputId": "3064cd63-9c42-4962-d348-e8badf468f8c"
   },
   "outputs": [
    {
     "name": "stdout",
     "output_type": "stream",
     "text": [
      "<class 'dict'> 80\n",
      "{0: 'person', 1: 'bicycle', 2: 'car', 3: 'motorcycle', 4: 'airplane', 5: 'bus', 6: 'train', 7: 'truck', 8: 'boat', 9: 'traffic light', 10: 'fire hydrant', 11: 'stop sign', 12: 'parking meter', 13: 'bench', 14: 'bird', 15: 'cat', 16: 'dog', 17: 'horse', 18: 'sheep', 19: 'cow', 20: 'elephant', 21: 'bear', 22: 'zebra', 23: 'giraffe', 24: 'backpack', 25: 'umbrella', 26: 'handbag', 27: 'tie', 28: 'suitcase', 29: 'frisbee', 30: 'skis', 31: 'snowboard', 32: 'sports ball', 33: 'kite', 34: 'baseball bat', 35: 'baseball glove', 36: 'skateboard', 37: 'surfboard', 38: 'tennis racket', 39: 'bottle', 40: 'wine glass', 41: 'cup', 42: 'fork', 43: 'knife', 44: 'spoon', 45: 'bowl', 46: 'banana', 47: 'apple', 48: 'sandwich', 49: 'orange', 50: 'broccoli', 51: 'carrot', 52: 'hot dog', 53: 'pizza', 54: 'donut', 55: 'cake', 56: 'chair', 57: 'couch', 58: 'potted plant', 59: 'bed', 60: 'dining table', 61: 'toilet', 62: 'tv', 63: 'laptop', 64: 'mouse', 65: 'remote', 66: 'keyboard', 67: 'cell phone', 68: 'microwave', 69: 'oven', 70: 'toaster', 71: 'sink', 72: 'refrigerator', 73: 'book', 74: 'clock', 75: 'vase', 76: 'scissors', 77: 'teddy bear', 78: 'hair drier', 79: 'toothbrush'}\n"
     ]
    }
   ],
   "source": [
    "# Yolov8은 MS COCO 데이터 사전학습되어있어 MS COCO Dataset에 정의된 클래스 개수오 ㅏ종류 확인할 수 있음(0~79)\n",
    "print(type(model.names), len(model.names))\n",
    "\n",
    "print(model.names)"
   ]
  },
  {
   "cell_type": "markdown",
   "metadata": {
    "id": "Ux1yjJYu88Ro"
   },
   "source": [
    "### 2) 모델 학습하기 (자신의 만든 yaml파일 지정)"
   ]
  },
  {
   "cell_type": "code",
   "execution_count": 8,
   "metadata": {
    "colab": {
     "base_uri": "https://localhost:8080/",
     "height": 1000
    },
    "executionInfo": {
     "elapsed": 550215,
     "status": "error",
     "timestamp": 1715306068505,
     "user": {
      "displayName": "가온새나",
      "userId": "00832727552783796679"
     },
     "user_tz": -540
    },
    "id": "eeF3uPiAYyBD",
    "outputId": "71d5cff6-d9fc-4a46-ffd2-34dea0c3002d"
   },
   "outputs": [
    {
     "name": "stdout",
     "output_type": "stream",
     "text": [
      "Ultralytics YOLOv8.2.11  Python-3.10.14 torch-2.3.0 CUDA:0 (NVIDIA GeForce GTX 1660, 6144MiB)\n",
      "\u001b[34m\u001b[1mengine\\trainer: \u001b[0mtask=segment, mode=train, model=yolov8n-seg.pt, data=./TACO_Data/TACO_Data.yaml, epochs=50, time=None, patience=30, batch=32, imgsz=416, save=True, save_period=-1, cache=False, device=None, workers=8, project=None, name=train4, exist_ok=False, pretrained=True, optimizer=auto, verbose=True, seed=0, deterministic=True, single_cls=False, rect=False, cos_lr=False, close_mosaic=10, resume=False, amp=True, fraction=1.0, profile=False, freeze=None, multi_scale=False, overlap_mask=True, mask_ratio=4, dropout=0.0, val=True, split=val, save_json=False, save_hybrid=False, conf=None, iou=0.7, max_det=300, half=False, dnn=False, plots=True, source=None, vid_stride=1, stream_buffer=False, visualize=False, augment=False, agnostic_nms=False, classes=None, retina_masks=False, embed=None, show=False, save_frames=False, save_txt=False, save_conf=False, save_crop=False, show_labels=True, show_conf=True, show_boxes=True, line_width=None, format=torchscript, keras=False, optimize=False, int8=False, dynamic=False, simplify=False, opset=None, workspace=4, nms=False, lr0=0.01, lrf=0.01, momentum=0.937, weight_decay=0.0005, warmup_epochs=3.0, warmup_momentum=0.8, warmup_bias_lr=0.1, box=7.5, cls=0.5, dfl=1.5, pose=12.0, kobj=1.0, label_smoothing=0.0, nbs=64, hsv_h=0.015, hsv_s=0.7, hsv_v=0.4, degrees=0.0, translate=0.1, scale=0.5, shear=0.0, perspective=0.0, flipud=0.0, fliplr=0.5, bgr=0.0, mosaic=1.0, mixup=0.0, copy_paste=0.0, auto_augment=randaugment, erasing=0.4, crop_fraction=1.0, cfg=None, tracker=botsort.yaml, save_dir=runs\\segment\\train4\n"
     ]
    },
    {
     "ename": "RuntimeError",
     "evalue": "Dataset 'TACO_Data/TACO_Data.yaml' error  './TACO_Data/TACO_Data.yaml' does not exist",
     "output_type": "error",
     "traceback": [
      "\u001b[1;31m---------------------------------------------------------------------------\u001b[0m",
      "\u001b[1;31mFileNotFoundError\u001b[0m                         Traceback (most recent call last)",
      "File \u001b[1;32m~\\anaconda3\\envs\\torch-gpu\\lib\\site-packages\\ultralytics\\engine\\trainer.py:517\u001b[0m, in \u001b[0;36mBaseTrainer.get_dataset\u001b[1;34m(self)\u001b[0m\n\u001b[0;32m    511\u001b[0m \u001b[38;5;28;01melif\u001b[39;00m \u001b[38;5;28mself\u001b[39m\u001b[38;5;241m.\u001b[39margs\u001b[38;5;241m.\u001b[39mdata\u001b[38;5;241m.\u001b[39msplit(\u001b[38;5;124m\"\u001b[39m\u001b[38;5;124m.\u001b[39m\u001b[38;5;124m\"\u001b[39m)[\u001b[38;5;241m-\u001b[39m\u001b[38;5;241m1\u001b[39m] \u001b[38;5;129;01min\u001b[39;00m {\u001b[38;5;124m\"\u001b[39m\u001b[38;5;124myaml\u001b[39m\u001b[38;5;124m\"\u001b[39m, \u001b[38;5;124m\"\u001b[39m\u001b[38;5;124myml\u001b[39m\u001b[38;5;124m\"\u001b[39m} \u001b[38;5;129;01mor\u001b[39;00m \u001b[38;5;28mself\u001b[39m\u001b[38;5;241m.\u001b[39margs\u001b[38;5;241m.\u001b[39mtask \u001b[38;5;129;01min\u001b[39;00m {\n\u001b[0;32m    512\u001b[0m     \u001b[38;5;124m\"\u001b[39m\u001b[38;5;124mdetect\u001b[39m\u001b[38;5;124m\"\u001b[39m,\n\u001b[0;32m    513\u001b[0m     \u001b[38;5;124m\"\u001b[39m\u001b[38;5;124msegment\u001b[39m\u001b[38;5;124m\"\u001b[39m,\n\u001b[0;32m    514\u001b[0m     \u001b[38;5;124m\"\u001b[39m\u001b[38;5;124mpose\u001b[39m\u001b[38;5;124m\"\u001b[39m,\n\u001b[0;32m    515\u001b[0m     \u001b[38;5;124m\"\u001b[39m\u001b[38;5;124mobb\u001b[39m\u001b[38;5;124m\"\u001b[39m,\n\u001b[0;32m    516\u001b[0m }:\n\u001b[1;32m--> 517\u001b[0m     data \u001b[38;5;241m=\u001b[39m \u001b[43mcheck_det_dataset\u001b[49m\u001b[43m(\u001b[49m\u001b[38;5;28;43mself\u001b[39;49m\u001b[38;5;241;43m.\u001b[39;49m\u001b[43margs\u001b[49m\u001b[38;5;241;43m.\u001b[39;49m\u001b[43mdata\u001b[49m\u001b[43m)\u001b[49m\n\u001b[0;32m    518\u001b[0m     \u001b[38;5;28;01mif\u001b[39;00m \u001b[38;5;124m\"\u001b[39m\u001b[38;5;124myaml_file\u001b[39m\u001b[38;5;124m\"\u001b[39m \u001b[38;5;129;01min\u001b[39;00m data:\n",
      "File \u001b[1;32m~\\anaconda3\\envs\\torch-gpu\\lib\\site-packages\\ultralytics\\data\\utils.py:269\u001b[0m, in \u001b[0;36mcheck_det_dataset\u001b[1;34m(dataset, autodownload)\u001b[0m\n\u001b[0;32m    254\u001b[0m \u001b[38;5;250m\u001b[39m\u001b[38;5;124;03m\"\"\"\u001b[39;00m\n\u001b[0;32m    255\u001b[0m \u001b[38;5;124;03mDownload, verify, and/or unzip a dataset if not found locally.\u001b[39;00m\n\u001b[0;32m    256\u001b[0m \n\u001b[1;32m   (...)\u001b[0m\n\u001b[0;32m    266\u001b[0m \u001b[38;5;124;03m    (dict): Parsed dataset information and paths.\u001b[39;00m\n\u001b[0;32m    267\u001b[0m \u001b[38;5;124;03m\"\"\"\u001b[39;00m\n\u001b[1;32m--> 269\u001b[0m file \u001b[38;5;241m=\u001b[39m \u001b[43mcheck_file\u001b[49m\u001b[43m(\u001b[49m\u001b[43mdataset\u001b[49m\u001b[43m)\u001b[49m\n\u001b[0;32m    271\u001b[0m \u001b[38;5;66;03m# Download (optional)\u001b[39;00m\n",
      "File \u001b[1;32m~\\anaconda3\\envs\\torch-gpu\\lib\\site-packages\\ultralytics\\utils\\checks.py:506\u001b[0m, in \u001b[0;36mcheck_file\u001b[1;34m(file, suffix, download, hard)\u001b[0m\n\u001b[0;32m    505\u001b[0m \u001b[38;5;28;01mif\u001b[39;00m \u001b[38;5;129;01mnot\u001b[39;00m files \u001b[38;5;129;01mand\u001b[39;00m hard:\n\u001b[1;32m--> 506\u001b[0m     \u001b[38;5;28;01mraise\u001b[39;00m \u001b[38;5;167;01mFileNotFoundError\u001b[39;00m(\u001b[38;5;124mf\u001b[39m\u001b[38;5;124m\"\u001b[39m\u001b[38;5;124m'\u001b[39m\u001b[38;5;132;01m{\u001b[39;00mfile\u001b[38;5;132;01m}\u001b[39;00m\u001b[38;5;124m'\u001b[39m\u001b[38;5;124m does not exist\u001b[39m\u001b[38;5;124m\"\u001b[39m)\n\u001b[0;32m    507\u001b[0m \u001b[38;5;28;01melif\u001b[39;00m \u001b[38;5;28mlen\u001b[39m(files) \u001b[38;5;241m>\u001b[39m \u001b[38;5;241m1\u001b[39m \u001b[38;5;129;01mand\u001b[39;00m hard:\n",
      "\u001b[1;31mFileNotFoundError\u001b[0m: './TACO_Data/TACO_Data.yaml' does not exist",
      "\nThe above exception was the direct cause of the following exception:\n",
      "\u001b[1;31mRuntimeError\u001b[0m                              Traceback (most recent call last)",
      "Cell \u001b[1;32mIn[8], line 2\u001b[0m\n\u001b[0;32m      1\u001b[0m \u001b[38;5;66;03m# 모델 학습하기 (자신의 만든 yaml파일 지정)\u001b[39;00m\n\u001b[1;32m----> 2\u001b[0m \u001b[43mmodel\u001b[49m\u001b[38;5;241;43m.\u001b[39;49m\u001b[43mtrain\u001b[49m\u001b[43m(\u001b[49m\u001b[43mdata\u001b[49m\u001b[38;5;241;43m=\u001b[39;49m\u001b[38;5;124;43m'\u001b[39;49m\u001b[38;5;124;43m./TACO_Data/TACO_Data.yaml\u001b[39;49m\u001b[38;5;124;43m'\u001b[39;49m\u001b[43m,\u001b[49m\u001b[43m \u001b[49m\u001b[43mepochs\u001b[49m\u001b[38;5;241;43m=\u001b[39;49m\u001b[38;5;241;43m50\u001b[39;49m\u001b[43m,\u001b[49m\u001b[43m \u001b[49m\u001b[43mpatience\u001b[49m\u001b[38;5;241;43m=\u001b[39;49m\u001b[38;5;241;43m30\u001b[39;49m\u001b[43m,\u001b[49m\u001b[43m \u001b[49m\u001b[43mbatch\u001b[49m\u001b[38;5;241;43m=\u001b[39;49m\u001b[38;5;241;43m32\u001b[39;49m\u001b[43m,\u001b[49m\u001b[43m \u001b[49m\u001b[43mimgsz\u001b[49m\u001b[38;5;241;43m=\u001b[39;49m\u001b[38;5;241;43m416\u001b[39;49m\u001b[43m)\u001b[49m\n",
      "File \u001b[1;32m~\\anaconda3\\envs\\torch-gpu\\lib\\site-packages\\ultralytics\\engine\\model.py:654\u001b[0m, in \u001b[0;36mModel.train\u001b[1;34m(self, trainer, **kwargs)\u001b[0m\n\u001b[0;32m    651\u001b[0m \u001b[38;5;28;01mif\u001b[39;00m args\u001b[38;5;241m.\u001b[39mget(\u001b[38;5;124m\"\u001b[39m\u001b[38;5;124mresume\u001b[39m\u001b[38;5;124m\"\u001b[39m):\n\u001b[0;32m    652\u001b[0m     args[\u001b[38;5;124m\"\u001b[39m\u001b[38;5;124mresume\u001b[39m\u001b[38;5;124m\"\u001b[39m] \u001b[38;5;241m=\u001b[39m \u001b[38;5;28mself\u001b[39m\u001b[38;5;241m.\u001b[39mckpt_path\n\u001b[1;32m--> 654\u001b[0m \u001b[38;5;28mself\u001b[39m\u001b[38;5;241m.\u001b[39mtrainer \u001b[38;5;241m=\u001b[39m \u001b[43m(\u001b[49m\u001b[43mtrainer\u001b[49m\u001b[43m \u001b[49m\u001b[38;5;129;43;01mor\u001b[39;49;00m\u001b[43m \u001b[49m\u001b[38;5;28;43mself\u001b[39;49m\u001b[38;5;241;43m.\u001b[39;49m\u001b[43m_smart_load\u001b[49m\u001b[43m(\u001b[49m\u001b[38;5;124;43m\"\u001b[39;49m\u001b[38;5;124;43mtrainer\u001b[39;49m\u001b[38;5;124;43m\"\u001b[39;49m\u001b[43m)\u001b[49m\u001b[43m)\u001b[49m\u001b[43m(\u001b[49m\u001b[43moverrides\u001b[49m\u001b[38;5;241;43m=\u001b[39;49m\u001b[43margs\u001b[49m\u001b[43m,\u001b[49m\u001b[43m \u001b[49m\u001b[43m_callbacks\u001b[49m\u001b[38;5;241;43m=\u001b[39;49m\u001b[38;5;28;43mself\u001b[39;49m\u001b[38;5;241;43m.\u001b[39;49m\u001b[43mcallbacks\u001b[49m\u001b[43m)\u001b[49m\n\u001b[0;32m    655\u001b[0m \u001b[38;5;28;01mif\u001b[39;00m \u001b[38;5;129;01mnot\u001b[39;00m args\u001b[38;5;241m.\u001b[39mget(\u001b[38;5;124m\"\u001b[39m\u001b[38;5;124mresume\u001b[39m\u001b[38;5;124m\"\u001b[39m):  \u001b[38;5;66;03m# manually set model only if not resuming\u001b[39;00m\n\u001b[0;32m    656\u001b[0m     \u001b[38;5;28mself\u001b[39m\u001b[38;5;241m.\u001b[39mtrainer\u001b[38;5;241m.\u001b[39mmodel \u001b[38;5;241m=\u001b[39m \u001b[38;5;28mself\u001b[39m\u001b[38;5;241m.\u001b[39mtrainer\u001b[38;5;241m.\u001b[39mget_model(weights\u001b[38;5;241m=\u001b[39m\u001b[38;5;28mself\u001b[39m\u001b[38;5;241m.\u001b[39mmodel \u001b[38;5;28;01mif\u001b[39;00m \u001b[38;5;28mself\u001b[39m\u001b[38;5;241m.\u001b[39mckpt \u001b[38;5;28;01melse\u001b[39;00m \u001b[38;5;28;01mNone\u001b[39;00m, cfg\u001b[38;5;241m=\u001b[39m\u001b[38;5;28mself\u001b[39m\u001b[38;5;241m.\u001b[39mmodel\u001b[38;5;241m.\u001b[39myaml)\n",
      "File \u001b[1;32m~\\anaconda3\\envs\\torch-gpu\\lib\\site-packages\\ultralytics\\models\\yolo\\segment\\train.py:30\u001b[0m, in \u001b[0;36mSegmentationTrainer.__init__\u001b[1;34m(self, cfg, overrides, _callbacks)\u001b[0m\n\u001b[0;32m     28\u001b[0m     overrides \u001b[38;5;241m=\u001b[39m {}\n\u001b[0;32m     29\u001b[0m overrides[\u001b[38;5;124m\"\u001b[39m\u001b[38;5;124mtask\u001b[39m\u001b[38;5;124m\"\u001b[39m] \u001b[38;5;241m=\u001b[39m \u001b[38;5;124m\"\u001b[39m\u001b[38;5;124msegment\u001b[39m\u001b[38;5;124m\"\u001b[39m\n\u001b[1;32m---> 30\u001b[0m \u001b[38;5;28;43msuper\u001b[39;49m\u001b[43m(\u001b[49m\u001b[43m)\u001b[49m\u001b[38;5;241;43m.\u001b[39;49m\u001b[38;5;21;43m__init__\u001b[39;49m\u001b[43m(\u001b[49m\u001b[43mcfg\u001b[49m\u001b[43m,\u001b[49m\u001b[43m \u001b[49m\u001b[43moverrides\u001b[49m\u001b[43m,\u001b[49m\u001b[43m \u001b[49m\u001b[43m_callbacks\u001b[49m\u001b[43m)\u001b[49m\n",
      "File \u001b[1;32m~\\anaconda3\\envs\\torch-gpu\\lib\\site-packages\\ultralytics\\engine\\trainer.py:130\u001b[0m, in \u001b[0;36mBaseTrainer.__init__\u001b[1;34m(self, cfg, overrides, _callbacks)\u001b[0m\n\u001b[0;32m    128\u001b[0m \u001b[38;5;66;03m# Model and Dataset\u001b[39;00m\n\u001b[0;32m    129\u001b[0m \u001b[38;5;28mself\u001b[39m\u001b[38;5;241m.\u001b[39mmodel \u001b[38;5;241m=\u001b[39m check_model_file_from_stem(\u001b[38;5;28mself\u001b[39m\u001b[38;5;241m.\u001b[39margs\u001b[38;5;241m.\u001b[39mmodel)  \u001b[38;5;66;03m# add suffix, i.e. yolov8n -> yolov8n.pt\u001b[39;00m\n\u001b[1;32m--> 130\u001b[0m \u001b[38;5;28mself\u001b[39m\u001b[38;5;241m.\u001b[39mtrainset, \u001b[38;5;28mself\u001b[39m\u001b[38;5;241m.\u001b[39mtestset \u001b[38;5;241m=\u001b[39m \u001b[38;5;28;43mself\u001b[39;49m\u001b[38;5;241;43m.\u001b[39;49m\u001b[43mget_dataset\u001b[49m\u001b[43m(\u001b[49m\u001b[43m)\u001b[49m\n\u001b[0;32m    131\u001b[0m \u001b[38;5;28mself\u001b[39m\u001b[38;5;241m.\u001b[39mema \u001b[38;5;241m=\u001b[39m \u001b[38;5;28;01mNone\u001b[39;00m\n\u001b[0;32m    133\u001b[0m \u001b[38;5;66;03m# Optimization utils init\u001b[39;00m\n",
      "File \u001b[1;32m~\\anaconda3\\envs\\torch-gpu\\lib\\site-packages\\ultralytics\\engine\\trainer.py:521\u001b[0m, in \u001b[0;36mBaseTrainer.get_dataset\u001b[1;34m(self)\u001b[0m\n\u001b[0;32m    519\u001b[0m             \u001b[38;5;28mself\u001b[39m\u001b[38;5;241m.\u001b[39margs\u001b[38;5;241m.\u001b[39mdata \u001b[38;5;241m=\u001b[39m data[\u001b[38;5;124m\"\u001b[39m\u001b[38;5;124myaml_file\u001b[39m\u001b[38;5;124m\"\u001b[39m]  \u001b[38;5;66;03m# for validating 'yolo train data=url.zip' usage\u001b[39;00m\n\u001b[0;32m    520\u001b[0m \u001b[38;5;28;01mexcept\u001b[39;00m \u001b[38;5;167;01mException\u001b[39;00m \u001b[38;5;28;01mas\u001b[39;00m e:\n\u001b[1;32m--> 521\u001b[0m     \u001b[38;5;28;01mraise\u001b[39;00m \u001b[38;5;167;01mRuntimeError\u001b[39;00m(emojis(\u001b[38;5;124mf\u001b[39m\u001b[38;5;124m\"\u001b[39m\u001b[38;5;124mDataset \u001b[39m\u001b[38;5;124m'\u001b[39m\u001b[38;5;132;01m{\u001b[39;00mclean_url(\u001b[38;5;28mself\u001b[39m\u001b[38;5;241m.\u001b[39margs\u001b[38;5;241m.\u001b[39mdata)\u001b[38;5;132;01m}\u001b[39;00m\u001b[38;5;124m'\u001b[39m\u001b[38;5;124m error ❌ \u001b[39m\u001b[38;5;132;01m{\u001b[39;00me\u001b[38;5;132;01m}\u001b[39;00m\u001b[38;5;124m\"\u001b[39m)) \u001b[38;5;28;01mfrom\u001b[39;00m \u001b[38;5;21;01me\u001b[39;00m\n\u001b[0;32m    522\u001b[0m \u001b[38;5;28mself\u001b[39m\u001b[38;5;241m.\u001b[39mdata \u001b[38;5;241m=\u001b[39m data\n\u001b[0;32m    523\u001b[0m \u001b[38;5;28;01mreturn\u001b[39;00m data[\u001b[38;5;124m\"\u001b[39m\u001b[38;5;124mtrain\u001b[39m\u001b[38;5;124m\"\u001b[39m], data\u001b[38;5;241m.\u001b[39mget(\u001b[38;5;124m\"\u001b[39m\u001b[38;5;124mval\u001b[39m\u001b[38;5;124m\"\u001b[39m) \u001b[38;5;129;01mor\u001b[39;00m data\u001b[38;5;241m.\u001b[39mget(\u001b[38;5;124m\"\u001b[39m\u001b[38;5;124mtest\u001b[39m\u001b[38;5;124m\"\u001b[39m)\n",
      "\u001b[1;31mRuntimeError\u001b[0m: Dataset 'TACO_Data/TACO_Data.yaml' error  './TACO_Data/TACO_Data.yaml' does not exist"
     ]
    }
   ],
   "source": [
    "# 모델 학습하기 (자신의 만든 yaml파일 지정)\n",
    "model.train(data='./TACO_Data/TACO_Data.yaml', epochs=50, patience=30, batch=32, imgsz=416)"
   ]
  },
  {
   "cell_type": "code",
   "execution_count": null,
   "metadata": {
    "colab": {
     "base_uri": "https://localhost:8080/"
    },
    "executionInfo": {
     "elapsed": 299,
     "status": "ok",
     "timestamp": 1715306071297,
     "user": {
      "displayName": "가온새나",
      "userId": "00832727552783796679"
     },
     "user_tz": -540
    },
    "id": "rU4hUb6aRMu5",
    "outputId": "733fefe2-c38d-4be1-fa3d-c1dd2507595d"
   },
   "outputs": [],
   "source": [
    "# 커스텀 데이터로 학습하였기 때문에 클래수 수의 변경됨을 확인할 수 있음\n",
    "print(type(model.names), len(model.names))\n",
    "\n",
    "print(model.names)"
   ]
  },
  {
   "cell_type": "markdown",
   "metadata": {
    "id": "-XTkv6lRnYq6"
   },
   "source": [
    "### ▲ train 과정중에 loss, accuracy 등의 graph 데이터는 runs/detect/train/ 에 있는 results.csv 와 results.png 통해서 확인가능함"
   ]
  },
  {
   "cell_type": "markdown",
   "metadata": {
    "id": "PGvvaF60Fp2U"
   },
   "source": [
    "### 3) 테스트 이미지 데이터 생성 및 확인"
   ]
  },
  {
   "cell_type": "code",
   "execution_count": null,
   "metadata": {
    "colab": {
     "base_uri": "https://localhost:8080/"
    },
    "executionInfo": {
     "elapsed": 319,
     "status": "ok",
     "timestamp": 1715306073517,
     "user": {
      "displayName": "가온새나",
      "userId": "00832727552783796679"
     },
     "user_tz": -540
    },
    "id": "QknTB5poU_3-",
    "outputId": "c4e2d00a-7540-44d6-a9cb-9a413c916d17"
   },
   "outputs": [],
   "source": [
    "# 테스트 이미지\n",
    "from glob import glob\n",
    "\n",
    "test_image_list = glob('/content/TACO_Data/test/images/*')\n",
    "test_image_list.sort()\n",
    "\n",
    "for i in range(len(test_image_list)):\n",
    "    print('i = ',i, test_image_list[i])"
   ]
  },
  {
   "cell_type": "markdown",
   "metadata": {
    "id": "cKdlujLuFxui"
   },
   "source": [
    "## **4.객체 검출 (Inference or predict)**"
   ]
  },
  {
   "cell_type": "code",
   "execution_count": null,
   "metadata": {
    "colab": {
     "base_uri": "https://localhost:8080/"
    },
    "executionInfo": {
     "elapsed": 5955,
     "status": "ok",
     "timestamp": 1715306120717,
     "user": {
      "displayName": "가온새나",
      "userId": "00832727552783796679"
     },
     "user_tz": -540
    },
    "id": "Iy_75ZcSU_4E",
    "outputId": "5f272a57-36cf-4443-a5ec-34fbaabaca1f"
   },
   "outputs": [],
   "source": [
    "results =  model.predict(source=test_image_list, save=True)    # ... code here"
   ]
  },
  {
   "cell_type": "markdown",
   "metadata": {
    "id": "fZBn8ChCgXql"
   },
   "source": [
    "## **5. 결과 확인하기**"
   ]
  },
  {
   "cell_type": "code",
   "execution_count": null,
   "metadata": {
    "colab": {
     "base_uri": "https://localhost:8080/"
    },
    "executionInfo": {
     "elapsed": 311,
     "status": "ok",
     "timestamp": 1715306123452,
     "user": {
      "displayName": "가온새나",
      "userId": "00832727552783796679"
     },
     "user_tz": -540
    },
    "id": "CWuCAASSfy66",
    "outputId": "6a2feead-40f3-4ead-cd3d-9dcf56b1119e"
   },
   "outputs": [],
   "source": [
    "print(type(results), len(results))"
   ]
  },
  {
   "cell_type": "code",
   "execution_count": null,
   "metadata": {
    "colab": {
     "base_uri": "https://localhost:8080/"
    },
    "executionInfo": {
     "elapsed": 493,
     "status": "ok",
     "timestamp": 1715306126740,
     "user": {
      "displayName": "가온새나",
      "userId": "00832727552783796679"
     },
     "user_tz": -540
    },
    "id": "_TFeaA3CkfFX",
    "outputId": "c0d98e7e-2c71-4148-f85e-1b78ff3b56e8"
   },
   "outputs": [],
   "source": [
    "import numpy as np\n",
    "\n",
    "for result in results:\n",
    "    uniq, cnt = np.unique(result.boxes.cls.cpu().numpy(), return_counts=True)  # Torch.Tensor -> numpy\n",
    "    uniq_cnt_dict = dict(zip(uniq, cnt))\n",
    "\n",
    "    print('\\n{class num : counts} =', uniq_cnt_dict,'\\n')\n",
    "\n",
    "    for i, c in enumerate(result.boxes.cls):\n",
    "        class_id = int(c)\n",
    "        class_name = result.names[class_id]\n",
    "        confidence_score = result.boxes.conf[i]  # 예측 확률\n",
    "        print(f'class num: {class_id:>2} , class name: {class_name :<13}, confidence: {confidence_score:.2f}')"
   ]
  },
  {
   "cell_type": "code",
   "execution_count": null,
   "metadata": {
    "colab": {
     "background_save": true,
     "base_uri": "https://localhost:8080/",
     "height": 1000,
     "output_embedded_package_id": "1JiQ_kpD2RB8axMPdralhv4Uwzthv1RJe"
    },
    "id": "dqHEC1tU-gdR",
    "outputId": "b92042e0-686b-421e-a69b-e01974bfea6f"
   },
   "outputs": [],
   "source": [
    "# 테스트 이미지 모두 예측 결과 이미지로 나타내기\n",
    "from PIL import Image\n",
    "from IPython.display import display\n",
    "import os\n",
    "\n",
    "# 이미지가 저장된 폴더 경로\n",
    "image_dir = \"runs/segment/predict\"    # ... code here\n",
    "\n",
    "# 폴더 내의 모든 파일을 순회\n",
    "for file_name in os.listdir(image_dir):\n",
    "    file_path = os.path.join(image_dir, file_name)\n",
    "    # 파일 확장자가 .jpg인 경우에만 처리\n",
    "    if file_path.endswith('.jpg'):\n",
    "        with Image.open(file_path) as img:\n",
    "            display(img)"
   ]
  },
  {
   "cell_type": "markdown",
   "metadata": {
    "id": "99Ex5nU5F55F"
   },
   "source": [
    "## **6. 결과 다운로드**"
   ]
  },
  {
   "cell_type": "code",
   "execution_count": null,
   "metadata": {
    "colab": {
     "background_save": true,
     "base_uri": "https://localhost:8080/"
    },
    "executionInfo": {
     "elapsed": 333,
     "status": "ok",
     "timestamp": 1713104552118,
     "user": {
      "displayName": "강희숙",
      "userId": "05520711596090317319"
     },
     "user_tz": -540
    },
    "id": "xHOOYeLAHSb_"
   },
   "outputs": [],
   "source": [
    "import glob\n",
    "\n",
    "detetced_image_list = glob.glob(('/content/runs/detect/train2/*'))\n",
    "detected_image_nums = len(detetced_image_list)\n",
    "\n",
    "print(detected_image_nums)\n",
    "print(detetced_image_list)"
   ]
  },
  {
   "cell_type": "code",
   "execution_count": null,
   "metadata": {
    "colab": {
     "base_uri": "https://localhost:8080/"
    },
    "executionInfo": {
     "elapsed": 373,
     "status": "ok",
     "timestamp": 1713104554453,
     "user": {
      "displayName": "강희숙",
      "userId": "05520711596090317319"
     },
     "user_tz": -540
    },
    "id": "wYFPNzfMSOyt",
    "outputId": "5ec68502-6c85-4680-f377-4781919c1cfc"
   },
   "outputs": [],
   "source": [
    "# 다운로드를 위한 inference image 압축\n",
    "\n",
    "import zipfile\n",
    "import os\n",
    "\n",
    "if not os.path.exists('/content/detected_result/'):\n",
    "    os.mkdir('/content/detected_result/')\n",
    "    print('detected_result dir is created !!!')\n",
    "\n",
    "with zipfile.ZipFile('/content/detected_result/detected_images.zip', 'w') as detected_images:\n",
    "\n",
    "    for idx in range(detected_image_nums):\n",
    "        detected_images.write(detetced_image_list[idx])"
   ]
  },
  {
   "cell_type": "markdown",
   "metadata": {
    "id": "na1BHNDGBxHS"
   },
   "source": [
    "## **CVAT** 을 사용하여 Object Detection을 위한 사용자 데이터셋 정의하기\n",
    "- CVAT : nnotation Platform\n",
    "- https://www.cvat.ai/ : Open Data\n"
   ]
  },
  {
   "cell_type": "markdown",
   "metadata": {
    "id": "_hdrua1HSIza"
   },
   "source": [
    "## **7.학습된 모델 내보내기**"
   ]
  },
  {
   "cell_type": "code",
   "execution_count": null,
   "metadata": {
    "id": "v9qSn1gCSWxS"
   },
   "outputs": [],
   "source": [
    "# 모델을 내보내기\n",
    "model.save('trained_yolov8n.pt')\n",
    "\n",
    "# 내보낸 모델을 로드하여 사용\n",
    "model = YOLO('trained_yolov8n.pt')"
   ]
  },
  {
   "cell_type": "markdown",
   "metadata": {
    "id": "5A90pOnjSe_8"
   },
   "source": [
    "## 8. 테스트 이미지로 테스트 또는 웹캠 이용해 실시간 추론하기"
   ]
  },
  {
   "cell_type": "code",
   "execution_count": null,
   "metadata": {
    "id": "rxn1pNdNSbIO"
   },
   "outputs": [],
   "source": [
    "# 이미지에 대한 추론 수행\n",
    "results = model('test_image.jpg')\n",
    "print(results.pandas().xyxy[0])  # 추론 결과 출력"
   ]
  },
  {
   "cell_type": "code",
   "execution_count": null,
   "metadata": {
    "id": "xiXvfIfnSlMS"
   },
   "outputs": [],
   "source": [
    "# 학습된 모델을 로드합니다.\n",
    "model = YOLO('trained_yolov8n.pt')\n",
    "\n",
    "# 웹캠 초기화\n",
    "cap = cv2.VideoCapture(0)\n",
    "\n",
    "while True:\n",
    "    ret, frame = cap.read()\n",
    "    if not ret:\n",
    "        break\n",
    "\n",
    "    # 모델을 사용하여 프레임에서 객체 감지\n",
    "    results = model(frame)\n",
    "\n",
    "    # 결과를 프레임에 그리기\n",
    "    annotated_frame = results.render()[0]\n",
    "\n",
    "    # 화면에 표시\n",
    "    cv2.imshow(\"YOLOv8 Real-Time Detection\", annotated_frame)\n",
    "    if cv2.waitKey(1) & 0xFF == ord('q'):\n",
    "        break\n",
    "\n",
    "cap.release()\n",
    "cv2.destroyAllWindows()"
   ]
  }
 ],
 "metadata": {
  "accelerator": "GPU",
  "colab": {
   "gpuType": "T4",
   "name": "",
   "provenance": [
    {
     "file_id": "1-q_4pm_xPIwZ0z7uojomtfAkkAqslPHS",
     "timestamp": 1715298987366
    }
   ],
   "version": ""
  },
  "kernelspec": {
   "display_name": "torch-gpu",
   "language": "python",
   "name": "torch-gpu"
  },
  "language_info": {
   "codemirror_mode": {
    "name": "ipython",
    "version": 3
   },
   "file_extension": ".py",
   "mimetype": "text/x-python",
   "name": "python",
   "nbconvert_exporter": "python",
   "pygments_lexer": "ipython3",
   "version": "3.10.14"
  }
 },
 "nbformat": 4,
 "nbformat_minor": 1
}
