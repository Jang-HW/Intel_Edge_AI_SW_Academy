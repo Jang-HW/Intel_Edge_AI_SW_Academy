{
 "cells": [
  {
   "cell_type": "code",
   "execution_count": null,
   "id": "ddd1b1c2-4502-45d7-83d6-19b8624e528e",
   "metadata": {},
   "outputs": [],
   "source": [
    "pip install tensorflow\n",
    "pip install torch\n",
    "pip install onnx\n",
    "pip install torchvision"
   ]
  },
  {
   "cell_type": "code",
   "execution_count": null,
   "id": "c44608dd-0f68-4fef-a4b5-68a6aa6503f4",
   "metadata": {},
   "outputs": [],
   "source": []
  }
 ],
 "metadata": {
  "kernelspec": {
   "display_name": "Python 3 (ipykernel)",
   "language": "python",
   "name": "python3"
  },
  "language_info": {
   "codemirror_mode": {
    "name": "ipython",
    "version": 3
   },
   "file_extension": ".py",
   "mimetype": "text/x-python",
   "name": "python",
   "nbconvert_exporter": "python",
   "pygments_lexer": "ipython3",
   "version": "3.10.12"
  }
 },
 "nbformat": 4,
 "nbformat_minor": 5
}
