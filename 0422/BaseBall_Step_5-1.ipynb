{
 "cells": [
  {
   "cell_type": "code",
   "execution_count": 12,
   "metadata": {
    "id": "Gjhp2ibRzt4F"
   },
   "outputs": [
    {
     "name": "stdout",
     "output_type": "stream",
     "text": [
      "********************************************************\n",
      "*******                 Base Ball                    ***\n",
      "********************************************************\n",
      "* 컴퓨터가 수비수가 되어 세 자릿수를 하나 골랐습니다.  *\n",
      "* 각 숫자는 0~9중의 하나이며 중복되는 숫자는 없습니다. *\n",
      "* 모든 숫자와 위치를 맞히면 승리합니다.                *\n",
      "* 숫자와 순서가 둘 다 맞으면 스크라이크 입니다.        *\n",
      "* 숫자만 맞고 순서가 틀리면 볼입니다.                  *\n",
      "* 숫자가 틀리면 아웃입니다.                            *\n",
      "********************************************************\n"
     ]
    }
   ],
   "source": [
    "print(\"********************************************************\")\n",
    "print(\"*******                 Base Ball                    ***\")\n",
    "print(\"********************************************************\")\n",
    "print(\"* 컴퓨터가 수비수가 되어 세 자릿수를 하나 골랐습니다.  *\")\n",
    "print(\"* 각 숫자는 0~9중의 하나이며 중복되는 숫자는 없습니다. *\")\n",
    "print(\"* 모든 숫자와 위치를 맞히면 승리합니다.                *\")\n",
    "print(\"* 숫자와 순서가 둘 다 맞으면 스크라이크 입니다.        *\")\n",
    "print(\"* 숫자만 맞고 순서가 틀리면 볼입니다.                  *\")\n",
    "print(\"* 숫자가 틀리면 아웃입니다.                            *\")\n",
    "print(\"********************************************************\")"
   ]
  },
  {
   "cell_type": "markdown",
   "metadata": {
    "id": "t2OULHMpHbBw"
   },
   "source": [
    "### **Step_5-1 - 리스트 사용하기**\n",
    "- 수비수 숫자 생성"
   ]
  },
  {
   "cell_type": "code",
   "execution_count": 13,
   "metadata": {
    "colab": {
     "base_uri": "https://localhost:8080/"
    },
    "executionInfo": {
     "elapsed": 347,
     "status": "ok",
     "timestamp": 1689159764246,
     "user": {
      "displayName": "강희숙",
      "userId": "05520711596090317319"
     },
     "user_tz": -540
    },
    "id": "VhQ8tilUHRdP",
    "outputId": "9e5a3c01-0ae3-4059-a1f8-f05f2a37dce7"
   },
   "outputs": [
    {
     "name": "stdout",
     "output_type": "stream",
     "text": [
      "> 수비수가 고른 숫자\n",
      "3\n",
      "1\n",
      "9\n"
     ]
    }
   ],
   "source": [
    "print(\"> 수비수가 고른 숫자\")\n",
    "numbers = [3, 1, 9]\n",
    "\n",
    "print(numbers[0])\n",
    "print(numbers[1])\n",
    "print(numbers[2])"
   ]
  },
  {
   "cell_type": "markdown",
   "metadata": {
    "id": "cGoTudUCqddZ"
   },
   "source": [
    "- 공격수 숫자 입력"
   ]
  },
  {
   "cell_type": "code",
   "execution_count": 14,
   "metadata": {
    "id": "hZCT4j8nHRdQ"
   },
   "outputs": [],
   "source": [
    "strInputs = []\n",
    "inputs = []"
   ]
  },
  {
   "cell_type": "markdown",
   "metadata": {
    "id": "7Zgd1qu9wNwF"
   },
   "source": [
    "### [입력받아 리스트에 저장하는 방법1]"
   ]
  },
  {
   "cell_type": "markdown",
   "metadata": {
    "colab": {
     "base_uri": "https://localhost:8080/"
    },
    "executionInfo": {
     "elapsed": 5366,
     "status": "ok",
     "timestamp": 1689159774703,
     "user": {
      "displayName": "강희숙",
      "userId": "05520711596090317319"
     },
     "user_tz": -540
    },
    "id": "rVOwbO7xHRdQ",
    "outputId": "0888d37e-0f24-471f-b0ff-2c484a821f09"
   },
   "source": [
    "공격수가 고른 첫번째, 두번째, 세번째 숫자를 input() 함수로 입받아 strInputs 리스트에 저장한 후\n",
    "정수로 데이터형을 변경한 후 inputs 리스트에 추가합니다.\n",
    "\n",
    "strInputs.append(input(\"> 첫번째 숫자를 입력하세요=> \"))\n",
    "inputs.append(int(strInputs[0]))\n",
    "\n",
    "strInputs.append(input(\"> 두번째 숫자를 입력하세요=> \"))\n",
    "inputs.append(int(strInputs[1]))  # ... 코드 입력\n",
    "\n",
    "strInputs.append(input(\"> 세번째 숫자를 입력하세요=> \"))\n",
    "inputs.append(int(strInputs[2]))  # ... 코드 입력\n"
   ]
  },
  {
   "cell_type": "markdown",
   "metadata": {
    "id": "SjpHnIMFwTJ7"
   },
   "source": [
    "### [입력받아 리스트에 저장하는 방법2]"
   ]
  },
  {
   "cell_type": "code",
   "execution_count": 18,
   "metadata": {
    "colab": {
     "base_uri": "https://localhost:8080/"
    },
    "executionInfo": {
     "elapsed": 7249,
     "status": "ok",
     "timestamp": 1689159866576,
     "user": {
      "displayName": "강희숙",
      "userId": "05520711596090317319"
     },
     "user_tz": -540
    },
    "id": "4PN0rSnVsL4U",
    "outputId": "8635fc28-6619-46cb-cd33-e4be25b195db"
   },
   "outputs": [
    {
     "name": "stdout",
     "output_type": "stream",
     "text": [
      "> 첫번째 숫자를 입력하세요=> 3\n",
      "> 두번째 숫자를 입력하세요=> 0\n",
      "> 세번째 숫자를 입력하세요=> 9\n"
     ]
    }
   ],
   "source": [
    "# 공격수가 고른 첫번째 숫자를 input() 함수로 입력받아\n",
    "# 정수로 데이터형을 변경한 후 inputs 리스트에 추가합니다.\n",
    "inputs.append(int(input(\"> 첫번째 숫자를 입력하세요=> \")))\n",
    "\n",
    "# 2. 공격수가 고른 두번째, 세번째 숫자를 input() 함수로 입려받아 정수로 데이터형을 변경한 후 inputs 리스트에 추가합니다.\n",
    "inputs.append(int(input(\"> 두번째 숫자를 입력하세요=> \")))\n",
    "inputs.append(int(input(\"> 세번째 숫자를 입력하세요=> \")))"
   ]
  },
  {
   "cell_type": "code",
   "execution_count": 19,
   "metadata": {
    "colab": {
     "base_uri": "https://localhost:8080/"
    },
    "executionInfo": {
     "elapsed": 345,
     "status": "ok",
     "timestamp": 1689159876637,
     "user": {
      "displayName": "강희숙",
      "userId": "05520711596090317319"
     },
     "user_tz": -540
    },
    "id": "j6UotIHrHRdR",
    "outputId": "52c7c5ff-7373-4705-e41c-54ac707be20b"
   },
   "outputs": [
    {
     "name": "stdout",
     "output_type": "stream",
     "text": [
      "> 공격수가 고른 숫자\n",
      "3\n",
      "0\n",
      "9\n"
     ]
    }
   ],
   "source": [
    "print(\"> 공격수가 고른 숫자\")\n",
    "# 2. 공격수가 고른 숫자를 출력하세요.\n",
    "print(inputs[0])  # ... 코드 입력\n",
    "print(inputs[1])  # ... 코드 입력\n",
    "print(inputs[2])  # ... 코드 입력"
   ]
  },
  {
   "cell_type": "markdown",
   "metadata": {
    "id": "J2HVaUrPHivP"
   },
   "source": [
    "### **Step_5_1 - 리스트에 저장된 값 비교에 논리 연산자 사용하기**"
   ]
  },
  {
   "cell_type": "code",
   "execution_count": 21,
   "metadata": {
    "id": "HG3CxmsmHRdR",
    "outputId": "c48521f0-b33d-4811-f62e-31d8b40d09ae"
   },
   "outputs": [
    {
     "name": "stdout",
     "output_type": "stream",
     "text": [
      "스트라이크 : 2\n",
      "볼 : 0\n",
      "아웃 : 1\n"
     ]
    }
   ],
   "source": [
    "if (inputs[0] == inputs[1]) or (inputs[0] == inputs[2]) or (inputs[1] == inputs[2]):\n",
    "    print(\"같은 숫자를 입력하면 안됩니다\")\n",
    "else:\n",
    "    strikeCount = 0\n",
    "    ballCount = 0\n",
    "    outCount = 0\n",
    "\n",
    "    # input[0]과 numbers[0]을 비교하여 스트라이크, 볼, 아웃 카운트를 계산합니다.\n",
    "    if inputs[0]==numbers[0]:\n",
    "        strikeCount = strikeCount + 1\n",
    "    elif (inputs[0]==numbers[1]) or (inputs[0] == numbers[2]):\n",
    "        ballCount = ballCount + 1\n",
    "\n",
    "    # 3.input[1]과 numbers[1]을 비교하여 스트라이크, 볼, 아웃 카운트를 계산합니다.\n",
    "    if (inputs[1] == numbers[1]):\n",
    "        strikeCount += 1\n",
    "    elif(inputs[1] == numbers[0] | inputs[1] == numbers[2]):\n",
    "        ballCount += 1\n",
    "\n",
    "    # 4.input[2]과 numbers[2]을 비교하여 스트라이크, 볼, 아웃 카운트를 계산합니다.\n",
    "    if (inputs[2] == numbers[2]):\n",
    "        strikeCount += 1\n",
    "    elif(intputs[2] == numbers[0] | inputs[1] == numbers[2]):\n",
    "        ballCount += 1\n",
    "\n",
    "    outCount = 3 - strikeCount - ballCount\n",
    "    print(\"스트라이크 : {0}\".format(strikeCount))\n",
    "    print(\"볼 : {0}\".format(ballCount))\n",
    "    print(\"아웃 : {0}\".format(outCount))"
   ]
  },
  {
   "cell_type": "code",
   "execution_count": null,
   "metadata": {},
   "outputs": [],
   "source": []
  }
 ],
 "metadata": {
  "colab": {
   "provenance": []
  },
  "kernelspec": {
   "display_name": "Python 3 (ipykernel)",
   "language": "python",
   "name": "python3"
  },
  "language_info": {
   "codemirror_mode": {
    "name": "ipython",
    "version": 3
   },
   "file_extension": ".py",
   "mimetype": "text/x-python",
   "name": "python",
   "nbconvert_exporter": "python",
   "pygments_lexer": "ipython3",
   "version": "3.10.9"
  }
 },
 "nbformat": 4,
 "nbformat_minor": 1
}
