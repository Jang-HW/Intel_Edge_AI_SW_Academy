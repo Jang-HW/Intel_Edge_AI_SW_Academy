{
 "cells": [
  {
   "cell_type": "code",
   "execution_count": 3,
   "metadata": {
    "id": "u_-JoALUzpof"
   },
   "outputs": [
    {
     "name": "stdout",
     "output_type": "stream",
     "text": [
      "********************************************************\n",
      "*******                 Base Ball                    ***\n",
      "********************************************************\n",
      "* 컴퓨터가 수비수가 되어 세 자릿수를 하나 골랐습니다.  *\n",
      "* 각 숫자는 0~9중의 하나이며 중복되는 숫자는 없습니다. *\n",
      "* 모든 숫자와 위치를 맞히면 승리합니다.                *\n",
      "* 숫자와 순서가 둘 다 맞으면 스크라이크 입니다.        *\n",
      "* 숫자만 맞고 순서가 틀리면 볼입니다.                  *\n",
      "* 숫자가 틀리면 아웃입니다.                            *\n",
      "********************************************************\n"
     ]
    }
   ],
   "source": [
    "print(\"********************************************************\")\n",
    "print(\"*******                 Base Ball                    ***\")\n",
    "print(\"********************************************************\")\n",
    "print(\"* 컴퓨터가 수비수가 되어 세 자릿수를 하나 골랐습니다.  *\")\n",
    "print(\"* 각 숫자는 0~9중의 하나이며 중복되는 숫자는 없습니다. *\")\n",
    "print(\"* 모든 숫자와 위치를 맞히면 승리합니다.                *\")\n",
    "print(\"* 숫자와 순서가 둘 다 맞으면 스크라이크 입니다.        *\")\n",
    "print(\"* 숫자만 맞고 순서가 틀리면 볼입니다.                  *\")\n",
    "print(\"* 숫자가 틀리면 아웃입니다.                            *\")\n",
    "print(\"********************************************************\")"
   ]
  },
  {
   "cell_type": "markdown",
   "metadata": {
    "id": "VdOSSBZbF6WN"
   },
   "source": [
    "### **Step_5 - 리스트 사용하기**\n",
    "- 수비수 숫자 생성"
   ]
  },
  {
   "cell_type": "code",
   "execution_count": 6,
   "metadata": {
    "id": "Kr5MLrQ_F6WP",
    "outputId": "6a2cc8bb-3f69-4ac3-bb75-eba70fb0190f"
   },
   "outputs": [
    {
     "name": "stdout",
     "output_type": "stream",
     "text": [
      "> 수비수가 고른 숫자\n"
     ]
    },
    {
     "data": {
      "text/plain": [
       "[1, 3, 7]"
      ]
     },
     "execution_count": 6,
     "metadata": {},
     "output_type": "execute_result"
    }
   ],
   "source": [
    "print(\"> 수비수가 고른 숫자\")\n",
    "\n",
    "# 1. 수비수가 고른 숫자를 저장하는 변수 number1,number1,number3 을 리스트- numbers 에 저장하고 출력하세요.\n",
    "numbers = []\n",
    "numbers.append(1)\n",
    "numbers.append(3)\n",
    "numbers.append(7)\n",
    "\n",
    "numbers"
   ]
  },
  {
   "cell_type": "markdown",
   "metadata": {
    "id": "QwRf2fcmurKP"
   },
   "source": [
    "- 공격수 숫자 입력"
   ]
  },
  {
   "cell_type": "code",
   "execution_count": 7,
   "metadata": {
    "id": "JGvPDJYqF6WP",
    "outputId": "65febed1-0f3b-4a35-d3f3-35c52ca2186a"
   },
   "outputs": [
    {
     "name": "stdout",
     "output_type": "stream",
     "text": [
      "> 첫번째 숫자를 입력하세요~! 3\n",
      "> 두번째 숫자를 입력하세요~! 5\n",
      "> 세번째 숫자를 입력하세요~! 7\n"
     ]
    }
   ],
   "source": [
    "input1 = int(input(\"> 첫번째 숫자를 입력하세요~! \"))\n",
    "input2 = int(input(\"> 두번째 숫자를 입력하세요~! \"))\n",
    "input3 = int(input(\"> 세번째 숫자를 입력하세요~! \"))"
   ]
  },
  {
   "cell_type": "markdown",
   "metadata": {
    "id": "msmAfmULvlwx"
   },
   "source": [
    "### **Step_5 - 변수와 리스트에 저장된 값 비교에 논리 연산자 사용하기**"
   ]
  },
  {
   "cell_type": "code",
   "execution_count": 8,
   "metadata": {
    "id": "hcnATSDfF6WQ",
    "outputId": "e78f697a-7514-49b6-d879-cb94e862af0a"
   },
   "outputs": [
    {
     "name": "stdout",
     "output_type": "stream",
     "text": [
      "스트라이크 : 1\n",
      "볼 : 1\n",
      "아웃 : 1\n"
     ]
    }
   ],
   "source": [
    "if (input1 == input2) or (input1 == input3) or (input2 == input3):\n",
    "    print(\"같은 숫자를 입력하면 안됩니다\")\n",
    "else:\n",
    "    strikeCount = 0\n",
    "    ballCount = 0\n",
    "    outCount = 0\n",
    "\n",
    "    # input1과 numbers[0]을 비교하여 스트라이크, 볼, 아웃 카운트를 계산합니다.\n",
    "    if input1 == numbers[0]:\n",
    "        strikeCount = strikeCount + 1\n",
    "    elif (input1 == numbers[1]) or (input1 == numbers[2]):\n",
    "        ballCount = ballCount + 1\n",
    "\n",
    "    # 2.input2과 numbers[1]을 비교하여 스트라이크, 볼, 아웃 카운트를 계산합니다.\n",
    "    if input2 == numbers[1]:\n",
    "        strikeCount = strikeCount + 1\n",
    "    elif (input2 == numbers[0]) or (input2 == numbers[2]):\n",
    "        ballCount = ballCount + 1\n",
    "\n",
    "    # 3.input3과 numbers[2]을 비교하여 스트라이크, 볼, 아웃 카운트를 계산합니다.\n",
    "    if input3 == numbers[2]:\n",
    "        strikeCount = strikeCount + 1\n",
    "    elif (input3 == numbers[0]) or (input3 == numbers[1]):\n",
    "        ballCount = ballCount + 1\n",
    "\n",
    "    outCount = 3 - strikeCount - ballCount\n",
    "    print(\"스트라이크 : {0}\".format(strikeCount))\n",
    "    print(\"볼 : {0}\".format(ballCount))\n",
    "    print(\"아웃 : {0}\".format(outCount))"
   ]
  },
  {
   "cell_type": "code",
   "execution_count": null,
   "metadata": {},
   "outputs": [],
   "source": []
  }
 ],
 "metadata": {
  "colab": {
   "provenance": []
  },
  "kernelspec": {
   "display_name": "Python 3 (ipykernel)",
   "language": "python",
   "name": "python3"
  },
  "language_info": {
   "codemirror_mode": {
    "name": "ipython",
    "version": 3
   },
   "file_extension": ".py",
   "mimetype": "text/x-python",
   "name": "python",
   "nbconvert_exporter": "python",
   "pygments_lexer": "ipython3",
   "version": "3.10.9"
  }
 },
 "nbformat": 4,
 "nbformat_minor": 1
}
