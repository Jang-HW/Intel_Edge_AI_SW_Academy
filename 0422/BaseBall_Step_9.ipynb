{
 "cells": [
  {
   "cell_type": "code",
   "execution_count": null,
   "metadata": {
    "id": "zeJS44GjIfbE"
   },
   "outputs": [],
   "source": [
    "print(\"********************************************************\")\n",
    "print(\"*******                 Base Ball                    ***\")\n",
    "print(\"********************************************************\")\n",
    "print(\"* 컴퓨터가 수비수가 되어 세 자릿수를 하나 골랐습니다.  *\")\n",
    "print(\"* 각 숫자는 0~9중의 하나이며 중복되는 숫자는 없습니다. *\")\n",
    "print(\"* 모든 숫자와 위치를 맞히면 승리합니다.                *\")\n",
    "print(\"* 숫자와 순서가 둘 다 맞으면 스크라이크 입니다.        *\")\n",
    "print(\"* 숫자만 맞고 순서가 틀리면 볼입니다.                  *\")\n",
    "print(\"* 숫자가 틀리면 아웃입니다.                            *\")\n",
    "print(\"********************************************************\")"
   ]
  },
  {
   "cell_type": "markdown",
   "metadata": {
    "id": "BTnsyK8vIyAT"
   },
   "source": [
    "### **Step_9 - 함수 사용하기**"
   ]
  },
  {
   "cell_type": "code",
   "execution_count": 1,
   "metadata": {
    "id": "xrqDW6QEIfbJ"
   },
   "outputs": [],
   "source": [
    "import random\n",
    "\n",
    "# 1.수비수가 고르는 숫자 부분의 코드를 함수(Defender())를 생성하여 변경하세요.\n",
    "def defender():\n",
    "    randNumbers = random.sample(range(1, 10), 3)\n",
    "    return randNumbers"
   ]
  },
  {
   "cell_type": "code",
   "execution_count": 12,
   "metadata": {
    "id": "zCDgWphVIfbK",
    "outputId": "4c176883-72a8-4e34-f079-71f39f6ce764"
   },
   "outputs": [
    {
     "name": "stdout",
     "output_type": "stream",
     "text": [
      "> 수비수가 고른 숫자\n",
      "3\n",
      "4\n",
      "2\n"
     ]
    }
   ],
   "source": [
    "# 2.함수(Defender())를 호출하여 반환값을 저장하는 변수의 이름은 numbers 입니다\n",
    "numbers = defender()  # ... 코드 입력\n",
    "\n",
    "print(\"> 수비수가 고른 숫자\")\n",
    "\n",
    "for i in numbers:\n",
    "    print(i)"
   ]
  },
  {
   "cell_type": "code",
   "execution_count": 13,
   "metadata": {
    "id": "w3xahUzMIfbL",
    "outputId": "4f19a11a-1122-43a8-f04d-810e83ab9be6"
   },
   "outputs": [
    {
     "name": "stdout",
     "output_type": "stream",
     "text": [
      "> 첫번째 숫자를 입력하세요~! 3\n",
      "> 두번째 숫자를 입력하세요~! 2\n",
      "> 세번째 숫자를 입력하세요~! 1\n",
      "3\n",
      "2\n",
      "1\n",
      "스트라이크 : 1\n",
      "볼 : 1\n",
      "아웃 : 1\n",
      "> 첫번째 숫자를 입력하세요~! 3\n",
      "> 두번째 숫자를 입력하세요~! 1\n",
      "> 세번째 숫자를 입력하세요~! 2\n",
      "3\n",
      "1\n",
      "2\n",
      "스트라이크 : 2\n",
      "볼 : 0\n",
      "아웃 : 1\n",
      "> 첫번째 숫자를 입력하세요~! \n"
     ]
    },
    {
     "ename": "ValueError",
     "evalue": "invalid literal for int() with base 10: ''",
     "output_type": "error",
     "traceback": [
      "\u001b[1;31m--------------------------------------------------------------------\u001b[0m",
      "\u001b[1;31mValueError\u001b[0m                         Traceback (most recent call last)",
      "Cell \u001b[1;32mIn[13], line 6\u001b[0m\n\u001b[0;32m      3\u001b[0m inputs \u001b[38;5;241m=\u001b[39m []\n\u001b[0;32m      5\u001b[0m strInputs\u001b[38;5;241m.\u001b[39mappend(\u001b[38;5;28minput\u001b[39m(\u001b[38;5;124m\"\u001b[39m\u001b[38;5;124m> 첫번째 숫자를 입력하세요~! \u001b[39m\u001b[38;5;124m\"\u001b[39m))\n\u001b[1;32m----> 6\u001b[0m inputs\u001b[38;5;241m.\u001b[39mappend(\u001b[38;5;28;43mint\u001b[39;49m\u001b[43m(\u001b[49m\u001b[43mstrInputs\u001b[49m\u001b[43m[\u001b[49m\u001b[38;5;241;43m0\u001b[39;49m\u001b[43m]\u001b[49m\u001b[43m)\u001b[49m)\n\u001b[0;32m      7\u001b[0m strInputs\u001b[38;5;241m.\u001b[39mappend(\u001b[38;5;28minput\u001b[39m(\u001b[38;5;124m\"\u001b[39m\u001b[38;5;124m> 두번째 숫자를 입력하세요~! \u001b[39m\u001b[38;5;124m\"\u001b[39m))\n\u001b[0;32m      8\u001b[0m inputs\u001b[38;5;241m.\u001b[39mappend(\u001b[38;5;28mint\u001b[39m(strInputs[\u001b[38;5;241m1\u001b[39m]))\n",
      "\u001b[1;31mValueError\u001b[0m: invalid literal for int() with base 10: ''"
     ]
    }
   ],
   "source": [
    "while True:\n",
    "    strInputs = []\n",
    "    inputs = []\n",
    "\n",
    "    strInputs.append(input(\"> 첫번째 숫자를 입력하세요~! \"))\n",
    "    inputs.append(int(strInputs[0]))\n",
    "    strInputs.append(input(\"> 두번째 숫자를 입력하세요~! \"))\n",
    "    inputs.append(int(strInputs[1]))\n",
    "    strInputs.append(input(\"> 세번째 숫자를 입력하세요~! \"))\n",
    "    inputs.append(int(strInputs[2]))\n",
    "\n",
    "    for i in inputs:\n",
    "        print(i)\n",
    "\n",
    "    if (inputs[0]==inputs[1]) or (inputs[0]==inputs[2]) or (inputs[1]==inputs[2]):\n",
    "        print(\"같은 숫자를 입력하면 안됩니다\")\n",
    "        continue\n",
    "\n",
    "    strikeCount = 0\n",
    "    ballCount = 0\n",
    "    outCount = 0\n",
    "\n",
    "    for i in range(3):\n",
    "        for j in range(3):\n",
    "            if inputs[i] == numbers[j]:\n",
    "                if i == j:\n",
    "                    strikeCount = strikeCount+1\n",
    "                else:\n",
    "                    ballCount = ballCount +1\n",
    "\n",
    "    outCount = 3 - strikeCount - ballCount\n",
    "    print(\"스트라이크 : {0}\".format(strikeCount))\n",
    "    print(\"볼 : {0}\".format(ballCount))\n",
    "    print(\"아웃 : {0}\".format(outCount))\n",
    "\n",
    "    if (inputs[0]==numbers[0]) and (inputs[1]==numbers[1]) and (inputs[2]==numbers[2]):\n",
    "        print(\"스트라이크 아웃 입니다.\")\n",
    "        break"
   ]
  },
  {
   "cell_type": "code",
   "execution_count": null,
   "metadata": {},
   "outputs": [],
   "source": []
  }
 ],
 "metadata": {
  "colab": {
   "provenance": []
  },
  "kernelspec": {
   "display_name": "Python 3 (ipykernel)",
   "language": "python",
   "name": "python3"
  },
  "language_info": {
   "codemirror_mode": {
    "name": "ipython",
    "version": 3
   },
   "file_extension": ".py",
   "mimetype": "text/x-python",
   "name": "python",
   "nbconvert_exporter": "python",
   "pygments_lexer": "ipython3",
   "version": "3.10.9"
  }
 },
 "nbformat": 4,
 "nbformat_minor": 1
}
