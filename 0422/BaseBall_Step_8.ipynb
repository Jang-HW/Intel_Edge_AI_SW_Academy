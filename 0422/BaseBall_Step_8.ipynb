{
 "cells": [
  {
   "cell_type": "code",
   "execution_count": 1,
   "metadata": {
    "id": "W1ladT5QH6Cg"
   },
   "outputs": [
    {
     "name": "stdout",
     "output_type": "stream",
     "text": [
      "********************************************************\n",
      "*******                 Base Ball                    ***\n",
      "********************************************************\n",
      "* 컴퓨터가 수비수가 되어 세 자릿수를 하나 골랐습니다.  *\n",
      "* 각 숫자는 0~9중의 하나이며 중복되는 숫자는 없습니다. *\n",
      "* 모든 숫자와 위치를 맞히면 승리합니다.                *\n",
      "* 숫자와 순서가 둘 다 맞으면 스크라이크 입니다.        *\n",
      "* 숫자만 맞고 순서가 틀리면 볼입니다.                  *\n",
      "* 숫자가 틀리면 아웃입니다.                            *\n",
      "********************************************************\n"
     ]
    }
   ],
   "source": [
    "print(\"********************************************************\")\n",
    "print(\"*******                 Base Ball                    ***\")\n",
    "print(\"********************************************************\")\n",
    "print(\"* 컴퓨터가 수비수가 되어 세 자릿수를 하나 골랐습니다.  *\")\n",
    "print(\"* 각 숫자는 0~9중의 하나이며 중복되는 숫자는 없습니다. *\")\n",
    "print(\"* 모든 숫자와 위치를 맞히면 승리합니다.                *\")\n",
    "print(\"* 숫자와 순서가 둘 다 맞으면 스크라이크 입니다.        *\")\n",
    "print(\"* 숫자만 맞고 순서가 틀리면 볼입니다.                  *\")\n",
    "print(\"* 숫자가 틀리면 아웃입니다.                            *\")\n",
    "print(\"********************************************************\")"
   ]
  },
  {
   "cell_type": "markdown",
   "metadata": {
    "id": "vZwJiYj6H88A"
   },
   "source": [
    "### **Step_8 - 모듈 사용하기**"
   ]
  },
  {
   "cell_type": "code",
   "execution_count": 13,
   "metadata": {
    "id": "j7PkCwmyH6Ci",
    "outputId": "5cdc3d47-bcb1-4ba1-c094-901aa9a07645"
   },
   "outputs": [
    {
     "name": "stdout",
     "output_type": "stream",
     "text": [
      "> 수비수가 고른 숫자\n",
      "9\n",
      "2\n",
      "7\n"
     ]
    }
   ],
   "source": [
    "#1.수비수가 고르는 숫자를 random 모듈을 사용하여 임의의 값으로 변경하세요.\n",
    "\n",
    "\n",
    "numbers = []\n",
    "import random                              # ... 코드 입력 (random 모듈 가져오기)\n",
    "numbers = random.sample(range(1, 10), 3)    # ... 코드 입력 (무작위로 중복되지 않게 3개의 숫자 생성하기)\n",
    "\n",
    "print(\"> 수비수가 고른 숫자\")\n",
    "\n",
    "for i in numbers:\n",
    "    print(i)"
   ]
  },
  {
   "cell_type": "code",
   "execution_count": null,
   "metadata": {
    "id": "lR_Vji_RH6Cj",
    "outputId": "d3d854c8-5ca5-4dc2-c2b9-192fb130d648"
   },
   "outputs": [
    {
     "name": "stdout",
     "output_type": "stream",
     "text": [
      "> 첫번째 숫자를 입력하세요~! 2\n",
      "> 두번째 숫자를 입력하세요~! 89\n",
      "> 세번째 숫자를 입력하세요~! 0\n",
      "2\n",
      "89\n",
      "0\n",
      "스트라이크 : 2\n",
      "볼 : 0\n",
      "아웃 : 1\n",
      "> 첫번째 숫자를 입력하세요~! 2\n",
      "> 두번째 숫자를 입력하세요~! 8\n",
      "> 세번째 숫자를 입력하세요~! 0\n",
      "2\n",
      "8\n",
      "0\n",
      "스트라이크 : 3\n",
      "볼 : 0\n",
      "아웃 : 0\n",
      "스트라이크 아웃 입니다.\n"
     ]
    }
   ],
   "source": [
    "while True:\n",
    "    inputs = []\n",
    "\n",
    "    inputs.append(int(input(\"> 첫번째 숫자를 입력하세요=> \")))\n",
    "    inputs.append(int(input(\"> 두번째 숫자를 입력하세요=> \")))\n",
    "    inputs.append(int(input(\"> 세번째 숫자를 입력하세요=> \")))\n",
    "\n",
    "    for i in inputs:\n",
    "        print(i)\n",
    "\n",
    "    if (inputs[0]==inputs[1]) or (inputs[0]==inputs[2]) or (inputs[1]==inputs[2]):\n",
    "        print(\"같은 숫자를 입력하면 안됩니다\")\n",
    "        continue\n",
    "\n",
    "    strikeCount = 0\n",
    "    ballCount = 0\n",
    "    outCount = 0\n",
    "\n",
    "    for i in range(3):\n",
    "        for j in range(3):\n",
    "            if inputs[i] == numbers[j]:\n",
    "                if i == j:\n",
    "                    strikeCount = strikeCount+1\n",
    "                else:\n",
    "                    ballCount = ballCount +1\n",
    "\n",
    "    outCount = 3 - strikeCount - ballCount\n",
    "    print(\"스트라이크 : {0}\".format(strikeCount))\n",
    "    print(\"볼 : {0}\".format(ballCount))\n",
    "    print(\"아웃 : {0}\".format(outCount))\n",
    "\n",
    "    if (inputs[0]==numbers[0]) and (inputs[1]==numbers[1]) and (inputs[2]==numbers[2]):\n",
    "        print(\"스트라이크 아웃 입니다.\")\n",
    "        break"
   ]
  }
 ],
 "metadata": {
  "colab": {
   "provenance": []
  },
  "kernelspec": {
   "display_name": "Python 3 (ipykernel)",
   "language": "python",
   "name": "python3"
  },
  "language_info": {
   "codemirror_mode": {
    "name": "ipython",
    "version": 3
   },
   "file_extension": ".py",
   "mimetype": "text/x-python",
   "name": "python",
   "nbconvert_exporter": "python",
   "pygments_lexer": "ipython3",
   "version": "3.10.9"
  }
 },
 "nbformat": 4,
 "nbformat_minor": 1
}
