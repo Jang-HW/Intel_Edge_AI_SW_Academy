{
 "cells": [
  {
   "cell_type": "code",
   "execution_count": 1,
   "metadata": {
    "id": "pruy_0abFTUE",
    "outputId": "ce7de6eb-d68f-4b6f-f31e-ef2a5787ce6c"
   },
   "outputs": [
    {
     "name": "stdout",
     "output_type": "stream",
     "text": [
      "********************************************************\n",
      "*******                 Base Ball                    ***\n",
      "********************************************************\n",
      "* 컴퓨터가 수비수가 되어 세 자릿수를 하나 골랐습니다.  *\n",
      "* 각 숫자는 0~9중의 하나이며 중복되는 숫자는 없습니다. *\n",
      "* 모든 숫자와 위치를 맞히면 승리합니다.                *\n",
      "* 숫자와 순서가 둘 다 맞으면 스크라이크 입니다.        *\n",
      "* 숫자만 맞고 순서가 틀리면 볼입니다.                  *\n",
      "********************************************************\n"
     ]
    }
   ],
   "source": [
    "print(\"********************************************************\")\n",
    "print(\"*******                 Base Ball                    ***\")\n",
    "print(\"********************************************************\")\n",
    "print(\"* 컴퓨터가 수비수가 되어 세 자릿수를 하나 골랐습니다.  *\")\n",
    "print(\"* 각 숫자는 0~9중의 하나이며 중복되는 숫자는 없습니다. *\")\n",
    "print(\"* 모든 숫자와 위치를 맞히면 승리합니다.                *\")\n",
    "print(\"* 숫자와 순서가 둘 다 맞으면 스크라이크 입니다.        *\")\n",
    "print(\"* 숫자만 맞고 순서가 틀리면 볼입니다.                  *\")\n",
    "print(\"********************************************************\")"
   ]
  },
  {
   "cell_type": "code",
   "execution_count": 2,
   "metadata": {
    "id": "BkwosM5TFTUG",
    "outputId": "bad8656a-89a7-437e-9211-885977ba55ba"
   },
   "outputs": [
    {
     "name": "stdout",
     "output_type": "stream",
     "text": [
      "> 수비수가 고른 숫자\n",
      "2\n",
      "5\n",
      "8\n"
     ]
    }
   ],
   "source": [
    "print(\"> 수비수가 고른 숫자\")\n",
    "number1 = 2\n",
    "number2 = 5\n",
    "number3 = 8\n",
    "\n",
    "print(number1)\n",
    "print(number2)\n",
    "print(number3)"
   ]
  },
  {
   "cell_type": "code",
   "execution_count": 3,
   "metadata": {
    "id": "f4GMRC7nFTUH"
   },
   "outputs": [
    {
     "name": "stdout",
     "output_type": "stream",
     "text": [
      "> 첫번째 숫자를 입력하세요~! 2\n",
      "> 두번째 숫자를 입력하세요~! 3\n",
      "> 세번째 숫자를 입력하세요~! 4\n"
     ]
    }
   ],
   "source": [
    "strInput1 = input(\"> 첫번째 숫자를 입력하세요~! \")\n",
    "input1 = int(strInput1)\n",
    "strInput2 = input(\"> 두번째 숫자를 입력하세요~! \")\n",
    "input2 = int(strInput2)\n",
    "strInput3 = input(\"> 세번째 숫자를 입력하세요~! \")\n",
    "input3 = int(strInput3)"
   ]
  },
  {
   "cell_type": "code",
   "execution_count": 4,
   "metadata": {
    "id": "8VMnnE1EFTUH",
    "outputId": "0338104c-1214-4491-8aa2-dc0b024b805f"
   },
   "outputs": [
    {
     "name": "stdout",
     "output_type": "stream",
     "text": [
      "> 공격수가 고른 숫자\n",
      "2\n",
      "3\n",
      "4\n"
     ]
    }
   ],
   "source": [
    "print(\"> 공격수가 고른 숫자\")\n",
    "\n",
    "print(input1)\n",
    "print(input2)\n",
    "print(input3)"
   ]
  },
  {
   "cell_type": "markdown",
   "metadata": {
    "id": "jIQY4LKVFTUH"
   },
   "source": [
    "### **Step_4 : 조건문 사용하기**"
   ]
  },
  {
   "cell_type": "code",
   "execution_count": 5,
   "metadata": {
    "id": "mYVSipkNFTUI"
   },
   "outputs": [],
   "source": [
    "# 1.스트라이크-strikeCount, 볼-ballCount, 아웃-outCount 카운트를 저장하기 위한 변수를 선언하고 초기화합니다.\n",
    "strikeCount = 0\n",
    "ballCount = 0 \n",
    "outCount = 0"
   ]
  },
  {
   "cell_type": "markdown",
   "metadata": {
    "id": "QLdWAKqLFTUI"
   },
   "source": [
    "공격수가 고른 숫자(input1~input3)가 수비수가 고른 숫자(number1 ~ number3)와 같은지 체크 합니다."
   ]
  },
  {
   "cell_type": "code",
   "execution_count": 6,
   "metadata": {
    "id": "2utnTElhFTUI"
   },
   "outputs": [],
   "source": [
    "# input1과 number1을 비교하여 스트라이크, 볼, 아웃 카운트 값을 계산합니다.\n",
    "if input1 == number1:\n",
    "    strikeCount = strikeCount + 1\n",
    "elif (input1 == number2) or (input1 == number3):\n",
    "    ballCount = ballCount + 1"
   ]
  },
  {
   "cell_type": "code",
   "execution_count": 7,
   "metadata": {
    "id": "RGcZXvrJFTUJ"
   },
   "outputs": [],
   "source": [
    "# 2.input2과 number2을 비교하여 스트라이크, 볼, 아웃 카운트 값을 계산합니다.\n",
    "if input2 == number2:\n",
    "    strikeCount = strikeCount + 1\n",
    "elif (input2 == number1) or (input2 == number3):\n",
    "    ballCount = ballCount + 1"
   ]
  },
  {
   "cell_type": "code",
   "execution_count": 8,
   "metadata": {
    "id": "LHWi7TpsFTUJ"
   },
   "outputs": [],
   "source": [
    "# 3.input3과 number3을 비교하여 스트라이크, 볼, 아웃 카운트 값을 계산합니다.\n",
    "if input3 == number3:\n",
    "    strikeCount = strikeCount + 1\n",
    "elif (input3 == number1) or (input3 == number2):\n",
    "    ballCount = ballCount + 1"
   ]
  },
  {
   "cell_type": "code",
   "execution_count": 10,
   "metadata": {
    "id": "Fkr9XqCYFTUJ",
    "scrolled": true
   },
   "outputs": [
    {
     "name": "stdout",
     "output_type": "stream",
     "text": [
      "스트라이크 : 1\n",
      "볼 : 0\n",
      "아웃 : 2\n"
     ]
    }
   ],
   "source": [
    "# 4. 아웃카운트 값을 계산하여 변수에 지정합니다.\n",
    "# 아웃 = 3 - 스크라이크 개수 - 볼 개수\n",
    "outCount = 3 - strikeCount - ballCount  # ... 코드 입력\n",
    "\n",
    "# 스트라이크 카운트 값을 출력합니다.\n",
    "print(f\"스트라이크 : {strikeCount}\")\n",
    "#print(\"스트라이크 : {0}\".format(strikeCount))\n",
    "#print(\"스트라이크 : %d\" %strikeCount)\n",
    "\n",
    "# 5. 볼, 아웃 카운트 값을 출력합니다\n",
    "print(\"볼 : {0}\".format(ballCount))\n",
    "print(\"아웃 : %d\" %outCount)"
   ]
  },
  {
   "cell_type": "code",
   "execution_count": null,
   "metadata": {},
   "outputs": [],
   "source": []
  }
 ],
 "metadata": {
  "colab": {
   "provenance": []
  },
  "kernelspec": {
   "display_name": "Python 3 (ipykernel)",
   "language": "python",
   "name": "python3"
  },
  "language_info": {
   "codemirror_mode": {
    "name": "ipython",
    "version": 3
   },
   "file_extension": ".py",
   "mimetype": "text/x-python",
   "name": "python",
   "nbconvert_exporter": "python",
   "pygments_lexer": "ipython3",
   "version": "3.10.9"
  }
 },
 "nbformat": 4,
 "nbformat_minor": 1
}
